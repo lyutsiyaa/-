{
 "cells": [
  {
   "cell_type": "markdown",
   "metadata": {
    "toc": true
   },
   "source": [
    "<h1>Содержание<span class=\"tocSkip\"></span></h1>\n",
    "<div class=\"toc\"><ul class=\"toc-item\"><li><span><a href=\"#Изучение-данных-из-файла\" data-toc-modified-id=\"Изучение-данных-из-файла-1\"><span class=\"toc-item-num\">1&nbsp;&nbsp;</span>Изучение данных из файла</a></span></li><li><span><a href=\"#Подготовка-данных\" data-toc-modified-id=\"Подготовка-данных-2\"><span class=\"toc-item-num\">2&nbsp;&nbsp;</span>Подготовка данных</a></span><ul class=\"toc-item\"><li><span><a href=\"#Приведение-данных-к-нужному-типу\" data-toc-modified-id=\"Приведение-данных-к-нужному-типу-2.1\"><span class=\"toc-item-num\">2.1&nbsp;&nbsp;</span>Приведение данных к нужному типу</a></span></li><li><span><a href=\"#Подготовка-пользовательских-данных\" data-toc-modified-id=\"Подготовка-пользовательских-данных-2.2\"><span class=\"toc-item-num\">2.2&nbsp;&nbsp;</span>Подготовка пользовательских данных</a></span></li><li><span><a href=\"#Обработка-нулевых-значений-в-таблицах-calls-и-internet\" data-toc-modified-id=\"Обработка-нулевых-значений-в-таблицах-calls-и-internet-2.3\"><span class=\"toc-item-num\">2.3&nbsp;&nbsp;</span>Обработка нулевых значений в таблицах calls и internet</a></span></li><li><span><a href=\"#Помесячная-выручка-с-каждого-пользователя\" data-toc-modified-id=\"Помесячная-выручка-с-каждого-пользователя-2.4\"><span class=\"toc-item-num\">2.4&nbsp;&nbsp;</span>Помесячная выручка с каждого пользователя</a></span></li></ul></li><li><span><a href=\"#Анализ-данных\" data-toc-modified-id=\"Анализ-данных-3\"><span class=\"toc-item-num\">3&nbsp;&nbsp;</span>Анализ данных</a></span></li><li><span><a href=\"#Проверка-гипотезы\" data-toc-modified-id=\"Проверка-гипотезы-4\"><span class=\"toc-item-num\">4&nbsp;&nbsp;</span>Проверка гипотезы</a></span><ul class=\"toc-item\"><li><span><a href=\"#1-гипотеза\" data-toc-modified-id=\"1-гипотеза-4.1\"><span class=\"toc-item-num\">4.1&nbsp;&nbsp;</span>1 гипотеза</a></span></li><li><span><a href=\"#2-гипотеза\" data-toc-modified-id=\"2-гипотеза-4.2\"><span class=\"toc-item-num\">4.2&nbsp;&nbsp;</span>2 гипотеза</a></span></li></ul></li><li><span><a href=\"#Общий-вывод\" data-toc-modified-id=\"Общий-вывод-5\"><span class=\"toc-item-num\">5&nbsp;&nbsp;</span>Общий вывод</a></span></li></ul></div>"
   ]
  },
  {
   "cell_type": "markdown",
   "metadata": {},
   "source": [
    "# Определение перспективного тарифа для телеком компании"
   ]
  },
  {
   "cell_type": "markdown",
   "metadata": {},
   "source": [
    "Компания «Мегалайн» — федеральный оператор сотовой связи. Клиентам предлагают два тарифных плана: «Смарт» и «Ультра». Чтобы скорректировать рекламный бюджет, коммерческий департамент хочет понять, какой тариф приносит больше денег.\n",
    "Нужно сделать предварительный анализ тарифов на небольшой выборке клиентов. В распоряжении данные 500 пользователей «Мегалайна»: кто они, откуда, каким тарифом пользуются, сколько звонков и сообщений каждый отправил за 2018 год. Нужно проанализировать поведение клиентов и сделать вывод — какой тариф лучше.\n",
    "\n",
    "**Описание данных**\n",
    "\n",
    "*Таблица users (информация о пользователях):*\n",
    "\n",
    "- user_id — уникальный идентификатор пользователя\n",
    "- first_name — имя пользователя\n",
    "- last_name — фамилия пользователя\n",
    "- age — возраст пользователя (годы)\n",
    "- reg_date — дата подключения тарифа (день, месяц, год)\n",
    "- churn_date — дата прекращения пользования тарифом (если значение пропущено, то тариф ещё действовал на момент выгрузки данных)\n",
    "- city — город проживания пользователя\n",
    "- tarif — название тарифного плана\n",
    "\n",
    "*Таблица calls (информация о звонках):*\n",
    "\n",
    "- id — уникальный номер звонка\n",
    "- call_date — дата звонка\n",
    "- duration — длительность звонка в минутах\n",
    "- user_id — идентификатор пользователя, сделавшего звонок\n",
    "\n",
    "*Таблица messages (информация о сообщениях):*\n",
    "\n",
    "- id — уникальный номер сообщения\n",
    "- message_date — дата сообщения\n",
    "- user_id — идентификатор пользователя, отправившего сообщение\n",
    "\n",
    "*Таблица internet (информация об интернет-сессиях):*\n",
    "\n",
    "- id — уникальный номер сессии\n",
    "- mb_used — объём потраченного за сессию интернет-трафика (в мегабайтах)\n",
    "- session_date — дата интернет-сессии\n",
    "- user_id — идентификатор пользователя\n",
    "\n",
    "*Таблица tariffs (информация о тарифах):*\n",
    "\n",
    "- tariff_name — название тарифа\n",
    "- rub_monthly_fee — ежемесячная абонентская плата в рублях\n",
    "- minutes_included — количество минут разговора в месяц, включённых в абонентскую плату\n",
    "- messages_included — количество сообщений в месяц, включённых в абонентскую плату\n",
    "- mb_per_month_included — объём интернет-трафика, включённого в абонентскую плату (в мегабайтах)\n",
    "- rub_per_minute — стоимость минуты разговора сверх тарифного пакета (например, если в тарифе 100 минут разговора в месяц, то со 101 минуты будет взиматься плата)\n",
    "- rub_per_message — стоимость отправки сообщения сверх тарифного пакета\n",
    "- rub_per_gb — стоимость дополнительного гигабайта интернет-трафика сверх тарифного пакета (1 гигабайт = 1024 мегабайта)"
   ]
  },
  {
   "cell_type": "markdown",
   "metadata": {},
   "source": [
    "## Изучение данных из файла"
   ]
  },
  {
   "cell_type": "code",
   "execution_count": 1,
   "metadata": {},
   "outputs": [],
   "source": [
    "import warnings\n",
    "warnings.filterwarnings('ignore')"
   ]
  },
  {
   "cell_type": "code",
   "execution_count": 2,
   "metadata": {},
   "outputs": [],
   "source": [
    "import pandas as pd\n",
    "import seaborn as sns\n",
    "import matplotlib.pyplot as plt\n",
    "from scipy import stats as st\n",
    "pd.options.display.max_columns = None\n",
    "calls = pd.read_csv('calls.csv')\n",
    "internet = pd.read_csv('internet.csv')\n",
    "messages = pd.read_csv('messages.csv')\n",
    "tariffs = pd.read_csv('tariffs.csv')\n",
    "users = pd.read_csv('users.csv')"
   ]
  },
  {
   "cell_type": "code",
   "execution_count": 3,
   "metadata": {},
   "outputs": [
    {
     "name": "stdout",
     "output_type": "stream",
     "text": [
      "<class 'pandas.core.frame.DataFrame'>\n",
      "RangeIndex: 500 entries, 0 to 499\n",
      "Data columns (total 8 columns):\n",
      " #   Column      Non-Null Count  Dtype \n",
      "---  ------      --------------  ----- \n",
      " 0   user_id     500 non-null    int64 \n",
      " 1   age         500 non-null    int64 \n",
      " 2   churn_date  38 non-null     object\n",
      " 3   city        500 non-null    object\n",
      " 4   first_name  500 non-null    object\n",
      " 5   last_name   500 non-null    object\n",
      " 6   reg_date    500 non-null    object\n",
      " 7   tariff      500 non-null    object\n",
      "dtypes: int64(2), object(6)\n",
      "memory usage: 31.4+ KB\n"
     ]
    },
    {
     "data": {
      "text/html": [
       "<div>\n",
       "<style scoped>\n",
       "    .dataframe tbody tr th:only-of-type {\n",
       "        vertical-align: middle;\n",
       "    }\n",
       "\n",
       "    .dataframe tbody tr th {\n",
       "        vertical-align: top;\n",
       "    }\n",
       "\n",
       "    .dataframe thead th {\n",
       "        text-align: right;\n",
       "    }\n",
       "</style>\n",
       "<table border=\"1\" class=\"dataframe\">\n",
       "  <thead>\n",
       "    <tr style=\"text-align: right;\">\n",
       "      <th></th>\n",
       "      <th>user_id</th>\n",
       "      <th>age</th>\n",
       "      <th>churn_date</th>\n",
       "      <th>city</th>\n",
       "      <th>first_name</th>\n",
       "      <th>last_name</th>\n",
       "      <th>reg_date</th>\n",
       "      <th>tariff</th>\n",
       "    </tr>\n",
       "  </thead>\n",
       "  <tbody>\n",
       "    <tr>\n",
       "      <th>0</th>\n",
       "      <td>1000</td>\n",
       "      <td>52</td>\n",
       "      <td>NaN</td>\n",
       "      <td>Краснодар</td>\n",
       "      <td>Рафаил</td>\n",
       "      <td>Верещагин</td>\n",
       "      <td>2018-05-25</td>\n",
       "      <td>ultra</td>\n",
       "    </tr>\n",
       "    <tr>\n",
       "      <th>1</th>\n",
       "      <td>1001</td>\n",
       "      <td>41</td>\n",
       "      <td>NaN</td>\n",
       "      <td>Москва</td>\n",
       "      <td>Иван</td>\n",
       "      <td>Ежов</td>\n",
       "      <td>2018-11-01</td>\n",
       "      <td>smart</td>\n",
       "    </tr>\n",
       "    <tr>\n",
       "      <th>2</th>\n",
       "      <td>1002</td>\n",
       "      <td>59</td>\n",
       "      <td>NaN</td>\n",
       "      <td>Стерлитамак</td>\n",
       "      <td>Евгений</td>\n",
       "      <td>Абрамович</td>\n",
       "      <td>2018-06-17</td>\n",
       "      <td>smart</td>\n",
       "    </tr>\n",
       "    <tr>\n",
       "      <th>3</th>\n",
       "      <td>1003</td>\n",
       "      <td>23</td>\n",
       "      <td>NaN</td>\n",
       "      <td>Москва</td>\n",
       "      <td>Белла</td>\n",
       "      <td>Белякова</td>\n",
       "      <td>2018-08-17</td>\n",
       "      <td>ultra</td>\n",
       "    </tr>\n",
       "    <tr>\n",
       "      <th>4</th>\n",
       "      <td>1004</td>\n",
       "      <td>68</td>\n",
       "      <td>NaN</td>\n",
       "      <td>Новокузнецк</td>\n",
       "      <td>Татьяна</td>\n",
       "      <td>Авдеенко</td>\n",
       "      <td>2018-05-14</td>\n",
       "      <td>ultra</td>\n",
       "    </tr>\n",
       "  </tbody>\n",
       "</table>\n",
       "</div>"
      ],
      "text/plain": [
       "   user_id  age churn_date         city first_name  last_name    reg_date  \\\n",
       "0     1000   52        NaN    Краснодар     Рафаил  Верещагин  2018-05-25   \n",
       "1     1001   41        NaN       Москва       Иван       Ежов  2018-11-01   \n",
       "2     1002   59        NaN  Стерлитамак    Евгений  Абрамович  2018-06-17   \n",
       "3     1003   23        NaN       Москва      Белла   Белякова  2018-08-17   \n",
       "4     1004   68        NaN  Новокузнецк    Татьяна   Авдеенко  2018-05-14   \n",
       "\n",
       "  tariff  \n",
       "0  ultra  \n",
       "1  smart  \n",
       "2  smart  \n",
       "3  ultra  \n",
       "4  ultra  "
      ]
     },
     "execution_count": 3,
     "metadata": {},
     "output_type": "execute_result"
    }
   ],
   "source": [
    "users.info()\n",
    "users.head()"
   ]
  },
  {
   "cell_type": "code",
   "execution_count": 4,
   "metadata": {},
   "outputs": [
    {
     "data": {
      "text/plain": [
       "1024    1\n",
       "1353    1\n",
       "1366    1\n",
       "1365    1\n",
       "1364    1\n",
       "       ..\n",
       "1185    1\n",
       "1184    1\n",
       "1183    1\n",
       "1182    1\n",
       "1023    1\n",
       "Name: user_id, Length: 500, dtype: int64"
      ]
     },
     "execution_count": 4,
     "metadata": {},
     "output_type": "execute_result"
    }
   ],
   "source": [
    "users['user_id'].value_counts()"
   ]
  },
  {
   "cell_type": "code",
   "execution_count": 5,
   "metadata": {},
   "outputs": [
    {
     "name": "stdout",
     "output_type": "stream",
     "text": [
      "<class 'pandas.core.frame.DataFrame'>\n",
      "RangeIndex: 202607 entries, 0 to 202606\n",
      "Data columns (total 4 columns):\n",
      " #   Column     Non-Null Count   Dtype  \n",
      "---  ------     --------------   -----  \n",
      " 0   id         202607 non-null  object \n",
      " 1   call_date  202607 non-null  object \n",
      " 2   duration   202607 non-null  float64\n",
      " 3   user_id    202607 non-null  int64  \n",
      "dtypes: float64(1), int64(1), object(2)\n",
      "memory usage: 6.2+ MB\n"
     ]
    },
    {
     "data": {
      "text/html": [
       "<div>\n",
       "<style scoped>\n",
       "    .dataframe tbody tr th:only-of-type {\n",
       "        vertical-align: middle;\n",
       "    }\n",
       "\n",
       "    .dataframe tbody tr th {\n",
       "        vertical-align: top;\n",
       "    }\n",
       "\n",
       "    .dataframe thead th {\n",
       "        text-align: right;\n",
       "    }\n",
       "</style>\n",
       "<table border=\"1\" class=\"dataframe\">\n",
       "  <thead>\n",
       "    <tr style=\"text-align: right;\">\n",
       "      <th></th>\n",
       "      <th>id</th>\n",
       "      <th>call_date</th>\n",
       "      <th>duration</th>\n",
       "      <th>user_id</th>\n",
       "    </tr>\n",
       "  </thead>\n",
       "  <tbody>\n",
       "    <tr>\n",
       "      <th>0</th>\n",
       "      <td>1000_0</td>\n",
       "      <td>2018-07-25</td>\n",
       "      <td>0.00</td>\n",
       "      <td>1000</td>\n",
       "    </tr>\n",
       "    <tr>\n",
       "      <th>1</th>\n",
       "      <td>1000_1</td>\n",
       "      <td>2018-08-17</td>\n",
       "      <td>0.00</td>\n",
       "      <td>1000</td>\n",
       "    </tr>\n",
       "    <tr>\n",
       "      <th>2</th>\n",
       "      <td>1000_2</td>\n",
       "      <td>2018-06-11</td>\n",
       "      <td>2.85</td>\n",
       "      <td>1000</td>\n",
       "    </tr>\n",
       "    <tr>\n",
       "      <th>3</th>\n",
       "      <td>1000_3</td>\n",
       "      <td>2018-09-21</td>\n",
       "      <td>13.80</td>\n",
       "      <td>1000</td>\n",
       "    </tr>\n",
       "    <tr>\n",
       "      <th>4</th>\n",
       "      <td>1000_4</td>\n",
       "      <td>2018-12-15</td>\n",
       "      <td>5.18</td>\n",
       "      <td>1000</td>\n",
       "    </tr>\n",
       "  </tbody>\n",
       "</table>\n",
       "</div>"
      ],
      "text/plain": [
       "       id   call_date  duration  user_id\n",
       "0  1000_0  2018-07-25      0.00     1000\n",
       "1  1000_1  2018-08-17      0.00     1000\n",
       "2  1000_2  2018-06-11      2.85     1000\n",
       "3  1000_3  2018-09-21     13.80     1000\n",
       "4  1000_4  2018-12-15      5.18     1000"
      ]
     },
     "execution_count": 5,
     "metadata": {},
     "output_type": "execute_result"
    }
   ],
   "source": [
    "calls.info()\n",
    "calls.head()"
   ]
  },
  {
   "cell_type": "code",
   "execution_count": 6,
   "metadata": {},
   "outputs": [
    {
     "data": {
      "text/plain": [
       "1377    1760\n",
       "1168    1692\n",
       "1375    1560\n",
       "1453    1440\n",
       "1196    1240\n",
       "        ... \n",
       "1397      33\n",
       "1442      28\n",
       "1373      24\n",
       "1016      20\n",
       "1257      14\n",
       "Name: user_id, Length: 492, dtype: int64"
      ]
     },
     "execution_count": 6,
     "metadata": {},
     "output_type": "execute_result"
    }
   ],
   "source": [
    "calls['user_id'].value_counts()"
   ]
  },
  {
   "cell_type": "code",
   "execution_count": 7,
   "metadata": {},
   "outputs": [
    {
     "data": {
      "text/plain": [
       "id           0\n",
       "call_date    0\n",
       "duration     0\n",
       "user_id      0\n",
       "dtype: int64"
      ]
     },
     "execution_count": 7,
     "metadata": {},
     "output_type": "execute_result"
    }
   ],
   "source": [
    "calls.isna().sum()"
   ]
  },
  {
   "cell_type": "code",
   "execution_count": 8,
   "metadata": {},
   "outputs": [
    {
     "name": "stdout",
     "output_type": "stream",
     "text": [
      "<class 'pandas.core.frame.DataFrame'>\n",
      "RangeIndex: 123036 entries, 0 to 123035\n",
      "Data columns (total 3 columns):\n",
      " #   Column        Non-Null Count   Dtype \n",
      "---  ------        --------------   ----- \n",
      " 0   id            123036 non-null  object\n",
      " 1   message_date  123036 non-null  object\n",
      " 2   user_id       123036 non-null  int64 \n",
      "dtypes: int64(1), object(2)\n",
      "memory usage: 2.8+ MB\n"
     ]
    },
    {
     "data": {
      "text/html": [
       "<div>\n",
       "<style scoped>\n",
       "    .dataframe tbody tr th:only-of-type {\n",
       "        vertical-align: middle;\n",
       "    }\n",
       "\n",
       "    .dataframe tbody tr th {\n",
       "        vertical-align: top;\n",
       "    }\n",
       "\n",
       "    .dataframe thead th {\n",
       "        text-align: right;\n",
       "    }\n",
       "</style>\n",
       "<table border=\"1\" class=\"dataframe\">\n",
       "  <thead>\n",
       "    <tr style=\"text-align: right;\">\n",
       "      <th></th>\n",
       "      <th>id</th>\n",
       "      <th>message_date</th>\n",
       "      <th>user_id</th>\n",
       "    </tr>\n",
       "  </thead>\n",
       "  <tbody>\n",
       "    <tr>\n",
       "      <th>0</th>\n",
       "      <td>1000_0</td>\n",
       "      <td>2018-06-27</td>\n",
       "      <td>1000</td>\n",
       "    </tr>\n",
       "    <tr>\n",
       "      <th>1</th>\n",
       "      <td>1000_1</td>\n",
       "      <td>2018-10-08</td>\n",
       "      <td>1000</td>\n",
       "    </tr>\n",
       "    <tr>\n",
       "      <th>2</th>\n",
       "      <td>1000_2</td>\n",
       "      <td>2018-08-04</td>\n",
       "      <td>1000</td>\n",
       "    </tr>\n",
       "    <tr>\n",
       "      <th>3</th>\n",
       "      <td>1000_3</td>\n",
       "      <td>2018-06-16</td>\n",
       "      <td>1000</td>\n",
       "    </tr>\n",
       "    <tr>\n",
       "      <th>4</th>\n",
       "      <td>1000_4</td>\n",
       "      <td>2018-12-05</td>\n",
       "      <td>1000</td>\n",
       "    </tr>\n",
       "  </tbody>\n",
       "</table>\n",
       "</div>"
      ],
      "text/plain": [
       "       id message_date  user_id\n",
       "0  1000_0   2018-06-27     1000\n",
       "1  1000_1   2018-10-08     1000\n",
       "2  1000_2   2018-08-04     1000\n",
       "3  1000_3   2018-06-16     1000\n",
       "4  1000_4   2018-12-05     1000"
      ]
     },
     "execution_count": 8,
     "metadata": {},
     "output_type": "execute_result"
    }
   ],
   "source": [
    "messages.info()\n",
    "messages.head()"
   ]
  },
  {
   "cell_type": "code",
   "execution_count": 9,
   "metadata": {},
   "outputs": [
    {
     "data": {
      "text/plain": [
       "1277    1463\n",
       "1089    1408\n",
       "1231    1384\n",
       "1385    1380\n",
       "1356    1224\n",
       "        ... \n",
       "1111       6\n",
       "1279       5\n",
       "1074       3\n",
       "1159       2\n",
       "1141       1\n",
       "Name: user_id, Length: 426, dtype: int64"
      ]
     },
     "execution_count": 9,
     "metadata": {},
     "output_type": "execute_result"
    }
   ],
   "source": [
    "messages['user_id'].value_counts()"
   ]
  },
  {
   "cell_type": "code",
   "execution_count": 10,
   "metadata": {},
   "outputs": [
    {
     "name": "stdout",
     "output_type": "stream",
     "text": [
      "<class 'pandas.core.frame.DataFrame'>\n",
      "RangeIndex: 149396 entries, 0 to 149395\n",
      "Data columns (total 5 columns):\n",
      " #   Column        Non-Null Count   Dtype  \n",
      "---  ------        --------------   -----  \n",
      " 0   Unnamed: 0    149396 non-null  int64  \n",
      " 1   id            149396 non-null  object \n",
      " 2   mb_used       149396 non-null  float64\n",
      " 3   session_date  149396 non-null  object \n",
      " 4   user_id       149396 non-null  int64  \n",
      "dtypes: float64(1), int64(2), object(2)\n",
      "memory usage: 5.7+ MB\n"
     ]
    },
    {
     "data": {
      "text/html": [
       "<div>\n",
       "<style scoped>\n",
       "    .dataframe tbody tr th:only-of-type {\n",
       "        vertical-align: middle;\n",
       "    }\n",
       "\n",
       "    .dataframe tbody tr th {\n",
       "        vertical-align: top;\n",
       "    }\n",
       "\n",
       "    .dataframe thead th {\n",
       "        text-align: right;\n",
       "    }\n",
       "</style>\n",
       "<table border=\"1\" class=\"dataframe\">\n",
       "  <thead>\n",
       "    <tr style=\"text-align: right;\">\n",
       "      <th></th>\n",
       "      <th>Unnamed: 0</th>\n",
       "      <th>id</th>\n",
       "      <th>mb_used</th>\n",
       "      <th>session_date</th>\n",
       "      <th>user_id</th>\n",
       "    </tr>\n",
       "  </thead>\n",
       "  <tbody>\n",
       "    <tr>\n",
       "      <th>0</th>\n",
       "      <td>0</td>\n",
       "      <td>1000_0</td>\n",
       "      <td>112.95</td>\n",
       "      <td>2018-11-25</td>\n",
       "      <td>1000</td>\n",
       "    </tr>\n",
       "    <tr>\n",
       "      <th>1</th>\n",
       "      <td>1</td>\n",
       "      <td>1000_1</td>\n",
       "      <td>1052.81</td>\n",
       "      <td>2018-09-07</td>\n",
       "      <td>1000</td>\n",
       "    </tr>\n",
       "    <tr>\n",
       "      <th>2</th>\n",
       "      <td>2</td>\n",
       "      <td>1000_2</td>\n",
       "      <td>1197.26</td>\n",
       "      <td>2018-06-25</td>\n",
       "      <td>1000</td>\n",
       "    </tr>\n",
       "    <tr>\n",
       "      <th>3</th>\n",
       "      <td>3</td>\n",
       "      <td>1000_3</td>\n",
       "      <td>550.27</td>\n",
       "      <td>2018-08-22</td>\n",
       "      <td>1000</td>\n",
       "    </tr>\n",
       "    <tr>\n",
       "      <th>4</th>\n",
       "      <td>4</td>\n",
       "      <td>1000_4</td>\n",
       "      <td>302.56</td>\n",
       "      <td>2018-09-24</td>\n",
       "      <td>1000</td>\n",
       "    </tr>\n",
       "  </tbody>\n",
       "</table>\n",
       "</div>"
      ],
      "text/plain": [
       "   Unnamed: 0      id  mb_used session_date  user_id\n",
       "0           0  1000_0   112.95   2018-11-25     1000\n",
       "1           1  1000_1  1052.81   2018-09-07     1000\n",
       "2           2  1000_2  1197.26   2018-06-25     1000\n",
       "3           3  1000_3   550.27   2018-08-22     1000\n",
       "4           4  1000_4   302.56   2018-09-24     1000"
      ]
     },
     "execution_count": 10,
     "metadata": {},
     "output_type": "execute_result"
    }
   ],
   "source": [
    "internet.info()\n",
    "internet.head()"
   ]
  },
  {
   "cell_type": "code",
   "execution_count": 11,
   "metadata": {},
   "outputs": [
    {
     "data": {
      "text/plain": [
       "1496    834\n",
       "1227    812\n",
       "1204    789\n",
       "1240    764\n",
       "1251    759\n",
       "       ... \n",
       "1151     35\n",
       "1467     27\n",
       "1343     26\n",
       "1192     22\n",
       "1399      8\n",
       "Name: user_id, Length: 497, dtype: int64"
      ]
     },
     "execution_count": 11,
     "metadata": {},
     "output_type": "execute_result"
    }
   ],
   "source": [
    "internet['user_id'].value_counts()"
   ]
  },
  {
   "cell_type": "code",
   "execution_count": 12,
   "metadata": {},
   "outputs": [
    {
     "name": "stdout",
     "output_type": "stream",
     "text": [
      "<class 'pandas.core.frame.DataFrame'>\n",
      "RangeIndex: 2 entries, 0 to 1\n",
      "Data columns (total 8 columns):\n",
      " #   Column                 Non-Null Count  Dtype \n",
      "---  ------                 --------------  ----- \n",
      " 0   messages_included      2 non-null      int64 \n",
      " 1   mb_per_month_included  2 non-null      int64 \n",
      " 2   minutes_included       2 non-null      int64 \n",
      " 3   rub_monthly_fee        2 non-null      int64 \n",
      " 4   rub_per_gb             2 non-null      int64 \n",
      " 5   rub_per_message        2 non-null      int64 \n",
      " 6   rub_per_minute         2 non-null      int64 \n",
      " 7   tariff_name            2 non-null      object\n",
      "dtypes: int64(7), object(1)\n",
      "memory usage: 256.0+ bytes\n"
     ]
    },
    {
     "data": {
      "text/html": [
       "<div>\n",
       "<style scoped>\n",
       "    .dataframe tbody tr th:only-of-type {\n",
       "        vertical-align: middle;\n",
       "    }\n",
       "\n",
       "    .dataframe tbody tr th {\n",
       "        vertical-align: top;\n",
       "    }\n",
       "\n",
       "    .dataframe thead th {\n",
       "        text-align: right;\n",
       "    }\n",
       "</style>\n",
       "<table border=\"1\" class=\"dataframe\">\n",
       "  <thead>\n",
       "    <tr style=\"text-align: right;\">\n",
       "      <th></th>\n",
       "      <th>messages_included</th>\n",
       "      <th>mb_per_month_included</th>\n",
       "      <th>minutes_included</th>\n",
       "      <th>rub_monthly_fee</th>\n",
       "      <th>rub_per_gb</th>\n",
       "      <th>rub_per_message</th>\n",
       "      <th>rub_per_minute</th>\n",
       "      <th>tariff_name</th>\n",
       "    </tr>\n",
       "  </thead>\n",
       "  <tbody>\n",
       "    <tr>\n",
       "      <th>0</th>\n",
       "      <td>50</td>\n",
       "      <td>15360</td>\n",
       "      <td>500</td>\n",
       "      <td>550</td>\n",
       "      <td>200</td>\n",
       "      <td>3</td>\n",
       "      <td>3</td>\n",
       "      <td>smart</td>\n",
       "    </tr>\n",
       "    <tr>\n",
       "      <th>1</th>\n",
       "      <td>1000</td>\n",
       "      <td>30720</td>\n",
       "      <td>3000</td>\n",
       "      <td>1950</td>\n",
       "      <td>150</td>\n",
       "      <td>1</td>\n",
       "      <td>1</td>\n",
       "      <td>ultra</td>\n",
       "    </tr>\n",
       "  </tbody>\n",
       "</table>\n",
       "</div>"
      ],
      "text/plain": [
       "   messages_included  mb_per_month_included  minutes_included  \\\n",
       "0                 50                  15360               500   \n",
       "1               1000                  30720              3000   \n",
       "\n",
       "   rub_monthly_fee  rub_per_gb  rub_per_message  rub_per_minute tariff_name  \n",
       "0              550         200                3               3       smart  \n",
       "1             1950         150                1               1       ultra  "
      ]
     },
     "execution_count": 12,
     "metadata": {},
     "output_type": "execute_result"
    }
   ],
   "source": [
    "tariffs.info()\n",
    "tariffs.head()"
   ]
  },
  {
   "cell_type": "markdown",
   "metadata": {},
   "source": [
    "Все данные с таблицах оказались достаточно чистыми, что требует минимум их предобработки.\n",
    "Нужно изменить только 2 параметра:\n",
    "\n",
    "    1) Во всех столбцах с датой нужно поменять тип данных на date;\n",
    "    2) В таблице internet удалить столбец Unnamed: 0.\n"
   ]
  },
  {
   "cell_type": "markdown",
   "metadata": {},
   "source": [
    "## Подготовка данных"
   ]
  },
  {
   "cell_type": "markdown",
   "metadata": {},
   "source": [
    "### Приведение данных к нужному типу"
   ]
  },
  {
   "cell_type": "code",
   "execution_count": 13,
   "metadata": {},
   "outputs": [],
   "source": [
    "users['reg_date']=pd.to_datetime(users['reg_date'], format='%Y-%m-%d')\n",
    "calls['call_date']=pd.to_datetime(calls['call_date'], format='%Y-%m-%d')\n",
    "messages['message_date']=pd.to_datetime(messages['message_date'], format='%Y-%m-%d')\n",
    "internet['session_date']=pd.to_datetime(internet['session_date'], format='%Y-%m-%d')\n",
    "#изменили тип данных object на дату и время. "
   ]
  },
  {
   "cell_type": "code",
   "execution_count": 14,
   "metadata": {},
   "outputs": [],
   "source": [
    "del internet['Unnamed: 0']\n",
    "#удаляем лишний столбец"
   ]
  },
  {
   "cell_type": "code",
   "execution_count": 15,
   "metadata": {},
   "outputs": [
    {
     "data": {
      "text/html": [
       "<div>\n",
       "<style scoped>\n",
       "    .dataframe tbody tr th:only-of-type {\n",
       "        vertical-align: middle;\n",
       "    }\n",
       "\n",
       "    .dataframe tbody tr th {\n",
       "        vertical-align: top;\n",
       "    }\n",
       "\n",
       "    .dataframe thead th {\n",
       "        text-align: right;\n",
       "    }\n",
       "</style>\n",
       "<table border=\"1\" class=\"dataframe\">\n",
       "  <thead>\n",
       "    <tr style=\"text-align: right;\">\n",
       "      <th></th>\n",
       "      <th>id</th>\n",
       "      <th>mb_used</th>\n",
       "      <th>session_date</th>\n",
       "      <th>user_id</th>\n",
       "    </tr>\n",
       "  </thead>\n",
       "  <tbody>\n",
       "    <tr>\n",
       "      <th>0</th>\n",
       "      <td>1000_0</td>\n",
       "      <td>112.95</td>\n",
       "      <td>2018-11-25</td>\n",
       "      <td>1000</td>\n",
       "    </tr>\n",
       "    <tr>\n",
       "      <th>1</th>\n",
       "      <td>1000_1</td>\n",
       "      <td>1052.81</td>\n",
       "      <td>2018-09-07</td>\n",
       "      <td>1000</td>\n",
       "    </tr>\n",
       "    <tr>\n",
       "      <th>2</th>\n",
       "      <td>1000_2</td>\n",
       "      <td>1197.26</td>\n",
       "      <td>2018-06-25</td>\n",
       "      <td>1000</td>\n",
       "    </tr>\n",
       "    <tr>\n",
       "      <th>3</th>\n",
       "      <td>1000_3</td>\n",
       "      <td>550.27</td>\n",
       "      <td>2018-08-22</td>\n",
       "      <td>1000</td>\n",
       "    </tr>\n",
       "    <tr>\n",
       "      <th>4</th>\n",
       "      <td>1000_4</td>\n",
       "      <td>302.56</td>\n",
       "      <td>2018-09-24</td>\n",
       "      <td>1000</td>\n",
       "    </tr>\n",
       "  </tbody>\n",
       "</table>\n",
       "</div>"
      ],
      "text/plain": [
       "       id  mb_used session_date  user_id\n",
       "0  1000_0   112.95   2018-11-25     1000\n",
       "1  1000_1  1052.81   2018-09-07     1000\n",
       "2  1000_2  1197.26   2018-06-25     1000\n",
       "3  1000_3   550.27   2018-08-22     1000\n",
       "4  1000_4   302.56   2018-09-24     1000"
      ]
     },
     "execution_count": 15,
     "metadata": {},
     "output_type": "execute_result"
    }
   ],
   "source": [
    "internet.head()\n",
    "#проверили, что лишний столбец удалился"
   ]
  },
  {
   "cell_type": "markdown",
   "metadata": {},
   "source": [
    "### Подготовка пользовательских данных"
   ]
  },
  {
   "cell_type": "code",
   "execution_count": 16,
   "metadata": {},
   "outputs": [],
   "source": [
    "calls['month']=pd.DatetimeIndex(calls['call_date']).month\n",
    "messages['month']=pd.DatetimeIndex(messages['message_date']).month\n",
    "internet['month']=pd.DatetimeIndex(internet['session_date']).month\n",
    "#в каждую таблицу добавили столбец с месяцем"
   ]
  },
  {
   "cell_type": "markdown",
   "metadata": {},
   "source": [
    "### Обработка нулевых значений в таблицах calls и internet"
   ]
  },
  {
   "cell_type": "code",
   "execution_count": 17,
   "metadata": {},
   "outputs": [
    {
     "data": {
      "text/plain": [
       "id           39613\n",
       "call_date    39613\n",
       "duration     39613\n",
       "user_id      39613\n",
       "month        39613\n",
       "dtype: int64"
      ]
     },
     "execution_count": 17,
     "metadata": {},
     "output_type": "execute_result"
    }
   ],
   "source": [
    "calls.query('duration==0').count()"
   ]
  },
  {
   "cell_type": "markdown",
   "metadata": {},
   "source": [
    "Нулями обозначены пропущенные звонки, удалить эти значения или заменить их например на 1 мы не можем, так как это может исказить наш вывод по тарифам."
   ]
  },
  {
   "cell_type": "code",
   "execution_count": 18,
   "metadata": {},
   "outputs": [
    {
     "data": {
      "text/plain": [
       "id              19598\n",
       "mb_used         19598\n",
       "session_date    19598\n",
       "user_id         19598\n",
       "month           19598\n",
       "dtype: int64"
      ]
     },
     "execution_count": 18,
     "metadata": {},
     "output_type": "execute_result"
    }
   ],
   "source": [
    "internet.query('mb_used==0').count()"
   ]
  },
  {
   "cell_type": "markdown",
   "metadata": {},
   "source": [
    "Нулевые значения объема интернет-трафика могли появиться из-за того, что пользователь не пользовался интернетом, следовательно не тратил мб. Заменять или удалять эти значения неккоректно. На наше исследование нулевые значения не должны никак повлиять."
   ]
  },
  {
   "cell_type": "code",
   "execution_count": 19,
   "metadata": {},
   "outputs": [
    {
     "data": {
      "text/html": [
       "<div>\n",
       "<style scoped>\n",
       "    .dataframe tbody tr th:only-of-type {\n",
       "        vertical-align: middle;\n",
       "    }\n",
       "\n",
       "    .dataframe tbody tr th {\n",
       "        vertical-align: top;\n",
       "    }\n",
       "\n",
       "    .dataframe thead th {\n",
       "        text-align: right;\n",
       "    }\n",
       "</style>\n",
       "<table border=\"1\" class=\"dataframe\">\n",
       "  <thead>\n",
       "    <tr style=\"text-align: right;\">\n",
       "      <th></th>\n",
       "      <th>id</th>\n",
       "      <th>call_date</th>\n",
       "      <th>duration</th>\n",
       "      <th>user_id</th>\n",
       "      <th>month</th>\n",
       "    </tr>\n",
       "  </thead>\n",
       "  <tbody>\n",
       "    <tr>\n",
       "      <th>0</th>\n",
       "      <td>1000_0</td>\n",
       "      <td>2018-07-25</td>\n",
       "      <td>0.00</td>\n",
       "      <td>1000</td>\n",
       "      <td>7</td>\n",
       "    </tr>\n",
       "    <tr>\n",
       "      <th>1</th>\n",
       "      <td>1000_1</td>\n",
       "      <td>2018-08-17</td>\n",
       "      <td>0.00</td>\n",
       "      <td>1000</td>\n",
       "      <td>8</td>\n",
       "    </tr>\n",
       "    <tr>\n",
       "      <th>2</th>\n",
       "      <td>1000_2</td>\n",
       "      <td>2018-06-11</td>\n",
       "      <td>2.85</td>\n",
       "      <td>1000</td>\n",
       "      <td>6</td>\n",
       "    </tr>\n",
       "    <tr>\n",
       "      <th>3</th>\n",
       "      <td>1000_3</td>\n",
       "      <td>2018-09-21</td>\n",
       "      <td>13.80</td>\n",
       "      <td>1000</td>\n",
       "      <td>9</td>\n",
       "    </tr>\n",
       "    <tr>\n",
       "      <th>4</th>\n",
       "      <td>1000_4</td>\n",
       "      <td>2018-12-15</td>\n",
       "      <td>5.18</td>\n",
       "      <td>1000</td>\n",
       "      <td>12</td>\n",
       "    </tr>\n",
       "  </tbody>\n",
       "</table>\n",
       "</div>"
      ],
      "text/plain": [
       "       id  call_date  duration  user_id  month\n",
       "0  1000_0 2018-07-25      0.00     1000      7\n",
       "1  1000_1 2018-08-17      0.00     1000      8\n",
       "2  1000_2 2018-06-11      2.85     1000      6\n",
       "3  1000_3 2018-09-21     13.80     1000      9\n",
       "4  1000_4 2018-12-15      5.18     1000     12"
      ]
     },
     "execution_count": 19,
     "metadata": {},
     "output_type": "execute_result"
    }
   ],
   "source": [
    "calls.head()"
   ]
  },
  {
   "cell_type": "markdown",
   "metadata": {},
   "source": [
    "Исходя из примечания к тарифам \"«Мегалайн» всегда округляет секунды до минут, а мегабайты — до гигабайт. Каждый звонок округляется отдельно: даже если он длился всего 1 секунду, будет засчитан как 1 минута.\"\n",
    "\n",
    "Нужно каждый совершенный звонок округлить в большую сторону."
   ]
  },
  {
   "cell_type": "code",
   "execution_count": 20,
   "metadata": {},
   "outputs": [
    {
     "data": {
      "text/html": [
       "<div>\n",
       "<style scoped>\n",
       "    .dataframe tbody tr th:only-of-type {\n",
       "        vertical-align: middle;\n",
       "    }\n",
       "\n",
       "    .dataframe tbody tr th {\n",
       "        vertical-align: top;\n",
       "    }\n",
       "\n",
       "    .dataframe thead th {\n",
       "        text-align: right;\n",
       "    }\n",
       "</style>\n",
       "<table border=\"1\" class=\"dataframe\">\n",
       "  <thead>\n",
       "    <tr style=\"text-align: right;\">\n",
       "      <th></th>\n",
       "      <th>id</th>\n",
       "      <th>call_date</th>\n",
       "      <th>duration</th>\n",
       "      <th>user_id</th>\n",
       "      <th>month</th>\n",
       "    </tr>\n",
       "  </thead>\n",
       "  <tbody>\n",
       "    <tr>\n",
       "      <th>0</th>\n",
       "      <td>1000_0</td>\n",
       "      <td>2018-07-25</td>\n",
       "      <td>0</td>\n",
       "      <td>1000</td>\n",
       "      <td>7</td>\n",
       "    </tr>\n",
       "    <tr>\n",
       "      <th>1</th>\n",
       "      <td>1000_1</td>\n",
       "      <td>2018-08-17</td>\n",
       "      <td>0</td>\n",
       "      <td>1000</td>\n",
       "      <td>8</td>\n",
       "    </tr>\n",
       "    <tr>\n",
       "      <th>2</th>\n",
       "      <td>1000_2</td>\n",
       "      <td>2018-06-11</td>\n",
       "      <td>3</td>\n",
       "      <td>1000</td>\n",
       "      <td>6</td>\n",
       "    </tr>\n",
       "    <tr>\n",
       "      <th>3</th>\n",
       "      <td>1000_3</td>\n",
       "      <td>2018-09-21</td>\n",
       "      <td>14</td>\n",
       "      <td>1000</td>\n",
       "      <td>9</td>\n",
       "    </tr>\n",
       "    <tr>\n",
       "      <th>4</th>\n",
       "      <td>1000_4</td>\n",
       "      <td>2018-12-15</td>\n",
       "      <td>6</td>\n",
       "      <td>1000</td>\n",
       "      <td>12</td>\n",
       "    </tr>\n",
       "  </tbody>\n",
       "</table>\n",
       "</div>"
      ],
      "text/plain": [
       "       id  call_date  duration  user_id  month\n",
       "0  1000_0 2018-07-25         0     1000      7\n",
       "1  1000_1 2018-08-17         0     1000      8\n",
       "2  1000_2 2018-06-11         3     1000      6\n",
       "3  1000_3 2018-09-21        14     1000      9\n",
       "4  1000_4 2018-12-15         6     1000     12"
      ]
     },
     "execution_count": 20,
     "metadata": {},
     "output_type": "execute_result"
    }
   ],
   "source": [
    "from math import ceil   \n",
    "#импортировали из библиотеки math функцию ceil\n",
    "calls['duration']=calls['duration'].apply(ceil) \n",
    "#округлили продолжительность звоноков до целого в большую сторону\n",
    "calls.head()"
   ]
  },
  {
   "cell_type": "code",
   "execution_count": 21,
   "metadata": {},
   "outputs": [],
   "source": [
    "calls_group=calls.groupby(['user_id', 'month'])[['duration']].agg(['count', 'sum']).reset_index()\n",
    "messages_group = messages.groupby(['user_id', 'month'])['message_date'].count().reset_index()\n",
    "internet_group=internet.groupby(['user_id', 'month'])['mb_used'].sum().reset_index()"
   ]
  },
  {
   "cell_type": "markdown",
   "metadata": {},
   "source": [
    "Создали таблицы с количеством и продолжительность звонков, с количеством сообщений и объемом израсходованного трафика"
   ]
  },
  {
   "cell_type": "code",
   "execution_count": 22,
   "metadata": {},
   "outputs": [
    {
     "data": {
      "text/html": [
       "<div>\n",
       "<style scoped>\n",
       "    .dataframe tbody tr th:only-of-type {\n",
       "        vertical-align: middle;\n",
       "    }\n",
       "\n",
       "    .dataframe tbody tr th {\n",
       "        vertical-align: top;\n",
       "    }\n",
       "\n",
       "    .dataframe thead tr th {\n",
       "        text-align: left;\n",
       "    }\n",
       "</style>\n",
       "<table border=\"1\" class=\"dataframe\">\n",
       "  <thead>\n",
       "    <tr>\n",
       "      <th></th>\n",
       "      <th>user_id</th>\n",
       "      <th>month</th>\n",
       "      <th colspan=\"2\" halign=\"left\">duration</th>\n",
       "    </tr>\n",
       "    <tr>\n",
       "      <th></th>\n",
       "      <th></th>\n",
       "      <th></th>\n",
       "      <th>count</th>\n",
       "      <th>sum</th>\n",
       "    </tr>\n",
       "  </thead>\n",
       "  <tbody>\n",
       "    <tr>\n",
       "      <th>0</th>\n",
       "      <td>1000</td>\n",
       "      <td>5</td>\n",
       "      <td>22</td>\n",
       "      <td>159</td>\n",
       "    </tr>\n",
       "    <tr>\n",
       "      <th>1</th>\n",
       "      <td>1000</td>\n",
       "      <td>6</td>\n",
       "      <td>43</td>\n",
       "      <td>172</td>\n",
       "    </tr>\n",
       "    <tr>\n",
       "      <th>2</th>\n",
       "      <td>1000</td>\n",
       "      <td>7</td>\n",
       "      <td>47</td>\n",
       "      <td>340</td>\n",
       "    </tr>\n",
       "    <tr>\n",
       "      <th>3</th>\n",
       "      <td>1000</td>\n",
       "      <td>8</td>\n",
       "      <td>52</td>\n",
       "      <td>408</td>\n",
       "    </tr>\n",
       "    <tr>\n",
       "      <th>4</th>\n",
       "      <td>1000</td>\n",
       "      <td>9</td>\n",
       "      <td>58</td>\n",
       "      <td>466</td>\n",
       "    </tr>\n",
       "    <tr>\n",
       "      <th>...</th>\n",
       "      <td>...</td>\n",
       "      <td>...</td>\n",
       "      <td>...</td>\n",
       "      <td>...</td>\n",
       "    </tr>\n",
       "    <tr>\n",
       "      <th>3169</th>\n",
       "      <td>1498</td>\n",
       "      <td>10</td>\n",
       "      <td>41</td>\n",
       "      <td>247</td>\n",
       "    </tr>\n",
       "    <tr>\n",
       "      <th>3170</th>\n",
       "      <td>1499</td>\n",
       "      <td>9</td>\n",
       "      <td>9</td>\n",
       "      <td>70</td>\n",
       "    </tr>\n",
       "    <tr>\n",
       "      <th>3171</th>\n",
       "      <td>1499</td>\n",
       "      <td>10</td>\n",
       "      <td>68</td>\n",
       "      <td>449</td>\n",
       "    </tr>\n",
       "    <tr>\n",
       "      <th>3172</th>\n",
       "      <td>1499</td>\n",
       "      <td>11</td>\n",
       "      <td>74</td>\n",
       "      <td>612</td>\n",
       "    </tr>\n",
       "    <tr>\n",
       "      <th>3173</th>\n",
       "      <td>1499</td>\n",
       "      <td>12</td>\n",
       "      <td>69</td>\n",
       "      <td>492</td>\n",
       "    </tr>\n",
       "  </tbody>\n",
       "</table>\n",
       "<p>3174 rows × 4 columns</p>\n",
       "</div>"
      ],
      "text/plain": [
       "     user_id month duration     \n",
       "                      count  sum\n",
       "0       1000     5       22  159\n",
       "1       1000     6       43  172\n",
       "2       1000     7       47  340\n",
       "3       1000     8       52  408\n",
       "4       1000     9       58  466\n",
       "...      ...   ...      ...  ...\n",
       "3169    1498    10       41  247\n",
       "3170    1499     9        9   70\n",
       "3171    1499    10       68  449\n",
       "3172    1499    11       74  612\n",
       "3173    1499    12       69  492\n",
       "\n",
       "[3174 rows x 4 columns]"
      ]
     },
     "execution_count": 22,
     "metadata": {},
     "output_type": "execute_result"
    }
   ],
   "source": [
    "calls_group"
   ]
  },
  {
   "cell_type": "code",
   "execution_count": 23,
   "metadata": {},
   "outputs": [],
   "source": [
    "calls_group.columns=['user_id', 'month', 'calls', 'duration'] \n",
    "#меняю названия столбцов"
   ]
  },
  {
   "cell_type": "code",
   "execution_count": 24,
   "metadata": {},
   "outputs": [
    {
     "data": {
      "text/html": [
       "<div>\n",
       "<style scoped>\n",
       "    .dataframe tbody tr th:only-of-type {\n",
       "        vertical-align: middle;\n",
       "    }\n",
       "\n",
       "    .dataframe tbody tr th {\n",
       "        vertical-align: top;\n",
       "    }\n",
       "\n",
       "    .dataframe thead th {\n",
       "        text-align: right;\n",
       "    }\n",
       "</style>\n",
       "<table border=\"1\" class=\"dataframe\">\n",
       "  <thead>\n",
       "    <tr style=\"text-align: right;\">\n",
       "      <th></th>\n",
       "      <th>user_id</th>\n",
       "      <th>month</th>\n",
       "      <th>message_date</th>\n",
       "    </tr>\n",
       "  </thead>\n",
       "  <tbody>\n",
       "    <tr>\n",
       "      <th>0</th>\n",
       "      <td>1000</td>\n",
       "      <td>5</td>\n",
       "      <td>22</td>\n",
       "    </tr>\n",
       "    <tr>\n",
       "      <th>1</th>\n",
       "      <td>1000</td>\n",
       "      <td>6</td>\n",
       "      <td>60</td>\n",
       "    </tr>\n",
       "    <tr>\n",
       "      <th>2</th>\n",
       "      <td>1000</td>\n",
       "      <td>7</td>\n",
       "      <td>75</td>\n",
       "    </tr>\n",
       "    <tr>\n",
       "      <th>3</th>\n",
       "      <td>1000</td>\n",
       "      <td>8</td>\n",
       "      <td>81</td>\n",
       "    </tr>\n",
       "    <tr>\n",
       "      <th>4</th>\n",
       "      <td>1000</td>\n",
       "      <td>9</td>\n",
       "      <td>57</td>\n",
       "    </tr>\n",
       "    <tr>\n",
       "      <th>...</th>\n",
       "      <td>...</td>\n",
       "      <td>...</td>\n",
       "      <td>...</td>\n",
       "    </tr>\n",
       "    <tr>\n",
       "      <th>2712</th>\n",
       "      <td>1498</td>\n",
       "      <td>10</td>\n",
       "      <td>42</td>\n",
       "    </tr>\n",
       "    <tr>\n",
       "      <th>2713</th>\n",
       "      <td>1499</td>\n",
       "      <td>9</td>\n",
       "      <td>11</td>\n",
       "    </tr>\n",
       "    <tr>\n",
       "      <th>2714</th>\n",
       "      <td>1499</td>\n",
       "      <td>10</td>\n",
       "      <td>48</td>\n",
       "    </tr>\n",
       "    <tr>\n",
       "      <th>2715</th>\n",
       "      <td>1499</td>\n",
       "      <td>11</td>\n",
       "      <td>59</td>\n",
       "    </tr>\n",
       "    <tr>\n",
       "      <th>2716</th>\n",
       "      <td>1499</td>\n",
       "      <td>12</td>\n",
       "      <td>66</td>\n",
       "    </tr>\n",
       "  </tbody>\n",
       "</table>\n",
       "<p>2717 rows × 3 columns</p>\n",
       "</div>"
      ],
      "text/plain": [
       "      user_id  month  message_date\n",
       "0        1000      5            22\n",
       "1        1000      6            60\n",
       "2        1000      7            75\n",
       "3        1000      8            81\n",
       "4        1000      9            57\n",
       "...       ...    ...           ...\n",
       "2712     1498     10            42\n",
       "2713     1499      9            11\n",
       "2714     1499     10            48\n",
       "2715     1499     11            59\n",
       "2716     1499     12            66\n",
       "\n",
       "[2717 rows x 3 columns]"
      ]
     },
     "execution_count": 24,
     "metadata": {},
     "output_type": "execute_result"
    }
   ],
   "source": [
    "messages_group"
   ]
  },
  {
   "cell_type": "code",
   "execution_count": 25,
   "metadata": {},
   "outputs": [],
   "source": [
    "messages_group.columns=['user_id', 'month', 'message'] \n",
    "#меняю названия столбцов"
   ]
  },
  {
   "cell_type": "code",
   "execution_count": 26,
   "metadata": {},
   "outputs": [
    {
     "data": {
      "text/html": [
       "<div>\n",
       "<style scoped>\n",
       "    .dataframe tbody tr th:only-of-type {\n",
       "        vertical-align: middle;\n",
       "    }\n",
       "\n",
       "    .dataframe tbody tr th {\n",
       "        vertical-align: top;\n",
       "    }\n",
       "\n",
       "    .dataframe thead th {\n",
       "        text-align: right;\n",
       "    }\n",
       "</style>\n",
       "<table border=\"1\" class=\"dataframe\">\n",
       "  <thead>\n",
       "    <tr style=\"text-align: right;\">\n",
       "      <th></th>\n",
       "      <th>user_id</th>\n",
       "      <th>month</th>\n",
       "      <th>mb_used</th>\n",
       "    </tr>\n",
       "  </thead>\n",
       "  <tbody>\n",
       "    <tr>\n",
       "      <th>0</th>\n",
       "      <td>1000</td>\n",
       "      <td>5</td>\n",
       "      <td>2253.49</td>\n",
       "    </tr>\n",
       "    <tr>\n",
       "      <th>1</th>\n",
       "      <td>1000</td>\n",
       "      <td>6</td>\n",
       "      <td>23233.77</td>\n",
       "    </tr>\n",
       "    <tr>\n",
       "      <th>2</th>\n",
       "      <td>1000</td>\n",
       "      <td>7</td>\n",
       "      <td>14003.64</td>\n",
       "    </tr>\n",
       "    <tr>\n",
       "      <th>3</th>\n",
       "      <td>1000</td>\n",
       "      <td>8</td>\n",
       "      <td>14055.93</td>\n",
       "    </tr>\n",
       "    <tr>\n",
       "      <th>4</th>\n",
       "      <td>1000</td>\n",
       "      <td>9</td>\n",
       "      <td>14568.91</td>\n",
       "    </tr>\n",
       "    <tr>\n",
       "      <th>...</th>\n",
       "      <td>...</td>\n",
       "      <td>...</td>\n",
       "      <td>...</td>\n",
       "    </tr>\n",
       "    <tr>\n",
       "      <th>3198</th>\n",
       "      <td>1498</td>\n",
       "      <td>10</td>\n",
       "      <td>20579.36</td>\n",
       "    </tr>\n",
       "    <tr>\n",
       "      <th>3199</th>\n",
       "      <td>1499</td>\n",
       "      <td>9</td>\n",
       "      <td>1845.75</td>\n",
       "    </tr>\n",
       "    <tr>\n",
       "      <th>3200</th>\n",
       "      <td>1499</td>\n",
       "      <td>10</td>\n",
       "      <td>17788.51</td>\n",
       "    </tr>\n",
       "    <tr>\n",
       "      <th>3201</th>\n",
       "      <td>1499</td>\n",
       "      <td>11</td>\n",
       "      <td>17963.31</td>\n",
       "    </tr>\n",
       "    <tr>\n",
       "      <th>3202</th>\n",
       "      <td>1499</td>\n",
       "      <td>12</td>\n",
       "      <td>13055.58</td>\n",
       "    </tr>\n",
       "  </tbody>\n",
       "</table>\n",
       "<p>3203 rows × 3 columns</p>\n",
       "</div>"
      ],
      "text/plain": [
       "      user_id  month   mb_used\n",
       "0        1000      5   2253.49\n",
       "1        1000      6  23233.77\n",
       "2        1000      7  14003.64\n",
       "3        1000      8  14055.93\n",
       "4        1000      9  14568.91\n",
       "...       ...    ...       ...\n",
       "3198     1498     10  20579.36\n",
       "3199     1499      9   1845.75\n",
       "3200     1499     10  17788.51\n",
       "3201     1499     11  17963.31\n",
       "3202     1499     12  13055.58\n",
       "\n",
       "[3203 rows x 3 columns]"
      ]
     },
     "execution_count": 26,
     "metadata": {},
     "output_type": "execute_result"
    }
   ],
   "source": [
    "internet_group"
   ]
  },
  {
   "cell_type": "markdown",
   "metadata": {},
   "source": [
    "Нужно округлить объём потраченного за сессию интернет-трафика (в мегабайтах) в большую сторону, так как \n",
    "\n",
    "\"Для веб-трафика отдельные сессии не считаются. Вместо этого общая сумма за месяц округляется в бо́льшую сторону. Если абонент использует 1025 мегабайт в этом месяце, с него возьмут плату за 2 гигабайта.\""
   ]
  },
  {
   "cell_type": "code",
   "execution_count": 27,
   "metadata": {},
   "outputs": [
    {
     "data": {
      "text/html": [
       "<div>\n",
       "<style scoped>\n",
       "    .dataframe tbody tr th:only-of-type {\n",
       "        vertical-align: middle;\n",
       "    }\n",
       "\n",
       "    .dataframe tbody tr th {\n",
       "        vertical-align: top;\n",
       "    }\n",
       "\n",
       "    .dataframe thead th {\n",
       "        text-align: right;\n",
       "    }\n",
       "</style>\n",
       "<table border=\"1\" class=\"dataframe\">\n",
       "  <thead>\n",
       "    <tr style=\"text-align: right;\">\n",
       "      <th></th>\n",
       "      <th>user_id</th>\n",
       "      <th>month</th>\n",
       "      <th>mb_used</th>\n",
       "    </tr>\n",
       "  </thead>\n",
       "  <tbody>\n",
       "    <tr>\n",
       "      <th>0</th>\n",
       "      <td>1000</td>\n",
       "      <td>5</td>\n",
       "      <td>2254</td>\n",
       "    </tr>\n",
       "    <tr>\n",
       "      <th>1</th>\n",
       "      <td>1000</td>\n",
       "      <td>6</td>\n",
       "      <td>23234</td>\n",
       "    </tr>\n",
       "    <tr>\n",
       "      <th>2</th>\n",
       "      <td>1000</td>\n",
       "      <td>7</td>\n",
       "      <td>14004</td>\n",
       "    </tr>\n",
       "    <tr>\n",
       "      <th>3</th>\n",
       "      <td>1000</td>\n",
       "      <td>8</td>\n",
       "      <td>14056</td>\n",
       "    </tr>\n",
       "    <tr>\n",
       "      <th>4</th>\n",
       "      <td>1000</td>\n",
       "      <td>9</td>\n",
       "      <td>14569</td>\n",
       "    </tr>\n",
       "  </tbody>\n",
       "</table>\n",
       "</div>"
      ],
      "text/plain": [
       "   user_id  month  mb_used\n",
       "0     1000      5     2254\n",
       "1     1000      6    23234\n",
       "2     1000      7    14004\n",
       "3     1000      8    14056\n",
       "4     1000      9    14569"
      ]
     },
     "execution_count": 27,
     "metadata": {},
     "output_type": "execute_result"
    }
   ],
   "source": [
    "internet_group['mb_used']=internet_group['mb_used'].apply(ceil)\n",
    "#округлили объем израсходованного интернет-трафика до целого в большую сторону\n",
    "internet_group.head()"
   ]
  },
  {
   "cell_type": "code",
   "execution_count": 28,
   "metadata": {},
   "outputs": [],
   "source": [
    "tariffs.rename(columns = {'tariff_name':'tariff'}, inplace = True) \n",
    "#меняю название столбца для того, чтобы потом объединить все данные в одну таблицу"
   ]
  },
  {
   "cell_type": "markdown",
   "metadata": {},
   "source": [
    "Объединили все таблицы в одну методом merge."
   ]
  },
  {
   "cell_type": "code",
   "execution_count": 29,
   "metadata": {},
   "outputs": [],
   "source": [
    "all_group = (calls_group\n",
    "               .merge(messages_group, on=('user_id', 'month'), how='left')\n",
    "               .merge(internet_group, on=('user_id', 'month'), how='outer')\n",
    "               .merge(users, on=('user_id'))\n",
    "               .merge(tariffs, on=('tariff')))"
   ]
  },
  {
   "cell_type": "code",
   "execution_count": 30,
   "metadata": {},
   "outputs": [
    {
     "data": {
      "text/html": [
       "<div>\n",
       "<style scoped>\n",
       "    .dataframe tbody tr th:only-of-type {\n",
       "        vertical-align: middle;\n",
       "    }\n",
       "\n",
       "    .dataframe tbody tr th {\n",
       "        vertical-align: top;\n",
       "    }\n",
       "\n",
       "    .dataframe thead th {\n",
       "        text-align: right;\n",
       "    }\n",
       "</style>\n",
       "<table border=\"1\" class=\"dataframe\">\n",
       "  <thead>\n",
       "    <tr style=\"text-align: right;\">\n",
       "      <th></th>\n",
       "      <th>user_id</th>\n",
       "      <th>month</th>\n",
       "      <th>calls</th>\n",
       "      <th>duration</th>\n",
       "      <th>message</th>\n",
       "      <th>mb_used</th>\n",
       "      <th>age</th>\n",
       "      <th>churn_date</th>\n",
       "      <th>city</th>\n",
       "      <th>first_name</th>\n",
       "      <th>last_name</th>\n",
       "      <th>reg_date</th>\n",
       "      <th>tariff</th>\n",
       "      <th>messages_included</th>\n",
       "      <th>mb_per_month_included</th>\n",
       "      <th>minutes_included</th>\n",
       "      <th>rub_monthly_fee</th>\n",
       "      <th>rub_per_gb</th>\n",
       "      <th>rub_per_message</th>\n",
       "      <th>rub_per_minute</th>\n",
       "    </tr>\n",
       "  </thead>\n",
       "  <tbody>\n",
       "    <tr>\n",
       "      <th>0</th>\n",
       "      <td>1000</td>\n",
       "      <td>5</td>\n",
       "      <td>22.0</td>\n",
       "      <td>159.0</td>\n",
       "      <td>22.0</td>\n",
       "      <td>2254.0</td>\n",
       "      <td>52</td>\n",
       "      <td>NaN</td>\n",
       "      <td>Краснодар</td>\n",
       "      <td>Рафаил</td>\n",
       "      <td>Верещагин</td>\n",
       "      <td>2018-05-25</td>\n",
       "      <td>ultra</td>\n",
       "      <td>1000</td>\n",
       "      <td>30720</td>\n",
       "      <td>3000</td>\n",
       "      <td>1950</td>\n",
       "      <td>150</td>\n",
       "      <td>1</td>\n",
       "      <td>1</td>\n",
       "    </tr>\n",
       "    <tr>\n",
       "      <th>1</th>\n",
       "      <td>1000</td>\n",
       "      <td>6</td>\n",
       "      <td>43.0</td>\n",
       "      <td>172.0</td>\n",
       "      <td>60.0</td>\n",
       "      <td>23234.0</td>\n",
       "      <td>52</td>\n",
       "      <td>NaN</td>\n",
       "      <td>Краснодар</td>\n",
       "      <td>Рафаил</td>\n",
       "      <td>Верещагин</td>\n",
       "      <td>2018-05-25</td>\n",
       "      <td>ultra</td>\n",
       "      <td>1000</td>\n",
       "      <td>30720</td>\n",
       "      <td>3000</td>\n",
       "      <td>1950</td>\n",
       "      <td>150</td>\n",
       "      <td>1</td>\n",
       "      <td>1</td>\n",
       "    </tr>\n",
       "    <tr>\n",
       "      <th>2</th>\n",
       "      <td>1000</td>\n",
       "      <td>7</td>\n",
       "      <td>47.0</td>\n",
       "      <td>340.0</td>\n",
       "      <td>75.0</td>\n",
       "      <td>14004.0</td>\n",
       "      <td>52</td>\n",
       "      <td>NaN</td>\n",
       "      <td>Краснодар</td>\n",
       "      <td>Рафаил</td>\n",
       "      <td>Верещагин</td>\n",
       "      <td>2018-05-25</td>\n",
       "      <td>ultra</td>\n",
       "      <td>1000</td>\n",
       "      <td>30720</td>\n",
       "      <td>3000</td>\n",
       "      <td>1950</td>\n",
       "      <td>150</td>\n",
       "      <td>1</td>\n",
       "      <td>1</td>\n",
       "    </tr>\n",
       "    <tr>\n",
       "      <th>3</th>\n",
       "      <td>1000</td>\n",
       "      <td>8</td>\n",
       "      <td>52.0</td>\n",
       "      <td>408.0</td>\n",
       "      <td>81.0</td>\n",
       "      <td>14056.0</td>\n",
       "      <td>52</td>\n",
       "      <td>NaN</td>\n",
       "      <td>Краснодар</td>\n",
       "      <td>Рафаил</td>\n",
       "      <td>Верещагин</td>\n",
       "      <td>2018-05-25</td>\n",
       "      <td>ultra</td>\n",
       "      <td>1000</td>\n",
       "      <td>30720</td>\n",
       "      <td>3000</td>\n",
       "      <td>1950</td>\n",
       "      <td>150</td>\n",
       "      <td>1</td>\n",
       "      <td>1</td>\n",
       "    </tr>\n",
       "    <tr>\n",
       "      <th>4</th>\n",
       "      <td>1000</td>\n",
       "      <td>9</td>\n",
       "      <td>58.0</td>\n",
       "      <td>466.0</td>\n",
       "      <td>57.0</td>\n",
       "      <td>14569.0</td>\n",
       "      <td>52</td>\n",
       "      <td>NaN</td>\n",
       "      <td>Краснодар</td>\n",
       "      <td>Рафаил</td>\n",
       "      <td>Верещагин</td>\n",
       "      <td>2018-05-25</td>\n",
       "      <td>ultra</td>\n",
       "      <td>1000</td>\n",
       "      <td>30720</td>\n",
       "      <td>3000</td>\n",
       "      <td>1950</td>\n",
       "      <td>150</td>\n",
       "      <td>1</td>\n",
       "      <td>1</td>\n",
       "    </tr>\n",
       "    <tr>\n",
       "      <th>...</th>\n",
       "      <td>...</td>\n",
       "      <td>...</td>\n",
       "      <td>...</td>\n",
       "      <td>...</td>\n",
       "      <td>...</td>\n",
       "      <td>...</td>\n",
       "      <td>...</td>\n",
       "      <td>...</td>\n",
       "      <td>...</td>\n",
       "      <td>...</td>\n",
       "      <td>...</td>\n",
       "      <td>...</td>\n",
       "      <td>...</td>\n",
       "      <td>...</td>\n",
       "      <td>...</td>\n",
       "      <td>...</td>\n",
       "      <td>...</td>\n",
       "      <td>...</td>\n",
       "      <td>...</td>\n",
       "      <td>...</td>\n",
       "    </tr>\n",
       "    <tr>\n",
       "      <th>3209</th>\n",
       "      <td>1489</td>\n",
       "      <td>8</td>\n",
       "      <td>NaN</td>\n",
       "      <td>NaN</td>\n",
       "      <td>NaN</td>\n",
       "      <td>11051.0</td>\n",
       "      <td>35</td>\n",
       "      <td>NaN</td>\n",
       "      <td>Санкт-Петербург</td>\n",
       "      <td>Павел</td>\n",
       "      <td>Гончаров</td>\n",
       "      <td>2018-08-15</td>\n",
       "      <td>smart</td>\n",
       "      <td>50</td>\n",
       "      <td>15360</td>\n",
       "      <td>500</td>\n",
       "      <td>550</td>\n",
       "      <td>200</td>\n",
       "      <td>3</td>\n",
       "      <td>3</td>\n",
       "    </tr>\n",
       "    <tr>\n",
       "      <th>3210</th>\n",
       "      <td>1489</td>\n",
       "      <td>9</td>\n",
       "      <td>NaN</td>\n",
       "      <td>NaN</td>\n",
       "      <td>NaN</td>\n",
       "      <td>17207.0</td>\n",
       "      <td>35</td>\n",
       "      <td>NaN</td>\n",
       "      <td>Санкт-Петербург</td>\n",
       "      <td>Павел</td>\n",
       "      <td>Гончаров</td>\n",
       "      <td>2018-08-15</td>\n",
       "      <td>smart</td>\n",
       "      <td>50</td>\n",
       "      <td>15360</td>\n",
       "      <td>500</td>\n",
       "      <td>550</td>\n",
       "      <td>200</td>\n",
       "      <td>3</td>\n",
       "      <td>3</td>\n",
       "    </tr>\n",
       "    <tr>\n",
       "      <th>3211</th>\n",
       "      <td>1489</td>\n",
       "      <td>10</td>\n",
       "      <td>NaN</td>\n",
       "      <td>NaN</td>\n",
       "      <td>NaN</td>\n",
       "      <td>19560.0</td>\n",
       "      <td>35</td>\n",
       "      <td>NaN</td>\n",
       "      <td>Санкт-Петербург</td>\n",
       "      <td>Павел</td>\n",
       "      <td>Гончаров</td>\n",
       "      <td>2018-08-15</td>\n",
       "      <td>smart</td>\n",
       "      <td>50</td>\n",
       "      <td>15360</td>\n",
       "      <td>500</td>\n",
       "      <td>550</td>\n",
       "      <td>200</td>\n",
       "      <td>3</td>\n",
       "      <td>3</td>\n",
       "    </tr>\n",
       "    <tr>\n",
       "      <th>3212</th>\n",
       "      <td>1489</td>\n",
       "      <td>11</td>\n",
       "      <td>NaN</td>\n",
       "      <td>NaN</td>\n",
       "      <td>NaN</td>\n",
       "      <td>17492.0</td>\n",
       "      <td>35</td>\n",
       "      <td>NaN</td>\n",
       "      <td>Санкт-Петербург</td>\n",
       "      <td>Павел</td>\n",
       "      <td>Гончаров</td>\n",
       "      <td>2018-08-15</td>\n",
       "      <td>smart</td>\n",
       "      <td>50</td>\n",
       "      <td>15360</td>\n",
       "      <td>500</td>\n",
       "      <td>550</td>\n",
       "      <td>200</td>\n",
       "      <td>3</td>\n",
       "      <td>3</td>\n",
       "    </tr>\n",
       "    <tr>\n",
       "      <th>3213</th>\n",
       "      <td>1489</td>\n",
       "      <td>12</td>\n",
       "      <td>NaN</td>\n",
       "      <td>NaN</td>\n",
       "      <td>NaN</td>\n",
       "      <td>17323.0</td>\n",
       "      <td>35</td>\n",
       "      <td>NaN</td>\n",
       "      <td>Санкт-Петербург</td>\n",
       "      <td>Павел</td>\n",
       "      <td>Гончаров</td>\n",
       "      <td>2018-08-15</td>\n",
       "      <td>smart</td>\n",
       "      <td>50</td>\n",
       "      <td>15360</td>\n",
       "      <td>500</td>\n",
       "      <td>550</td>\n",
       "      <td>200</td>\n",
       "      <td>3</td>\n",
       "      <td>3</td>\n",
       "    </tr>\n",
       "  </tbody>\n",
       "</table>\n",
       "<p>3214 rows × 20 columns</p>\n",
       "</div>"
      ],
      "text/plain": [
       "      user_id  month  calls  duration  message  mb_used  age churn_date  \\\n",
       "0        1000      5   22.0     159.0     22.0   2254.0   52        NaN   \n",
       "1        1000      6   43.0     172.0     60.0  23234.0   52        NaN   \n",
       "2        1000      7   47.0     340.0     75.0  14004.0   52        NaN   \n",
       "3        1000      8   52.0     408.0     81.0  14056.0   52        NaN   \n",
       "4        1000      9   58.0     466.0     57.0  14569.0   52        NaN   \n",
       "...       ...    ...    ...       ...      ...      ...  ...        ...   \n",
       "3209     1489      8    NaN       NaN      NaN  11051.0   35        NaN   \n",
       "3210     1489      9    NaN       NaN      NaN  17207.0   35        NaN   \n",
       "3211     1489     10    NaN       NaN      NaN  19560.0   35        NaN   \n",
       "3212     1489     11    NaN       NaN      NaN  17492.0   35        NaN   \n",
       "3213     1489     12    NaN       NaN      NaN  17323.0   35        NaN   \n",
       "\n",
       "                 city first_name  last_name   reg_date tariff  \\\n",
       "0           Краснодар     Рафаил  Верещагин 2018-05-25  ultra   \n",
       "1           Краснодар     Рафаил  Верещагин 2018-05-25  ultra   \n",
       "2           Краснодар     Рафаил  Верещагин 2018-05-25  ultra   \n",
       "3           Краснодар     Рафаил  Верещагин 2018-05-25  ultra   \n",
       "4           Краснодар     Рафаил  Верещагин 2018-05-25  ultra   \n",
       "...               ...        ...        ...        ...    ...   \n",
       "3209  Санкт-Петербург      Павел   Гончаров 2018-08-15  smart   \n",
       "3210  Санкт-Петербург      Павел   Гончаров 2018-08-15  smart   \n",
       "3211  Санкт-Петербург      Павел   Гончаров 2018-08-15  smart   \n",
       "3212  Санкт-Петербург      Павел   Гончаров 2018-08-15  smart   \n",
       "3213  Санкт-Петербург      Павел   Гончаров 2018-08-15  smart   \n",
       "\n",
       "      messages_included  mb_per_month_included  minutes_included  \\\n",
       "0                  1000                  30720              3000   \n",
       "1                  1000                  30720              3000   \n",
       "2                  1000                  30720              3000   \n",
       "3                  1000                  30720              3000   \n",
       "4                  1000                  30720              3000   \n",
       "...                 ...                    ...               ...   \n",
       "3209                 50                  15360               500   \n",
       "3210                 50                  15360               500   \n",
       "3211                 50                  15360               500   \n",
       "3212                 50                  15360               500   \n",
       "3213                 50                  15360               500   \n",
       "\n",
       "      rub_monthly_fee  rub_per_gb  rub_per_message  rub_per_minute  \n",
       "0                1950         150                1               1  \n",
       "1                1950         150                1               1  \n",
       "2                1950         150                1               1  \n",
       "3                1950         150                1               1  \n",
       "4                1950         150                1               1  \n",
       "...               ...         ...              ...             ...  \n",
       "3209              550         200                3               3  \n",
       "3210              550         200                3               3  \n",
       "3211              550         200                3               3  \n",
       "3212              550         200                3               3  \n",
       "3213              550         200                3               3  \n",
       "\n",
       "[3214 rows x 20 columns]"
      ]
     },
     "execution_count": 30,
     "metadata": {},
     "output_type": "execute_result"
    }
   ],
   "source": [
    "all_group"
   ]
  },
  {
   "cell_type": "code",
   "execution_count": 31,
   "metadata": {},
   "outputs": [
    {
     "data": {
      "text/plain": [
       "user_id                     0\n",
       "month                       0\n",
       "calls                      40\n",
       "duration                   40\n",
       "message                   536\n",
       "mb_used                    11\n",
       "age                         0\n",
       "churn_date               3027\n",
       "city                        0\n",
       "first_name                  0\n",
       "last_name                   0\n",
       "reg_date                    0\n",
       "tariff                      0\n",
       "messages_included           0\n",
       "mb_per_month_included       0\n",
       "minutes_included            0\n",
       "rub_monthly_fee             0\n",
       "rub_per_gb                  0\n",
       "rub_per_message             0\n",
       "rub_per_minute              0\n",
       "dtype: int64"
      ]
     },
     "execution_count": 31,
     "metadata": {},
     "output_type": "execute_result"
    }
   ],
   "source": [
    "all_group.isnull().sum()"
   ]
  },
  {
   "cell_type": "markdown",
   "metadata": {},
   "source": [
    "### Помесячная выручка с каждого пользователя"
   ]
  },
  {
   "cell_type": "code",
   "execution_count": 32,
   "metadata": {},
   "outputs": [],
   "source": [
    "all_group['minutes']=all_group['duration']-all_group['minutes_included']\n",
    "all_group['mb']=all_group['mb_used']-all_group['mb_per_month_included']\n",
    "all_group['ex_message']=all_group['message']-all_group['messages_included']\n",
    "#посчитали количество неизрасходванного трафика для каждог параметра"
   ]
  },
  {
   "cell_type": "markdown",
   "metadata": {},
   "source": [
    "Длительность звонков, количество сообщений и объем трафика, который остался неизрасходованным запишем в таблицу как 0. Для этого используем функцию def. Для того, чтобы в дальнейшем посчитать для каждого пользователя сумму, которую он тратит на тариф в месяц."
   ]
  },
  {
   "cell_type": "code",
   "execution_count": 33,
   "metadata": {},
   "outputs": [],
   "source": [
    "def unspent(i):\n",
    "    if i > 0:\n",
    "        return i\n",
    "    else:\n",
    "        return 0"
   ]
  },
  {
   "cell_type": "code",
   "execution_count": 34,
   "metadata": {},
   "outputs": [],
   "source": [
    "all_group['minutes'] = all_group['minutes'].apply(unspent)\n",
    "all_group['mb'] = all_group['mb'].apply(unspent)\n",
    "all_group['ex_message'] = all_group['ex_message'].apply(unspent)"
   ]
  },
  {
   "cell_type": "code",
   "execution_count": 35,
   "metadata": {},
   "outputs": [
    {
     "data": {
      "text/html": [
       "<div>\n",
       "<style scoped>\n",
       "    .dataframe tbody tr th:only-of-type {\n",
       "        vertical-align: middle;\n",
       "    }\n",
       "\n",
       "    .dataframe tbody tr th {\n",
       "        vertical-align: top;\n",
       "    }\n",
       "\n",
       "    .dataframe thead th {\n",
       "        text-align: right;\n",
       "    }\n",
       "</style>\n",
       "<table border=\"1\" class=\"dataframe\">\n",
       "  <thead>\n",
       "    <tr style=\"text-align: right;\">\n",
       "      <th></th>\n",
       "      <th>user_id</th>\n",
       "      <th>month</th>\n",
       "      <th>calls</th>\n",
       "      <th>duration</th>\n",
       "      <th>message</th>\n",
       "      <th>mb_used</th>\n",
       "      <th>age</th>\n",
       "      <th>churn_date</th>\n",
       "      <th>city</th>\n",
       "      <th>first_name</th>\n",
       "      <th>last_name</th>\n",
       "      <th>reg_date</th>\n",
       "      <th>tariff</th>\n",
       "      <th>messages_included</th>\n",
       "      <th>mb_per_month_included</th>\n",
       "      <th>minutes_included</th>\n",
       "      <th>rub_monthly_fee</th>\n",
       "      <th>rub_per_gb</th>\n",
       "      <th>rub_per_message</th>\n",
       "      <th>rub_per_minute</th>\n",
       "      <th>minutes</th>\n",
       "      <th>mb</th>\n",
       "      <th>ex_message</th>\n",
       "    </tr>\n",
       "  </thead>\n",
       "  <tbody>\n",
       "    <tr>\n",
       "      <th>0</th>\n",
       "      <td>1000</td>\n",
       "      <td>5</td>\n",
       "      <td>22.0</td>\n",
       "      <td>159.0</td>\n",
       "      <td>22.0</td>\n",
       "      <td>2254.0</td>\n",
       "      <td>52</td>\n",
       "      <td>NaN</td>\n",
       "      <td>Краснодар</td>\n",
       "      <td>Рафаил</td>\n",
       "      <td>Верещагин</td>\n",
       "      <td>2018-05-25</td>\n",
       "      <td>ultra</td>\n",
       "      <td>1000</td>\n",
       "      <td>30720</td>\n",
       "      <td>3000</td>\n",
       "      <td>1950</td>\n",
       "      <td>150</td>\n",
       "      <td>1</td>\n",
       "      <td>1</td>\n",
       "      <td>0.0</td>\n",
       "      <td>0.0</td>\n",
       "      <td>0.0</td>\n",
       "    </tr>\n",
       "    <tr>\n",
       "      <th>1</th>\n",
       "      <td>1000</td>\n",
       "      <td>6</td>\n",
       "      <td>43.0</td>\n",
       "      <td>172.0</td>\n",
       "      <td>60.0</td>\n",
       "      <td>23234.0</td>\n",
       "      <td>52</td>\n",
       "      <td>NaN</td>\n",
       "      <td>Краснодар</td>\n",
       "      <td>Рафаил</td>\n",
       "      <td>Верещагин</td>\n",
       "      <td>2018-05-25</td>\n",
       "      <td>ultra</td>\n",
       "      <td>1000</td>\n",
       "      <td>30720</td>\n",
       "      <td>3000</td>\n",
       "      <td>1950</td>\n",
       "      <td>150</td>\n",
       "      <td>1</td>\n",
       "      <td>1</td>\n",
       "      <td>0.0</td>\n",
       "      <td>0.0</td>\n",
       "      <td>0.0</td>\n",
       "    </tr>\n",
       "    <tr>\n",
       "      <th>2</th>\n",
       "      <td>1000</td>\n",
       "      <td>7</td>\n",
       "      <td>47.0</td>\n",
       "      <td>340.0</td>\n",
       "      <td>75.0</td>\n",
       "      <td>14004.0</td>\n",
       "      <td>52</td>\n",
       "      <td>NaN</td>\n",
       "      <td>Краснодар</td>\n",
       "      <td>Рафаил</td>\n",
       "      <td>Верещагин</td>\n",
       "      <td>2018-05-25</td>\n",
       "      <td>ultra</td>\n",
       "      <td>1000</td>\n",
       "      <td>30720</td>\n",
       "      <td>3000</td>\n",
       "      <td>1950</td>\n",
       "      <td>150</td>\n",
       "      <td>1</td>\n",
       "      <td>1</td>\n",
       "      <td>0.0</td>\n",
       "      <td>0.0</td>\n",
       "      <td>0.0</td>\n",
       "    </tr>\n",
       "    <tr>\n",
       "      <th>3</th>\n",
       "      <td>1000</td>\n",
       "      <td>8</td>\n",
       "      <td>52.0</td>\n",
       "      <td>408.0</td>\n",
       "      <td>81.0</td>\n",
       "      <td>14056.0</td>\n",
       "      <td>52</td>\n",
       "      <td>NaN</td>\n",
       "      <td>Краснодар</td>\n",
       "      <td>Рафаил</td>\n",
       "      <td>Верещагин</td>\n",
       "      <td>2018-05-25</td>\n",
       "      <td>ultra</td>\n",
       "      <td>1000</td>\n",
       "      <td>30720</td>\n",
       "      <td>3000</td>\n",
       "      <td>1950</td>\n",
       "      <td>150</td>\n",
       "      <td>1</td>\n",
       "      <td>1</td>\n",
       "      <td>0.0</td>\n",
       "      <td>0.0</td>\n",
       "      <td>0.0</td>\n",
       "    </tr>\n",
       "    <tr>\n",
       "      <th>4</th>\n",
       "      <td>1000</td>\n",
       "      <td>9</td>\n",
       "      <td>58.0</td>\n",
       "      <td>466.0</td>\n",
       "      <td>57.0</td>\n",
       "      <td>14569.0</td>\n",
       "      <td>52</td>\n",
       "      <td>NaN</td>\n",
       "      <td>Краснодар</td>\n",
       "      <td>Рафаил</td>\n",
       "      <td>Верещагин</td>\n",
       "      <td>2018-05-25</td>\n",
       "      <td>ultra</td>\n",
       "      <td>1000</td>\n",
       "      <td>30720</td>\n",
       "      <td>3000</td>\n",
       "      <td>1950</td>\n",
       "      <td>150</td>\n",
       "      <td>1</td>\n",
       "      <td>1</td>\n",
       "      <td>0.0</td>\n",
       "      <td>0.0</td>\n",
       "      <td>0.0</td>\n",
       "    </tr>\n",
       "  </tbody>\n",
       "</table>\n",
       "</div>"
      ],
      "text/plain": [
       "   user_id  month  calls  duration  message  mb_used  age churn_date  \\\n",
       "0     1000      5   22.0     159.0     22.0   2254.0   52        NaN   \n",
       "1     1000      6   43.0     172.0     60.0  23234.0   52        NaN   \n",
       "2     1000      7   47.0     340.0     75.0  14004.0   52        NaN   \n",
       "3     1000      8   52.0     408.0     81.0  14056.0   52        NaN   \n",
       "4     1000      9   58.0     466.0     57.0  14569.0   52        NaN   \n",
       "\n",
       "        city first_name  last_name   reg_date tariff  messages_included  \\\n",
       "0  Краснодар     Рафаил  Верещагин 2018-05-25  ultra               1000   \n",
       "1  Краснодар     Рафаил  Верещагин 2018-05-25  ultra               1000   \n",
       "2  Краснодар     Рафаил  Верещагин 2018-05-25  ultra               1000   \n",
       "3  Краснодар     Рафаил  Верещагин 2018-05-25  ultra               1000   \n",
       "4  Краснодар     Рафаил  Верещагин 2018-05-25  ultra               1000   \n",
       "\n",
       "   mb_per_month_included  minutes_included  rub_monthly_fee  rub_per_gb  \\\n",
       "0                  30720              3000             1950         150   \n",
       "1                  30720              3000             1950         150   \n",
       "2                  30720              3000             1950         150   \n",
       "3                  30720              3000             1950         150   \n",
       "4                  30720              3000             1950         150   \n",
       "\n",
       "   rub_per_message  rub_per_minute  minutes   mb  ex_message  \n",
       "0                1               1      0.0  0.0         0.0  \n",
       "1                1               1      0.0  0.0         0.0  \n",
       "2                1               1      0.0  0.0         0.0  \n",
       "3                1               1      0.0  0.0         0.0  \n",
       "4                1               1      0.0  0.0         0.0  "
      ]
     },
     "execution_count": 35,
     "metadata": {},
     "output_type": "execute_result"
    }
   ],
   "source": [
    "all_group.head()"
   ]
  },
  {
   "cell_type": "markdown",
   "metadata": {},
   "source": [
    "Переведем мб в гб, чтобы в дальнейшем рассчитать помесячную выручку с каждого пользователя."
   ]
  },
  {
   "cell_type": "code",
   "execution_count": 36,
   "metadata": {},
   "outputs": [],
   "source": [
    "all_group['mb']=all_group['mb']/1024\n",
    "all_group['mb']=all_group['mb'].apply(ceil)\n",
    "all_group.rename(columns = {'mb':'gb'}, inplace = True) "
   ]
  },
  {
   "cell_type": "markdown",
   "metadata": {},
   "source": [
    "Рассчитаем помесячную выручку для каждого пользователя."
   ]
  },
  {
   "cell_type": "code",
   "execution_count": 37,
   "metadata": {},
   "outputs": [],
   "source": [
    "all_group['total_fee']=(all_group['rub_monthly_fee']+\n",
    "    (all_group['minutes']*all_group['rub_per_minute'])+\n",
    "    (all_group['gb']*all_group['rub_per_gb'])+\n",
    "    (all_group['ex_message']*all_group['rub_per_message']))"
   ]
  },
  {
   "cell_type": "code",
   "execution_count": 38,
   "metadata": {},
   "outputs": [
    {
     "data": {
      "text/html": [
       "<div>\n",
       "<style scoped>\n",
       "    .dataframe tbody tr th:only-of-type {\n",
       "        vertical-align: middle;\n",
       "    }\n",
       "\n",
       "    .dataframe tbody tr th {\n",
       "        vertical-align: top;\n",
       "    }\n",
       "\n",
       "    .dataframe thead th {\n",
       "        text-align: right;\n",
       "    }\n",
       "</style>\n",
       "<table border=\"1\" class=\"dataframe\">\n",
       "  <thead>\n",
       "    <tr style=\"text-align: right;\">\n",
       "      <th></th>\n",
       "      <th>user_id</th>\n",
       "      <th>month</th>\n",
       "      <th>calls</th>\n",
       "      <th>duration</th>\n",
       "      <th>message</th>\n",
       "      <th>mb_used</th>\n",
       "      <th>age</th>\n",
       "      <th>churn_date</th>\n",
       "      <th>city</th>\n",
       "      <th>first_name</th>\n",
       "      <th>last_name</th>\n",
       "      <th>reg_date</th>\n",
       "      <th>tariff</th>\n",
       "      <th>messages_included</th>\n",
       "      <th>mb_per_month_included</th>\n",
       "      <th>minutes_included</th>\n",
       "      <th>rub_monthly_fee</th>\n",
       "      <th>rub_per_gb</th>\n",
       "      <th>rub_per_message</th>\n",
       "      <th>rub_per_minute</th>\n",
       "      <th>minutes</th>\n",
       "      <th>gb</th>\n",
       "      <th>ex_message</th>\n",
       "      <th>total_fee</th>\n",
       "    </tr>\n",
       "  </thead>\n",
       "  <tbody>\n",
       "    <tr>\n",
       "      <th>0</th>\n",
       "      <td>1000</td>\n",
       "      <td>5</td>\n",
       "      <td>22.0</td>\n",
       "      <td>159.0</td>\n",
       "      <td>22.0</td>\n",
       "      <td>2254.0</td>\n",
       "      <td>52</td>\n",
       "      <td>NaN</td>\n",
       "      <td>Краснодар</td>\n",
       "      <td>Рафаил</td>\n",
       "      <td>Верещагин</td>\n",
       "      <td>2018-05-25</td>\n",
       "      <td>ultra</td>\n",
       "      <td>1000</td>\n",
       "      <td>30720</td>\n",
       "      <td>3000</td>\n",
       "      <td>1950</td>\n",
       "      <td>150</td>\n",
       "      <td>1</td>\n",
       "      <td>1</td>\n",
       "      <td>0.0</td>\n",
       "      <td>0</td>\n",
       "      <td>0.0</td>\n",
       "      <td>1950.0</td>\n",
       "    </tr>\n",
       "    <tr>\n",
       "      <th>1</th>\n",
       "      <td>1000</td>\n",
       "      <td>6</td>\n",
       "      <td>43.0</td>\n",
       "      <td>172.0</td>\n",
       "      <td>60.0</td>\n",
       "      <td>23234.0</td>\n",
       "      <td>52</td>\n",
       "      <td>NaN</td>\n",
       "      <td>Краснодар</td>\n",
       "      <td>Рафаил</td>\n",
       "      <td>Верещагин</td>\n",
       "      <td>2018-05-25</td>\n",
       "      <td>ultra</td>\n",
       "      <td>1000</td>\n",
       "      <td>30720</td>\n",
       "      <td>3000</td>\n",
       "      <td>1950</td>\n",
       "      <td>150</td>\n",
       "      <td>1</td>\n",
       "      <td>1</td>\n",
       "      <td>0.0</td>\n",
       "      <td>0</td>\n",
       "      <td>0.0</td>\n",
       "      <td>1950.0</td>\n",
       "    </tr>\n",
       "    <tr>\n",
       "      <th>2</th>\n",
       "      <td>1000</td>\n",
       "      <td>7</td>\n",
       "      <td>47.0</td>\n",
       "      <td>340.0</td>\n",
       "      <td>75.0</td>\n",
       "      <td>14004.0</td>\n",
       "      <td>52</td>\n",
       "      <td>NaN</td>\n",
       "      <td>Краснодар</td>\n",
       "      <td>Рафаил</td>\n",
       "      <td>Верещагин</td>\n",
       "      <td>2018-05-25</td>\n",
       "      <td>ultra</td>\n",
       "      <td>1000</td>\n",
       "      <td>30720</td>\n",
       "      <td>3000</td>\n",
       "      <td>1950</td>\n",
       "      <td>150</td>\n",
       "      <td>1</td>\n",
       "      <td>1</td>\n",
       "      <td>0.0</td>\n",
       "      <td>0</td>\n",
       "      <td>0.0</td>\n",
       "      <td>1950.0</td>\n",
       "    </tr>\n",
       "    <tr>\n",
       "      <th>3</th>\n",
       "      <td>1000</td>\n",
       "      <td>8</td>\n",
       "      <td>52.0</td>\n",
       "      <td>408.0</td>\n",
       "      <td>81.0</td>\n",
       "      <td>14056.0</td>\n",
       "      <td>52</td>\n",
       "      <td>NaN</td>\n",
       "      <td>Краснодар</td>\n",
       "      <td>Рафаил</td>\n",
       "      <td>Верещагин</td>\n",
       "      <td>2018-05-25</td>\n",
       "      <td>ultra</td>\n",
       "      <td>1000</td>\n",
       "      <td>30720</td>\n",
       "      <td>3000</td>\n",
       "      <td>1950</td>\n",
       "      <td>150</td>\n",
       "      <td>1</td>\n",
       "      <td>1</td>\n",
       "      <td>0.0</td>\n",
       "      <td>0</td>\n",
       "      <td>0.0</td>\n",
       "      <td>1950.0</td>\n",
       "    </tr>\n",
       "    <tr>\n",
       "      <th>4</th>\n",
       "      <td>1000</td>\n",
       "      <td>9</td>\n",
       "      <td>58.0</td>\n",
       "      <td>466.0</td>\n",
       "      <td>57.0</td>\n",
       "      <td>14569.0</td>\n",
       "      <td>52</td>\n",
       "      <td>NaN</td>\n",
       "      <td>Краснодар</td>\n",
       "      <td>Рафаил</td>\n",
       "      <td>Верещагин</td>\n",
       "      <td>2018-05-25</td>\n",
       "      <td>ultra</td>\n",
       "      <td>1000</td>\n",
       "      <td>30720</td>\n",
       "      <td>3000</td>\n",
       "      <td>1950</td>\n",
       "      <td>150</td>\n",
       "      <td>1</td>\n",
       "      <td>1</td>\n",
       "      <td>0.0</td>\n",
       "      <td>0</td>\n",
       "      <td>0.0</td>\n",
       "      <td>1950.0</td>\n",
       "    </tr>\n",
       "    <tr>\n",
       "      <th>...</th>\n",
       "      <td>...</td>\n",
       "      <td>...</td>\n",
       "      <td>...</td>\n",
       "      <td>...</td>\n",
       "      <td>...</td>\n",
       "      <td>...</td>\n",
       "      <td>...</td>\n",
       "      <td>...</td>\n",
       "      <td>...</td>\n",
       "      <td>...</td>\n",
       "      <td>...</td>\n",
       "      <td>...</td>\n",
       "      <td>...</td>\n",
       "      <td>...</td>\n",
       "      <td>...</td>\n",
       "      <td>...</td>\n",
       "      <td>...</td>\n",
       "      <td>...</td>\n",
       "      <td>...</td>\n",
       "      <td>...</td>\n",
       "      <td>...</td>\n",
       "      <td>...</td>\n",
       "      <td>...</td>\n",
       "      <td>...</td>\n",
       "    </tr>\n",
       "    <tr>\n",
       "      <th>3209</th>\n",
       "      <td>1489</td>\n",
       "      <td>8</td>\n",
       "      <td>NaN</td>\n",
       "      <td>NaN</td>\n",
       "      <td>NaN</td>\n",
       "      <td>11051.0</td>\n",
       "      <td>35</td>\n",
       "      <td>NaN</td>\n",
       "      <td>Санкт-Петербург</td>\n",
       "      <td>Павел</td>\n",
       "      <td>Гончаров</td>\n",
       "      <td>2018-08-15</td>\n",
       "      <td>smart</td>\n",
       "      <td>50</td>\n",
       "      <td>15360</td>\n",
       "      <td>500</td>\n",
       "      <td>550</td>\n",
       "      <td>200</td>\n",
       "      <td>3</td>\n",
       "      <td>3</td>\n",
       "      <td>0.0</td>\n",
       "      <td>0</td>\n",
       "      <td>0.0</td>\n",
       "      <td>550.0</td>\n",
       "    </tr>\n",
       "    <tr>\n",
       "      <th>3210</th>\n",
       "      <td>1489</td>\n",
       "      <td>9</td>\n",
       "      <td>NaN</td>\n",
       "      <td>NaN</td>\n",
       "      <td>NaN</td>\n",
       "      <td>17207.0</td>\n",
       "      <td>35</td>\n",
       "      <td>NaN</td>\n",
       "      <td>Санкт-Петербург</td>\n",
       "      <td>Павел</td>\n",
       "      <td>Гончаров</td>\n",
       "      <td>2018-08-15</td>\n",
       "      <td>smart</td>\n",
       "      <td>50</td>\n",
       "      <td>15360</td>\n",
       "      <td>500</td>\n",
       "      <td>550</td>\n",
       "      <td>200</td>\n",
       "      <td>3</td>\n",
       "      <td>3</td>\n",
       "      <td>0.0</td>\n",
       "      <td>2</td>\n",
       "      <td>0.0</td>\n",
       "      <td>950.0</td>\n",
       "    </tr>\n",
       "    <tr>\n",
       "      <th>3211</th>\n",
       "      <td>1489</td>\n",
       "      <td>10</td>\n",
       "      <td>NaN</td>\n",
       "      <td>NaN</td>\n",
       "      <td>NaN</td>\n",
       "      <td>19560.0</td>\n",
       "      <td>35</td>\n",
       "      <td>NaN</td>\n",
       "      <td>Санкт-Петербург</td>\n",
       "      <td>Павел</td>\n",
       "      <td>Гончаров</td>\n",
       "      <td>2018-08-15</td>\n",
       "      <td>smart</td>\n",
       "      <td>50</td>\n",
       "      <td>15360</td>\n",
       "      <td>500</td>\n",
       "      <td>550</td>\n",
       "      <td>200</td>\n",
       "      <td>3</td>\n",
       "      <td>3</td>\n",
       "      <td>0.0</td>\n",
       "      <td>5</td>\n",
       "      <td>0.0</td>\n",
       "      <td>1550.0</td>\n",
       "    </tr>\n",
       "    <tr>\n",
       "      <th>3212</th>\n",
       "      <td>1489</td>\n",
       "      <td>11</td>\n",
       "      <td>NaN</td>\n",
       "      <td>NaN</td>\n",
       "      <td>NaN</td>\n",
       "      <td>17492.0</td>\n",
       "      <td>35</td>\n",
       "      <td>NaN</td>\n",
       "      <td>Санкт-Петербург</td>\n",
       "      <td>Павел</td>\n",
       "      <td>Гончаров</td>\n",
       "      <td>2018-08-15</td>\n",
       "      <td>smart</td>\n",
       "      <td>50</td>\n",
       "      <td>15360</td>\n",
       "      <td>500</td>\n",
       "      <td>550</td>\n",
       "      <td>200</td>\n",
       "      <td>3</td>\n",
       "      <td>3</td>\n",
       "      <td>0.0</td>\n",
       "      <td>3</td>\n",
       "      <td>0.0</td>\n",
       "      <td>1150.0</td>\n",
       "    </tr>\n",
       "    <tr>\n",
       "      <th>3213</th>\n",
       "      <td>1489</td>\n",
       "      <td>12</td>\n",
       "      <td>NaN</td>\n",
       "      <td>NaN</td>\n",
       "      <td>NaN</td>\n",
       "      <td>17323.0</td>\n",
       "      <td>35</td>\n",
       "      <td>NaN</td>\n",
       "      <td>Санкт-Петербург</td>\n",
       "      <td>Павел</td>\n",
       "      <td>Гончаров</td>\n",
       "      <td>2018-08-15</td>\n",
       "      <td>smart</td>\n",
       "      <td>50</td>\n",
       "      <td>15360</td>\n",
       "      <td>500</td>\n",
       "      <td>550</td>\n",
       "      <td>200</td>\n",
       "      <td>3</td>\n",
       "      <td>3</td>\n",
       "      <td>0.0</td>\n",
       "      <td>2</td>\n",
       "      <td>0.0</td>\n",
       "      <td>950.0</td>\n",
       "    </tr>\n",
       "  </tbody>\n",
       "</table>\n",
       "<p>3214 rows × 24 columns</p>\n",
       "</div>"
      ],
      "text/plain": [
       "      user_id  month  calls  duration  message  mb_used  age churn_date  \\\n",
       "0        1000      5   22.0     159.0     22.0   2254.0   52        NaN   \n",
       "1        1000      6   43.0     172.0     60.0  23234.0   52        NaN   \n",
       "2        1000      7   47.0     340.0     75.0  14004.0   52        NaN   \n",
       "3        1000      8   52.0     408.0     81.0  14056.0   52        NaN   \n",
       "4        1000      9   58.0     466.0     57.0  14569.0   52        NaN   \n",
       "...       ...    ...    ...       ...      ...      ...  ...        ...   \n",
       "3209     1489      8    NaN       NaN      NaN  11051.0   35        NaN   \n",
       "3210     1489      9    NaN       NaN      NaN  17207.0   35        NaN   \n",
       "3211     1489     10    NaN       NaN      NaN  19560.0   35        NaN   \n",
       "3212     1489     11    NaN       NaN      NaN  17492.0   35        NaN   \n",
       "3213     1489     12    NaN       NaN      NaN  17323.0   35        NaN   \n",
       "\n",
       "                 city first_name  last_name   reg_date tariff  \\\n",
       "0           Краснодар     Рафаил  Верещагин 2018-05-25  ultra   \n",
       "1           Краснодар     Рафаил  Верещагин 2018-05-25  ultra   \n",
       "2           Краснодар     Рафаил  Верещагин 2018-05-25  ultra   \n",
       "3           Краснодар     Рафаил  Верещагин 2018-05-25  ultra   \n",
       "4           Краснодар     Рафаил  Верещагин 2018-05-25  ultra   \n",
       "...               ...        ...        ...        ...    ...   \n",
       "3209  Санкт-Петербург      Павел   Гончаров 2018-08-15  smart   \n",
       "3210  Санкт-Петербург      Павел   Гончаров 2018-08-15  smart   \n",
       "3211  Санкт-Петербург      Павел   Гончаров 2018-08-15  smart   \n",
       "3212  Санкт-Петербург      Павел   Гончаров 2018-08-15  smart   \n",
       "3213  Санкт-Петербург      Павел   Гончаров 2018-08-15  smart   \n",
       "\n",
       "      messages_included  mb_per_month_included  minutes_included  \\\n",
       "0                  1000                  30720              3000   \n",
       "1                  1000                  30720              3000   \n",
       "2                  1000                  30720              3000   \n",
       "3                  1000                  30720              3000   \n",
       "4                  1000                  30720              3000   \n",
       "...                 ...                    ...               ...   \n",
       "3209                 50                  15360               500   \n",
       "3210                 50                  15360               500   \n",
       "3211                 50                  15360               500   \n",
       "3212                 50                  15360               500   \n",
       "3213                 50                  15360               500   \n",
       "\n",
       "      rub_monthly_fee  rub_per_gb  rub_per_message  rub_per_minute  minutes  \\\n",
       "0                1950         150                1               1      0.0   \n",
       "1                1950         150                1               1      0.0   \n",
       "2                1950         150                1               1      0.0   \n",
       "3                1950         150                1               1      0.0   \n",
       "4                1950         150                1               1      0.0   \n",
       "...               ...         ...              ...             ...      ...   \n",
       "3209              550         200                3               3      0.0   \n",
       "3210              550         200                3               3      0.0   \n",
       "3211              550         200                3               3      0.0   \n",
       "3212              550         200                3               3      0.0   \n",
       "3213              550         200                3               3      0.0   \n",
       "\n",
       "      gb  ex_message  total_fee  \n",
       "0      0         0.0     1950.0  \n",
       "1      0         0.0     1950.0  \n",
       "2      0         0.0     1950.0  \n",
       "3      0         0.0     1950.0  \n",
       "4      0         0.0     1950.0  \n",
       "...   ..         ...        ...  \n",
       "3209   0         0.0      550.0  \n",
       "3210   2         0.0      950.0  \n",
       "3211   5         0.0     1550.0  \n",
       "3212   3         0.0     1150.0  \n",
       "3213   2         0.0      950.0  \n",
       "\n",
       "[3214 rows x 24 columns]"
      ]
     },
     "execution_count": 38,
     "metadata": {},
     "output_type": "execute_result"
    }
   ],
   "source": [
    "all_group"
   ]
  },
  {
   "cell_type": "code",
   "execution_count": 39,
   "metadata": {},
   "outputs": [],
   "source": [
    "all_group = all_group.drop(['first_name', 'last_name', 'messages_included', 'mb_per_month_included', 'minutes_included', 'rub_monthly_fee','rub_per_gb', 'rub_per_message', 'rub_per_minute', 'minutes', 'gb', 'ex_message'], axis=1)"
   ]
  },
  {
   "cell_type": "code",
   "execution_count": 40,
   "metadata": {},
   "outputs": [],
   "source": [
    "all_group = all_group.fillna(0)"
   ]
  },
  {
   "cell_type": "code",
   "execution_count": 41,
   "metadata": {},
   "outputs": [],
   "source": [
    "all_group['mb_used']=all_group['mb_used']/1024\n",
    "all_group['mb_used']=all_group['mb_used'].apply(ceil)\n",
    "all_group.rename(columns = {'mb_used':'gb'}, inplace = True) "
   ]
  },
  {
   "cell_type": "code",
   "execution_count": 42,
   "metadata": {},
   "outputs": [],
   "source": [
    "all_group['total_fee'] = all_group['total_fee'].astype(int)"
   ]
  },
  {
   "cell_type": "code",
   "execution_count": 43,
   "metadata": {},
   "outputs": [
    {
     "data": {
      "text/html": [
       "<div>\n",
       "<style scoped>\n",
       "    .dataframe tbody tr th:only-of-type {\n",
       "        vertical-align: middle;\n",
       "    }\n",
       "\n",
       "    .dataframe tbody tr th {\n",
       "        vertical-align: top;\n",
       "    }\n",
       "\n",
       "    .dataframe thead th {\n",
       "        text-align: right;\n",
       "    }\n",
       "</style>\n",
       "<table border=\"1\" class=\"dataframe\">\n",
       "  <thead>\n",
       "    <tr style=\"text-align: right;\">\n",
       "      <th></th>\n",
       "      <th>user_id</th>\n",
       "      <th>month</th>\n",
       "      <th>calls</th>\n",
       "      <th>duration</th>\n",
       "      <th>message</th>\n",
       "      <th>gb</th>\n",
       "      <th>age</th>\n",
       "      <th>churn_date</th>\n",
       "      <th>city</th>\n",
       "      <th>reg_date</th>\n",
       "      <th>tariff</th>\n",
       "      <th>total_fee</th>\n",
       "    </tr>\n",
       "  </thead>\n",
       "  <tbody>\n",
       "    <tr>\n",
       "      <th>0</th>\n",
       "      <td>1000</td>\n",
       "      <td>5</td>\n",
       "      <td>22.0</td>\n",
       "      <td>159.0</td>\n",
       "      <td>22.0</td>\n",
       "      <td>3</td>\n",
       "      <td>52</td>\n",
       "      <td>0</td>\n",
       "      <td>Краснодар</td>\n",
       "      <td>2018-05-25</td>\n",
       "      <td>ultra</td>\n",
       "      <td>1950</td>\n",
       "    </tr>\n",
       "    <tr>\n",
       "      <th>1</th>\n",
       "      <td>1000</td>\n",
       "      <td>6</td>\n",
       "      <td>43.0</td>\n",
       "      <td>172.0</td>\n",
       "      <td>60.0</td>\n",
       "      <td>23</td>\n",
       "      <td>52</td>\n",
       "      <td>0</td>\n",
       "      <td>Краснодар</td>\n",
       "      <td>2018-05-25</td>\n",
       "      <td>ultra</td>\n",
       "      <td>1950</td>\n",
       "    </tr>\n",
       "    <tr>\n",
       "      <th>2</th>\n",
       "      <td>1000</td>\n",
       "      <td>7</td>\n",
       "      <td>47.0</td>\n",
       "      <td>340.0</td>\n",
       "      <td>75.0</td>\n",
       "      <td>14</td>\n",
       "      <td>52</td>\n",
       "      <td>0</td>\n",
       "      <td>Краснодар</td>\n",
       "      <td>2018-05-25</td>\n",
       "      <td>ultra</td>\n",
       "      <td>1950</td>\n",
       "    </tr>\n",
       "    <tr>\n",
       "      <th>3</th>\n",
       "      <td>1000</td>\n",
       "      <td>8</td>\n",
       "      <td>52.0</td>\n",
       "      <td>408.0</td>\n",
       "      <td>81.0</td>\n",
       "      <td>14</td>\n",
       "      <td>52</td>\n",
       "      <td>0</td>\n",
       "      <td>Краснодар</td>\n",
       "      <td>2018-05-25</td>\n",
       "      <td>ultra</td>\n",
       "      <td>1950</td>\n",
       "    </tr>\n",
       "    <tr>\n",
       "      <th>4</th>\n",
       "      <td>1000</td>\n",
       "      <td>9</td>\n",
       "      <td>58.0</td>\n",
       "      <td>466.0</td>\n",
       "      <td>57.0</td>\n",
       "      <td>15</td>\n",
       "      <td>52</td>\n",
       "      <td>0</td>\n",
       "      <td>Краснодар</td>\n",
       "      <td>2018-05-25</td>\n",
       "      <td>ultra</td>\n",
       "      <td>1950</td>\n",
       "    </tr>\n",
       "  </tbody>\n",
       "</table>\n",
       "</div>"
      ],
      "text/plain": [
       "   user_id  month  calls  duration  message  gb  age churn_date       city  \\\n",
       "0     1000      5   22.0     159.0     22.0   3   52          0  Краснодар   \n",
       "1     1000      6   43.0     172.0     60.0  23   52          0  Краснодар   \n",
       "2     1000      7   47.0     340.0     75.0  14   52          0  Краснодар   \n",
       "3     1000      8   52.0     408.0     81.0  14   52          0  Краснодар   \n",
       "4     1000      9   58.0     466.0     57.0  15   52          0  Краснодар   \n",
       "\n",
       "    reg_date tariff  total_fee  \n",
       "0 2018-05-25  ultra       1950  \n",
       "1 2018-05-25  ultra       1950  \n",
       "2 2018-05-25  ultra       1950  \n",
       "3 2018-05-25  ultra       1950  \n",
       "4 2018-05-25  ultra       1950  "
      ]
     },
     "execution_count": 43,
     "metadata": {},
     "output_type": "execute_result"
    }
   ],
   "source": [
    "all_group.head()"
   ]
  },
  {
   "cell_type": "markdown",
   "metadata": {},
   "source": [
    "Удалили ненужные столбцы из таблицы, заменили NaN на 0, перевели мб в гб, и столбец с выручкой заменили на целочисленный."
   ]
  },
  {
   "cell_type": "markdown",
   "metadata": {},
   "source": [
    "## Анализ данных"
   ]
  },
  {
   "cell_type": "markdown",
   "metadata": {},
   "source": [
    "Создали сводную таблицу где указано, среднее, стандартное отклонение и дисперсия для каждого тарифа по 3 параметрам(количество минут, сообщений, объем трафика в гб)"
   ]
  },
  {
   "cell_type": "code",
   "execution_count": 44,
   "metadata": {},
   "outputs": [
    {
     "data": {
      "text/html": [
       "<div>\n",
       "<style scoped>\n",
       "    .dataframe tbody tr th:only-of-type {\n",
       "        vertical-align: middle;\n",
       "    }\n",
       "\n",
       "    .dataframe tbody tr th {\n",
       "        vertical-align: top;\n",
       "    }\n",
       "\n",
       "    .dataframe thead tr th {\n",
       "        text-align: left;\n",
       "    }\n",
       "</style>\n",
       "<table border=\"1\" class=\"dataframe\">\n",
       "  <thead>\n",
       "    <tr>\n",
       "      <th></th>\n",
       "      <th>tariff</th>\n",
       "      <th colspan=\"3\" halign=\"left\">duration</th>\n",
       "      <th colspan=\"3\" halign=\"left\">gb</th>\n",
       "      <th colspan=\"3\" halign=\"left\">message</th>\n",
       "    </tr>\n",
       "    <tr>\n",
       "      <th></th>\n",
       "      <th></th>\n",
       "      <th>mean</th>\n",
       "      <th>std</th>\n",
       "      <th>var</th>\n",
       "      <th>mean</th>\n",
       "      <th>std</th>\n",
       "      <th>var</th>\n",
       "      <th>mean</th>\n",
       "      <th>std</th>\n",
       "      <th>var</th>\n",
       "    </tr>\n",
       "  </thead>\n",
       "  <tbody>\n",
       "    <tr>\n",
       "      <th>0</th>\n",
       "      <td>smart</td>\n",
       "      <td>417.934948</td>\n",
       "      <td>190.313730</td>\n",
       "      <td>36219.315784</td>\n",
       "      <td>16.328847</td>\n",
       "      <td>5.747061</td>\n",
       "      <td>33.028705</td>\n",
       "      <td>33.306415</td>\n",
       "      <td>28.274381</td>\n",
       "      <td>799.440628</td>\n",
       "    </tr>\n",
       "    <tr>\n",
       "      <th>1</th>\n",
       "      <td>ultra</td>\n",
       "      <td>526.623350</td>\n",
       "      <td>317.606098</td>\n",
       "      <td>100873.633397</td>\n",
       "      <td>19.494416</td>\n",
       "      <td>9.853511</td>\n",
       "      <td>97.091686</td>\n",
       "      <td>47.341117</td>\n",
       "      <td>46.935795</td>\n",
       "      <td>2202.968887</td>\n",
       "    </tr>\n",
       "  </tbody>\n",
       "</table>\n",
       "</div>"
      ],
      "text/plain": [
       "  tariff    duration                                    gb            \\\n",
       "                mean         std            var       mean       std   \n",
       "0  smart  417.934948  190.313730   36219.315784  16.328847  5.747061   \n",
       "1  ultra  526.623350  317.606098  100873.633397  19.494416  9.853511   \n",
       "\n",
       "                message                          \n",
       "         var       mean        std          var  \n",
       "0  33.028705  33.306415  28.274381   799.440628  \n",
       "1  97.091686  47.341117  46.935795  2202.968887  "
      ]
     },
     "execution_count": 44,
     "metadata": {},
     "output_type": "execute_result"
    }
   ],
   "source": [
    "all_group.pivot_table(\n",
    "    index='tariff',\n",
    "    values=('duration', 'message', 'gb'),\n",
    "    aggfunc=('mean', 'std', 'var')\n",
    ").reset_index()"
   ]
  },
  {
   "cell_type": "markdown",
   "metadata": {},
   "source": [
    "Пользователям тарифа smart в среднем в месяц требуется:\n",
    "    \n",
    "    1) Количество минут - 419 минут;\n",
    "    2) Объем трафика в гб - 16 гб;\n",
    "    3) Количество сообщений - 38.\n",
    "Пользователям тарифа ultra в среднем в месяц требуется:\n",
    "\n",
    "    1) Количество минут - 545 минут;\n",
    "    2) Объем трафика в гб - 19 гб;\n",
    "    3) Количество сообщений - 61."
   ]
  },
  {
   "cell_type": "code",
   "execution_count": 45,
   "metadata": {},
   "outputs": [
    {
     "data": {
      "image/png": "[encoded data removed]",
      "text/plain": [
       "<Figure size 360x360 with 1 Axes>"
      ]
     },
     "metadata": {
      "needs_background": "light"
     },
     "output_type": "display_data"
    },
    {
     "data": {
      "image/png": "[encoded data removed]",
      "text/plain": [
       "<Figure size 360x360 with 1 Axes>"
      ]
     },
     "metadata": {
      "needs_background": "light"
     },
     "output_type": "display_data"
    },
    {
     "data": {
      "image/png": "[encoded data removed]",
      "text/plain": [
       "<Figure size 360x360 with 1 Axes>"
      ]
     },
     "metadata": {
      "needs_background": "light"
     },
     "output_type": "display_data"
    }
   ],
   "source": [
    "for column in ['duration', 'gb', 'message']:    \n",
    "    sns.catplot(x=\"tariff\", y=column, kind=\"box\", data=all_group, dodge=False)"
   ]
  },
  {
   "cell_type": "markdown",
   "metadata": {},
   "source": [
    "По данным графикам можно увидеть, что:\n",
    "   \n",
    "       1) Пользователи тарифа ultra тратят большее количество минут на разговоры, гб и сообщений;\n",
    "       2) Выбросов больше у тарифа smart."
   ]
  },
  {
   "cell_type": "code",
   "execution_count": 46,
   "metadata": {
    "scrolled": false
   },
   "outputs": [
    {
     "data": {
      "text/plain": [
       "<matplotlib.legend.Legend at 0x1bc5fc14c70>"
      ]
     },
     "execution_count": 46,
     "metadata": {},
     "output_type": "execute_result"
    },
    {
     "data": {
      "image/png": "[encoded data removed]",
      "text/plain": [
       "<Figure size 432x288 with 1 Axes>"
      ]
     },
     "metadata": {
      "needs_background": "light"
     },
     "output_type": "display_data"
    }
   ],
   "source": [
    "sns.distplot(all_group.query(\"tariff=='ultra'\")['duration'], hist=True, kde=False)\n",
    "sns.distplot(all_group.query(\"tariff=='smart'\")['duration'], hist=True, kde=False)\n",
    "plt.title(\"График длительности минут разговоров на тарифе ultra и smart\")\n",
    "plt.xlabel(\"Длительность разговоров\")\n",
    "plt.legend(['ultra', 'smart'])"
   ]
  },
  {
   "cell_type": "code",
   "execution_count": 47,
   "metadata": {},
   "outputs": [
    {
     "data": {
      "text/plain": [
       "<matplotlib.legend.Legend at 0x1bc5fc19e50>"
      ]
     },
     "execution_count": 47,
     "metadata": {},
     "output_type": "execute_result"
    },
    {
     "data": {
      "image/png": "[encoded data removed]",
      "text/plain": [
       "<Figure size 432x288 with 1 Axes>"
      ]
     },
     "metadata": {
      "needs_background": "light"
     },
     "output_type": "display_data"
    }
   ],
   "source": [
    "sns.distplot(all_group.query(\"tariff=='ultra'\")['message'], hist=True, kde=False)\n",
    "sns.distplot(all_group.query(\"tariff=='smart'\")['message'], hist=True, kde=False)\n",
    "plt.title(\"График количества сообщений на тарифе ultra и smart\")\n",
    "plt.xlabel(\"Количество сообщений\")\n",
    "plt.legend(['ultra', 'smart'])"
   ]
  },
  {
   "cell_type": "code",
   "execution_count": 48,
   "metadata": {},
   "outputs": [
    {
     "data": {
      "text/plain": [
       "<matplotlib.legend.Legend at 0x1bc61442df0>"
      ]
     },
     "execution_count": 48,
     "metadata": {},
     "output_type": "execute_result"
    },
    {
     "data": {
      "image/png": "[encoded data removed]",
      "text/plain": [
       "<Figure size 432x288 with 1 Axes>"
      ]
     },
     "metadata": {
      "needs_background": "light"
     },
     "output_type": "display_data"
    }
   ],
   "source": [
    "sns.distplot(all_group.query(\"tariff=='ultra'\")['gb'], hist=True, kde=False)\n",
    "sns.distplot(all_group.query(\"tariff=='smart'\")['gb'], hist=True, kde=False)\n",
    "plt.title(\"График объёма интернет-трафика на тарифе ultra и smart\")\n",
    "plt.xlabel(\"Объём интернет-трафика\")\n",
    "plt.legend(['ultra', 'smart'])"
   ]
  },
  {
   "cell_type": "code",
   "execution_count": 49,
   "metadata": {},
   "outputs": [
    {
     "data": {
      "text/html": [
       "<div>\n",
       "<style scoped>\n",
       "    .dataframe tbody tr th:only-of-type {\n",
       "        vertical-align: middle;\n",
       "    }\n",
       "\n",
       "    .dataframe tbody tr th {\n",
       "        vertical-align: top;\n",
       "    }\n",
       "\n",
       "    .dataframe thead tr th {\n",
       "        text-align: left;\n",
       "    }\n",
       "</style>\n",
       "<table border=\"1\" class=\"dataframe\">\n",
       "  <thead>\n",
       "    <tr>\n",
       "      <th></th>\n",
       "      <th>tariff</th>\n",
       "      <th colspan=\"3\" halign=\"left\">duration</th>\n",
       "      <th colspan=\"3\" halign=\"left\">gb</th>\n",
       "      <th colspan=\"3\" halign=\"left\">message</th>\n",
       "    </tr>\n",
       "    <tr>\n",
       "      <th></th>\n",
       "      <th></th>\n",
       "      <th>mean</th>\n",
       "      <th>std</th>\n",
       "      <th>var</th>\n",
       "      <th>mean</th>\n",
       "      <th>std</th>\n",
       "      <th>var</th>\n",
       "      <th>mean</th>\n",
       "      <th>std</th>\n",
       "      <th>var</th>\n",
       "    </tr>\n",
       "  </thead>\n",
       "  <tbody>\n",
       "    <tr>\n",
       "      <th>0</th>\n",
       "      <td>smart</td>\n",
       "      <td>417.934948</td>\n",
       "      <td>190.313730</td>\n",
       "      <td>36219.315784</td>\n",
       "      <td>16.328847</td>\n",
       "      <td>5.747061</td>\n",
       "      <td>33.028705</td>\n",
       "      <td>33.306415</td>\n",
       "      <td>28.274381</td>\n",
       "      <td>799.440628</td>\n",
       "    </tr>\n",
       "    <tr>\n",
       "      <th>1</th>\n",
       "      <td>ultra</td>\n",
       "      <td>526.623350</td>\n",
       "      <td>317.606098</td>\n",
       "      <td>100873.633397</td>\n",
       "      <td>19.494416</td>\n",
       "      <td>9.853511</td>\n",
       "      <td>97.091686</td>\n",
       "      <td>47.341117</td>\n",
       "      <td>46.935795</td>\n",
       "      <td>2202.968887</td>\n",
       "    </tr>\n",
       "  </tbody>\n",
       "</table>\n",
       "</div>"
      ],
      "text/plain": [
       "  tariff    duration                                    gb            \\\n",
       "                mean         std            var       mean       std   \n",
       "0  smart  417.934948  190.313730   36219.315784  16.328847  5.747061   \n",
       "1  ultra  526.623350  317.606098  100873.633397  19.494416  9.853511   \n",
       "\n",
       "                message                          \n",
       "         var       mean        std          var  \n",
       "0  33.028705  33.306415  28.274381   799.440628  \n",
       "1  97.091686  47.341117  46.935795  2202.968887  "
      ]
     },
     "execution_count": 49,
     "metadata": {},
     "output_type": "execute_result"
    }
   ],
   "source": [
    "all_group.pivot_table(\n",
    "    index='tariff',\n",
    "    values=('duration', 'message', 'gb'),\n",
    "    aggfunc=('mean', 'std', 'var')\n",
    ").reset_index()"
   ]
  },
  {
   "cell_type": "markdown",
   "metadata": {},
   "source": [
    "Судя по графикам и по сводной таблице, можно сделать вывод, что дисперсия больше у тарифа ultra(97 258), чем у тарифа smart(35 326), что говорит о том, что разброс данных по этому тарифу выше.\n",
    "\n",
    "Выброс же больше у тарифа smart, так как людям не хватает в полном объеме тарифного пакета, и им приходится докупать минуты, сообщения и гб.\n",
    "\n",
    "    Среднее значение по тарифам и 3 параметрам отличается:\n",
    "    1) Длительность звонков в тарифе smart равно 419 минутам, а в тарифе ultra 545 минут;\n",
    "    2) Объем трафика в гб в тарифе smart равен 16 гб, а в тарифе ultra 20 гб;\n",
    "    3) Количество сообщений в тарифе smart равно 38 сообщениям, а в тарифе ultra 61 сообщение.\n",
    "     \n",
    "Так как в тарифе ultra в тарифный пакет включено больше минут, сообщений и гб, то скорее всего пользователи стараются использовать их по максимуму, в отличии от пользователей тарифа smart."
   ]
  },
  {
   "cell_type": "markdown",
   "metadata": {},
   "source": [
    "## Проверка гипотезы"
   ]
  },
  {
   "cell_type": "markdown",
   "metadata": {},
   "source": [
    "### 1 гипотеза"
   ]
  },
  {
   "cell_type": "markdown",
   "metadata": {},
   "source": [
    "Проверка гипотезы, что:\n",
    "\n",
    "    1) H0 = Средняя выручка пользователей тарифов «Ультра» и «Смарт» равны;\n",
    "    2) H1 = Средняя выручка пользователей тарифов «Ультра» отличается от тарифа «Смарт»."
   ]
  },
  {
   "cell_type": "code",
   "execution_count": 50,
   "metadata": {},
   "outputs": [],
   "source": [
    "total_fee_ultra=all_group.query(\"tariff=='ultra'\")['total_fee']\n",
    "total_fee_smart=all_group.query(\"tariff=='smart'\")['total_fee']"
   ]
  },
  {
   "cell_type": "code",
   "execution_count": 51,
   "metadata": {},
   "outputs": [
    {
     "name": "stdout",
     "output_type": "stream",
     "text": [
      "p-значение: 1.4229814360764067e-160\n",
      "Отвергаем нулевую гипотезу\n"
     ]
    }
   ],
   "source": [
    "alpha=0.05\n",
    "results = st.ttest_ind(total_fee_ultra, total_fee_smart)\n",
    "print('p-значение:', results.pvalue)\n",
    "if results.pvalue < alpha:\n",
    "    print(\"Отвергаем нулевую гипотезу\")\n",
    "else:\n",
    "    print(\"Не получилось отвергнуть нулевую гипотезу\")"
   ]
  },
  {
   "cell_type": "markdown",
   "metadata": {},
   "source": [
    "Сводная таблица по средней выручке для пользователей тарифов smart и ultra."
   ]
  },
  {
   "cell_type": "code",
   "execution_count": 52,
   "metadata": {},
   "outputs": [
    {
     "data": {
      "text/html": [
       "<div>\n",
       "<style scoped>\n",
       "    .dataframe tbody tr th:only-of-type {\n",
       "        vertical-align: middle;\n",
       "    }\n",
       "\n",
       "    .dataframe tbody tr th {\n",
       "        vertical-align: top;\n",
       "    }\n",
       "\n",
       "    .dataframe thead th {\n",
       "        text-align: right;\n",
       "    }\n",
       "</style>\n",
       "<table border=\"1\" class=\"dataframe\">\n",
       "  <thead>\n",
       "    <tr style=\"text-align: right;\">\n",
       "      <th></th>\n",
       "      <th>tariff</th>\n",
       "      <th>total_fee</th>\n",
       "    </tr>\n",
       "  </thead>\n",
       "  <tbody>\n",
       "    <tr>\n",
       "      <th>0</th>\n",
       "      <td>smart</td>\n",
       "      <td>1289.973531</td>\n",
       "    </tr>\n",
       "    <tr>\n",
       "      <th>1</th>\n",
       "      <td>ultra</td>\n",
       "      <td>2070.152284</td>\n",
       "    </tr>\n",
       "  </tbody>\n",
       "</table>\n",
       "</div>"
      ],
      "text/plain": [
       "  tariff    total_fee\n",
       "0  smart  1289.973531\n",
       "1  ultra  2070.152284"
      ]
     },
     "execution_count": 52,
     "metadata": {},
     "output_type": "execute_result"
    }
   ],
   "source": [
    "all_group.pivot_table(\n",
    "    index='tariff',\n",
    "    values='total_fee',\n",
    "    aggfunc=('mean')\n",
    ").reset_index()"
   ]
  },
  {
   "cell_type": "code",
   "execution_count": 53,
   "metadata": {},
   "outputs": [
    {
     "data": {
      "text/plain": [
       "<matplotlib.legend.Legend at 0x1bc6153fd60>"
      ]
     },
     "execution_count": 53,
     "metadata": {},
     "output_type": "execute_result"
    },
    {
     "data": {
      "image/png": "[encoded data removed]",
      "text/plain": [
       "<Figure size 432x288 with 1 Axes>"
      ]
     },
     "metadata": {
      "needs_background": "light"
     },
     "output_type": "display_data"
    }
   ],
   "source": [
    "sns.distplot(all_group.query(\"tariff=='ultra'\")['total_fee'], hist=True, kde=False)\n",
    "sns.distplot(all_group.query(\"tariff=='smart'\")['total_fee'], hist=True, kde=False)\n",
    "plt.title(\"График выручки на тарифе ultra и smart\")\n",
    "plt.xlabel(\"Выручка\")\n",
    "plt.legend(['ultra', 'smart'])"
   ]
  },
  {
   "cell_type": "markdown",
   "metadata": {},
   "source": [
    "Проверяя гипотезу 1, мы опровергаем, что средняя выручка пользователей тарифов «Ультра» и «Смарт» равны.\n",
    "\n",
    "Средняя выручка пользователей тарифов «Ультра» и «Смарт» различаются в 1.6 раз, что доказывает, что выручка у тарифов сильно различается. В основном пользователи тарифа smart платят по тарифу 550 рублей, но в данном тарифе пользователи чаще выходят за лимит, чем пользователи тарифа smart."
   ]
  },
  {
   "cell_type": "markdown",
   "metadata": {},
   "source": [
    "### 2 гипотеза"
   ]
  },
  {
   "cell_type": "markdown",
   "metadata": {},
   "source": [
    "Проверка гипотезы, что:\n",
    "\n",
    "    1) H0 = Cредняя выручка пользователей из Москвы равна выручке пользователей из других регионов;\n",
    "    2) H1 = Cредняя выручка пользователей из Москвы отличается от выручки пользователей из других регионов."
   ]
  },
  {
   "cell_type": "code",
   "execution_count": 54,
   "metadata": {},
   "outputs": [],
   "source": [
    "moscow=all_group.query(\"city=='Москва'\")['total_fee']\n",
    "not_moscow=all_group.query(\"city!='Москва'\")['total_fee']"
   ]
  },
  {
   "cell_type": "code",
   "execution_count": 55,
   "metadata": {},
   "outputs": [
    {
     "name": "stdout",
     "output_type": "stream",
     "text": [
      "p-значение: 0.5440152911670224\n",
      "Не получилось отвергнуть нулевую гипотезу\n"
     ]
    }
   ],
   "source": [
    "alpha=0.05\n",
    "results = st.ttest_ind(moscow, not_moscow)\n",
    "print('p-значение:', results.pvalue)\n",
    "if results.pvalue < alpha:\n",
    "    print(\"Отвергаем нулевую гипотезу\")\n",
    "else:\n",
    "    print(\"Не получилось отвергнуть нулевую гипотезу\")"
   ]
  },
  {
   "cell_type": "code",
   "execution_count": 56,
   "metadata": {},
   "outputs": [
    {
     "name": "stdout",
     "output_type": "stream",
     "text": [
      "Средняя выручка в Москве 1546.7135842880523\n",
      "Средняя выручка в регионах 1524.9362274298885\n"
     ]
    }
   ],
   "source": [
    "print('Средняя выручка в Москве', moscow.mean())\n",
    "print('Средняя выручка в регионах', not_moscow.mean())"
   ]
  },
  {
   "cell_type": "code",
   "execution_count": 57,
   "metadata": {},
   "outputs": [
    {
     "data": {
      "text/plain": [
       "<matplotlib.legend.Legend at 0x1bc6142e550>"
      ]
     },
     "execution_count": 57,
     "metadata": {},
     "output_type": "execute_result"
    },
    {
     "data": {
      "image/png": "[encoded data removed]",
      "text/plain": [
       "<Figure size 432x288 with 1 Axes>"
      ]
     },
     "metadata": {
      "needs_background": "light"
     },
     "output_type": "display_data"
    }
   ],
   "source": [
    "sns.distplot(all_group.query(\"city=='Москва'\")['total_fee'], hist=True, kde=False)\n",
    "sns.distplot(all_group.query(\"tariff!='Москва'\")['total_fee'], hist=True, kde=False)\n",
    "plt.title(\"График выручки в Москве и регионах\")\n",
    "plt.xlabel(\"Выручка\")\n",
    "plt.legend(['Москва', 'Регионы'])"
   ]
  },
  {
   "cell_type": "markdown",
   "metadata": {},
   "source": [
    "Мы не смогли отвергнуть гипотезу о том, что средняя выручка пользователей из Москвы равна выручке пользователей из других регионов.\n",
    "\n",
    "Это наглядно видно по подсчету средней выручки для Москвы она составляет 1546 рублей, а для регионов 1524 рубля."
   ]
  },
  {
   "cell_type": "markdown",
   "metadata": {},
   "source": [
    "## Общий вывод"
   ]
  },
  {
   "cell_type": "markdown",
   "metadata": {},
   "source": [
    "Исходя из запроса компании какой тариф приносит больше денег. По проведенному анализу данных можно сделать вывод, что тариф ultra приносит компании больше денег, а именно средняя выручка для него составляет 2048 рублей, а для тарифа smart 1290 рублей. \n",
    "\n",
    "Пользователи тарифа smart чаще оплачивают услуги сверх тарифного пакета, так как им не хватает пакета, который есть у них в тарифе. Эта переплата в среднем составляет 740 рублей, что равно 234.5%.\n",
    "\n",
    "Некоторые пользователи тарифа ultra также оплачивают услуги сверх тарифного пакета, но намного реже. Переплата составляет 98 рублей, что равно 4.78% Это хорошо видно на графике \"График выручки на тарифе ultra и smart\"\n",
    "\n",
    "Выручка от пользователей в Москве и регионах почти не отличается друг от друга. А именно для Москвы она в среднем составляет 1554 рубля, для регионов 1493 рубля."
   ]
  }
 ],
 "metadata": {
  "ExecuteTimeLog": [
   {
    "duration": 729,
    "start_time": "2021-08-11T13:10:28.717Z"
   },
   {
    "duration": 620,
    "start_time": "2021-08-11T13:17:00.231Z"
   },
   {
    "duration": 13,
    "start_time": "2021-08-11T13:17:14.773Z"
   },
   {
    "duration": 473,
    "start_time": "2021-08-11T13:17:21.172Z"
   },
   {
    "duration": 11,
    "start_time": "2021-08-11T13:17:22.169Z"
   },
   {
    "duration": 12,
    "start_time": "2021-08-11T13:17:28.461Z"
   },
   {
    "duration": 27,
    "start_time": "2021-08-11T13:17:34.611Z"
   },
   {
    "duration": 35,
    "start_time": "2021-08-11T13:17:45.865Z"
   },
   {
    "duration": 26,
    "start_time": "2021-08-11T13:19:20.733Z"
   },
   {
    "duration": 49,
    "start_time": "2021-08-11T13:19:28.391Z"
   },
   {
    "duration": 33,
    "start_time": "2021-08-11T13:19:39.000Z"
   },
   {
    "duration": 22,
    "start_time": "2021-08-11T13:20:03.848Z"
   },
   {
    "duration": 499,
    "start_time": "2021-08-11T13:20:09.623Z"
   },
   {
    "duration": 34,
    "start_time": "2021-08-11T13:20:10.924Z"
   },
   {
    "duration": 27,
    "start_time": "2021-08-11T13:20:11.381Z"
   },
   {
    "duration": 32,
    "start_time": "2021-08-11T13:20:13.143Z"
   },
   {
    "duration": 20,
    "start_time": "2021-08-11T13:24:41.365Z"
   },
   {
    "duration": 508,
    "start_time": "2021-08-11T13:24:51.153Z"
   },
   {
    "duration": 36,
    "start_time": "2021-08-11T13:24:52.382Z"
   },
   {
    "duration": 29,
    "start_time": "2021-08-11T13:24:52.550Z"
   },
   {
    "duration": 31,
    "start_time": "2021-08-11T13:24:52.927Z"
   },
   {
    "duration": 28,
    "start_time": "2021-08-11T13:24:53.382Z"
   },
   {
    "duration": 18,
    "start_time": "2021-08-11T13:25:56.241Z"
   },
   {
    "duration": 29,
    "start_time": "2021-08-11T13:26:38.372Z"
   },
   {
    "duration": 20,
    "start_time": "2021-08-11T13:26:57.726Z"
   },
   {
    "duration": 31,
    "start_time": "2021-08-11T13:35:05.453Z"
   },
   {
    "duration": 26,
    "start_time": "2021-08-11T13:35:20.182Z"
   },
   {
    "duration": 520,
    "start_time": "2021-08-11T13:35:29.088Z"
   },
   {
    "duration": 19,
    "start_time": "2021-08-11T13:35:29.611Z"
   },
   {
    "duration": 36,
    "start_time": "2021-08-11T13:35:29.633Z"
   },
   {
    "duration": 25,
    "start_time": "2021-08-11T13:35:29.672Z"
   },
   {
    "duration": 26,
    "start_time": "2021-08-11T13:35:29.699Z"
   },
   {
    "duration": 59,
    "start_time": "2021-08-11T13:35:29.727Z"
   },
   {
    "duration": 18,
    "start_time": "2021-08-11T13:35:29.789Z"
   },
   {
    "duration": 52,
    "start_time": "2021-08-11T13:35:29.811Z"
   },
   {
    "duration": 58,
    "start_time": "2021-08-11T13:44:04.758Z"
   },
   {
    "duration": 33,
    "start_time": "2021-08-11T13:44:15.195Z"
   },
   {
    "duration": 11,
    "start_time": "2021-08-11T13:45:12.353Z"
   },
   {
    "duration": 11,
    "start_time": "2021-08-11T13:47:42.460Z"
   },
   {
    "duration": 12,
    "start_time": "2021-08-11T13:48:02.596Z"
   },
   {
    "duration": 12,
    "start_time": "2021-08-11T13:48:30.612Z"
   },
   {
    "duration": 7085,
    "start_time": "2021-08-11T13:58:51.160Z"
   },
   {
    "duration": 11,
    "start_time": "2021-08-11T13:59:02.536Z"
   },
   {
    "duration": 9,
    "start_time": "2021-08-11T13:59:37.106Z"
   },
   {
    "duration": 9,
    "start_time": "2021-08-11T14:00:08.897Z"
   },
   {
    "duration": 25,
    "start_time": "2021-08-11T14:00:32.619Z"
   },
   {
    "duration": 7,
    "start_time": "2021-08-11T14:04:35.579Z"
   },
   {
    "duration": 8,
    "start_time": "2021-08-11T14:04:58.925Z"
   },
   {
    "duration": 6279,
    "start_time": "2021-08-11T14:27:25.716Z"
   },
   {
    "duration": 8232,
    "start_time": "2021-08-11T14:27:39.374Z"
   },
   {
    "duration": 42,
    "start_time": "2021-08-11T14:28:03.337Z"
   },
   {
    "duration": 5,
    "start_time": "2021-08-11T14:31:09.533Z"
   },
   {
    "duration": 12,
    "start_time": "2021-08-11T14:31:18.909Z"
   },
   {
    "duration": 8,
    "start_time": "2021-08-11T14:34:02.603Z"
   },
   {
    "duration": 8,
    "start_time": "2021-08-11T14:35:18.959Z"
   },
   {
    "duration": 12,
    "start_time": "2021-08-11T14:35:27.939Z"
   },
   {
    "duration": 10,
    "start_time": "2021-08-11T14:35:40.680Z"
   },
   {
    "duration": 736,
    "start_time": "2021-08-11T14:56:55.855Z"
   },
   {
    "duration": 27,
    "start_time": "2021-08-11T14:56:56.595Z"
   },
   {
    "duration": 11,
    "start_time": "2021-08-11T14:56:56.624Z"
   },
   {
    "duration": 50,
    "start_time": "2021-08-11T14:56:56.638Z"
   },
   {
    "duration": 11,
    "start_time": "2021-08-11T14:56:56.690Z"
   },
   {
    "duration": 58,
    "start_time": "2021-08-11T14:56:56.704Z"
   },
   {
    "duration": 35,
    "start_time": "2021-08-11T14:56:56.765Z"
   },
   {
    "duration": 9,
    "start_time": "2021-08-11T14:56:56.804Z"
   },
   {
    "duration": 71,
    "start_time": "2021-08-11T14:56:56.816Z"
   },
   {
    "duration": 10,
    "start_time": "2021-08-11T14:56:56.890Z"
   },
   {
    "duration": 58,
    "start_time": "2021-08-11T14:56:56.904Z"
   },
   {
    "duration": 158,
    "start_time": "2021-08-11T14:56:56.965Z"
   },
   {
    "duration": 6,
    "start_time": "2021-08-11T14:56:57.128Z"
   },
   {
    "duration": 31,
    "start_time": "2021-08-11T14:56:57.137Z"
   },
   {
    "duration": 40,
    "start_time": "2021-08-11T15:14:58.104Z"
   },
   {
    "duration": 18,
    "start_time": "2021-08-11T15:15:05.016Z"
   },
   {
    "duration": 10871,
    "start_time": "2021-08-11T15:16:08.865Z"
   },
   {
    "duration": 68,
    "start_time": "2021-08-11T15:16:27.705Z"
   },
   {
    "duration": 13,
    "start_time": "2021-08-11T15:35:53.841Z"
   },
   {
    "duration": 11,
    "start_time": "2021-08-11T15:35:58.692Z"
   },
   {
    "duration": 13,
    "start_time": "2021-08-11T15:36:02.109Z"
   },
   {
    "duration": 15,
    "start_time": "2021-08-11T15:38:19.197Z"
   },
   {
    "duration": 12,
    "start_time": "2021-08-11T15:42:39.024Z"
   },
   {
    "duration": 13,
    "start_time": "2021-08-11T15:42:46.437Z"
   },
   {
    "duration": 4,
    "start_time": "2021-08-11T15:43:22.571Z"
   },
   {
    "duration": 21,
    "start_time": "2021-08-11T15:43:28.104Z"
   },
   {
    "duration": 288,
    "start_time": "2021-08-11T15:45:10.139Z"
   },
   {
    "duration": 9,
    "start_time": "2021-08-11T15:45:27.555Z"
   },
   {
    "duration": 6,
    "start_time": "2021-08-11T15:45:37.751Z"
   },
   {
    "duration": 7,
    "start_time": "2021-08-11T15:49:27.262Z"
   },
   {
    "duration": 10,
    "start_time": "2021-08-11T15:49:42.707Z"
   },
   {
    "duration": 7,
    "start_time": "2021-08-11T15:49:44.524Z"
   },
   {
    "duration": 21,
    "start_time": "2021-08-11T15:50:33.524Z"
   },
   {
    "duration": 8,
    "start_time": "2021-08-11T15:50:44.272Z"
   },
   {
    "duration": 7,
    "start_time": "2021-08-11T15:50:44.934Z"
   },
   {
    "duration": 23,
    "start_time": "2021-08-11T16:07:48.684Z"
   },
   {
    "duration": 10,
    "start_time": "2021-08-11T16:07:51.017Z"
   },
   {
    "duration": 40,
    "start_time": "2021-08-11T16:08:25.029Z"
   },
   {
    "duration": 10,
    "start_time": "2021-08-11T16:08:26.232Z"
   },
   {
    "duration": 29,
    "start_time": "2021-08-11T16:08:40.089Z"
   },
   {
    "duration": 10,
    "start_time": "2021-08-11T16:08:40.683Z"
   },
   {
    "duration": 23,
    "start_time": "2021-08-11T16:08:56.614Z"
   },
   {
    "duration": 285,
    "start_time": "2021-08-11T16:10:33.982Z"
   },
   {
    "duration": 17,
    "start_time": "2021-08-11T16:11:24.977Z"
   },
   {
    "duration": 7,
    "start_time": "2021-08-11T16:11:30.193Z"
   },
   {
    "duration": 16,
    "start_time": "2021-08-11T16:11:33.709Z"
   },
   {
    "duration": 6,
    "start_time": "2021-08-11T16:11:34.101Z"
   },
   {
    "duration": 12,
    "start_time": "2021-08-11T16:11:45.095Z"
   },
   {
    "duration": 7,
    "start_time": "2021-08-11T16:11:45.612Z"
   },
   {
    "duration": 19,
    "start_time": "2021-08-11T16:12:32.479Z"
   },
   {
    "duration": 6,
    "start_time": "2021-08-11T16:12:34.178Z"
   },
   {
    "duration": 18,
    "start_time": "2021-08-11T16:12:44.291Z"
   },
   {
    "duration": 8,
    "start_time": "2021-08-11T16:12:45.909Z"
   },
   {
    "duration": 17,
    "start_time": "2021-08-11T16:13:01.294Z"
   },
   {
    "duration": 20,
    "start_time": "2021-08-11T16:13:13.203Z"
   },
   {
    "duration": 9,
    "start_time": "2021-08-11T16:13:13.823Z"
   },
   {
    "duration": 9,
    "start_time": "2021-08-11T16:13:14.207Z"
   },
   {
    "duration": 8,
    "start_time": "2021-08-11T16:13:14.614Z"
   },
   {
    "duration": 33,
    "start_time": "2021-08-11T16:13:48.469Z"
   },
   {
    "duration": 19,
    "start_time": "2021-08-11T16:13:49.232Z"
   },
   {
    "duration": 30,
    "start_time": "2021-08-11T16:15:13.528Z"
   },
   {
    "duration": 16,
    "start_time": "2021-08-11T16:15:15.471Z"
   },
   {
    "duration": 35,
    "start_time": "2021-08-11T16:15:23.028Z"
   },
   {
    "duration": 288,
    "start_time": "2021-08-11T16:15:35.713Z"
   },
   {
    "duration": 35,
    "start_time": "2021-08-11T16:15:50.186Z"
   },
   {
    "duration": 25,
    "start_time": "2021-08-11T16:15:53.518Z"
   },
   {
    "duration": 12,
    "start_time": "2021-08-11T16:15:53.779Z"
   },
   {
    "duration": 3,
    "start_time": "2021-08-11T16:37:45.681Z"
   },
   {
    "duration": 36,
    "start_time": "2021-08-11T16:37:46.953Z"
   },
   {
    "duration": 35,
    "start_time": "2021-08-11T16:38:33.427Z"
   },
   {
    "duration": 42,
    "start_time": "2021-08-11T16:39:22.066Z"
   },
   {
    "duration": 11,
    "start_time": "2021-08-11T16:40:11.687Z"
   },
   {
    "duration": 11,
    "start_time": "2021-08-11T16:41:00.574Z"
   },
   {
    "duration": 82,
    "start_time": "2021-08-11T16:41:22.597Z"
   },
   {
    "duration": 74,
    "start_time": "2021-08-11T16:41:34.958Z"
   },
   {
    "duration": 64,
    "start_time": "2021-08-11T16:41:42.457Z"
   },
   {
    "duration": 25,
    "start_time": "2021-08-11T16:41:46.071Z"
   },
   {
    "duration": 17,
    "start_time": "2021-08-11T16:41:47.770Z"
   },
   {
    "duration": 63,
    "start_time": "2021-08-11T16:43:31.384Z"
   },
   {
    "duration": 19,
    "start_time": "2021-08-11T16:43:34.755Z"
   },
   {
    "duration": 15,
    "start_time": "2021-08-11T16:43:35.607Z"
   },
   {
    "duration": 17,
    "start_time": "2021-08-11T16:43:36.154Z"
   },
   {
    "duration": 3,
    "start_time": "2021-08-11T16:51:01.903Z"
   },
   {
    "duration": 25,
    "start_time": "2021-08-11T16:51:07.730Z"
   },
   {
    "duration": 12,
    "start_time": "2021-08-11T16:51:09.898Z"
   },
   {
    "duration": 29,
    "start_time": "2021-08-11T16:53:06.802Z"
   },
   {
    "duration": 12,
    "start_time": "2021-08-11T16:53:09.795Z"
   },
   {
    "duration": 37,
    "start_time": "2021-08-11T16:53:45.956Z"
   },
   {
    "duration": 40,
    "start_time": "2021-08-11T16:53:50.340Z"
   },
   {
    "duration": 17,
    "start_time": "2021-08-11T16:53:53.093Z"
   },
   {
    "duration": 7,
    "start_time": "2021-08-11T16:53:54.142Z"
   },
   {
    "duration": 13,
    "start_time": "2021-08-11T16:53:58.101Z"
   },
   {
    "duration": 280,
    "start_time": "2021-08-12T05:32:51.452Z"
   },
   {
    "duration": 289,
    "start_time": "2021-08-12T05:33:00.298Z"
   },
   {
    "duration": 266,
    "start_time": "2021-08-12T05:33:18.700Z"
   },
   {
    "duration": 1034,
    "start_time": "2021-08-12T05:33:21.854Z"
   },
   {
    "duration": 17,
    "start_time": "2021-08-12T05:33:22.890Z"
   },
   {
    "duration": 10,
    "start_time": "2021-08-12T05:33:22.909Z"
   },
   {
    "duration": 26,
    "start_time": "2021-08-12T05:33:22.921Z"
   },
   {
    "duration": 7,
    "start_time": "2021-08-12T05:33:22.949Z"
   },
   {
    "duration": 19,
    "start_time": "2021-08-12T05:33:22.958Z"
   },
   {
    "duration": 18,
    "start_time": "2021-08-12T05:33:22.978Z"
   },
   {
    "duration": 6,
    "start_time": "2021-08-12T05:33:22.998Z"
   },
   {
    "duration": 54,
    "start_time": "2021-08-12T05:33:23.006Z"
   },
   {
    "duration": 7,
    "start_time": "2021-08-12T05:33:23.062Z"
   },
   {
    "duration": 10,
    "start_time": "2021-08-12T05:33:23.071Z"
   },
   {
    "duration": 88,
    "start_time": "2021-08-12T05:33:23.083Z"
   },
   {
    "duration": 4,
    "start_time": "2021-08-12T05:33:23.172Z"
   },
   {
    "duration": 11,
    "start_time": "2021-08-12T05:33:23.177Z"
   },
   {
    "duration": 63,
    "start_time": "2021-08-12T05:33:23.189Z"
   },
   {
    "duration": 9,
    "start_time": "2021-08-12T05:33:23.253Z"
   },
   {
    "duration": 10,
    "start_time": "2021-08-12T05:33:23.264Z"
   },
   {
    "duration": 11,
    "start_time": "2021-08-12T05:33:23.275Z"
   },
   {
    "duration": 5,
    "start_time": "2021-08-12T05:33:23.287Z"
   },
   {
    "duration": 5,
    "start_time": "2021-08-12T05:33:23.293Z"
   },
   {
    "duration": 46,
    "start_time": "2021-08-12T05:33:23.300Z"
   },
   {
    "duration": 8,
    "start_time": "2021-08-12T05:33:23.348Z"
   },
   {
    "duration": 279,
    "start_time": "2021-08-12T05:33:23.359Z"
   },
   {
    "duration": -27,
    "start_time": "2021-08-12T05:33:23.667Z"
   },
   {
    "duration": 22,
    "start_time": "2021-08-12T05:33:29.730Z"
   },
   {
    "duration": 378,
    "start_time": "2021-08-12T05:34:01.175Z"
   },
   {
    "duration": 13,
    "start_time": "2021-08-12T05:34:03.316Z"
   },
   {
    "duration": 101,
    "start_time": "2021-08-12T05:34:47.502Z"
   },
   {
    "duration": 12,
    "start_time": "2021-08-12T05:34:52.269Z"
   },
   {
    "duration": 7,
    "start_time": "2021-08-12T05:34:53.750Z"
   },
   {
    "duration": 7,
    "start_time": "2021-08-12T05:35:16.157Z"
   },
   {
    "duration": 5,
    "start_time": "2021-08-12T05:35:16.717Z"
   },
   {
    "duration": 306,
    "start_time": "2021-08-12T05:36:26.792Z"
   },
   {
    "duration": 259,
    "start_time": "2021-08-12T05:36:27.150Z"
   },
   {
    "duration": 19,
    "start_time": "2021-08-12T05:36:39.325Z"
   },
   {
    "duration": 269,
    "start_time": "2021-08-12T05:36:40.012Z"
   },
   {
    "duration": 289,
    "start_time": "2021-08-12T05:36:47.295Z"
   },
   {
    "duration": 8,
    "start_time": "2021-08-12T05:36:48.487Z"
   },
   {
    "duration": 13,
    "start_time": "2021-08-12T05:36:57.389Z"
   },
   {
    "duration": 7,
    "start_time": "2021-08-12T05:36:58.258Z"
   },
   {
    "duration": 255,
    "start_time": "2021-08-12T05:37:36.420Z"
   },
   {
    "duration": 16,
    "start_time": "2021-08-12T05:37:46.741Z"
   },
   {
    "duration": 19,
    "start_time": "2021-08-12T05:37:54.570Z"
   },
   {
    "duration": 17,
    "start_time": "2021-08-12T05:37:55.383Z"
   },
   {
    "duration": 16,
    "start_time": "2021-08-12T05:37:56.044Z"
   },
   {
    "duration": 15,
    "start_time": "2021-08-12T05:38:13.050Z"
   },
   {
    "duration": 15,
    "start_time": "2021-08-12T05:38:23.443Z"
   },
   {
    "duration": 19,
    "start_time": "2021-08-12T05:44:15.681Z"
   },
   {
    "duration": 17,
    "start_time": "2021-08-12T05:44:21.503Z"
   },
   {
    "duration": 363,
    "start_time": "2021-08-12T06:01:48.404Z"
   },
   {
    "duration": 314,
    "start_time": "2021-08-12T06:03:05.814Z"
   },
   {
    "duration": 247,
    "start_time": "2021-08-12T06:03:35.483Z"
   },
   {
    "duration": 365,
    "start_time": "2021-08-12T06:04:09.506Z"
   },
   {
    "duration": 13,
    "start_time": "2021-08-12T06:04:09.872Z"
   },
   {
    "duration": 14,
    "start_time": "2021-08-12T06:04:09.887Z"
   },
   {
    "duration": 34,
    "start_time": "2021-08-12T06:04:09.903Z"
   },
   {
    "duration": 7,
    "start_time": "2021-08-12T06:04:09.938Z"
   },
   {
    "duration": 20,
    "start_time": "2021-08-12T06:04:09.947Z"
   },
   {
    "duration": 17,
    "start_time": "2021-08-12T06:04:09.969Z"
   },
   {
    "duration": 7,
    "start_time": "2021-08-12T06:04:09.988Z"
   },
   {
    "duration": 50,
    "start_time": "2021-08-12T06:04:09.997Z"
   },
   {
    "duration": 6,
    "start_time": "2021-08-12T06:04:10.049Z"
   },
   {
    "duration": 13,
    "start_time": "2021-08-12T06:04:10.056Z"
   },
   {
    "duration": 70,
    "start_time": "2021-08-12T06:04:10.071Z"
   },
   {
    "duration": 4,
    "start_time": "2021-08-12T06:04:10.142Z"
   },
   {
    "duration": 18,
    "start_time": "2021-08-12T06:04:10.147Z"
   },
   {
    "duration": 53,
    "start_time": "2021-08-12T06:04:10.167Z"
   },
   {
    "duration": 8,
    "start_time": "2021-08-12T06:04:10.222Z"
   },
   {
    "duration": 8,
    "start_time": "2021-08-12T06:04:10.241Z"
   },
   {
    "duration": 10,
    "start_time": "2021-08-12T06:04:10.250Z"
   },
   {
    "duration": 5,
    "start_time": "2021-08-12T06:04:10.261Z"
   },
   {
    "duration": 11,
    "start_time": "2021-08-12T06:04:10.268Z"
   },
   {
    "duration": 8,
    "start_time": "2021-08-12T06:04:10.281Z"
   },
   {
    "duration": 5,
    "start_time": "2021-08-12T06:04:10.290Z"
   },
   {
    "duration": 6,
    "start_time": "2021-08-12T06:04:10.297Z"
   },
   {
    "duration": 55,
    "start_time": "2021-08-12T06:04:10.304Z"
   },
   {
    "duration": 13,
    "start_time": "2021-08-12T06:04:20.345Z"
   },
   {
    "duration": 24,
    "start_time": "2021-08-12T06:05:00.947Z"
   },
   {
    "duration": 9,
    "start_time": "2021-08-12T06:05:23.424Z"
   },
   {
    "duration": 22,
    "start_time": "2021-08-12T06:05:38.091Z"
   },
   {
    "duration": 9,
    "start_time": "2021-08-12T06:06:07.986Z"
   },
   {
    "duration": 17,
    "start_time": "2021-08-12T06:06:23.157Z"
   },
   {
    "duration": 9,
    "start_time": "2021-08-12T06:06:34.264Z"
   },
   {
    "duration": 21,
    "start_time": "2021-08-12T06:06:48.188Z"
   },
   {
    "duration": 38,
    "start_time": "2021-08-12T06:07:17.135Z"
   },
   {
    "duration": 94,
    "start_time": "2021-08-12T06:19:49.874Z"
   },
   {
    "duration": 117,
    "start_time": "2021-08-12T06:20:01.342Z"
   },
   {
    "duration": 81,
    "start_time": "2021-08-12T06:20:19.134Z"
   },
   {
    "duration": 106,
    "start_time": "2021-08-12T06:21:14.105Z"
   },
   {
    "duration": 103,
    "start_time": "2021-08-12T06:23:04.545Z"
   },
   {
    "duration": 88,
    "start_time": "2021-08-12T06:23:11.906Z"
   },
   {
    "duration": 14,
    "start_time": "2021-08-12T06:24:41.908Z"
   },
   {
    "duration": 21,
    "start_time": "2021-08-12T06:25:34.708Z"
   },
   {
    "duration": 92,
    "start_time": "2021-08-12T06:26:21.174Z"
   },
   {
    "duration": 337,
    "start_time": "2021-08-12T06:26:34.829Z"
   },
   {
    "duration": 330,
    "start_time": "2021-08-12T06:26:42.126Z"
   },
   {
    "duration": 274,
    "start_time": "2021-08-12T06:26:52.428Z"
   },
   {
    "duration": 14,
    "start_time": "2021-08-12T06:27:06.425Z"
   },
   {
    "duration": 15,
    "start_time": "2021-08-12T06:27:37.386Z"
   },
   {
    "duration": 13,
    "start_time": "2021-08-12T06:27:56.348Z"
   },
   {
    "duration": 15,
    "start_time": "2021-08-12T06:27:57.986Z"
   },
   {
    "duration": 160,
    "start_time": "2021-08-12T06:28:15.090Z"
   },
   {
    "duration": 10,
    "start_time": "2021-08-12T06:29:43.213Z"
   },
   {
    "duration": 8,
    "start_time": "2021-08-12T06:29:43.632Z"
   },
   {
    "duration": 9,
    "start_time": "2021-08-12T06:29:44.094Z"
   },
   {
    "duration": 19,
    "start_time": "2021-08-12T06:33:56.478Z"
   },
   {
    "duration": 11,
    "start_time": "2021-08-12T06:33:59.523Z"
   },
   {
    "duration": 8,
    "start_time": "2021-08-12T06:34:19.901Z"
   },
   {
    "duration": 14,
    "start_time": "2021-08-12T06:53:58.976Z"
   },
   {
    "duration": 8,
    "start_time": "2021-08-12T06:53:59.308Z"
   },
   {
    "duration": 9,
    "start_time": "2021-08-12T06:53:59.626Z"
   },
   {
    "duration": 17,
    "start_time": "2021-08-12T06:54:00.170Z"
   },
   {
    "duration": 340,
    "start_time": "2021-08-12T06:54:13.382Z"
   },
   {
    "duration": 12,
    "start_time": "2021-08-12T06:54:13.724Z"
   },
   {
    "duration": 23,
    "start_time": "2021-08-12T06:54:13.738Z"
   },
   {
    "duration": 45,
    "start_time": "2021-08-12T06:54:13.763Z"
   },
   {
    "duration": 6,
    "start_time": "2021-08-12T06:54:13.809Z"
   },
   {
    "duration": 29,
    "start_time": "2021-08-12T06:54:13.816Z"
   },
   {
    "duration": 21,
    "start_time": "2021-08-12T06:54:13.847Z"
   },
   {
    "duration": 16,
    "start_time": "2021-08-12T06:54:13.870Z"
   },
   {
    "duration": 41,
    "start_time": "2021-08-12T06:54:13.888Z"
   },
   {
    "duration": 7,
    "start_time": "2021-08-12T06:54:13.931Z"
   },
   {
    "duration": 22,
    "start_time": "2021-08-12T06:54:13.940Z"
   },
   {
    "duration": 70,
    "start_time": "2021-08-12T06:54:13.964Z"
   },
   {
    "duration": 3,
    "start_time": "2021-08-12T06:54:14.035Z"
   },
   {
    "duration": 30,
    "start_time": "2021-08-12T06:54:14.040Z"
   },
   {
    "duration": 60,
    "start_time": "2021-08-12T06:54:14.071Z"
   },
   {
    "duration": 8,
    "start_time": "2021-08-12T06:54:14.132Z"
   },
   {
    "duration": 21,
    "start_time": "2021-08-12T06:54:14.142Z"
   },
   {
    "duration": 19,
    "start_time": "2021-08-12T06:54:14.165Z"
   },
   {
    "duration": 24,
    "start_time": "2021-08-12T06:54:14.186Z"
   },
   {
    "duration": 14,
    "start_time": "2021-08-12T06:54:14.211Z"
   },
   {
    "duration": 57,
    "start_time": "2021-08-12T06:54:14.227Z"
   },
   {
    "duration": 17,
    "start_time": "2021-08-12T06:54:14.285Z"
   },
   {
    "duration": 20,
    "start_time": "2021-08-12T06:54:14.305Z"
   },
   {
    "duration": 36,
    "start_time": "2021-08-12T06:54:14.327Z"
   },
   {
    "duration": 35,
    "start_time": "2021-08-12T06:54:14.364Z"
   },
   {
    "duration": 26,
    "start_time": "2021-08-12T07:00:30.933Z"
   },
   {
    "duration": 16,
    "start_time": "2021-08-12T07:00:35.920Z"
   },
   {
    "duration": 28,
    "start_time": "2021-08-12T07:01:18.466Z"
   },
   {
    "duration": 16,
    "start_time": "2021-08-12T07:01:19.350Z"
   },
   {
    "duration": 27,
    "start_time": "2021-08-12T07:01:25.099Z"
   },
   {
    "duration": 13,
    "start_time": "2021-08-12T07:02:16.131Z"
   },
   {
    "duration": 16,
    "start_time": "2021-08-12T07:02:16.710Z"
   },
   {
    "duration": 429,
    "start_time": "2021-08-12T07:03:24.562Z"
   },
   {
    "duration": 13,
    "start_time": "2021-08-12T07:03:36.908Z"
   },
   {
    "duration": 16,
    "start_time": "2021-08-12T07:03:37.525Z"
   },
   {
    "duration": 500,
    "start_time": "2021-08-12T07:04:21.857Z"
   },
   {
    "duration": 16,
    "start_time": "2021-08-12T07:04:22.831Z"
   },
   {
    "duration": 268,
    "start_time": "2021-08-12T07:43:06.649Z"
   },
   {
    "duration": 8,
    "start_time": "2021-08-12T07:43:10.987Z"
   },
   {
    "duration": 13,
    "start_time": "2021-08-12T07:43:18.024Z"
   },
   {
    "duration": 390,
    "start_time": "2021-08-12T07:43:52.693Z"
   },
   {
    "duration": 13,
    "start_time": "2021-08-12T07:43:53.085Z"
   },
   {
    "duration": 11,
    "start_time": "2021-08-12T07:43:53.100Z"
   },
   {
    "duration": 25,
    "start_time": "2021-08-12T07:43:53.114Z"
   },
   {
    "duration": 7,
    "start_time": "2021-08-12T07:43:53.140Z"
   },
   {
    "duration": 17,
    "start_time": "2021-08-12T07:43:53.149Z"
   },
   {
    "duration": 19,
    "start_time": "2021-08-12T07:43:53.168Z"
   },
   {
    "duration": 7,
    "start_time": "2021-08-12T07:43:53.189Z"
   },
   {
    "duration": 45,
    "start_time": "2021-08-12T07:43:53.198Z"
   },
   {
    "duration": 7,
    "start_time": "2021-08-12T07:43:53.244Z"
   },
   {
    "duration": 10,
    "start_time": "2021-08-12T07:43:53.252Z"
   },
   {
    "duration": 54,
    "start_time": "2021-08-12T07:43:53.264Z"
   },
   {
    "duration": 23,
    "start_time": "2021-08-12T07:43:53.319Z"
   },
   {
    "duration": 13,
    "start_time": "2021-08-12T07:43:53.343Z"
   },
   {
    "duration": 52,
    "start_time": "2021-08-12T07:43:53.357Z"
   },
   {
    "duration": 8,
    "start_time": "2021-08-12T07:43:53.410Z"
   },
   {
    "duration": 22,
    "start_time": "2021-08-12T07:43:53.420Z"
   },
   {
    "duration": 9,
    "start_time": "2021-08-12T07:43:53.444Z"
   },
   {
    "duration": 4,
    "start_time": "2021-08-12T07:43:53.455Z"
   },
   {
    "duration": 8,
    "start_time": "2021-08-12T07:43:53.461Z"
   },
   {
    "duration": 29,
    "start_time": "2021-08-12T07:43:53.470Z"
   },
   {
    "duration": 19,
    "start_time": "2021-08-12T07:43:53.501Z"
   },
   {
    "duration": 12,
    "start_time": "2021-08-12T07:43:53.543Z"
   },
   {
    "duration": 9,
    "start_time": "2021-08-12T07:43:53.557Z"
   },
   {
    "duration": 10,
    "start_time": "2021-08-12T07:43:53.568Z"
   },
   {
    "duration": 9,
    "start_time": "2021-08-12T07:43:53.580Z"
   },
   {
    "duration": 13,
    "start_time": "2021-08-12T07:43:53.591Z"
   },
   {
    "duration": 2,
    "start_time": "2021-08-12T07:45:38.092Z"
   },
   {
    "duration": 30,
    "start_time": "2021-08-12T07:45:56.375Z"
   },
   {
    "duration": 34,
    "start_time": "2021-08-12T07:45:56.899Z"
   },
   {
    "duration": 347,
    "start_time": "2021-08-12T07:46:13.481Z"
   },
   {
    "duration": 16,
    "start_time": "2021-08-12T07:46:13.830Z"
   },
   {
    "duration": 6,
    "start_time": "2021-08-12T07:46:13.848Z"
   },
   {
    "duration": 25,
    "start_time": "2021-08-12T07:46:13.856Z"
   },
   {
    "duration": 6,
    "start_time": "2021-08-12T07:46:13.883Z"
   },
   {
    "duration": 21,
    "start_time": "2021-08-12T07:46:13.890Z"
   },
   {
    "duration": 41,
    "start_time": "2021-08-12T07:46:13.913Z"
   },
   {
    "duration": 6,
    "start_time": "2021-08-12T07:46:13.957Z"
   },
   {
    "duration": 20,
    "start_time": "2021-08-12T07:46:13.965Z"
   },
   {
    "duration": 6,
    "start_time": "2021-08-12T07:46:13.987Z"
   },
   {
    "duration": 11,
    "start_time": "2021-08-12T07:46:13.994Z"
   },
   {
    "duration": 86,
    "start_time": "2021-08-12T07:46:14.006Z"
   },
   {
    "duration": 3,
    "start_time": "2021-08-12T07:46:14.094Z"
   },
   {
    "duration": 21,
    "start_time": "2021-08-12T07:46:14.098Z"
   },
   {
    "duration": 65,
    "start_time": "2021-08-12T07:46:14.120Z"
   },
   {
    "duration": 9,
    "start_time": "2021-08-12T07:46:14.186Z"
   },
   {
    "duration": 23,
    "start_time": "2021-08-12T07:46:14.196Z"
   },
   {
    "duration": 24,
    "start_time": "2021-08-12T07:46:14.221Z"
   },
   {
    "duration": 7,
    "start_time": "2021-08-12T07:46:14.247Z"
   },
   {
    "duration": 19,
    "start_time": "2021-08-12T07:46:14.255Z"
   },
   {
    "duration": 13,
    "start_time": "2021-08-12T07:46:14.275Z"
   },
   {
    "duration": 15,
    "start_time": "2021-08-12T07:46:14.289Z"
   },
   {
    "duration": 18,
    "start_time": "2021-08-12T07:46:14.307Z"
   },
   {
    "duration": 19,
    "start_time": "2021-08-12T07:46:14.326Z"
   },
   {
    "duration": 20,
    "start_time": "2021-08-12T07:46:14.346Z"
   },
   {
    "duration": 8,
    "start_time": "2021-08-12T07:46:14.367Z"
   },
   {
    "duration": 17,
    "start_time": "2021-08-12T07:46:14.377Z"
   },
   {
    "duration": 37,
    "start_time": "2021-08-12T07:46:14.395Z"
   },
   {
    "duration": 39,
    "start_time": "2021-08-12T07:46:14.433Z"
   },
   {
    "duration": 35,
    "start_time": "2021-08-12T07:46:55.490Z"
   },
   {
    "duration": 12,
    "start_time": "2021-08-12T07:46:56.343Z"
   },
   {
    "duration": 10,
    "start_time": "2021-08-12T07:46:56.944Z"
   },
   {
    "duration": 10,
    "start_time": "2021-08-12T07:46:57.369Z"
   },
   {
    "duration": 9,
    "start_time": "2021-08-12T07:46:57.774Z"
   },
   {
    "duration": 14,
    "start_time": "2021-08-12T07:46:58.178Z"
   },
   {
    "duration": 276,
    "start_time": "2021-08-12T07:54:05.454Z"
   },
   {
    "duration": 20,
    "start_time": "2021-08-12T08:04:06.615Z"
   },
   {
    "duration": 23,
    "start_time": "2021-08-12T08:04:12.488Z"
   },
   {
    "duration": 19,
    "start_time": "2021-08-12T08:05:28.543Z"
   },
   {
    "duration": 22,
    "start_time": "2021-08-12T08:05:29.246Z"
   },
   {
    "duration": 253,
    "start_time": "2021-08-12T08:05:51.504Z"
   },
   {
    "duration": 263,
    "start_time": "2021-08-12T08:06:12.090Z"
   },
   {
    "duration": 275,
    "start_time": "2021-08-12T08:06:33.349Z"
   },
   {
    "duration": 306,
    "start_time": "2021-08-12T08:06:46.159Z"
   },
   {
    "duration": 299,
    "start_time": "2021-08-12T08:06:52.031Z"
   },
   {
    "duration": 8,
    "start_time": "2021-08-12T08:07:18.653Z"
   },
   {
    "duration": 379,
    "start_time": "2021-08-12T08:07:43.937Z"
   },
   {
    "duration": 4,
    "start_time": "2021-08-12T08:08:12.340Z"
   },
   {
    "duration": 19,
    "start_time": "2021-08-12T08:08:16.241Z"
   },
   {
    "duration": 2,
    "start_time": "2021-08-12T08:08:53.597Z"
   },
   {
    "duration": 19,
    "start_time": "2021-08-12T08:08:55.337Z"
   },
   {
    "duration": 18,
    "start_time": "2021-08-12T08:12:00.482Z"
   },
   {
    "duration": 9,
    "start_time": "2021-08-12T08:12:00.889Z"
   },
   {
    "duration": 3,
    "start_time": "2021-08-12T08:12:01.160Z"
   },
   {
    "duration": 21,
    "start_time": "2021-08-12T08:12:01.608Z"
   },
   {
    "duration": 4,
    "start_time": "2021-08-12T08:18:17.915Z"
   },
   {
    "duration": 20,
    "start_time": "2021-08-12T08:18:24.244Z"
   },
   {
    "duration": 5,
    "start_time": "2021-08-12T08:18:32.421Z"
   },
   {
    "duration": 5,
    "start_time": "2021-08-12T08:18:45.518Z"
   },
   {
    "duration": 20,
    "start_time": "2021-08-12T08:18:48.151Z"
   },
   {
    "duration": 3,
    "start_time": "2021-08-12T08:18:52.478Z"
   },
   {
    "duration": 23,
    "start_time": "2021-08-12T08:19:02.578Z"
   },
   {
    "duration": 5,
    "start_time": "2021-08-12T08:19:06.848Z"
   },
   {
    "duration": 21,
    "start_time": "2021-08-12T08:19:08.598Z"
   },
   {
    "duration": 253,
    "start_time": "2021-08-12T08:23:43.443Z"
   },
   {
    "duration": 6,
    "start_time": "2021-08-12T08:25:50.073Z"
   },
   {
    "duration": 21,
    "start_time": "2021-08-12T08:25:52.555Z"
   },
   {
    "duration": 4,
    "start_time": "2021-08-12T08:26:06.274Z"
   },
   {
    "duration": 22,
    "start_time": "2021-08-12T08:26:08.730Z"
   },
   {
    "duration": 51,
    "start_time": "2021-08-12T08:30:27.266Z"
   },
   {
    "duration": 21,
    "start_time": "2021-08-12T08:30:30.784Z"
   },
   {
    "duration": 50,
    "start_time": "2021-08-12T08:30:34.052Z"
   },
   {
    "duration": 3,
    "start_time": "2021-08-12T08:32:56.162Z"
   },
   {
    "duration": 9,
    "start_time": "2021-08-12T08:34:16.106Z"
   },
   {
    "duration": 96,
    "start_time": "2021-08-12T09:39:58.720Z"
   },
   {
    "duration": 23,
    "start_time": "2021-08-12T09:40:01.082Z"
   },
   {
    "duration": 380,
    "start_time": "2021-08-12T09:40:03.903Z"
   },
   {
    "duration": 12,
    "start_time": "2021-08-12T09:40:04.285Z"
   },
   {
    "duration": 11,
    "start_time": "2021-08-12T09:40:04.300Z"
   },
   {
    "duration": 44,
    "start_time": "2021-08-12T09:40:04.313Z"
   },
   {
    "duration": 7,
    "start_time": "2021-08-12T09:40:04.359Z"
   },
   {
    "duration": 36,
    "start_time": "2021-08-12T09:40:04.367Z"
   },
   {
    "duration": 20,
    "start_time": "2021-08-12T09:40:04.404Z"
   },
   {
    "duration": 22,
    "start_time": "2021-08-12T09:40:04.427Z"
   },
   {
    "duration": 33,
    "start_time": "2021-08-12T09:40:04.452Z"
   },
   {
    "duration": 7,
    "start_time": "2021-08-12T09:40:04.487Z"
   },
   {
    "duration": 27,
    "start_time": "2021-08-12T09:40:04.495Z"
   },
   {
    "duration": 73,
    "start_time": "2021-08-12T09:40:04.523Z"
   },
   {
    "duration": 3,
    "start_time": "2021-08-12T09:40:04.598Z"
   },
   {
    "duration": 15,
    "start_time": "2021-08-12T09:40:04.603Z"
   },
   {
    "duration": 56,
    "start_time": "2021-08-12T09:40:04.620Z"
   },
   {
    "duration": 9,
    "start_time": "2021-08-12T09:40:04.678Z"
   },
   {
    "duration": 14,
    "start_time": "2021-08-12T09:40:04.689Z"
   },
   {
    "duration": 27,
    "start_time": "2021-08-12T09:40:04.705Z"
   },
   {
    "duration": 6,
    "start_time": "2021-08-12T09:40:04.734Z"
   },
   {
    "duration": 15,
    "start_time": "2021-08-12T09:40:04.742Z"
   },
   {
    "duration": 54,
    "start_time": "2021-08-12T09:40:04.759Z"
   },
   {
    "duration": 14,
    "start_time": "2021-08-12T09:40:04.815Z"
   },
   {
    "duration": 23,
    "start_time": "2021-08-12T09:40:04.832Z"
   },
   {
    "duration": 20,
    "start_time": "2021-08-12T09:40:04.857Z"
   },
   {
    "duration": 33,
    "start_time": "2021-08-12T09:40:04.879Z"
   },
   {
    "duration": 25,
    "start_time": "2021-08-12T09:40:04.914Z"
   },
   {
    "duration": 12,
    "start_time": "2021-08-12T09:40:04.941Z"
   },
   {
    "duration": 33,
    "start_time": "2021-08-12T09:40:04.955Z"
   },
   {
    "duration": 9,
    "start_time": "2021-08-12T09:40:04.990Z"
   },
   {
    "duration": 68,
    "start_time": "2021-08-12T09:40:05.000Z"
   },
   {
    "duration": 23,
    "start_time": "2021-08-12T09:40:05.070Z"
   },
   {
    "duration": 4,
    "start_time": "2021-08-12T09:58:43.125Z"
   },
   {
    "duration": 20,
    "start_time": "2021-08-12T09:58:54.969Z"
   },
   {
    "duration": 9,
    "start_time": "2021-08-12T09:58:56.065Z"
   },
   {
    "duration": 2,
    "start_time": "2021-08-12T09:59:00.723Z"
   },
   {
    "duration": 28,
    "start_time": "2021-08-12T09:59:01.317Z"
   },
   {
    "duration": 4,
    "start_time": "2021-08-12T09:59:01.813Z"
   },
   {
    "duration": 67,
    "start_time": "2021-08-12T09:59:02.272Z"
   },
   {
    "duration": 27,
    "start_time": "2021-08-12T09:59:02.670Z"
   },
   {
    "duration": 5,
    "start_time": "2021-08-12T09:59:03.035Z"
   },
   {
    "duration": 3,
    "start_time": "2021-08-12T10:00:21.728Z"
   },
   {
    "duration": 22,
    "start_time": "2021-08-12T10:00:22.359Z"
   },
   {
    "duration": 14,
    "start_time": "2021-08-12T10:05:57.012Z"
   },
   {
    "duration": 100,
    "start_time": "2021-08-12T10:12:36.414Z"
   },
   {
    "duration": 23,
    "start_time": "2021-08-12T10:12:45.021Z"
   },
   {
    "duration": 4,
    "start_time": "2021-08-12T10:21:52.035Z"
   },
   {
    "duration": 10,
    "start_time": "2021-08-12T10:21:57.890Z"
   },
   {
    "duration": 2,
    "start_time": "2021-08-12T10:23:16.937Z"
   },
   {
    "duration": 10,
    "start_time": "2021-08-12T10:23:17.089Z"
   },
   {
    "duration": 9,
    "start_time": "2021-08-12T10:23:17.259Z"
   },
   {
    "duration": 9,
    "start_time": "2021-08-12T10:23:17.427Z"
   },
   {
    "duration": 4,
    "start_time": "2021-08-12T10:23:17.591Z"
   },
   {
    "duration": 17,
    "start_time": "2021-08-12T10:23:17.787Z"
   },
   {
    "duration": 9,
    "start_time": "2021-08-12T10:23:17.906Z"
   },
   {
    "duration": 2,
    "start_time": "2021-08-12T10:23:18.087Z"
   },
   {
    "duration": 21,
    "start_time": "2021-08-12T10:23:18.265Z"
   },
   {
    "duration": 4,
    "start_time": "2021-08-12T10:23:18.432Z"
   },
   {
    "duration": 61,
    "start_time": "2021-08-12T10:23:18.579Z"
   },
   {
    "duration": 3,
    "start_time": "2021-08-12T10:23:18.762Z"
   },
   {
    "duration": 31,
    "start_time": "2021-08-12T10:23:18.913Z"
   },
   {
    "duration": 15,
    "start_time": "2021-08-12T10:23:30.843Z"
   },
   {
    "duration": 1406,
    "start_time": "2021-08-13T07:07:33.084Z"
   },
   {
    "duration": 26,
    "start_time": "2021-08-13T07:07:34.493Z"
   },
   {
    "duration": 15,
    "start_time": "2021-08-13T07:07:34.522Z"
   },
   {
    "duration": 35,
    "start_time": "2021-08-13T07:07:34.540Z"
   },
   {
    "duration": 13,
    "start_time": "2021-08-13T07:07:34.578Z"
   },
   {
    "duration": 27,
    "start_time": "2021-08-13T07:07:34.594Z"
   },
   {
    "duration": 25,
    "start_time": "2021-08-13T07:07:34.655Z"
   },
   {
    "duration": 11,
    "start_time": "2021-08-13T07:07:34.685Z"
   },
   {
    "duration": 64,
    "start_time": "2021-08-13T07:07:34.701Z"
   },
   {
    "duration": 13,
    "start_time": "2021-08-13T07:07:34.768Z"
   },
   {
    "duration": 17,
    "start_time": "2021-08-13T07:07:34.783Z"
   },
   {
    "duration": 135,
    "start_time": "2021-08-13T07:07:34.803Z"
   },
   {
    "duration": 4,
    "start_time": "2021-08-13T07:07:34.941Z"
   },
   {
    "duration": 13,
    "start_time": "2021-08-13T07:07:34.955Z"
   },
   {
    "duration": 93,
    "start_time": "2021-08-13T07:07:34.971Z"
   },
   {
    "duration": 13,
    "start_time": "2021-08-13T07:07:35.066Z"
   },
   {
    "duration": 16,
    "start_time": "2021-08-13T07:07:35.081Z"
   },
   {
    "duration": 18,
    "start_time": "2021-08-13T07:07:35.100Z"
   },
   {
    "duration": 2,
    "start_time": "2021-08-13T07:07:35.121Z"
   },
   {
    "duration": 29,
    "start_time": "2021-08-13T07:07:35.126Z"
   },
   {
    "duration": 86,
    "start_time": "2021-08-13T07:07:35.158Z"
   },
   {
    "duration": 17,
    "start_time": "2021-08-13T07:07:35.254Z"
   },
   {
    "duration": 9,
    "start_time": "2021-08-13T07:07:35.275Z"
   },
   {
    "duration": 20,
    "start_time": "2021-08-13T07:07:35.287Z"
   },
   {
    "duration": 14,
    "start_time": "2021-08-13T07:07:35.309Z"
   },
   {
    "duration": 16,
    "start_time": "2021-08-13T07:07:35.354Z"
   },
   {
    "duration": 18,
    "start_time": "2021-08-13T07:07:35.372Z"
   },
   {
    "duration": 37,
    "start_time": "2021-08-13T07:07:35.392Z"
   },
   {
    "duration": 23,
    "start_time": "2021-08-13T07:07:35.431Z"
   },
   {
    "duration": 3,
    "start_time": "2021-08-13T07:07:35.457Z"
   },
   {
    "duration": 41,
    "start_time": "2021-08-13T07:07:35.463Z"
   },
   {
    "duration": 20,
    "start_time": "2021-08-13T07:07:35.507Z"
   },
   {
    "duration": 114,
    "start_time": "2021-08-13T07:07:35.530Z"
   },
   {
    "duration": 8,
    "start_time": "2021-08-13T07:07:35.646Z"
   },
   {
    "duration": 24,
    "start_time": "2021-08-13T07:07:35.657Z"
   },
   {
    "duration": 5,
    "start_time": "2021-08-13T07:08:18.618Z"
   },
   {
    "duration": 93,
    "start_time": "2021-08-13T07:08:22.494Z"
   },
   {
    "duration": 3,
    "start_time": "2021-08-13T07:08:22.950Z"
   },
   {
    "duration": 24,
    "start_time": "2021-08-13T07:08:23.389Z"
   },
   {
    "duration": 375,
    "start_time": "2021-08-13T07:08:38.984Z"
   },
   {
    "duration": 5,
    "start_time": "2021-08-13T07:08:59.714Z"
   },
   {
    "duration": 283,
    "start_time": "2021-08-13T07:09:00.343Z"
   },
   {
    "duration": 29,
    "start_time": "2021-08-13T07:09:07.049Z"
   },
   {
    "duration": 31,
    "start_time": "2021-08-13T07:10:42.878Z"
   },
   {
    "duration": 41,
    "start_time": "2021-08-13T07:10:43.869Z"
   },
   {
    "duration": 538,
    "start_time": "2021-08-13T07:10:56.083Z"
   },
   {
    "duration": 538,
    "start_time": "2021-08-13T07:11:00.043Z"
   },
   {
    "duration": 20,
    "start_time": "2021-08-13T07:11:00.583Z"
   },
   {
    "duration": 25,
    "start_time": "2021-08-13T07:11:00.606Z"
   },
   {
    "duration": 46,
    "start_time": "2021-08-13T07:11:00.633Z"
   },
   {
    "duration": 10,
    "start_time": "2021-08-13T07:11:00.681Z"
   },
   {
    "duration": 28,
    "start_time": "2021-08-13T07:11:00.693Z"
   },
   {
    "duration": 48,
    "start_time": "2021-08-13T07:11:00.724Z"
   },
   {
    "duration": 11,
    "start_time": "2021-08-13T07:11:00.778Z"
   },
   {
    "duration": 65,
    "start_time": "2021-08-13T07:11:00.792Z"
   },
   {
    "duration": 10,
    "start_time": "2021-08-13T07:11:00.860Z"
   },
   {
    "duration": 51,
    "start_time": "2021-08-13T07:11:00.873Z"
   },
   {
    "duration": 94,
    "start_time": "2021-08-13T07:11:00.926Z"
   },
   {
    "duration": 5,
    "start_time": "2021-08-13T07:11:01.022Z"
   },
   {
    "duration": 41,
    "start_time": "2021-08-13T07:11:01.029Z"
   },
   {
    "duration": 82,
    "start_time": "2021-08-13T07:11:01.073Z"
   },
   {
    "duration": 16,
    "start_time": "2021-08-13T07:11:01.157Z"
   },
   {
    "duration": 29,
    "start_time": "2021-08-13T07:11:01.176Z"
   },
   {
    "duration": 34,
    "start_time": "2021-08-13T07:11:01.208Z"
   },
   {
    "duration": 21,
    "start_time": "2021-08-13T07:11:01.245Z"
   },
   {
    "duration": 31,
    "start_time": "2021-08-13T07:11:01.268Z"
   },
   {
    "duration": 87,
    "start_time": "2021-08-13T07:11:01.301Z"
   },
   {
    "duration": 20,
    "start_time": "2021-08-13T07:11:01.392Z"
   },
   {
    "duration": 32,
    "start_time": "2021-08-13T07:11:01.419Z"
   },
   {
    "duration": 20,
    "start_time": "2021-08-13T07:11:01.454Z"
   },
   {
    "duration": 26,
    "start_time": "2021-08-13T07:11:01.477Z"
   },
   {
    "duration": 27,
    "start_time": "2021-08-13T07:11:01.506Z"
   },
   {
    "duration": 29,
    "start_time": "2021-08-13T07:11:01.536Z"
   },
   {
    "duration": 47,
    "start_time": "2021-08-13T07:11:01.568Z"
   },
   {
    "duration": 40,
    "start_time": "2021-08-13T07:11:01.617Z"
   },
   {
    "duration": 14,
    "start_time": "2021-08-13T07:11:01.659Z"
   },
   {
    "duration": 289,
    "start_time": "2021-08-13T07:33:49.870Z"
   },
   {
    "duration": 6,
    "start_time": "2021-08-13T07:34:04.268Z"
   },
   {
    "duration": 7,
    "start_time": "2021-08-13T07:34:09.231Z"
   },
   {
    "duration": 267,
    "start_time": "2021-08-13T07:39:27.151Z"
   },
   {
    "duration": 33,
    "start_time": "2021-08-13T07:39:46.393Z"
   },
   {
    "duration": 3,
    "start_time": "2021-08-13T07:39:55.361Z"
   },
   {
    "duration": 5,
    "start_time": "2021-08-13T07:39:57.516Z"
   },
   {
    "duration": 32,
    "start_time": "2021-08-13T07:39:57.898Z"
   },
   {
    "duration": 27,
    "start_time": "2021-08-13T07:39:58.292Z"
   },
   {
    "duration": 45,
    "start_time": "2021-08-13T07:40:30.919Z"
   },
   {
    "duration": 7,
    "start_time": "2021-08-13T07:40:38.623Z"
   },
   {
    "duration": 29,
    "start_time": "2021-08-13T07:40:40.698Z"
   },
   {
    "duration": 36,
    "start_time": "2021-08-13T07:40:57.101Z"
   },
   {
    "duration": 543,
    "start_time": "2021-08-13T07:41:02.018Z"
   },
   {
    "duration": 22,
    "start_time": "2021-08-13T07:41:02.564Z"
   },
   {
    "duration": 9,
    "start_time": "2021-08-13T07:41:02.589Z"
   },
   {
    "duration": 66,
    "start_time": "2021-08-13T07:41:02.601Z"
   },
   {
    "duration": 13,
    "start_time": "2021-08-13T07:41:02.669Z"
   },
   {
    "duration": 28,
    "start_time": "2021-08-13T07:41:02.685Z"
   },
   {
    "duration": 61,
    "start_time": "2021-08-13T07:41:02.716Z"
   },
   {
    "duration": 11,
    "start_time": "2021-08-13T07:41:02.783Z"
   },
   {
    "duration": 73,
    "start_time": "2021-08-13T07:41:02.799Z"
   },
   {
    "duration": 13,
    "start_time": "2021-08-13T07:41:02.875Z"
   },
   {
    "duration": 17,
    "start_time": "2021-08-13T07:41:02.891Z"
   },
   {
    "duration": 125,
    "start_time": "2021-08-13T07:41:02.912Z"
   },
   {
    "duration": 17,
    "start_time": "2021-08-13T07:41:03.039Z"
   },
   {
    "duration": 23,
    "start_time": "2021-08-13T07:41:03.059Z"
   },
   {
    "duration": 95,
    "start_time": "2021-08-13T07:41:03.086Z"
   },
   {
    "duration": 17,
    "start_time": "2021-08-13T07:41:03.184Z"
   },
   {
    "duration": 23,
    "start_time": "2021-08-13T07:41:03.203Z"
   },
   {
    "duration": 30,
    "start_time": "2021-08-13T07:41:03.229Z"
   },
   {
    "duration": 2,
    "start_time": "2021-08-13T07:41:03.261Z"
   },
   {
    "duration": 22,
    "start_time": "2021-08-13T07:41:03.266Z"
   },
   {
    "duration": 92,
    "start_time": "2021-08-13T07:41:03.291Z"
   },
   {
    "duration": 19,
    "start_time": "2021-08-13T07:41:03.386Z"
   },
   {
    "duration": 3,
    "start_time": "2021-08-13T07:41:03.410Z"
   },
   {
    "duration": 45,
    "start_time": "2021-08-13T07:41:03.416Z"
   },
   {
    "duration": 16,
    "start_time": "2021-08-13T07:41:03.463Z"
   },
   {
    "duration": 18,
    "start_time": "2021-08-13T07:41:03.482Z"
   },
   {
    "duration": 4,
    "start_time": "2021-08-13T07:41:03.502Z"
   },
   {
    "duration": 69,
    "start_time": "2021-08-13T07:41:03.508Z"
   },
   {
    "duration": 7,
    "start_time": "2021-08-13T07:41:03.579Z"
   },
   {
    "duration": 40,
    "start_time": "2021-08-13T07:41:03.589Z"
   },
   {
    "duration": 9,
    "start_time": "2021-08-13T07:42:56.284Z"
   },
   {
    "duration": 33,
    "start_time": "2021-08-13T07:42:58.548Z"
   },
   {
    "duration": 524,
    "start_time": "2021-08-13T07:50:58.128Z"
   },
   {
    "duration": 20,
    "start_time": "2021-08-13T07:50:58.654Z"
   },
   {
    "duration": 15,
    "start_time": "2021-08-13T07:50:58.677Z"
   },
   {
    "duration": 61,
    "start_time": "2021-08-13T07:50:58.695Z"
   },
   {
    "duration": 10,
    "start_time": "2021-08-13T07:50:58.759Z"
   },
   {
    "duration": 27,
    "start_time": "2021-08-13T07:50:58.772Z"
   },
   {
    "duration": 56,
    "start_time": "2021-08-13T07:50:58.801Z"
   },
   {
    "duration": 11,
    "start_time": "2021-08-13T07:50:58.861Z"
   },
   {
    "duration": 33,
    "start_time": "2021-08-13T07:50:58.876Z"
   },
   {
    "duration": 46,
    "start_time": "2021-08-13T07:50:58.911Z"
   },
   {
    "duration": 18,
    "start_time": "2021-08-13T07:50:58.959Z"
   },
   {
    "duration": 109,
    "start_time": "2021-08-13T07:50:58.979Z"
   },
   {
    "duration": 4,
    "start_time": "2021-08-13T07:50:59.090Z"
   },
   {
    "duration": 26,
    "start_time": "2021-08-13T07:50:59.096Z"
   },
   {
    "duration": 83,
    "start_time": "2021-08-13T07:50:59.124Z"
   },
   {
    "duration": 12,
    "start_time": "2021-08-13T07:50:59.210Z"
   },
   {
    "duration": 31,
    "start_time": "2021-08-13T07:50:59.225Z"
   },
   {
    "duration": 12,
    "start_time": "2021-08-13T07:50:59.258Z"
   },
   {
    "duration": 5,
    "start_time": "2021-08-13T07:50:59.273Z"
   },
   {
    "duration": 11,
    "start_time": "2021-08-13T07:50:59.281Z"
   },
   {
    "duration": 88,
    "start_time": "2021-08-13T07:50:59.295Z"
   },
   {
    "duration": 18,
    "start_time": "2021-08-13T07:50:59.385Z"
   },
   {
    "duration": 4,
    "start_time": "2021-08-13T07:50:59.409Z"
   },
   {
    "duration": 44,
    "start_time": "2021-08-13T07:50:59.416Z"
   },
   {
    "duration": 13,
    "start_time": "2021-08-13T07:50:59.463Z"
   },
   {
    "duration": 16,
    "start_time": "2021-08-13T07:50:59.479Z"
   },
   {
    "duration": 4,
    "start_time": "2021-08-13T07:50:59.498Z"
   },
   {
    "duration": 72,
    "start_time": "2021-08-13T07:50:59.505Z"
   },
   {
    "duration": 9,
    "start_time": "2021-08-13T07:50:59.580Z"
   },
   {
    "duration": 35,
    "start_time": "2021-08-13T07:50:59.591Z"
   },
   {
    "duration": 59,
    "start_time": "2021-08-13T07:52:08.942Z"
   },
   {
    "duration": 4,
    "start_time": "2021-08-13T07:52:27.569Z"
   },
   {
    "duration": 4,
    "start_time": "2021-08-13T07:53:19.720Z"
   },
   {
    "duration": 5,
    "start_time": "2021-08-13T07:53:26.743Z"
   },
   {
    "duration": 4,
    "start_time": "2021-08-13T07:53:30.045Z"
   },
   {
    "duration": 6717,
    "start_time": "2021-08-13T07:53:49.586Z"
   },
   {
    "duration": 518,
    "start_time": "2021-08-13T07:54:05.217Z"
   },
   {
    "duration": 20,
    "start_time": "2021-08-13T07:54:05.738Z"
   },
   {
    "duration": 24,
    "start_time": "2021-08-13T07:54:05.761Z"
   },
   {
    "duration": 44,
    "start_time": "2021-08-13T07:54:05.788Z"
   },
   {
    "duration": 14,
    "start_time": "2021-08-13T07:54:05.835Z"
   },
   {
    "duration": 32,
    "start_time": "2021-08-13T07:54:05.855Z"
   },
   {
    "duration": 26,
    "start_time": "2021-08-13T07:54:05.889Z"
   },
   {
    "duration": 40,
    "start_time": "2021-08-13T07:54:05.919Z"
   },
   {
    "duration": 33,
    "start_time": "2021-08-13T07:54:05.963Z"
   },
   {
    "duration": 13,
    "start_time": "2021-08-13T07:54:05.999Z"
   },
   {
    "duration": 54,
    "start_time": "2021-08-13T07:54:06.014Z"
   },
   {
    "duration": 109,
    "start_time": "2021-08-13T07:54:06.071Z"
   },
   {
    "duration": 5,
    "start_time": "2021-08-13T07:54:06.183Z"
   },
   {
    "duration": 41,
    "start_time": "2021-08-13T07:54:06.191Z"
   },
   {
    "duration": 79,
    "start_time": "2021-08-13T07:54:06.235Z"
   },
   {
    "duration": 3,
    "start_time": "2021-08-13T07:54:06.317Z"
   },
   {
    "duration": 20,
    "start_time": "2021-08-13T07:54:06.323Z"
   },
   {
    "duration": 74,
    "start_time": "2021-08-13T07:54:06.346Z"
   },
   {
    "duration": 37,
    "start_time": "2021-08-13T07:54:06.423Z"
   },
   {
    "duration": 4,
    "start_time": "2021-08-13T07:54:06.463Z"
   },
   {
    "duration": 21,
    "start_time": "2021-08-13T07:54:06.470Z"
   },
   {
    "duration": 58,
    "start_time": "2021-08-13T07:54:06.493Z"
   },
   {
    "duration": 9,
    "start_time": "2021-08-13T07:54:06.556Z"
   },
   {
    "duration": 52,
    "start_time": "2021-08-13T07:54:06.568Z"
   },
   {
    "duration": 8,
    "start_time": "2021-08-13T07:55:03.827Z"
   },
   {
    "duration": 16,
    "start_time": "2021-08-13T07:56:54.366Z"
   },
   {
    "duration": 13,
    "start_time": "2021-08-13T07:57:02.846Z"
   },
   {
    "duration": 14,
    "start_time": "2021-08-13T07:57:13.850Z"
   },
   {
    "duration": 18,
    "start_time": "2021-08-13T07:58:33.993Z"
   },
   {
    "duration": 17,
    "start_time": "2021-08-13T07:59:32.128Z"
   },
   {
    "duration": 5,
    "start_time": "2021-08-13T08:01:18.239Z"
   },
   {
    "duration": 20,
    "start_time": "2021-08-13T08:01:29.265Z"
   },
   {
    "duration": 20,
    "start_time": "2021-08-13T08:01:34.015Z"
   },
   {
    "duration": 102,
    "start_time": "2021-08-13T08:01:50.283Z"
   },
   {
    "duration": 79,
    "start_time": "2021-08-13T08:02:19.768Z"
   },
   {
    "duration": 14,
    "start_time": "2021-08-13T08:02:24.872Z"
   },
   {
    "duration": 61,
    "start_time": "2021-08-13T08:03:26.809Z"
   },
   {
    "duration": 51,
    "start_time": "2021-08-13T08:03:32.421Z"
   },
   {
    "duration": 3,
    "start_time": "2021-08-13T08:03:46.717Z"
   },
   {
    "duration": 520,
    "start_time": "2021-08-13T08:03:47.751Z"
   },
   {
    "duration": 274,
    "start_time": "2021-08-13T08:03:59.101Z"
   },
   {
    "duration": 3,
    "start_time": "2021-08-13T08:04:04.665Z"
   },
   {
    "duration": 533,
    "start_time": "2021-08-13T08:04:04.674Z"
   },
   {
    "duration": 19,
    "start_time": "2021-08-13T08:04:05.210Z"
   },
   {
    "duration": 18,
    "start_time": "2021-08-13T08:04:05.232Z"
   },
   {
    "duration": 44,
    "start_time": "2021-08-13T08:04:05.252Z"
   },
   {
    "duration": 11,
    "start_time": "2021-08-13T08:04:05.298Z"
   },
   {
    "duration": 26,
    "start_time": "2021-08-13T08:04:05.311Z"
   },
   {
    "duration": 26,
    "start_time": "2021-08-13T08:04:05.356Z"
   },
   {
    "duration": 9,
    "start_time": "2021-08-13T08:04:05.387Z"
   },
   {
    "duration": 64,
    "start_time": "2021-08-13T08:04:05.399Z"
   },
   {
    "duration": 9,
    "start_time": "2021-08-13T08:04:05.465Z"
   },
   {
    "duration": 17,
    "start_time": "2021-08-13T08:04:05.477Z"
   },
   {
    "duration": 118,
    "start_time": "2021-08-13T08:04:05.497Z"
   },
   {
    "duration": 4,
    "start_time": "2021-08-13T08:04:05.618Z"
   },
   {
    "duration": 30,
    "start_time": "2021-08-13T08:04:05.624Z"
   },
   {
    "duration": 71,
    "start_time": "2021-08-13T08:04:05.657Z"
   },
   {
    "duration": 27,
    "start_time": "2021-08-13T08:04:05.730Z"
   },
   {
    "duration": 116,
    "start_time": "2021-08-13T08:04:05.759Z"
   },
   {
    "duration": 3,
    "start_time": "2021-08-13T08:04:05.878Z"
   },
   {
    "duration": 12,
    "start_time": "2021-08-13T08:04:05.883Z"
   },
   {
    "duration": 94,
    "start_time": "2021-08-13T08:04:05.897Z"
   },
   {
    "duration": 16,
    "start_time": "2021-08-13T08:04:05.993Z"
   },
   {
    "duration": 19,
    "start_time": "2021-08-13T08:04:06.012Z"
   },
   {
    "duration": 32,
    "start_time": "2021-08-13T08:04:06.036Z"
   },
   {
    "duration": 8,
    "start_time": "2021-08-13T08:04:06.071Z"
   },
   {
    "duration": 22,
    "start_time": "2021-08-13T08:04:06.082Z"
   },
   {
    "duration": 8,
    "start_time": "2021-08-13T08:04:06.106Z"
   },
   {
    "duration": 18,
    "start_time": "2021-08-13T08:04:06.116Z"
   },
   {
    "duration": 47,
    "start_time": "2021-08-13T08:04:06.136Z"
   },
   {
    "duration": 9,
    "start_time": "2021-08-13T08:04:06.185Z"
   },
   {
    "duration": 58,
    "start_time": "2021-08-13T08:04:06.196Z"
   },
   {
    "duration": 15,
    "start_time": "2021-08-13T08:04:17.352Z"
   },
   {
    "duration": 10,
    "start_time": "2021-08-13T08:04:24.796Z"
   },
   {
    "duration": 9,
    "start_time": "2021-08-13T08:04:29.998Z"
   },
   {
    "duration": 11,
    "start_time": "2021-08-13T08:04:31.655Z"
   },
   {
    "duration": 6,
    "start_time": "2021-08-13T08:05:59.593Z"
   },
   {
    "duration": 13,
    "start_time": "2021-08-13T08:06:04.438Z"
   },
   {
    "duration": 3,
    "start_time": "2021-08-13T08:06:36.007Z"
   },
   {
    "duration": 548,
    "start_time": "2021-08-13T08:06:36.013Z"
   },
   {
    "duration": 19,
    "start_time": "2021-08-13T08:06:36.564Z"
   },
   {
    "duration": 10,
    "start_time": "2021-08-13T08:06:36.585Z"
   },
   {
    "duration": 59,
    "start_time": "2021-08-13T08:06:36.597Z"
   },
   {
    "duration": 11,
    "start_time": "2021-08-13T08:06:36.659Z"
   },
   {
    "duration": 26,
    "start_time": "2021-08-13T08:06:36.673Z"
   },
   {
    "duration": 58,
    "start_time": "2021-08-13T08:06:36.702Z"
   },
   {
    "duration": 9,
    "start_time": "2021-08-13T08:06:36.762Z"
   },
   {
    "duration": 43,
    "start_time": "2021-08-13T08:06:36.773Z"
   },
   {
    "duration": 9,
    "start_time": "2021-08-13T08:06:36.818Z"
   },
   {
    "duration": 40,
    "start_time": "2021-08-13T08:06:36.830Z"
   },
   {
    "duration": 106,
    "start_time": "2021-08-13T08:06:36.873Z"
   },
   {
    "duration": 4,
    "start_time": "2021-08-13T08:06:36.981Z"
   },
   {
    "duration": 19,
    "start_time": "2021-08-13T08:06:36.988Z"
   },
   {
    "duration": 92,
    "start_time": "2021-08-13T08:06:37.010Z"
   },
   {
    "duration": 14,
    "start_time": "2021-08-13T08:06:37.105Z"
   },
   {
    "duration": 124,
    "start_time": "2021-08-13T08:06:37.122Z"
   },
   {
    "duration": 3,
    "start_time": "2021-08-13T08:06:37.256Z"
   },
   {
    "duration": 5,
    "start_time": "2021-08-13T08:06:37.261Z"
   },
   {
    "duration": 85,
    "start_time": "2021-08-13T08:06:37.269Z"
   },
   {
    "duration": 13,
    "start_time": "2021-08-13T08:06:37.357Z"
   },
   {
    "duration": 14,
    "start_time": "2021-08-13T08:06:37.372Z"
   },
   {
    "duration": 15,
    "start_time": "2021-08-13T08:06:37.389Z"
   },
   {
    "duration": 12,
    "start_time": "2021-08-13T08:06:37.406Z"
   },
   {
    "duration": 37,
    "start_time": "2021-08-13T08:06:37.420Z"
   },
   {
    "duration": 7,
    "start_time": "2021-08-13T08:06:37.459Z"
   },
   {
    "duration": 32,
    "start_time": "2021-08-13T08:06:37.468Z"
   },
   {
    "duration": 7,
    "start_time": "2021-08-13T08:06:37.503Z"
   },
   {
    "duration": 66,
    "start_time": "2021-08-13T08:06:37.513Z"
   },
   {
    "duration": 4,
    "start_time": "2021-08-13T08:06:48.348Z"
   },
   {
    "duration": 12,
    "start_time": "2021-08-13T08:07:16.068Z"
   },
   {
    "duration": 4,
    "start_time": "2021-08-13T08:07:20.114Z"
   },
   {
    "duration": 4,
    "start_time": "2021-08-13T08:07:44.706Z"
   },
   {
    "duration": 11,
    "start_time": "2021-08-13T08:07:50.224Z"
   },
   {
    "duration": 4,
    "start_time": "2021-08-13T08:07:56.446Z"
   },
   {
    "duration": 10,
    "start_time": "2021-08-13T08:08:03.089Z"
   },
   {
    "duration": 5,
    "start_time": "2021-08-13T08:08:23.462Z"
   },
   {
    "duration": 31,
    "start_time": "2021-08-13T08:08:23.994Z"
   },
   {
    "duration": 8,
    "start_time": "2021-08-13T08:08:24.664Z"
   },
   {
    "duration": 33,
    "start_time": "2021-08-13T08:08:33.099Z"
   },
   {
    "duration": 4,
    "start_time": "2021-08-13T08:08:36.545Z"
   },
   {
    "duration": 588,
    "start_time": "2021-08-13T08:08:36.552Z"
   },
   {
    "duration": 20,
    "start_time": "2021-08-13T08:08:37.144Z"
   },
   {
    "duration": 25,
    "start_time": "2021-08-13T08:08:37.168Z"
   },
   {
    "duration": 50,
    "start_time": "2021-08-13T08:08:37.197Z"
   },
   {
    "duration": 11,
    "start_time": "2021-08-13T08:08:37.250Z"
   },
   {
    "duration": 40,
    "start_time": "2021-08-13T08:08:37.264Z"
   },
   {
    "duration": 30,
    "start_time": "2021-08-13T08:08:37.307Z"
   },
   {
    "duration": 22,
    "start_time": "2021-08-13T08:08:37.340Z"
   },
   {
    "duration": 51,
    "start_time": "2021-08-13T08:08:37.364Z"
   },
   {
    "duration": 10,
    "start_time": "2021-08-13T08:08:37.417Z"
   },
   {
    "duration": 38,
    "start_time": "2021-08-13T08:08:37.430Z"
   },
   {
    "duration": 104,
    "start_time": "2021-08-13T08:08:37.471Z"
   },
   {
    "duration": 4,
    "start_time": "2021-08-13T08:08:37.577Z"
   },
   {
    "duration": 36,
    "start_time": "2021-08-13T08:08:37.584Z"
   },
   {
    "duration": 95,
    "start_time": "2021-08-13T08:08:37.623Z"
   },
   {
    "duration": 14,
    "start_time": "2021-08-13T08:08:37.721Z"
   },
   {
    "duration": 134,
    "start_time": "2021-08-13T08:08:37.738Z"
   },
   {
    "duration": 3,
    "start_time": "2021-08-13T08:08:37.876Z"
   },
   {
    "duration": 12,
    "start_time": "2021-08-13T08:08:37.882Z"
   },
   {
    "duration": 87,
    "start_time": "2021-08-13T08:08:37.896Z"
   },
   {
    "duration": 14,
    "start_time": "2021-08-13T08:08:37.985Z"
   },
   {
    "duration": 23,
    "start_time": "2021-08-13T08:08:38.001Z"
   },
   {
    "duration": 22,
    "start_time": "2021-08-13T08:08:38.027Z"
   },
   {
    "duration": 19,
    "start_time": "2021-08-13T08:08:38.052Z"
   },
   {
    "duration": 38,
    "start_time": "2021-08-13T08:08:38.073Z"
   },
   {
    "duration": 23,
    "start_time": "2021-08-13T08:08:38.114Z"
   },
   {
    "duration": 18,
    "start_time": "2021-08-13T08:08:38.139Z"
   },
   {
    "duration": 20,
    "start_time": "2021-08-13T08:08:38.160Z"
   },
   {
    "duration": 143,
    "start_time": "2021-08-13T08:08:38.182Z"
   },
   {
    "duration": 7,
    "start_time": "2021-08-13T08:08:38.336Z"
   },
   {
    "duration": 66,
    "start_time": "2021-08-13T08:08:38.346Z"
   },
   {
    "duration": 27,
    "start_time": "2021-08-13T08:12:27.892Z"
   },
   {
    "duration": 3,
    "start_time": "2021-08-13T08:12:28.402Z"
   },
   {
    "duration": 35,
    "start_time": "2021-08-13T08:12:28.804Z"
   },
   {
    "duration": 259,
    "start_time": "2021-08-13T08:14:07.270Z"
   },
   {
    "duration": 17,
    "start_time": "2021-08-13T08:14:18.254Z"
   },
   {
    "duration": 17,
    "start_time": "2021-08-13T08:14:47.039Z"
   },
   {
    "duration": 35,
    "start_time": "2021-08-13T08:14:53.093Z"
   },
   {
    "duration": 270,
    "start_time": "2021-08-13T08:15:13.864Z"
   },
   {
    "duration": 5,
    "start_time": "2021-08-13T08:16:43.646Z"
   },
   {
    "duration": 261,
    "start_time": "2021-08-13T08:16:47.215Z"
   },
   {
    "duration": 277,
    "start_time": "2021-08-13T08:18:36.660Z"
   },
   {
    "duration": 4,
    "start_time": "2021-08-13T08:18:43.224Z"
   },
   {
    "duration": 12,
    "start_time": "2021-08-13T08:18:49.460Z"
   },
   {
    "duration": 524,
    "start_time": "2021-08-13T08:18:55.223Z"
   },
   {
    "duration": 443,
    "start_time": "2021-08-13T08:18:59.782Z"
   },
   {
    "duration": 265,
    "start_time": "2021-08-13T08:19:09.492Z"
   },
   {
    "duration": 4,
    "start_time": "2021-08-13T08:19:16.651Z"
   },
   {
    "duration": 11,
    "start_time": "2021-08-13T08:19:19.085Z"
   },
   {
    "duration": 4,
    "start_time": "2021-08-13T08:19:21.687Z"
   },
   {
    "duration": 516,
    "start_time": "2021-08-13T08:19:21.697Z"
   },
   {
    "duration": 21,
    "start_time": "2021-08-13T08:19:22.216Z"
   },
   {
    "duration": 13,
    "start_time": "2021-08-13T08:19:22.241Z"
   },
   {
    "duration": 38,
    "start_time": "2021-08-13T08:19:22.257Z"
   },
   {
    "duration": 12,
    "start_time": "2021-08-13T08:19:22.298Z"
   },
   {
    "duration": 61,
    "start_time": "2021-08-13T08:19:22.313Z"
   },
   {
    "duration": 28,
    "start_time": "2021-08-13T08:19:22.377Z"
   },
   {
    "duration": 10,
    "start_time": "2021-08-13T08:19:22.408Z"
   },
   {
    "duration": 61,
    "start_time": "2021-08-13T08:19:22.422Z"
   },
   {
    "duration": 11,
    "start_time": "2021-08-13T08:19:22.486Z"
   },
   {
    "duration": 55,
    "start_time": "2021-08-13T08:19:22.499Z"
   },
   {
    "duration": 96,
    "start_time": "2021-08-13T08:19:22.557Z"
   },
   {
    "duration": 4,
    "start_time": "2021-08-13T08:19:22.656Z"
   },
   {
    "duration": 25,
    "start_time": "2021-08-13T08:19:22.663Z"
   },
   {
    "duration": 83,
    "start_time": "2021-08-13T08:19:22.690Z"
   },
   {
    "duration": 13,
    "start_time": "2021-08-13T08:19:22.775Z"
   },
   {
    "duration": 124,
    "start_time": "2021-08-13T08:19:22.791Z"
   },
   {
    "duration": 3,
    "start_time": "2021-08-13T08:19:22.918Z"
   },
   {
    "duration": 8,
    "start_time": "2021-08-13T08:19:22.924Z"
   },
   {
    "duration": 85,
    "start_time": "2021-08-13T08:19:22.935Z"
   },
   {
    "duration": 11,
    "start_time": "2021-08-13T08:19:23.023Z"
   },
   {
    "duration": 19,
    "start_time": "2021-08-13T08:19:23.037Z"
   },
   {
    "duration": 25,
    "start_time": "2021-08-13T08:19:23.058Z"
   },
   {
    "duration": 12,
    "start_time": "2021-08-13T08:19:23.086Z"
   },
   {
    "duration": 29,
    "start_time": "2021-08-13T08:19:23.100Z"
   },
   {
    "duration": 20,
    "start_time": "2021-08-13T08:19:23.132Z"
   },
   {
    "duration": 17,
    "start_time": "2021-08-13T08:19:23.157Z"
   },
   {
    "duration": 18,
    "start_time": "2021-08-13T08:19:23.177Z"
   },
   {
    "duration": 32,
    "start_time": "2021-08-13T08:19:23.198Z"
   },
   {
    "duration": 23,
    "start_time": "2021-08-13T08:19:23.232Z"
   },
   {
    "duration": 22,
    "start_time": "2021-08-13T08:19:23.257Z"
   },
   {
    "duration": 33,
    "start_time": "2021-08-13T08:19:23.281Z"
   },
   {
    "duration": 274,
    "start_time": "2021-08-13T08:19:23.317Z"
   },
   {
    "duration": -219,
    "start_time": "2021-08-13T08:19:23.813Z"
   },
   {
    "duration": 268,
    "start_time": "2021-08-13T08:19:57.572Z"
   },
   {
    "duration": 290,
    "start_time": "2021-08-13T08:20:09.680Z"
   },
   {
    "duration": 4,
    "start_time": "2021-08-13T08:20:51.974Z"
   },
   {
    "duration": 562,
    "start_time": "2021-08-13T08:20:51.980Z"
   },
   {
    "duration": 21,
    "start_time": "2021-08-13T08:20:52.545Z"
   },
   {
    "duration": 11,
    "start_time": "2021-08-13T08:20:52.569Z"
   },
   {
    "duration": 40,
    "start_time": "2021-08-13T08:20:52.582Z"
   },
   {
    "duration": 36,
    "start_time": "2021-08-13T08:20:52.624Z"
   },
   {
    "duration": 26,
    "start_time": "2021-08-13T08:20:52.663Z"
   },
   {
    "duration": 64,
    "start_time": "2021-08-13T08:20:52.694Z"
   },
   {
    "duration": 9,
    "start_time": "2021-08-13T08:20:52.761Z"
   },
   {
    "duration": 35,
    "start_time": "2021-08-13T08:20:52.773Z"
   },
   {
    "duration": 54,
    "start_time": "2021-08-13T08:20:52.811Z"
   },
   {
    "duration": 19,
    "start_time": "2021-08-13T08:20:52.867Z"
   },
   {
    "duration": 128,
    "start_time": "2021-08-13T08:20:52.890Z"
   },
   {
    "duration": 5,
    "start_time": "2021-08-13T08:20:53.021Z"
   },
   {
    "duration": 31,
    "start_time": "2021-08-13T08:20:53.029Z"
   },
   {
    "duration": 72,
    "start_time": "2021-08-13T08:20:53.063Z"
   },
   {
    "duration": 13,
    "start_time": "2021-08-13T08:20:53.154Z"
   },
   {
    "duration": 119,
    "start_time": "2021-08-13T08:20:53.169Z"
   },
   {
    "duration": 3,
    "start_time": "2021-08-13T08:20:53.292Z"
   },
   {
    "duration": 9,
    "start_time": "2021-08-13T08:20:53.297Z"
   },
   {
    "duration": 95,
    "start_time": "2021-08-13T08:20:53.309Z"
   },
   {
    "duration": 18,
    "start_time": "2021-08-13T08:20:53.408Z"
   },
   {
    "duration": 25,
    "start_time": "2021-08-13T08:20:53.429Z"
   },
   {
    "duration": 16,
    "start_time": "2021-08-13T08:20:53.458Z"
   },
   {
    "duration": 6,
    "start_time": "2021-08-13T08:20:53.477Z"
   },
   {
    "duration": 14,
    "start_time": "2021-08-13T08:20:53.486Z"
   },
   {
    "duration": 14,
    "start_time": "2021-08-13T08:20:53.503Z"
   },
   {
    "duration": 4,
    "start_time": "2021-08-13T08:20:53.556Z"
   },
   {
    "duration": 8,
    "start_time": "2021-08-13T08:20:53.564Z"
   },
   {
    "duration": 24,
    "start_time": "2021-08-13T08:20:53.575Z"
   },
   {
    "duration": 66,
    "start_time": "2021-08-13T08:20:53.602Z"
   },
   {
    "duration": 3,
    "start_time": "2021-08-13T08:20:53.671Z"
   },
   {
    "duration": 39,
    "start_time": "2021-08-13T08:20:53.677Z"
   },
   {
    "duration": 7,
    "start_time": "2021-08-13T08:41:34.812Z"
   },
   {
    "duration": 36,
    "start_time": "2021-08-13T08:41:41.202Z"
   },
   {
    "duration": 5,
    "start_time": "2021-08-13T08:42:28.169Z"
   },
   {
    "duration": 36,
    "start_time": "2021-08-13T08:42:29.122Z"
   },
   {
    "duration": 8,
    "start_time": "2021-08-13T08:46:09.315Z"
   },
   {
    "duration": 39,
    "start_time": "2021-08-13T08:46:14.546Z"
   },
   {
    "duration": 4,
    "start_time": "2021-08-13T08:50:43.207Z"
   },
   {
    "duration": 7208,
    "start_time": "2021-08-13T08:51:53.940Z"
   },
   {
    "duration": 6,
    "start_time": "2021-08-13T08:52:15.328Z"
   },
   {
    "duration": 7,
    "start_time": "2021-08-13T08:52:21.866Z"
   },
   {
    "duration": 9,
    "start_time": "2021-08-13T08:52:39.772Z"
   },
   {
    "duration": 11,
    "start_time": "2021-08-13T08:52:52.193Z"
   },
   {
    "duration": 36,
    "start_time": "2021-08-13T08:52:57.144Z"
   },
   {
    "duration": 4,
    "start_time": "2021-08-13T08:53:23.247Z"
   },
   {
    "duration": 11,
    "start_time": "2021-08-13T08:53:23.867Z"
   },
   {
    "duration": 36,
    "start_time": "2021-08-13T08:53:24.492Z"
   },
   {
    "duration": 4,
    "start_time": "2021-08-13T08:53:31.432Z"
   },
   {
    "duration": 10,
    "start_time": "2021-08-13T08:53:31.972Z"
   },
   {
    "duration": 37,
    "start_time": "2021-08-13T08:53:32.701Z"
   },
   {
    "duration": 18,
    "start_time": "2021-08-13T08:54:11.991Z"
   },
   {
    "duration": 18,
    "start_time": "2021-08-13T08:54:24.137Z"
   },
   {
    "duration": 4,
    "start_time": "2021-08-13T08:54:37.764Z"
   },
   {
    "duration": 12,
    "start_time": "2021-08-13T08:54:38.301Z"
   },
   {
    "duration": 16,
    "start_time": "2021-08-13T08:54:38.772Z"
   },
   {
    "duration": 4,
    "start_time": "2021-08-13T08:55:16.416Z"
   },
   {
    "duration": 14,
    "start_time": "2021-08-13T08:55:16.976Z"
   },
   {
    "duration": 16,
    "start_time": "2021-08-13T08:55:17.460Z"
   },
   {
    "duration": 34,
    "start_time": "2021-08-13T08:55:23.818Z"
   },
   {
    "duration": 12,
    "start_time": "2021-08-13T08:56:21.055Z"
   },
   {
    "duration": 43,
    "start_time": "2021-08-13T08:56:21.728Z"
   },
   {
    "duration": 4,
    "start_time": "2021-08-13T08:56:35.876Z"
   },
   {
    "duration": 550,
    "start_time": "2021-08-13T08:56:35.882Z"
   },
   {
    "duration": 20,
    "start_time": "2021-08-13T08:56:36.436Z"
   },
   {
    "duration": 13,
    "start_time": "2021-08-13T08:56:36.460Z"
   },
   {
    "duration": 37,
    "start_time": "2021-08-13T08:56:36.476Z"
   },
   {
    "duration": 43,
    "start_time": "2021-08-13T08:56:36.517Z"
   },
   {
    "duration": 44,
    "start_time": "2021-08-13T08:56:36.568Z"
   },
   {
    "duration": 47,
    "start_time": "2021-08-13T08:56:36.616Z"
   },
   {
    "duration": 10,
    "start_time": "2021-08-13T08:56:36.666Z"
   },
   {
    "duration": 33,
    "start_time": "2021-08-13T08:56:36.679Z"
   },
   {
    "duration": 12,
    "start_time": "2021-08-13T08:56:36.755Z"
   },
   {
    "duration": 17,
    "start_time": "2021-08-13T08:56:36.770Z"
   },
   {
    "duration": 163,
    "start_time": "2021-08-13T08:56:36.791Z"
   },
   {
    "duration": 5,
    "start_time": "2021-08-13T08:56:36.960Z"
   },
   {
    "duration": 22,
    "start_time": "2021-08-13T08:56:36.967Z"
   },
   {
    "duration": 90,
    "start_time": "2021-08-13T08:56:36.992Z"
   },
   {
    "duration": 13,
    "start_time": "2021-08-13T08:56:37.085Z"
   },
   {
    "duration": 149,
    "start_time": "2021-08-13T08:56:37.101Z"
   },
   {
    "duration": 7,
    "start_time": "2021-08-13T08:56:37.256Z"
   },
   {
    "duration": 8,
    "start_time": "2021-08-13T08:56:37.266Z"
   },
   {
    "duration": 119,
    "start_time": "2021-08-13T08:56:37.277Z"
   },
   {
    "duration": 17,
    "start_time": "2021-08-13T08:56:37.399Z"
   },
   {
    "duration": 6,
    "start_time": "2021-08-13T08:56:37.419Z"
   },
   {
    "duration": 33,
    "start_time": "2021-08-13T08:56:37.428Z"
   },
   {
    "duration": 15,
    "start_time": "2021-08-13T08:56:37.463Z"
   },
   {
    "duration": 21,
    "start_time": "2021-08-13T08:56:37.481Z"
   },
   {
    "duration": 36,
    "start_time": "2021-08-13T08:56:37.505Z"
   },
   {
    "duration": 27,
    "start_time": "2021-08-13T08:56:37.544Z"
   },
   {
    "duration": 24,
    "start_time": "2021-08-13T08:56:37.574Z"
   },
   {
    "duration": 36,
    "start_time": "2021-08-13T08:56:37.600Z"
   },
   {
    "duration": 56,
    "start_time": "2021-08-13T08:56:37.639Z"
   },
   {
    "duration": 5,
    "start_time": "2021-08-13T08:56:37.698Z"
   },
   {
    "duration": 59,
    "start_time": "2021-08-13T08:56:37.705Z"
   },
   {
    "duration": 8,
    "start_time": "2021-08-13T08:56:37.767Z"
   },
   {
    "duration": 47,
    "start_time": "2021-08-13T08:56:37.778Z"
   },
   {
    "duration": 27,
    "start_time": "2021-08-13T08:56:37.828Z"
   },
   {
    "duration": 20,
    "start_time": "2021-08-13T08:56:37.858Z"
   },
   {
    "duration": 19,
    "start_time": "2021-08-13T08:56:37.881Z"
   },
   {
    "duration": 51,
    "start_time": "2021-08-13T08:56:37.903Z"
   },
   {
    "duration": 9809,
    "start_time": "2021-08-13T08:58:35.317Z"
   },
   {
    "duration": -211,
    "start_time": "2021-08-13T08:58:45.340Z"
   },
   {
    "duration": 6,
    "start_time": "2021-08-13T08:58:53.667Z"
   },
   {
    "duration": 40,
    "start_time": "2021-08-13T08:58:56.325Z"
   },
   {
    "duration": 7,
    "start_time": "2021-08-13T08:59:53.340Z"
   },
   {
    "duration": 36,
    "start_time": "2021-08-13T08:59:55.584Z"
   },
   {
    "duration": 4,
    "start_time": "2021-08-13T09:00:19.798Z"
   },
   {
    "duration": 4,
    "start_time": "2021-08-13T09:00:20.247Z"
   },
   {
    "duration": 11,
    "start_time": "2021-08-13T09:00:20.726Z"
   },
   {
    "duration": 57,
    "start_time": "2021-08-13T09:00:21.214Z"
   },
   {
    "duration": 5,
    "start_time": "2021-08-13T09:16:38.154Z"
   },
   {
    "duration": 9,
    "start_time": "2021-08-13T09:16:44.479Z"
   },
   {
    "duration": 74,
    "start_time": "2021-08-13T09:16:52.826Z"
   },
   {
    "duration": 10,
    "start_time": "2021-08-13T09:18:18.930Z"
   },
   {
    "duration": 8005,
    "start_time": "2021-08-13T09:18:23.626Z"
   },
   {
    "duration": -181,
    "start_time": "2021-08-13T09:18:31.814Z"
   },
   {
    "duration": 3,
    "start_time": "2021-08-13T09:18:48.415Z"
   },
   {
    "duration": 541,
    "start_time": "2021-08-13T09:18:48.423Z"
   },
   {
    "duration": 20,
    "start_time": "2021-08-13T09:18:48.967Z"
   },
   {
    "duration": 32,
    "start_time": "2021-08-13T09:18:48.990Z"
   },
   {
    "duration": 58,
    "start_time": "2021-08-13T09:18:49.024Z"
   },
   {
    "duration": 9,
    "start_time": "2021-08-13T09:18:49.085Z"
   },
   {
    "duration": 41,
    "start_time": "2021-08-13T09:18:49.097Z"
   },
   {
    "duration": 37,
    "start_time": "2021-08-13T09:18:49.140Z"
   },
   {
    "duration": 31,
    "start_time": "2021-08-13T09:18:49.181Z"
   },
   {
    "duration": 66,
    "start_time": "2021-08-13T09:18:49.216Z"
   },
   {
    "duration": 9,
    "start_time": "2021-08-13T09:18:49.284Z"
   },
   {
    "duration": 32,
    "start_time": "2021-08-13T09:18:49.296Z"
   },
   {
    "duration": 151,
    "start_time": "2021-08-13T09:18:49.331Z"
   },
   {
    "duration": 5,
    "start_time": "2021-08-13T09:18:49.485Z"
   },
   {
    "duration": 35,
    "start_time": "2021-08-13T09:18:49.494Z"
   },
   {
    "duration": 96,
    "start_time": "2021-08-13T09:18:49.532Z"
   },
   {
    "duration": 23,
    "start_time": "2021-08-13T09:18:49.631Z"
   },
   {
    "duration": 111,
    "start_time": "2021-08-13T09:18:49.656Z"
   },
   {
    "duration": 3,
    "start_time": "2021-08-13T09:18:49.769Z"
   },
   {
    "duration": 30,
    "start_time": "2021-08-13T09:18:49.774Z"
   },
   {
    "duration": 86,
    "start_time": "2021-08-13T09:18:49.806Z"
   },
   {
    "duration": 13,
    "start_time": "2021-08-13T09:18:49.894Z"
   },
   {
    "duration": 17,
    "start_time": "2021-08-13T09:18:49.913Z"
   },
   {
    "duration": 42,
    "start_time": "2021-08-13T09:18:49.935Z"
   },
   {
    "duration": 19,
    "start_time": "2021-08-13T09:18:49.980Z"
   },
   {
    "duration": 37,
    "start_time": "2021-08-13T09:18:50.001Z"
   },
   {
    "duration": 32,
    "start_time": "2021-08-13T09:18:50.040Z"
   },
   {
    "duration": 26,
    "start_time": "2021-08-13T09:18:50.074Z"
   },
   {
    "duration": 31,
    "start_time": "2021-08-13T09:18:50.103Z"
   },
   {
    "duration": 27,
    "start_time": "2021-08-13T09:18:50.137Z"
   },
   {
    "duration": 48,
    "start_time": "2021-08-13T09:18:50.166Z"
   },
   {
    "duration": 3,
    "start_time": "2021-08-13T09:18:50.216Z"
   },
   {
    "duration": 49,
    "start_time": "2021-08-13T09:18:50.222Z"
   },
   {
    "duration": 8,
    "start_time": "2021-08-13T09:18:50.274Z"
   },
   {
    "duration": 52,
    "start_time": "2021-08-13T09:18:50.285Z"
   },
   {
    "duration": 4,
    "start_time": "2021-08-13T09:18:50.340Z"
   },
   {
    "duration": 15,
    "start_time": "2021-08-13T09:18:50.354Z"
   },
   {
    "duration": 61,
    "start_time": "2021-08-13T09:18:50.372Z"
   },
   {
    "duration": 10,
    "start_time": "2021-08-13T09:18:50.435Z"
   },
   {
    "duration": 55,
    "start_time": "2021-08-13T09:18:50.448Z"
   },
   {
    "duration": 7433,
    "start_time": "2021-08-13T09:18:50.505Z"
   },
   {
    "duration": 8,
    "start_time": "2021-08-13T09:19:17.491Z"
   },
   {
    "duration": 39,
    "start_time": "2021-08-13T09:21:28.342Z"
   },
   {
    "duration": 8,
    "start_time": "2021-08-13T09:22:16.914Z"
   },
   {
    "duration": 38,
    "start_time": "2021-08-13T09:22:17.866Z"
   },
   {
    "duration": 7,
    "start_time": "2021-08-13T09:23:27.696Z"
   },
   {
    "duration": 38,
    "start_time": "2021-08-13T09:23:28.100Z"
   },
   {
    "duration": 324,
    "start_time": "2021-08-13T09:25:28.933Z"
   },
   {
    "duration": 295,
    "start_time": "2021-08-13T09:25:38.403Z"
   },
   {
    "duration": 6,
    "start_time": "2021-08-13T09:25:57.274Z"
   },
   {
    "duration": 41,
    "start_time": "2021-08-13T09:26:04.395Z"
   },
   {
    "duration": 6,
    "start_time": "2021-08-13T09:27:30.077Z"
   },
   {
    "duration": 39,
    "start_time": "2021-08-13T09:27:32.468Z"
   },
   {
    "duration": 26,
    "start_time": "2021-08-13T09:28:03.462Z"
   },
   {
    "duration": 30,
    "start_time": "2021-08-13T09:52:34.175Z"
   },
   {
    "duration": 37,
    "start_time": "2021-08-13T09:53:02.007Z"
   },
   {
    "duration": 40,
    "start_time": "2021-08-13T09:54:12.649Z"
   },
   {
    "duration": 8,
    "start_time": "2021-08-13T09:57:22.836Z"
   },
   {
    "duration": 54,
    "start_time": "2021-08-13T09:57:24.533Z"
   },
   {
    "duration": 3,
    "start_time": "2021-08-13T09:57:37.972Z"
   },
   {
    "duration": 556,
    "start_time": "2021-08-13T09:57:37.978Z"
   },
   {
    "duration": 20,
    "start_time": "2021-08-13T09:57:38.537Z"
   },
   {
    "duration": 13,
    "start_time": "2021-08-13T09:57:38.561Z"
   },
   {
    "duration": 38,
    "start_time": "2021-08-13T09:57:38.576Z"
   },
   {
    "duration": 39,
    "start_time": "2021-08-13T09:57:38.617Z"
   },
   {
    "duration": 26,
    "start_time": "2021-08-13T09:57:38.660Z"
   },
   {
    "duration": 27,
    "start_time": "2021-08-13T09:57:38.689Z"
   },
   {
    "duration": 43,
    "start_time": "2021-08-13T09:57:38.719Z"
   },
   {
    "duration": 32,
    "start_time": "2021-08-13T09:57:38.764Z"
   },
   {
    "duration": 11,
    "start_time": "2021-08-13T09:57:38.798Z"
   },
   {
    "duration": 54,
    "start_time": "2021-08-13T09:57:38.812Z"
   },
   {
    "duration": 108,
    "start_time": "2021-08-13T09:57:38.868Z"
   },
   {
    "duration": 4,
    "start_time": "2021-08-13T09:57:38.979Z"
   },
   {
    "duration": 15,
    "start_time": "2021-08-13T09:57:38.986Z"
   },
   {
    "duration": 90,
    "start_time": "2021-08-13T09:57:39.004Z"
   },
   {
    "duration": 13,
    "start_time": "2021-08-13T09:57:39.097Z"
   },
   {
    "duration": 134,
    "start_time": "2021-08-13T09:57:39.112Z"
   },
   {
    "duration": 3,
    "start_time": "2021-08-13T09:57:39.258Z"
   },
   {
    "duration": 6,
    "start_time": "2021-08-13T09:57:39.265Z"
   },
   {
    "duration": 113,
    "start_time": "2021-08-13T09:57:39.274Z"
   },
   {
    "duration": 12,
    "start_time": "2021-08-13T09:57:39.390Z"
   },
   {
    "duration": 8,
    "start_time": "2021-08-13T09:57:39.404Z"
   },
   {
    "duration": 12,
    "start_time": "2021-08-13T09:57:39.414Z"
   },
   {
    "duration": 4,
    "start_time": "2021-08-13T09:57:39.454Z"
   },
   {
    "duration": 23,
    "start_time": "2021-08-13T09:57:39.461Z"
   },
   {
    "duration": 20,
    "start_time": "2021-08-13T09:57:39.487Z"
   },
   {
    "duration": 6,
    "start_time": "2021-08-13T09:57:39.509Z"
   },
   {
    "duration": 8,
    "start_time": "2021-08-13T09:57:39.517Z"
   },
   {
    "duration": 41,
    "start_time": "2021-08-13T09:57:39.528Z"
   },
   {
    "duration": 32,
    "start_time": "2021-08-13T09:57:39.572Z"
   },
   {
    "duration": 3,
    "start_time": "2021-08-13T09:57:39.606Z"
   },
   {
    "duration": 66,
    "start_time": "2021-08-13T09:57:39.611Z"
   },
   {
    "duration": 9,
    "start_time": "2021-08-13T09:57:39.680Z"
   },
   {
    "duration": 53,
    "start_time": "2021-08-13T09:57:39.691Z"
   },
   {
    "duration": 3,
    "start_time": "2021-08-13T09:57:39.755Z"
   },
   {
    "duration": 22,
    "start_time": "2021-08-13T09:57:39.761Z"
   },
   {
    "duration": 57,
    "start_time": "2021-08-13T09:57:39.785Z"
   },
   {
    "duration": 10,
    "start_time": "2021-08-13T09:57:39.845Z"
   },
   {
    "duration": 45,
    "start_time": "2021-08-13T09:57:39.858Z"
   },
   {
    "duration": 24,
    "start_time": "2021-08-13T09:57:39.906Z"
   },
   {
    "duration": 62,
    "start_time": "2021-08-13T09:57:39.933Z"
   },
   {
    "duration": 12,
    "start_time": "2021-08-13T09:57:39.997Z"
   },
   {
    "duration": 13,
    "start_time": "2021-08-13T09:57:40.012Z"
   },
   {
    "duration": 42,
    "start_time": "2021-08-13T09:57:40.028Z"
   },
   {
    "duration": 26,
    "start_time": "2021-08-13T09:58:31.780Z"
   },
   {
    "duration": 25,
    "start_time": "2021-08-13T10:00:03.012Z"
   },
   {
    "duration": 4,
    "start_time": "2021-08-13T10:00:47.818Z"
   },
   {
    "duration": 563,
    "start_time": "2021-08-13T10:00:47.826Z"
   },
   {
    "duration": 21,
    "start_time": "2021-08-13T10:00:48.392Z"
   },
   {
    "duration": 25,
    "start_time": "2021-08-13T10:00:48.417Z"
   },
   {
    "duration": 47,
    "start_time": "2021-08-13T10:00:48.445Z"
   },
   {
    "duration": 11,
    "start_time": "2021-08-13T10:00:48.495Z"
   },
   {
    "duration": 28,
    "start_time": "2021-08-13T10:00:48.509Z"
   },
   {
    "duration": 26,
    "start_time": "2021-08-13T10:00:48.556Z"
   },
   {
    "duration": 10,
    "start_time": "2021-08-13T10:00:48.586Z"
   },
   {
    "duration": 63,
    "start_time": "2021-08-13T10:00:48.599Z"
   },
   {
    "duration": 11,
    "start_time": "2021-08-13T10:00:48.664Z"
   },
   {
    "duration": 22,
    "start_time": "2021-08-13T10:00:48.678Z"
   },
   {
    "duration": 116,
    "start_time": "2021-08-13T10:00:48.702Z"
   },
   {
    "duration": 4,
    "start_time": "2021-08-13T10:00:48.821Z"
   },
   {
    "duration": 29,
    "start_time": "2021-08-13T10:00:48.828Z"
   },
   {
    "duration": 78,
    "start_time": "2021-08-13T10:00:48.859Z"
   },
   {
    "duration": 21,
    "start_time": "2021-08-13T10:00:48.940Z"
   },
   {
    "duration": 116,
    "start_time": "2021-08-13T10:00:48.963Z"
   },
   {
    "duration": 3,
    "start_time": "2021-08-13T10:00:49.081Z"
   },
   {
    "duration": 25,
    "start_time": "2021-08-13T10:00:49.087Z"
   },
   {
    "duration": 77,
    "start_time": "2021-08-13T10:00:49.114Z"
   },
   {
    "duration": 13,
    "start_time": "2021-08-13T10:00:49.194Z"
   },
   {
    "duration": 24,
    "start_time": "2021-08-13T10:00:49.209Z"
   },
   {
    "duration": 30,
    "start_time": "2021-08-13T10:00:49.238Z"
   },
   {
    "duration": 19,
    "start_time": "2021-08-13T10:00:49.271Z"
   },
   {
    "duration": 28,
    "start_time": "2021-08-13T10:00:49.292Z"
   },
   {
    "duration": 27,
    "start_time": "2021-08-13T10:00:49.323Z"
   },
   {
    "duration": 17,
    "start_time": "2021-08-13T10:00:49.353Z"
   },
   {
    "duration": 25,
    "start_time": "2021-08-13T10:00:49.372Z"
   },
   {
    "duration": 32,
    "start_time": "2021-08-13T10:00:49.400Z"
   },
   {
    "duration": 45,
    "start_time": "2021-08-13T10:00:49.435Z"
   },
   {
    "duration": 3,
    "start_time": "2021-08-13T10:00:49.483Z"
   },
   {
    "duration": 67,
    "start_time": "2021-08-13T10:00:49.489Z"
   },
   {
    "duration": 9,
    "start_time": "2021-08-13T10:00:49.559Z"
   },
   {
    "duration": 27,
    "start_time": "2021-08-13T10:00:49.570Z"
   },
   {
    "duration": 29,
    "start_time": "2021-08-13T10:00:49.599Z"
   },
   {
    "duration": 50,
    "start_time": "2021-08-13T10:00:49.630Z"
   },
   {
    "duration": 10,
    "start_time": "2021-08-13T10:00:49.683Z"
   },
   {
    "duration": 41,
    "start_time": "2021-08-13T10:00:49.696Z"
   },
   {
    "duration": 8,
    "start_time": "2021-08-13T10:00:49.755Z"
   },
   {
    "duration": 45,
    "start_time": "2021-08-13T10:00:49.765Z"
   },
   {
    "duration": 3,
    "start_time": "2021-08-13T10:00:49.813Z"
   },
   {
    "duration": 17,
    "start_time": "2021-08-13T10:00:49.818Z"
   },
   {
    "duration": 50,
    "start_time": "2021-08-13T10:00:49.838Z"
   },
   {
    "duration": 99,
    "start_time": "2021-08-13T10:03:57.473Z"
   },
   {
    "duration": 90,
    "start_time": "2021-08-13T10:04:04.485Z"
   },
   {
    "duration": 96,
    "start_time": "2021-08-13T10:04:10.634Z"
   },
   {
    "duration": 85,
    "start_time": "2021-08-13T10:04:27.668Z"
   },
   {
    "duration": 6,
    "start_time": "2021-08-13T10:05:19.476Z"
   },
   {
    "duration": 35,
    "start_time": "2021-08-13T10:05:34.458Z"
   },
   {
    "duration": 27,
    "start_time": "2021-08-13T10:05:42.700Z"
   },
   {
    "duration": 40,
    "start_time": "2021-08-13T10:18:48.323Z"
   },
   {
    "duration": 48,
    "start_time": "2021-08-13T10:19:49.694Z"
   },
   {
    "duration": 27,
    "start_time": "2021-08-13T10:20:39.939Z"
   },
   {
    "duration": 26,
    "start_time": "2021-08-13T10:27:52.891Z"
   },
   {
    "duration": 728,
    "start_time": "2021-08-13T10:28:15.806Z"
   },
   {
    "duration": 31,
    "start_time": "2021-08-13T10:28:23.692Z"
   },
   {
    "duration": 32,
    "start_time": "2021-08-13T10:28:33.241Z"
   },
   {
    "duration": 34,
    "start_time": "2021-08-13T10:32:55.877Z"
   },
   {
    "duration": 35,
    "start_time": "2021-08-13T10:38:11.635Z"
   },
   {
    "duration": 87,
    "start_time": "2021-08-13T12:16:34.094Z"
   },
   {
    "duration": 287,
    "start_time": "2021-08-13T12:16:45.628Z"
   },
   {
    "duration": 87,
    "start_time": "2021-08-13T12:16:48.030Z"
   },
   {
    "duration": 80,
    "start_time": "2021-08-13T12:17:45.838Z"
   },
   {
    "duration": 84,
    "start_time": "2021-08-13T12:18:51.752Z"
   },
   {
    "duration": 1003,
    "start_time": "2021-08-13T14:22:57.096Z"
   },
   {
    "duration": 51,
    "start_time": "2021-08-13T14:23:19.908Z"
   },
   {
    "duration": 294,
    "start_time": "2021-08-13T14:23:24.138Z"
   },
   {
    "duration": 44,
    "start_time": "2021-08-13T14:23:30.437Z"
   },
   {
    "duration": 29,
    "start_time": "2021-08-13T14:25:06.511Z"
   },
   {
    "duration": 43,
    "start_time": "2021-08-13T14:25:18.567Z"
   },
   {
    "duration": 1440,
    "start_time": "2021-08-13T14:26:15.490Z"
   },
   {
    "duration": 28,
    "start_time": "2021-08-13T14:28:10.744Z"
   },
   {
    "duration": 29,
    "start_time": "2021-08-13T14:28:18.190Z"
   },
   {
    "duration": 648,
    "start_time": "2021-08-13T14:29:02.718Z"
   },
   {
    "duration": 839,
    "start_time": "2021-08-13T14:30:02.604Z"
   },
   {
    "duration": 30,
    "start_time": "2021-08-13T14:30:32.187Z"
   },
   {
    "duration": 28,
    "start_time": "2021-08-13T14:30:46.375Z"
   },
   {
    "duration": 639,
    "start_time": "2021-08-13T14:31:04.509Z"
   },
   {
    "duration": 30,
    "start_time": "2021-08-13T14:32:37.337Z"
   },
   {
    "duration": 28,
    "start_time": "2021-08-13T14:32:40.757Z"
   },
   {
    "duration": 27,
    "start_time": "2021-08-13T15:18:41.709Z"
   },
   {
    "duration": 35,
    "start_time": "2021-08-13T15:18:49.789Z"
   },
   {
    "duration": 21,
    "start_time": "2021-08-13T15:19:48.856Z"
   },
   {
    "duration": 30,
    "start_time": "2021-08-13T15:19:51.341Z"
   },
   {
    "duration": 38,
    "start_time": "2021-08-13T15:20:18.939Z"
   },
   {
    "duration": 7344,
    "start_time": "2021-08-13T15:20:25.307Z"
   },
   {
    "duration": 3,
    "start_time": "2021-08-13T15:20:36.143Z"
   },
   {
    "duration": 558,
    "start_time": "2021-08-13T15:20:36.149Z"
   },
   {
    "duration": 22,
    "start_time": "2021-08-13T15:20:36.711Z"
   },
   {
    "duration": 9,
    "start_time": "2021-08-13T15:20:36.736Z"
   },
   {
    "duration": 36,
    "start_time": "2021-08-13T15:20:36.748Z"
   },
   {
    "duration": 10,
    "start_time": "2021-08-13T15:20:36.787Z"
   },
   {
    "duration": 53,
    "start_time": "2021-08-13T15:20:36.801Z"
   },
   {
    "duration": 28,
    "start_time": "2021-08-13T15:20:36.857Z"
   },
   {
    "duration": 13,
    "start_time": "2021-08-13T15:20:36.888Z"
   },
   {
    "duration": 62,
    "start_time": "2021-08-13T15:20:36.904Z"
   },
   {
    "duration": 12,
    "start_time": "2021-08-13T15:20:36.969Z"
   },
   {
    "duration": 18,
    "start_time": "2021-08-13T15:20:36.984Z"
   },
   {
    "duration": 124,
    "start_time": "2021-08-13T15:20:37.005Z"
   },
   {
    "duration": 5,
    "start_time": "2021-08-13T15:20:37.132Z"
   },
   {
    "duration": 24,
    "start_time": "2021-08-13T15:20:37.139Z"
   },
   {
    "duration": 95,
    "start_time": "2021-08-13T15:20:37.166Z"
   },
   {
    "duration": 13,
    "start_time": "2021-08-13T15:20:37.264Z"
   },
   {
    "duration": 125,
    "start_time": "2021-08-13T15:20:37.280Z"
   },
   {
    "duration": 3,
    "start_time": "2021-08-13T15:20:37.410Z"
   },
   {
    "duration": 7,
    "start_time": "2021-08-13T15:20:37.416Z"
   },
   {
    "duration": 97,
    "start_time": "2021-08-13T15:20:37.425Z"
   },
   {
    "duration": 12,
    "start_time": "2021-08-13T15:20:37.524Z"
   },
   {
    "duration": 16,
    "start_time": "2021-08-13T15:20:37.539Z"
   },
   {
    "duration": 31,
    "start_time": "2021-08-13T15:20:37.557Z"
   },
   {
    "duration": 11,
    "start_time": "2021-08-13T15:20:37.590Z"
   },
   {
    "duration": 20,
    "start_time": "2021-08-13T15:20:37.604Z"
   },
   {
    "duration": 34,
    "start_time": "2021-08-13T15:20:37.626Z"
   },
   {
    "duration": 11,
    "start_time": "2021-08-13T15:20:37.663Z"
   },
   {
    "duration": 12,
    "start_time": "2021-08-13T15:20:37.677Z"
   },
   {
    "duration": 41,
    "start_time": "2021-08-13T15:20:37.692Z"
   },
   {
    "duration": 45,
    "start_time": "2021-08-13T15:20:37.735Z"
   },
   {
    "duration": 9,
    "start_time": "2021-08-13T15:20:37.784Z"
   },
   {
    "duration": 19,
    "start_time": "2021-08-13T15:20:37.796Z"
   },
   {
    "duration": 40,
    "start_time": "2021-08-13T15:20:37.817Z"
   },
   {
    "duration": 56,
    "start_time": "2021-08-13T15:20:37.860Z"
   },
   {
    "duration": 11,
    "start_time": "2021-08-13T15:20:37.918Z"
   },
   {
    "duration": 23,
    "start_time": "2021-08-13T15:20:37.931Z"
   },
   {
    "duration": 45,
    "start_time": "2021-08-13T15:20:37.957Z"
   },
   {
    "duration": 23,
    "start_time": "2021-08-13T15:20:38.005Z"
   },
   {
    "duration": 54,
    "start_time": "2021-08-13T15:20:38.030Z"
   },
   {
    "duration": 31,
    "start_time": "2021-08-13T15:20:38.087Z"
   },
   {
    "duration": 696,
    "start_time": "2021-08-13T15:20:38.121Z"
   },
   {
    "duration": 6359,
    "start_time": "2021-08-13T15:21:11.817Z"
   },
   {
    "duration": 366,
    "start_time": "2021-08-13T15:21:17.812Z"
   },
   {
    "duration": 28,
    "start_time": "2021-08-13T15:22:13.603Z"
   },
   {
    "duration": 27,
    "start_time": "2021-08-13T15:22:16.396Z"
   },
   {
    "duration": 29,
    "start_time": "2021-08-13T15:22:47.222Z"
   },
   {
    "duration": 439,
    "start_time": "2021-08-13T15:32:16.269Z"
   },
   {
    "duration": 278,
    "start_time": "2021-08-13T15:33:34.638Z"
   },
   {
    "duration": 85,
    "start_time": "2021-08-13T15:33:46.511Z"
   },
   {
    "duration": 101,
    "start_time": "2021-08-13T15:33:54.190Z"
   },
   {
    "duration": 100,
    "start_time": "2021-08-13T15:34:02.458Z"
   },
   {
    "duration": 27,
    "start_time": "2021-08-13T15:34:13.311Z"
   },
   {
    "duration": 4,
    "start_time": "2021-08-13T15:34:42.481Z"
   },
   {
    "duration": 8,
    "start_time": "2021-08-13T15:34:48.091Z"
   },
   {
    "duration": 304,
    "start_time": "2021-08-13T15:35:11.301Z"
   },
   {
    "duration": 7365,
    "start_time": "2021-08-13T15:35:31.256Z"
   },
   {
    "duration": 259,
    "start_time": "2021-08-13T15:35:50.994Z"
   },
   {
    "duration": 3438,
    "start_time": "2021-08-13T15:36:01.368Z"
   },
   {
    "duration": 16,
    "start_time": "2021-08-13T15:36:25.429Z"
   },
   {
    "duration": 268,
    "start_time": "2021-08-13T15:36:33.602Z"
   },
   {
    "duration": 276,
    "start_time": "2021-08-13T15:36:47.691Z"
   },
   {
    "duration": 16,
    "start_time": "2021-08-13T15:36:55.381Z"
   },
   {
    "duration": 296,
    "start_time": "2021-08-13T15:36:57.324Z"
   },
   {
    "duration": 93,
    "start_time": "2021-08-13T15:38:28.844Z"
   },
   {
    "duration": 4,
    "start_time": "2021-08-13T15:38:35.622Z"
   },
   {
    "duration": 7,
    "start_time": "2021-08-13T15:38:41.094Z"
   },
   {
    "duration": 37,
    "start_time": "2021-08-13T15:38:50.779Z"
   },
   {
    "duration": 7,
    "start_time": "2021-08-13T15:40:20.629Z"
   },
   {
    "duration": 8,
    "start_time": "2021-08-13T15:40:25.070Z"
   },
   {
    "duration": 8,
    "start_time": "2021-08-13T15:40:33.887Z"
   },
   {
    "duration": 13,
    "start_time": "2021-08-13T15:40:36.650Z"
   },
   {
    "duration": 6975,
    "start_time": "2021-08-13T15:40:51.343Z"
   },
   {
    "duration": 254,
    "start_time": "2021-08-13T15:40:58.067Z"
   },
   {
    "duration": 8,
    "start_time": "2021-08-13T15:41:02.598Z"
   },
   {
    "duration": 14,
    "start_time": "2021-08-13T15:41:06.293Z"
   },
   {
    "duration": 306,
    "start_time": "2021-08-13T15:41:13.881Z"
   },
   {
    "duration": 295,
    "start_time": "2021-08-13T15:41:21.286Z"
   },
   {
    "duration": 312,
    "start_time": "2021-08-13T15:41:39.232Z"
   },
   {
    "duration": 26,
    "start_time": "2021-08-13T15:41:46.168Z"
   },
   {
    "duration": 24,
    "start_time": "2021-08-13T15:41:47.917Z"
   },
   {
    "duration": 31,
    "start_time": "2021-08-13T15:42:00.860Z"
   },
   {
    "duration": 30,
    "start_time": "2021-08-13T15:42:03.029Z"
   },
   {
    "duration": 56,
    "start_time": "2021-08-13T15:43:02.673Z"
   },
   {
    "duration": 63,
    "start_time": "2021-08-13T15:43:05.433Z"
   },
   {
    "duration": 86,
    "start_time": "2021-08-13T15:44:13.932Z"
   },
   {
    "duration": 96,
    "start_time": "2021-08-13T15:44:44.133Z"
   },
   {
    "duration": 26,
    "start_time": "2021-08-13T15:48:35.534Z"
   },
   {
    "duration": 41,
    "start_time": "2021-08-13T15:48:59.516Z"
   },
   {
    "duration": 32,
    "start_time": "2021-08-13T15:49:03.779Z"
   },
   {
    "duration": 22,
    "start_time": "2021-08-13T15:49:32.541Z"
   },
   {
    "duration": 62,
    "start_time": "2021-08-13T15:51:37.795Z"
   },
   {
    "duration": 21,
    "start_time": "2021-08-13T15:52:07.205Z"
   },
   {
    "duration": 26,
    "start_time": "2021-08-13T15:52:13.710Z"
   },
   {
    "duration": 18,
    "start_time": "2021-08-13T15:52:27.937Z"
   },
   {
    "duration": 19,
    "start_time": "2021-08-13T15:52:54.814Z"
   },
   {
    "duration": 20,
    "start_time": "2021-08-13T15:53:08.937Z"
   },
   {
    "duration": 28,
    "start_time": "2021-08-13T15:53:14.394Z"
   },
   {
    "duration": 21,
    "start_time": "2021-08-13T15:53:35.730Z"
   },
   {
    "duration": 28,
    "start_time": "2021-08-13T15:53:40.999Z"
   },
   {
    "duration": 20,
    "start_time": "2021-08-13T15:54:00.946Z"
   },
   {
    "duration": 6925,
    "start_time": "2021-08-13T15:54:41.716Z"
   },
   {
    "duration": 6727,
    "start_time": "2021-08-13T15:55:49.842Z"
   },
   {
    "duration": 27,
    "start_time": "2021-08-13T15:56:02.436Z"
   },
   {
    "duration": 21,
    "start_time": "2021-08-13T15:56:12.041Z"
   },
   {
    "duration": 206,
    "start_time": "2021-08-13T15:57:21.820Z"
   },
   {
    "duration": 20,
    "start_time": "2021-08-13T15:58:41.268Z"
   },
   {
    "duration": 3,
    "start_time": "2021-08-13T15:58:54.788Z"
   },
   {
    "duration": 4,
    "start_time": "2021-08-13T15:58:55.193Z"
   },
   {
    "duration": 20,
    "start_time": "2021-08-13T15:58:55.668Z"
   },
   {
    "duration": 284,
    "start_time": "2021-08-13T16:00:28.194Z"
   },
   {
    "duration": 340,
    "start_time": "2021-08-13T16:00:47.187Z"
   },
   {
    "duration": 453,
    "start_time": "2021-08-13T16:00:58.455Z"
   },
   {
    "duration": 280,
    "start_time": "2021-08-13T16:03:39.954Z"
   },
   {
    "duration": 1051,
    "start_time": "2021-08-13T16:03:46.630Z"
   },
   {
    "duration": 3,
    "start_time": "2021-08-13T16:03:56.528Z"
   },
   {
    "duration": 4,
    "start_time": "2021-08-13T16:03:59.866Z"
   },
   {
    "duration": 28,
    "start_time": "2021-08-13T16:04:25.783Z"
   },
   {
    "duration": 19,
    "start_time": "2021-08-13T16:04:29.422Z"
   },
   {
    "duration": 308,
    "start_time": "2021-08-13T16:05:14.348Z"
   },
   {
    "duration": 270,
    "start_time": "2021-08-13T16:05:17.364Z"
   },
   {
    "duration": 289,
    "start_time": "2021-08-13T16:05:50.008Z"
   },
   {
    "duration": 32,
    "start_time": "2021-08-13T16:07:42.213Z"
   },
   {
    "duration": 261,
    "start_time": "2021-08-13T16:41:19.876Z"
   },
   {
    "duration": 1176,
    "start_time": "2021-08-13T16:41:40.381Z"
   },
   {
    "duration": 4,
    "start_time": "2021-08-13T16:41:42.807Z"
   },
   {
    "duration": 542,
    "start_time": "2021-08-13T16:41:42.813Z"
   },
   {
    "duration": 21,
    "start_time": "2021-08-13T16:41:43.358Z"
   },
   {
    "duration": 16,
    "start_time": "2021-08-13T16:41:43.382Z"
   },
   {
    "duration": 54,
    "start_time": "2021-08-13T16:41:43.400Z"
   },
   {
    "duration": 11,
    "start_time": "2021-08-13T16:41:43.456Z"
   },
   {
    "duration": 25,
    "start_time": "2021-08-13T16:41:43.470Z"
   },
   {
    "duration": 60,
    "start_time": "2021-08-13T16:41:43.497Z"
   },
   {
    "duration": 10,
    "start_time": "2021-08-13T16:41:43.561Z"
   },
   {
    "duration": 34,
    "start_time": "2021-08-13T16:41:43.575Z"
   },
   {
    "duration": 48,
    "start_time": "2021-08-13T16:41:43.612Z"
   },
   {
    "duration": 18,
    "start_time": "2021-08-13T16:41:43.663Z"
   },
   {
    "duration": 122,
    "start_time": "2021-08-13T16:41:43.684Z"
   },
   {
    "duration": 6,
    "start_time": "2021-08-13T16:41:43.809Z"
   },
   {
    "duration": 13,
    "start_time": "2021-08-13T16:41:43.817Z"
   },
   {
    "duration": 70,
    "start_time": "2021-08-13T16:41:43.854Z"
   },
   {
    "duration": 13,
    "start_time": "2021-08-13T16:41:43.926Z"
   },
   {
    "duration": 116,
    "start_time": "2021-08-13T16:41:43.954Z"
   },
   {
    "duration": 3,
    "start_time": "2021-08-13T16:41:44.072Z"
   },
   {
    "duration": 7,
    "start_time": "2021-08-13T16:41:44.077Z"
   },
   {
    "duration": 86,
    "start_time": "2021-08-13T16:41:44.086Z"
   },
   {
    "duration": 13,
    "start_time": "2021-08-13T16:41:44.175Z"
   },
   {
    "duration": 9,
    "start_time": "2021-08-13T16:41:44.190Z"
   },
   {
    "duration": 13,
    "start_time": "2021-08-13T16:41:44.202Z"
   },
   {
    "duration": 10,
    "start_time": "2021-08-13T16:41:44.218Z"
   },
   {
    "duration": 33,
    "start_time": "2021-08-13T16:41:44.230Z"
   },
   {
    "duration": 15,
    "start_time": "2021-08-13T16:41:44.269Z"
   },
   {
    "duration": 11,
    "start_time": "2021-08-13T16:41:44.287Z"
   },
   {
    "duration": 26,
    "start_time": "2021-08-13T16:41:44.300Z"
   },
   {
    "duration": 37,
    "start_time": "2021-08-13T16:41:44.329Z"
   },
   {
    "duration": 36,
    "start_time": "2021-08-13T16:41:44.368Z"
   },
   {
    "duration": 9,
    "start_time": "2021-08-13T16:41:44.407Z"
   },
   {
    "duration": 35,
    "start_time": "2021-08-13T16:41:44.419Z"
   },
   {
    "duration": 12,
    "start_time": "2021-08-13T16:41:44.457Z"
   },
   {
    "duration": 49,
    "start_time": "2021-08-13T16:41:44.472Z"
   },
   {
    "duration": 13,
    "start_time": "2021-08-13T16:41:44.524Z"
   },
   {
    "duration": 23,
    "start_time": "2021-08-13T16:41:44.540Z"
   },
   {
    "duration": 58,
    "start_time": "2021-08-13T16:41:44.565Z"
   },
   {
    "duration": 153,
    "start_time": "2021-08-13T16:41:44.625Z"
   },
   {
    "duration": 29,
    "start_time": "2021-08-13T16:41:44.781Z"
   },
   {
    "duration": 104,
    "start_time": "2021-08-13T16:41:44.813Z"
   },
   {
    "duration": 76,
    "start_time": "2021-08-13T16:41:44.920Z"
   },
   {
    "duration": 3,
    "start_time": "2021-08-13T16:41:44.999Z"
   },
   {
    "duration": 30,
    "start_time": "2021-08-13T16:41:45.004Z"
   },
   {
    "duration": 13,
    "start_time": "2021-08-13T16:41:45.037Z"
   },
   {
    "duration": 34,
    "start_time": "2021-08-13T16:41:45.052Z"
   },
   {
    "duration": 35,
    "start_time": "2021-08-13T16:41:45.089Z"
   },
   {
    "duration": 1358,
    "start_time": "2021-08-13T16:41:45.127Z"
   },
   {
    "duration": 302,
    "start_time": "2021-08-13T16:43:09.860Z"
   },
   {
    "duration": 1622,
    "start_time": "2021-08-13T16:50:05.878Z"
   },
   {
    "duration": 1376,
    "start_time": "2021-08-13T16:55:22.195Z"
   },
   {
    "duration": 356,
    "start_time": "2021-08-13T17:04:34.941Z"
   },
   {
    "duration": 354,
    "start_time": "2021-08-13T17:04:44.916Z"
   },
   {
    "duration": 585,
    "start_time": "2021-08-13T17:04:53.889Z"
   },
   {
    "duration": 105,
    "start_time": "2021-08-13T17:17:40.311Z"
   },
   {
    "duration": 762,
    "start_time": "2021-08-13T17:27:38.163Z"
   },
   {
    "duration": 455,
    "start_time": "2021-08-13T17:27:55.682Z"
   },
   {
    "duration": 89,
    "start_time": "2021-08-13T17:37:38.909Z"
   },
   {
    "duration": 104,
    "start_time": "2021-08-13T17:37:44.464Z"
   },
   {
    "duration": 87,
    "start_time": "2021-08-13T17:37:48.280Z"
   },
   {
    "duration": 91,
    "start_time": "2021-08-13T17:37:52.205Z"
   },
   {
    "duration": 607,
    "start_time": "2021-08-13T17:37:56.621Z"
   },
   {
    "duration": 477,
    "start_time": "2021-08-13T17:38:38.646Z"
   },
   {
    "duration": 464,
    "start_time": "2021-08-13T17:40:04.511Z"
   },
   {
    "duration": 423,
    "start_time": "2021-08-13T17:40:32.482Z"
   },
   {
    "duration": 420,
    "start_time": "2021-08-13T17:40:59.830Z"
   },
   {
    "duration": 471,
    "start_time": "2021-08-13T17:41:11.754Z"
   },
   {
    "duration": 399,
    "start_time": "2021-08-13T17:41:48.961Z"
   },
   {
    "duration": 1357,
    "start_time": "2021-08-13T17:41:57.900Z"
   },
   {
    "duration": 409,
    "start_time": "2021-08-13T17:42:25.395Z"
   },
   {
    "duration": 480,
    "start_time": "2021-08-13T17:42:54.074Z"
   },
   {
    "duration": 695,
    "start_time": "2021-08-13T17:43:31.691Z"
   },
   {
    "duration": 477,
    "start_time": "2021-08-13T17:43:39.870Z"
   },
   {
    "duration": 442,
    "start_time": "2021-08-13T17:43:42.614Z"
   },
   {
    "duration": 21,
    "start_time": "2021-08-13T17:46:56.057Z"
   },
   {
    "duration": 30,
    "start_time": "2021-08-13T17:47:13.711Z"
   },
   {
    "duration": 27,
    "start_time": "2021-08-13T17:47:21.009Z"
   },
   {
    "duration": 33,
    "start_time": "2021-08-13T17:53:02.755Z"
   },
   {
    "duration": 20,
    "start_time": "2021-08-13T17:53:32.093Z"
   },
   {
    "duration": 538,
    "start_time": "2021-08-13T17:54:41.282Z"
   },
   {
    "duration": 4,
    "start_time": "2021-08-13T18:00:28.518Z"
   },
   {
    "duration": 172,
    "start_time": "2021-08-14T10:39:16.224Z"
   },
   {
    "duration": 434,
    "start_time": "2021-08-14T10:39:37.416Z"
   },
   {
    "duration": 3,
    "start_time": "2021-08-14T10:39:43.339Z"
   },
   {
    "duration": 2119,
    "start_time": "2021-08-14T10:39:43.358Z"
   },
   {
    "duration": 24,
    "start_time": "2021-08-14T10:39:45.480Z"
   },
   {
    "duration": 11,
    "start_time": "2021-08-14T10:39:45.507Z"
   },
   {
    "duration": 52,
    "start_time": "2021-08-14T10:39:45.520Z"
   },
   {
    "duration": 12,
    "start_time": "2021-08-14T10:39:45.585Z"
   },
   {
    "duration": 33,
    "start_time": "2021-08-14T10:39:45.599Z"
   },
   {
    "duration": 42,
    "start_time": "2021-08-14T10:39:45.635Z"
   },
   {
    "duration": 8,
    "start_time": "2021-08-14T10:39:45.688Z"
   },
   {
    "duration": 33,
    "start_time": "2021-08-14T10:39:45.699Z"
   },
   {
    "duration": 11,
    "start_time": "2021-08-14T10:39:45.734Z"
   },
   {
    "duration": 48,
    "start_time": "2021-08-14T10:39:45.747Z"
   },
   {
    "duration": 112,
    "start_time": "2021-08-14T10:39:45.798Z"
   },
   {
    "duration": 6,
    "start_time": "2021-08-14T10:39:45.912Z"
   },
   {
    "duration": 17,
    "start_time": "2021-08-14T10:39:45.921Z"
   },
   {
    "duration": 98,
    "start_time": "2021-08-14T10:39:45.941Z"
   },
   {
    "duration": 13,
    "start_time": "2021-08-14T10:39:46.042Z"
   },
   {
    "duration": 128,
    "start_time": "2021-08-14T10:39:46.057Z"
   },
   {
    "duration": 3,
    "start_time": "2021-08-14T10:39:46.187Z"
   },
   {
    "duration": 20,
    "start_time": "2021-08-14T10:39:46.193Z"
   },
   {
    "duration": 88,
    "start_time": "2021-08-14T10:39:46.216Z"
   },
   {
    "duration": 13,
    "start_time": "2021-08-14T10:39:46.307Z"
   },
   {
    "duration": 11,
    "start_time": "2021-08-14T10:39:46.322Z"
   },
   {
    "duration": 32,
    "start_time": "2021-08-14T10:39:46.337Z"
   },
   {
    "duration": 6,
    "start_time": "2021-08-14T10:39:46.372Z"
   },
   {
    "duration": 20,
    "start_time": "2021-08-14T10:39:46.380Z"
   },
   {
    "duration": 24,
    "start_time": "2021-08-14T10:39:46.403Z"
   },
   {
    "duration": 11,
    "start_time": "2021-08-14T10:39:46.430Z"
   },
   {
    "duration": 20,
    "start_time": "2021-08-14T10:39:46.443Z"
   },
   {
    "duration": 45,
    "start_time": "2021-08-14T10:39:46.465Z"
   },
   {
    "duration": 34,
    "start_time": "2021-08-14T10:39:46.513Z"
   },
   {
    "duration": 13,
    "start_time": "2021-08-14T10:39:46.549Z"
   },
   {
    "duration": 10,
    "start_time": "2021-08-14T10:39:46.564Z"
   },
   {
    "duration": 19,
    "start_time": "2021-08-14T10:39:46.585Z"
   },
   {
    "duration": 51,
    "start_time": "2021-08-14T10:39:46.607Z"
   },
   {
    "duration": 10,
    "start_time": "2021-08-14T10:39:46.661Z"
   },
   {
    "duration": 18,
    "start_time": "2021-08-14T10:39:46.674Z"
   },
   {
    "duration": 53,
    "start_time": "2021-08-14T10:39:46.694Z"
   },
   {
    "duration": 36,
    "start_time": "2021-08-14T10:39:46.749Z"
   },
   {
    "duration": 30,
    "start_time": "2021-08-14T10:39:46.788Z"
   },
   {
    "duration": 105,
    "start_time": "2021-08-14T10:39:46.820Z"
   },
   {
    "duration": 70,
    "start_time": "2021-08-14T10:39:46.928Z"
   },
   {
    "duration": 452,
    "start_time": "2021-08-14T10:39:47.000Z"
   },
   {
    "duration": 1713,
    "start_time": "2021-08-14T10:39:45.741Z"
   },
   {
    "duration": 1675,
    "start_time": "2021-08-14T10:39:45.781Z"
   },
   {
    "duration": 1665,
    "start_time": "2021-08-14T10:39:45.792Z"
   },
   {
    "duration": 1660,
    "start_time": "2021-08-14T10:39:45.799Z"
   },
   {
    "duration": 1653,
    "start_time": "2021-08-14T10:39:45.807Z"
   },
   {
    "duration": 1631,
    "start_time": "2021-08-14T10:39:45.831Z"
   },
   {
    "duration": 62,
    "start_time": "2021-08-14T10:39:53.335Z"
   },
   {
    "duration": 33,
    "start_time": "2021-08-14T10:39:59.783Z"
   },
   {
    "duration": 3,
    "start_time": "2021-08-14T10:40:11.599Z"
   },
   {
    "duration": 556,
    "start_time": "2021-08-14T10:40:11.607Z"
   },
   {
    "duration": 23,
    "start_time": "2021-08-14T10:40:12.166Z"
   },
   {
    "duration": 189,
    "start_time": "2021-08-14T10:40:12.192Z"
   },
   {
    "duration": 44,
    "start_time": "2021-08-14T10:40:12.384Z"
   },
   {
    "duration": 10,
    "start_time": "2021-08-14T10:40:12.430Z"
   },
   {
    "duration": 52,
    "start_time": "2021-08-14T10:40:12.443Z"
   },
   {
    "duration": 25,
    "start_time": "2021-08-14T10:40:12.497Z"
   },
   {
    "duration": 13,
    "start_time": "2021-08-14T10:40:12.526Z"
   },
   {
    "duration": 58,
    "start_time": "2021-08-14T10:40:12.542Z"
   },
   {
    "duration": 10,
    "start_time": "2021-08-14T10:40:12.603Z"
   },
   {
    "duration": 36,
    "start_time": "2021-08-14T10:40:12.615Z"
   },
   {
    "duration": 105,
    "start_time": "2021-08-14T10:40:12.653Z"
   },
   {
    "duration": 4,
    "start_time": "2021-08-14T10:40:12.760Z"
   },
   {
    "duration": 26,
    "start_time": "2021-08-14T10:40:12.767Z"
   },
   {
    "duration": 89,
    "start_time": "2021-08-14T10:40:12.796Z"
   },
   {
    "duration": 14,
    "start_time": "2021-08-14T10:40:12.888Z"
   },
   {
    "duration": 122,
    "start_time": "2021-08-14T10:40:12.905Z"
   },
   {
    "duration": 4,
    "start_time": "2021-08-14T10:40:13.030Z"
   },
   {
    "duration": 7,
    "start_time": "2021-08-14T10:40:13.037Z"
   },
   {
    "duration": 93,
    "start_time": "2021-08-14T10:40:13.047Z"
   },
   {
    "duration": 12,
    "start_time": "2021-08-14T10:40:13.142Z"
   },
   {
    "duration": 11,
    "start_time": "2021-08-14T10:40:13.157Z"
   },
   {
    "duration": 11,
    "start_time": "2021-08-14T10:40:13.185Z"
   },
   {
    "duration": 10,
    "start_time": "2021-08-14T10:40:13.199Z"
   },
   {
    "duration": 16,
    "start_time": "2021-08-14T10:40:13.211Z"
   },
   {
    "duration": 15,
    "start_time": "2021-08-14T10:40:13.230Z"
   },
   {
    "duration": 4,
    "start_time": "2021-08-14T10:40:13.247Z"
   },
   {
    "duration": 5,
    "start_time": "2021-08-14T10:40:13.285Z"
   },
   {
    "duration": 34,
    "start_time": "2021-08-14T10:40:13.292Z"
   },
   {
    "duration": 35,
    "start_time": "2021-08-14T10:40:13.328Z"
   },
   {
    "duration": 9,
    "start_time": "2021-08-14T10:40:13.385Z"
   },
   {
    "duration": 8,
    "start_time": "2021-08-14T10:40:13.396Z"
   },
   {
    "duration": 18,
    "start_time": "2021-08-14T10:40:13.406Z"
   },
   {
    "duration": 61,
    "start_time": "2021-08-14T10:40:13.427Z"
   },
   {
    "duration": 10,
    "start_time": "2021-08-14T10:40:13.490Z"
   },
   {
    "duration": 9,
    "start_time": "2021-08-14T10:40:13.502Z"
   },
   {
    "duration": 42,
    "start_time": "2021-08-14T10:40:13.514Z"
   },
   {
    "duration": 55,
    "start_time": "2021-08-14T10:40:13.558Z"
   },
   {
    "duration": 28,
    "start_time": "2021-08-14T10:40:13.615Z"
   },
   {
    "duration": 112,
    "start_time": "2021-08-14T10:40:13.646Z"
   },
   {
    "duration": 76,
    "start_time": "2021-08-14T10:40:13.760Z"
   },
   {
    "duration": 74,
    "start_time": "2021-08-14T10:40:13.838Z"
   },
   {
    "duration": 32,
    "start_time": "2021-08-14T10:40:13.914Z"
   },
   {
    "duration": 5,
    "start_time": "2021-08-14T10:40:13.949Z"
   },
   {
    "duration": 1438,
    "start_time": "2021-08-14T10:40:13.957Z"
   },
   {
    "duration": 521,
    "start_time": "2021-08-14T10:40:15.399Z"
   },
   {
    "duration": 466,
    "start_time": "2021-08-14T10:40:15.922Z"
   },
   {
    "duration": 556,
    "start_time": "2021-08-14T10:40:16.391Z"
   },
   {
    "duration": 54,
    "start_time": "2021-08-14T10:53:27.740Z"
   },
   {
    "duration": 31,
    "start_time": "2021-08-14T10:53:56.388Z"
   },
   {
    "duration": 495,
    "start_time": "2021-08-14T10:54:33.540Z"
   },
   {
    "duration": 3,
    "start_time": "2021-08-14T11:16:44.347Z"
   },
   {
    "duration": 1380,
    "start_time": "2021-08-14T11:19:24.835Z"
   },
   {
    "duration": 1449,
    "start_time": "2021-08-14T11:19:40.538Z"
   },
   {
    "duration": 1670,
    "start_time": "2021-08-14T11:20:30.399Z"
   },
   {
    "duration": 1565,
    "start_time": "2021-08-14T11:20:41.445Z"
   },
   {
    "duration": 1355,
    "start_time": "2021-08-14T11:20:50.563Z"
   },
   {
    "duration": 1384,
    "start_time": "2021-08-14T11:21:10.599Z"
   },
   {
    "duration": 1475,
    "start_time": "2021-08-14T11:21:21.325Z"
   },
   {
    "duration": 4,
    "start_time": "2021-08-14T11:38:47.721Z"
   },
   {
    "duration": 41,
    "start_time": "2021-08-14T11:53:30.658Z"
   },
   {
    "duration": 31,
    "start_time": "2021-08-14T11:53:37.151Z"
   },
   {
    "duration": 67,
    "start_time": "2021-08-14T12:24:55.283Z"
   },
   {
    "duration": 38,
    "start_time": "2021-08-14T12:25:20.566Z"
   },
   {
    "duration": 34,
    "start_time": "2021-08-14T12:26:30.026Z"
   },
   {
    "duration": 35,
    "start_time": "2021-08-14T12:27:13.014Z"
   },
   {
    "duration": 38,
    "start_time": "2021-08-14T12:27:23.881Z"
   },
   {
    "duration": 2,
    "start_time": "2021-08-14T12:50:07.710Z"
   },
   {
    "duration": 67,
    "start_time": "2021-08-14T12:50:14.765Z"
   },
   {
    "duration": 3,
    "start_time": "2021-08-14T12:50:32.082Z"
   },
   {
    "duration": 563,
    "start_time": "2021-08-14T12:50:32.089Z"
   },
   {
    "duration": 20,
    "start_time": "2021-08-14T12:50:32.654Z"
   },
   {
    "duration": 10,
    "start_time": "2021-08-14T12:50:32.677Z"
   },
   {
    "duration": 38,
    "start_time": "2021-08-14T12:50:32.689Z"
   },
   {
    "duration": 10,
    "start_time": "2021-08-14T12:50:32.729Z"
   },
   {
    "duration": 49,
    "start_time": "2021-08-14T12:50:32.741Z"
   },
   {
    "duration": 25,
    "start_time": "2021-08-14T12:50:32.792Z"
   },
   {
    "duration": 9,
    "start_time": "2021-08-14T12:50:32.820Z"
   },
   {
    "duration": 67,
    "start_time": "2021-08-14T12:50:32.832Z"
   },
   {
    "duration": 10,
    "start_time": "2021-08-14T12:50:32.901Z"
   },
   {
    "duration": 30,
    "start_time": "2021-08-14T12:50:32.913Z"
   },
   {
    "duration": 105,
    "start_time": "2021-08-14T12:50:32.945Z"
   },
   {
    "duration": 4,
    "start_time": "2021-08-14T12:50:33.052Z"
   },
   {
    "duration": 29,
    "start_time": "2021-08-14T12:50:33.058Z"
   },
   {
    "duration": 81,
    "start_time": "2021-08-14T12:50:33.089Z"
   },
   {
    "duration": 17,
    "start_time": "2021-08-14T12:50:33.172Z"
   },
   {
    "duration": 120,
    "start_time": "2021-08-14T12:50:33.191Z"
   },
   {
    "duration": 2,
    "start_time": "2021-08-14T12:50:33.313Z"
   },
   {
    "duration": 17,
    "start_time": "2021-08-14T12:50:33.317Z"
   },
   {
    "duration": 83,
    "start_time": "2021-08-14T12:50:33.337Z"
   },
   {
    "duration": 13,
    "start_time": "2021-08-14T12:50:33.422Z"
   },
   {
    "duration": 11,
    "start_time": "2021-08-14T12:50:33.437Z"
   },
   {
    "duration": 35,
    "start_time": "2021-08-14T12:50:33.452Z"
   },
   {
    "duration": 14,
    "start_time": "2021-08-14T12:50:33.490Z"
   },
   {
    "duration": 16,
    "start_time": "2021-08-14T12:50:33.506Z"
   },
   {
    "duration": 20,
    "start_time": "2021-08-14T12:50:33.525Z"
   },
   {
    "duration": 16,
    "start_time": "2021-08-14T12:50:33.548Z"
   },
   {
    "duration": 17,
    "start_time": "2021-08-14T12:50:33.566Z"
   },
   {
    "duration": 38,
    "start_time": "2021-08-14T12:50:33.586Z"
   },
   {
    "duration": 36,
    "start_time": "2021-08-14T12:50:33.627Z"
   },
   {
    "duration": 24,
    "start_time": "2021-08-14T12:50:33.666Z"
   },
   {
    "duration": 30,
    "start_time": "2021-08-14T12:50:33.694Z"
   },
   {
    "duration": 32,
    "start_time": "2021-08-14T12:50:33.727Z"
   },
   {
    "duration": 52,
    "start_time": "2021-08-14T12:50:33.762Z"
   },
   {
    "duration": 12,
    "start_time": "2021-08-14T12:50:33.817Z"
   },
   {
    "duration": 34,
    "start_time": "2021-08-14T12:50:33.831Z"
   },
   {
    "duration": 50,
    "start_time": "2021-08-14T12:50:33.867Z"
   },
   {
    "duration": 31,
    "start_time": "2021-08-14T12:50:33.920Z"
   },
   {
    "duration": 47,
    "start_time": "2021-08-14T12:50:33.954Z"
   },
   {
    "duration": 3,
    "start_time": "2021-08-14T12:50:34.003Z"
   },
   {
    "duration": 15,
    "start_time": "2021-08-14T12:50:34.008Z"
   },
   {
    "duration": 1416,
    "start_time": "2021-08-14T12:50:34.026Z"
   },
   {
    "duration": 545,
    "start_time": "2021-08-14T12:50:35.444Z"
   },
   {
    "duration": 478,
    "start_time": "2021-08-14T12:50:35.991Z"
   },
   {
    "duration": 491,
    "start_time": "2021-08-14T12:50:36.472Z"
   },
   {
    "duration": 77,
    "start_time": "2021-08-14T12:50:36.965Z"
   },
   {
    "duration": 47,
    "start_time": "2021-08-14T12:50:37.044Z"
   },
   {
    "duration": 520,
    "start_time": "2021-08-14T12:50:37.094Z"
   },
   {
    "duration": 40,
    "start_time": "2021-08-14T13:14:07.843Z"
   },
   {
    "duration": 38,
    "start_time": "2021-08-14T13:14:22.926Z"
   },
   {
    "duration": 50,
    "start_time": "2021-08-14T13:17:10.020Z"
   },
   {
    "duration": 40,
    "start_time": "2021-08-14T13:17:15.661Z"
   },
   {
    "duration": 128,
    "start_time": "2021-08-14T13:18:07.874Z"
   },
   {
    "duration": 51,
    "start_time": "2021-08-14T13:18:13.677Z"
   },
   {
    "duration": 3,
    "start_time": "2021-08-14T13:18:23.062Z"
   },
   {
    "duration": 27,
    "start_time": "2021-08-14T13:19:07.881Z"
   },
   {
    "duration": 23,
    "start_time": "2021-08-14T13:19:11.233Z"
   },
   {
    "duration": 389,
    "start_time": "2021-08-14T13:22:18.741Z"
   },
   {
    "duration": 3,
    "start_time": "2021-08-14T13:22:43.437Z"
   },
   {
    "duration": 575,
    "start_time": "2021-08-14T13:22:43.443Z"
   },
   {
    "duration": 27,
    "start_time": "2021-08-14T13:22:44.022Z"
   },
   {
    "duration": 13,
    "start_time": "2021-08-14T13:22:44.052Z"
   },
   {
    "duration": 44,
    "start_time": "2021-08-14T13:22:44.067Z"
   },
   {
    "duration": 10,
    "start_time": "2021-08-14T13:22:44.113Z"
   },
   {
    "duration": 26,
    "start_time": "2021-08-14T13:22:44.127Z"
   },
   {
    "duration": 26,
    "start_time": "2021-08-14T13:22:44.186Z"
   },
   {
    "duration": 10,
    "start_time": "2021-08-14T13:22:44.214Z"
   },
   {
    "duration": 71,
    "start_time": "2021-08-14T13:22:44.226Z"
   },
   {
    "duration": 10,
    "start_time": "2021-08-14T13:22:44.299Z"
   },
   {
    "duration": 28,
    "start_time": "2021-08-14T13:22:44.311Z"
   },
   {
    "duration": 116,
    "start_time": "2021-08-14T13:22:44.341Z"
   },
   {
    "duration": 4,
    "start_time": "2021-08-14T13:22:44.459Z"
   },
   {
    "duration": 24,
    "start_time": "2021-08-14T13:22:44.465Z"
   },
   {
    "duration": 75,
    "start_time": "2021-08-14T13:22:44.491Z"
   },
   {
    "duration": 13,
    "start_time": "2021-08-14T13:22:44.585Z"
   },
   {
    "duration": 124,
    "start_time": "2021-08-14T13:22:44.600Z"
   },
   {
    "duration": 3,
    "start_time": "2021-08-14T13:22:44.729Z"
   },
   {
    "duration": 9,
    "start_time": "2021-08-14T13:22:44.735Z"
   },
   {
    "duration": 87,
    "start_time": "2021-08-14T13:22:44.746Z"
   },
   {
    "duration": 13,
    "start_time": "2021-08-14T13:22:44.835Z"
   },
   {
    "duration": 5,
    "start_time": "2021-08-14T13:22:44.851Z"
   },
   {
    "duration": 35,
    "start_time": "2021-08-14T13:22:44.858Z"
   },
   {
    "duration": 9,
    "start_time": "2021-08-14T13:22:44.895Z"
   },
   {
    "duration": 21,
    "start_time": "2021-08-14T13:22:44.906Z"
   },
   {
    "duration": 22,
    "start_time": "2021-08-14T13:22:44.930Z"
   },
   {
    "duration": 11,
    "start_time": "2021-08-14T13:22:44.954Z"
   },
   {
    "duration": 19,
    "start_time": "2021-08-14T13:22:44.967Z"
   },
   {
    "duration": 30,
    "start_time": "2021-08-14T13:22:44.989Z"
   },
   {
    "duration": 35,
    "start_time": "2021-08-14T13:22:45.021Z"
   },
   {
    "duration": 30,
    "start_time": "2021-08-14T13:22:45.058Z"
   },
   {
    "duration": 22,
    "start_time": "2021-08-14T13:22:45.090Z"
   },
   {
    "duration": 23,
    "start_time": "2021-08-14T13:22:45.114Z"
   },
   {
    "duration": 49,
    "start_time": "2021-08-14T13:22:45.139Z"
   },
   {
    "duration": 12,
    "start_time": "2021-08-14T13:22:45.191Z"
   },
   {
    "duration": 10,
    "start_time": "2021-08-14T13:22:45.205Z"
   },
   {
    "duration": 78,
    "start_time": "2021-08-14T13:22:45.217Z"
   },
   {
    "duration": 44,
    "start_time": "2021-08-14T13:22:45.297Z"
   },
   {
    "duration": 64,
    "start_time": "2021-08-14T13:22:45.344Z"
   },
   {
    "duration": 3,
    "start_time": "2021-08-14T13:22:45.411Z"
   },
   {
    "duration": 10,
    "start_time": "2021-08-14T13:22:45.417Z"
   },
   {
    "duration": 1437,
    "start_time": "2021-08-14T13:22:45.430Z"
   },
   {
    "duration": 533,
    "start_time": "2021-08-14T13:22:46.869Z"
   },
   {
    "duration": 473,
    "start_time": "2021-08-14T13:22:47.405Z"
   },
   {
    "duration": 501,
    "start_time": "2021-08-14T13:22:47.884Z"
   },
   {
    "duration": 54,
    "start_time": "2021-08-14T13:22:48.387Z"
   },
   {
    "duration": 56,
    "start_time": "2021-08-14T13:22:48.444Z"
   },
   {
    "duration": 512,
    "start_time": "2021-08-14T13:22:48.502Z"
   },
   {
    "duration": 25,
    "start_time": "2021-08-14T13:22:49.016Z"
   },
   {
    "duration": 54,
    "start_time": "2021-08-14T13:22:49.043Z"
   },
   {
    "duration": 668,
    "start_time": "2021-08-14T13:22:49.099Z"
   },
   {
    "duration": 25,
    "start_time": "2021-08-14T13:26:31.078Z"
   },
   {
    "duration": 25,
    "start_time": "2021-08-14T13:26:32.693Z"
   },
   {
    "duration": 147,
    "start_time": "2021-08-14T13:27:12.427Z"
   },
   {
    "duration": 8,
    "start_time": "2021-08-14T13:27:57.758Z"
   },
   {
    "duration": 11,
    "start_time": "2021-08-14T13:28:11.457Z"
   },
   {
    "duration": 6,
    "start_time": "2021-08-14T13:28:24.268Z"
   },
   {
    "duration": 33,
    "start_time": "2021-08-14T13:30:20.111Z"
   },
   {
    "duration": 8,
    "start_time": "2021-08-14T13:30:35.329Z"
   },
   {
    "duration": 7,
    "start_time": "2021-08-14T13:30:51.073Z"
   },
   {
    "duration": 39,
    "start_time": "2021-08-14T13:32:42.074Z"
   },
   {
    "duration": 44,
    "start_time": "2021-08-14T13:35:16.034Z"
   },
   {
    "duration": 29,
    "start_time": "2021-08-14T13:35:21.079Z"
   },
   {
    "duration": 29,
    "start_time": "2021-08-14T13:36:05.081Z"
   },
   {
    "duration": 7,
    "start_time": "2021-08-14T13:36:57.066Z"
   },
   {
    "duration": 29,
    "start_time": "2021-08-14T13:36:58.898Z"
   },
   {
    "duration": 22,
    "start_time": "2021-08-14T13:37:09.256Z"
   },
   {
    "duration": 395,
    "start_time": "2021-08-14T13:37:19.667Z"
   },
   {
    "duration": 8,
    "start_time": "2021-08-14T13:37:24.872Z"
   },
   {
    "duration": 23,
    "start_time": "2021-08-14T13:37:25.599Z"
   },
   {
    "duration": 36,
    "start_time": "2021-08-14T13:38:10.641Z"
   },
   {
    "duration": 24,
    "start_time": "2021-08-14T13:40:32.842Z"
   },
   {
    "duration": 22,
    "start_time": "2021-08-14T13:41:27.673Z"
   },
   {
    "duration": 23,
    "start_time": "2021-08-14T13:41:28.787Z"
   },
   {
    "duration": 3,
    "start_time": "2021-08-14T13:42:10.340Z"
   },
   {
    "duration": 540,
    "start_time": "2021-08-14T13:42:10.349Z"
   },
   {
    "duration": 20,
    "start_time": "2021-08-14T13:42:10.892Z"
   },
   {
    "duration": 10,
    "start_time": "2021-08-14T13:42:10.915Z"
   },
   {
    "duration": 66,
    "start_time": "2021-08-14T13:42:10.928Z"
   },
   {
    "duration": 11,
    "start_time": "2021-08-14T13:42:10.997Z"
   },
   {
    "duration": 24,
    "start_time": "2021-08-14T13:42:11.010Z"
   },
   {
    "duration": 58,
    "start_time": "2021-08-14T13:42:11.037Z"
   },
   {
    "duration": 11,
    "start_time": "2021-08-14T13:42:11.099Z"
   },
   {
    "duration": 34,
    "start_time": "2021-08-14T13:42:11.114Z"
   },
   {
    "duration": 40,
    "start_time": "2021-08-14T13:42:11.150Z"
   },
   {
    "duration": 17,
    "start_time": "2021-08-14T13:42:11.192Z"
   },
   {
    "duration": 110,
    "start_time": "2021-08-14T13:42:11.211Z"
   },
   {
    "duration": 4,
    "start_time": "2021-08-14T13:42:11.323Z"
   },
   {
    "duration": 16,
    "start_time": "2021-08-14T13:42:11.329Z"
   },
   {
    "duration": 92,
    "start_time": "2021-08-14T13:42:11.347Z"
   },
   {
    "duration": 12,
    "start_time": "2021-08-14T13:42:11.442Z"
   },
   {
    "duration": 119,
    "start_time": "2021-08-14T13:42:11.456Z"
   },
   {
    "duration": 2,
    "start_time": "2021-08-14T13:42:11.577Z"
   },
   {
    "duration": 5,
    "start_time": "2021-08-14T13:42:11.586Z"
   },
   {
    "duration": 71,
    "start_time": "2021-08-14T13:42:11.594Z"
   },
   {
    "duration": 24,
    "start_time": "2021-08-14T13:42:11.667Z"
   },
   {
    "duration": 5,
    "start_time": "2021-08-14T13:42:11.694Z"
   },
   {
    "duration": 12,
    "start_time": "2021-08-14T13:42:11.705Z"
   },
   {
    "duration": 7,
    "start_time": "2021-08-14T13:42:11.720Z"
   },
   {
    "duration": 15,
    "start_time": "2021-08-14T13:42:11.729Z"
   },
   {
    "duration": 45,
    "start_time": "2021-08-14T13:42:11.747Z"
   },
   {
    "duration": 8,
    "start_time": "2021-08-14T13:42:11.794Z"
   },
   {
    "duration": 8,
    "start_time": "2021-08-14T13:42:11.804Z"
   },
   {
    "duration": 32,
    "start_time": "2021-08-14T13:42:11.814Z"
   },
   {
    "duration": 57,
    "start_time": "2021-08-14T13:42:11.848Z"
   },
   {
    "duration": 8,
    "start_time": "2021-08-14T13:42:11.908Z"
   },
   {
    "duration": 12,
    "start_time": "2021-08-14T13:42:11.918Z"
   },
   {
    "duration": 32,
    "start_time": "2021-08-14T13:42:11.933Z"
   },
   {
    "duration": 47,
    "start_time": "2021-08-14T13:42:11.968Z"
   },
   {
    "duration": 10,
    "start_time": "2021-08-14T13:42:12.018Z"
   },
   {
    "duration": 12,
    "start_time": "2021-08-14T13:42:12.031Z"
   },
   {
    "duration": 45,
    "start_time": "2021-08-14T13:42:12.045Z"
   },
   {
    "duration": 34,
    "start_time": "2021-08-14T13:42:12.093Z"
   },
   {
    "duration": 28,
    "start_time": "2021-08-14T13:42:12.129Z"
   },
   {
    "duration": 32,
    "start_time": "2021-08-14T13:42:12.159Z"
   },
   {
    "duration": 34,
    "start_time": "2021-08-14T13:42:12.194Z"
   },
   {
    "duration": 21,
    "start_time": "2021-08-14T13:42:12.230Z"
   },
   {
    "duration": 52,
    "start_time": "2021-08-14T13:42:12.254Z"
   },
   {
    "duration": 12,
    "start_time": "2021-08-14T13:42:12.309Z"
   },
   {
    "duration": 18,
    "start_time": "2021-08-14T13:42:12.323Z"
   },
   {
    "duration": 1693,
    "start_time": "2021-08-14T13:42:12.343Z"
   },
   {
    "duration": 541,
    "start_time": "2021-08-14T13:42:14.038Z"
   },
   {
    "duration": 482,
    "start_time": "2021-08-14T13:42:14.585Z"
   },
   {
    "duration": 497,
    "start_time": "2021-08-14T13:42:15.069Z"
   },
   {
    "duration": 65,
    "start_time": "2021-08-14T13:42:15.568Z"
   },
   {
    "duration": 55,
    "start_time": "2021-08-14T13:42:15.635Z"
   },
   {
    "duration": 529,
    "start_time": "2021-08-14T13:42:15.692Z"
   },
   {
    "duration": 11,
    "start_time": "2021-08-14T13:42:16.223Z"
   },
   {
    "duration": 8,
    "start_time": "2021-08-14T13:42:16.236Z"
   },
   {
    "duration": 52,
    "start_time": "2021-08-14T13:42:16.246Z"
   },
   {
    "duration": 25,
    "start_time": "2021-08-14T13:42:16.301Z"
   },
   {
    "duration": 683,
    "start_time": "2021-08-14T13:42:16.328Z"
   },
   {
    "duration": 31,
    "start_time": "2021-08-14T13:43:41.801Z"
   },
   {
    "duration": 521,
    "start_time": "2021-08-14T13:43:44.054Z"
   },
   {
    "duration": 12,
    "start_time": "2021-08-14T13:43:47.180Z"
   },
   {
    "duration": 8,
    "start_time": "2021-08-14T13:43:48.721Z"
   },
   {
    "duration": 6,
    "start_time": "2021-08-14T13:47:08.687Z"
   },
   {
    "duration": 6,
    "start_time": "2021-08-14T13:47:25.172Z"
   },
   {
    "duration": 16,
    "start_time": "2021-08-14T13:47:29.448Z"
   },
   {
    "duration": 459,
    "start_time": "2021-08-14T13:48:53.048Z"
   },
   {
    "duration": 409,
    "start_time": "2021-08-14T13:48:59.242Z"
   },
   {
    "duration": 1912,
    "start_time": "2021-08-14T13:49:23.047Z"
   },
   {
    "duration": 31,
    "start_time": "2021-08-14T13:49:33.595Z"
   },
   {
    "duration": 3,
    "start_time": "2021-08-14T13:50:04.477Z"
   },
   {
    "duration": 571,
    "start_time": "2021-08-14T13:50:04.485Z"
   },
   {
    "duration": 21,
    "start_time": "2021-08-14T13:50:05.058Z"
   },
   {
    "duration": 16,
    "start_time": "2021-08-14T13:50:05.084Z"
   },
   {
    "duration": 44,
    "start_time": "2021-08-14T13:50:05.103Z"
   },
   {
    "duration": 10,
    "start_time": "2021-08-14T13:50:05.149Z"
   },
   {
    "duration": 37,
    "start_time": "2021-08-14T13:50:05.162Z"
   },
   {
    "duration": 24,
    "start_time": "2021-08-14T13:50:05.202Z"
   },
   {
    "duration": 9,
    "start_time": "2021-08-14T13:50:05.230Z"
   },
   {
    "duration": 63,
    "start_time": "2021-08-14T13:50:05.242Z"
   },
   {
    "duration": 10,
    "start_time": "2021-08-14T13:50:05.307Z"
   },
   {
    "duration": 24,
    "start_time": "2021-08-14T13:50:05.319Z"
   },
   {
    "duration": 118,
    "start_time": "2021-08-14T13:50:05.346Z"
   },
   {
    "duration": 4,
    "start_time": "2021-08-14T13:50:05.467Z"
   },
   {
    "duration": 26,
    "start_time": "2021-08-14T13:50:05.474Z"
   },
   {
    "duration": 106,
    "start_time": "2021-08-14T13:50:05.503Z"
   },
   {
    "duration": 12,
    "start_time": "2021-08-14T13:50:05.612Z"
   },
   {
    "duration": 124,
    "start_time": "2021-08-14T13:50:05.626Z"
   },
   {
    "duration": 2,
    "start_time": "2021-08-14T13:50:05.753Z"
   },
   {
    "duration": 29,
    "start_time": "2021-08-14T13:50:05.758Z"
   },
   {
    "duration": 94,
    "start_time": "2021-08-14T13:50:05.790Z"
   },
   {
    "duration": 12,
    "start_time": "2021-08-14T13:50:05.886Z"
   },
   {
    "duration": 83,
    "start_time": "2021-08-14T13:50:05.901Z"
   },
   {
    "duration": 32,
    "start_time": "2021-08-14T13:50:05.989Z"
   },
   {
    "duration": 13,
    "start_time": "2021-08-14T13:50:06.025Z"
   },
   {
    "duration": 18,
    "start_time": "2021-08-14T13:50:06.040Z"
   },
   {
    "duration": 19,
    "start_time": "2021-08-14T13:50:06.060Z"
   },
   {
    "duration": 5,
    "start_time": "2021-08-14T13:50:06.082Z"
   },
   {
    "duration": 14,
    "start_time": "2021-08-14T13:50:06.090Z"
   },
   {
    "duration": 31,
    "start_time": "2021-08-14T13:50:06.106Z"
   },
   {
    "duration": 33,
    "start_time": "2021-08-14T13:50:06.139Z"
   },
   {
    "duration": 8,
    "start_time": "2021-08-14T13:50:06.175Z"
   },
   {
    "duration": 9,
    "start_time": "2021-08-14T13:50:06.186Z"
   },
   {
    "duration": 14,
    "start_time": "2021-08-14T13:50:06.197Z"
   },
   {
    "duration": 39,
    "start_time": "2021-08-14T13:50:06.214Z"
   },
   {
    "duration": 10,
    "start_time": "2021-08-14T13:50:06.256Z"
   },
   {
    "duration": 7,
    "start_time": "2021-08-14T13:50:06.269Z"
   },
   {
    "duration": 10751,
    "start_time": "2021-08-14T13:50:06.278Z"
   },
   {
    "duration": 1840,
    "start_time": "2021-08-14T13:50:15.192Z"
   },
   {
    "duration": 1788,
    "start_time": "2021-08-14T13:50:15.245Z"
   },
   {
    "duration": 1770,
    "start_time": "2021-08-14T13:50:15.265Z"
   },
   {
    "duration": 1723,
    "start_time": "2021-08-14T13:50:15.313Z"
   },
   {
    "duration": 1698,
    "start_time": "2021-08-14T13:50:15.340Z"
   },
   {
    "duration": 1691,
    "start_time": "2021-08-14T13:50:15.348Z"
   },
   {
    "duration": 1683,
    "start_time": "2021-08-14T13:50:15.357Z"
   },
   {
    "duration": 1652,
    "start_time": "2021-08-14T13:50:15.390Z"
   },
   {
    "duration": 1637,
    "start_time": "2021-08-14T13:50:15.407Z"
   },
   {
    "duration": 1609,
    "start_time": "2021-08-14T13:50:15.436Z"
   },
   {
    "duration": 1603,
    "start_time": "2021-08-14T13:50:15.444Z"
   },
   {
    "duration": 1575,
    "start_time": "2021-08-14T13:50:15.473Z"
   },
   {
    "duration": 1567,
    "start_time": "2021-08-14T13:50:15.482Z"
   },
   {
    "duration": 1557,
    "start_time": "2021-08-14T13:50:15.494Z"
   },
   {
    "duration": 1488,
    "start_time": "2021-08-14T13:50:15.564Z"
   },
   {
    "duration": 1458,
    "start_time": "2021-08-14T13:50:15.596Z"
   },
   {
    "duration": 1446,
    "start_time": "2021-08-14T13:50:15.609Z"
   },
   {
    "duration": 1438,
    "start_time": "2021-08-14T13:50:15.618Z"
   },
   {
    "duration": 1429,
    "start_time": "2021-08-14T13:50:15.629Z"
   },
   {
    "duration": 9810,
    "start_time": "2021-08-14T13:51:37.117Z"
   },
   {
    "duration": 36,
    "start_time": "2021-08-14T13:52:02.254Z"
   },
   {
    "duration": 27,
    "start_time": "2021-08-14T13:52:14.783Z"
   },
   {
    "duration": 25,
    "start_time": "2021-08-14T13:52:25.501Z"
   },
   {
    "duration": 8,
    "start_time": "2021-08-14T13:52:30.795Z"
   },
   {
    "duration": 30,
    "start_time": "2021-08-14T13:52:33.089Z"
   },
   {
    "duration": 29,
    "start_time": "2021-08-14T13:52:44.311Z"
   },
   {
    "duration": 31,
    "start_time": "2021-08-14T13:52:49.915Z"
   },
   {
    "duration": 23,
    "start_time": "2021-08-14T13:53:38.370Z"
   },
   {
    "duration": 34,
    "start_time": "2021-08-14T13:53:44.146Z"
   },
   {
    "duration": 32,
    "start_time": "2021-08-14T13:54:07.125Z"
   },
   {
    "duration": 33,
    "start_time": "2021-08-14T13:54:20.432Z"
   },
   {
    "duration": 39,
    "start_time": "2021-08-14T13:54:27.533Z"
   },
   {
    "duration": 25,
    "start_time": "2021-08-14T13:54:46.488Z"
   },
   {
    "duration": 169,
    "start_time": "2021-08-14T13:55:04.291Z"
   },
   {
    "duration": 33,
    "start_time": "2021-08-14T13:55:11.628Z"
   },
   {
    "duration": 51,
    "start_time": "2021-08-14T14:02:33.418Z"
   },
   {
    "duration": 1415,
    "start_time": "2021-08-14T14:02:43.889Z"
   },
   {
    "duration": 9876,
    "start_time": "2021-08-14T14:03:21.862Z"
   },
   {
    "duration": 4,
    "start_time": "2021-08-14T14:03:42.258Z"
   },
   {
    "duration": 553,
    "start_time": "2021-08-14T14:03:42.268Z"
   },
   {
    "duration": 20,
    "start_time": "2021-08-14T14:03:42.823Z"
   },
   {
    "duration": 13,
    "start_time": "2021-08-14T14:03:42.846Z"
   },
   {
    "duration": 37,
    "start_time": "2021-08-14T14:03:42.862Z"
   },
   {
    "duration": 10,
    "start_time": "2021-08-14T14:03:42.902Z"
   },
   {
    "duration": 29,
    "start_time": "2021-08-14T14:03:42.915Z"
   },
   {
    "duration": 56,
    "start_time": "2021-08-14T14:03:42.947Z"
   },
   {
    "duration": 9,
    "start_time": "2021-08-14T14:03:43.007Z"
   },
   {
    "duration": 32,
    "start_time": "2021-08-14T14:03:43.019Z"
   },
   {
    "duration": 12,
    "start_time": "2021-08-14T14:03:43.085Z"
   },
   {
    "duration": 24,
    "start_time": "2021-08-14T14:03:43.100Z"
   },
   {
    "duration": 119,
    "start_time": "2021-08-14T14:03:43.127Z"
   },
   {
    "duration": 6,
    "start_time": "2021-08-14T14:03:43.249Z"
   },
   {
    "duration": 32,
    "start_time": "2021-08-14T14:03:43.258Z"
   },
   {
    "duration": 74,
    "start_time": "2021-08-14T14:03:43.293Z"
   },
   {
    "duration": 29,
    "start_time": "2021-08-14T14:03:43.369Z"
   },
   {
    "duration": 132,
    "start_time": "2021-08-14T14:03:43.401Z"
   },
   {
    "duration": 3,
    "start_time": "2021-08-14T14:03:43.536Z"
   },
   {
    "duration": 6,
    "start_time": "2021-08-14T14:03:43.542Z"
   },
   {
    "duration": 90,
    "start_time": "2021-08-14T14:03:43.550Z"
   },
   {
    "duration": 13,
    "start_time": "2021-08-14T14:03:43.642Z"
   },
   {
    "duration": 5,
    "start_time": "2021-08-14T14:03:43.657Z"
   },
   {
    "duration": 26,
    "start_time": "2021-08-14T14:03:43.667Z"
   },
   {
    "duration": 3,
    "start_time": "2021-08-14T14:03:43.696Z"
   },
   {
    "duration": 14,
    "start_time": "2021-08-14T14:03:43.702Z"
   },
   {
    "duration": 13,
    "start_time": "2021-08-14T14:03:43.718Z"
   },
   {
    "duration": 6,
    "start_time": "2021-08-14T14:03:43.734Z"
   },
   {
    "duration": 46,
    "start_time": "2021-08-14T14:03:43.742Z"
   },
   {
    "duration": 44,
    "start_time": "2021-08-14T14:03:43.790Z"
   },
   {
    "duration": 35,
    "start_time": "2021-08-14T14:03:43.837Z"
   },
   {
    "duration": 16,
    "start_time": "2021-08-14T14:03:43.875Z"
   },
   {
    "duration": 14,
    "start_time": "2021-08-14T14:03:43.894Z"
   },
   {
    "duration": 19,
    "start_time": "2021-08-14T14:03:43.910Z"
   },
   {
    "duration": 55,
    "start_time": "2021-08-14T14:03:43.932Z"
   },
   {
    "duration": 10,
    "start_time": "2021-08-14T14:03:43.989Z"
   },
   {
    "duration": 16,
    "start_time": "2021-08-14T14:03:44.002Z"
   },
   {
    "duration": 40,
    "start_time": "2021-08-14T14:03:44.021Z"
   },
   {
    "duration": 23,
    "start_time": "2021-08-14T14:03:44.063Z"
   },
   {
    "duration": 11,
    "start_time": "2021-08-14T14:03:44.088Z"
   },
   {
    "duration": 7,
    "start_time": "2021-08-14T14:03:44.102Z"
   },
   {
    "duration": 6,
    "start_time": "2021-08-14T14:03:44.112Z"
   },
   {
    "duration": 6,
    "start_time": "2021-08-14T14:03:44.120Z"
   },
   {
    "duration": 1414,
    "start_time": "2021-08-14T14:03:44.128Z"
   },
   {
    "duration": 541,
    "start_time": "2021-08-14T14:03:45.544Z"
   },
   {
    "duration": 455,
    "start_time": "2021-08-14T14:03:46.088Z"
   },
   {
    "duration": 489,
    "start_time": "2021-08-14T14:03:46.546Z"
   },
   {
    "duration": 69,
    "start_time": "2021-08-14T14:03:47.038Z"
   },
   {
    "duration": 30,
    "start_time": "2021-08-14T14:03:47.109Z"
   },
   {
    "duration": 538,
    "start_time": "2021-08-14T14:03:47.142Z"
   },
   {
    "duration": 11,
    "start_time": "2021-08-14T14:03:47.682Z"
   },
   {
    "duration": 19,
    "start_time": "2021-08-14T14:03:47.696Z"
   },
   {
    "duration": 29,
    "start_time": "2021-08-14T14:03:47.717Z"
   },
   {
    "duration": 50,
    "start_time": "2021-08-14T14:03:47.749Z"
   },
   {
    "duration": 626,
    "start_time": "2021-08-14T14:03:47.801Z"
   },
   {
    "duration": 4,
    "start_time": "2021-08-14T14:04:40.274Z"
   },
   {
    "duration": 545,
    "start_time": "2021-08-14T14:04:40.282Z"
   },
   {
    "duration": 21,
    "start_time": "2021-08-14T14:04:40.830Z"
   },
   {
    "duration": 99,
    "start_time": "2021-08-14T14:04:40.853Z"
   },
   {
    "duration": 44,
    "start_time": "2021-08-14T14:04:40.955Z"
   },
   {
    "duration": 12,
    "start_time": "2021-08-14T14:04:41.002Z"
   },
   {
    "duration": 26,
    "start_time": "2021-08-14T14:04:41.017Z"
   },
   {
    "duration": 60,
    "start_time": "2021-08-14T14:04:41.046Z"
   },
   {
    "duration": 13,
    "start_time": "2021-08-14T14:04:41.112Z"
   },
   {
    "duration": 81,
    "start_time": "2021-08-14T14:04:41.129Z"
   },
   {
    "duration": 10,
    "start_time": "2021-08-14T14:04:41.212Z"
   },
   {
    "duration": 17,
    "start_time": "2021-08-14T14:04:41.224Z"
   },
   {
    "duration": 140,
    "start_time": "2021-08-14T14:04:41.245Z"
   },
   {
    "duration": 5,
    "start_time": "2021-08-14T14:04:41.388Z"
   },
   {
    "duration": 14,
    "start_time": "2021-08-14T14:04:41.395Z"
   },
   {
    "duration": 103,
    "start_time": "2021-08-14T14:04:41.412Z"
   },
   {
    "duration": 12,
    "start_time": "2021-08-14T14:04:41.518Z"
   },
   {
    "duration": 121,
    "start_time": "2021-08-14T14:04:41.532Z"
   },
   {
    "duration": 4,
    "start_time": "2021-08-14T14:04:41.655Z"
   },
   {
    "duration": 24,
    "start_time": "2021-08-14T14:04:41.661Z"
   },
   {
    "duration": 66,
    "start_time": "2021-08-14T14:04:41.688Z"
   },
   {
    "duration": 28,
    "start_time": "2021-08-14T14:04:41.757Z"
   },
   {
    "duration": 3,
    "start_time": "2021-08-14T14:04:41.788Z"
   },
   {
    "duration": 13,
    "start_time": "2021-08-14T14:04:41.797Z"
   },
   {
    "duration": 4,
    "start_time": "2021-08-14T14:04:41.813Z"
   },
   {
    "duration": 22,
    "start_time": "2021-08-14T14:04:41.820Z"
   },
   {
    "duration": 47,
    "start_time": "2021-08-14T14:04:41.845Z"
   },
   {
    "duration": 3,
    "start_time": "2021-08-14T14:04:41.894Z"
   },
   {
    "duration": 9,
    "start_time": "2021-08-14T14:04:41.899Z"
   },
   {
    "duration": 33,
    "start_time": "2021-08-14T14:04:41.910Z"
   },
   {
    "duration": 60,
    "start_time": "2021-08-14T14:04:41.945Z"
   },
   {
    "duration": 11,
    "start_time": "2021-08-14T14:04:42.007Z"
   },
   {
    "duration": 12,
    "start_time": "2021-08-14T14:04:42.021Z"
   },
   {
    "duration": 13,
    "start_time": "2021-08-14T14:04:42.035Z"
   },
   {
    "duration": 62,
    "start_time": "2021-08-14T14:04:42.051Z"
   },
   {
    "duration": 10,
    "start_time": "2021-08-14T14:04:42.115Z"
   },
   {
    "duration": 10,
    "start_time": "2021-08-14T14:04:42.127Z"
   },
   {
    "duration": 60,
    "start_time": "2021-08-14T14:04:42.140Z"
   },
   {
    "duration": 30,
    "start_time": "2021-08-14T14:04:42.203Z"
   },
   {
    "duration": 7,
    "start_time": "2021-08-14T14:04:42.235Z"
   },
   {
    "duration": 61,
    "start_time": "2021-08-14T14:04:42.244Z"
   },
   {
    "duration": 29,
    "start_time": "2021-08-14T14:04:42.308Z"
   },
   {
    "duration": 3,
    "start_time": "2021-08-14T14:04:42.340Z"
   },
   {
    "duration": 1573,
    "start_time": "2021-08-14T14:04:42.345Z"
   },
   {
    "duration": 526,
    "start_time": "2021-08-14T14:04:43.921Z"
   },
   {
    "duration": 476,
    "start_time": "2021-08-14T14:04:44.450Z"
   },
   {
    "duration": 696,
    "start_time": "2021-08-14T14:04:44.928Z"
   },
   {
    "duration": 98,
    "start_time": "2021-08-14T14:04:45.627Z"
   },
   {
    "duration": 59,
    "start_time": "2021-08-14T14:04:45.728Z"
   },
   {
    "duration": 559,
    "start_time": "2021-08-14T14:04:45.790Z"
   },
   {
    "duration": 11,
    "start_time": "2021-08-14T14:04:46.352Z"
   },
   {
    "duration": 21,
    "start_time": "2021-08-14T14:04:46.366Z"
   },
   {
    "duration": 43,
    "start_time": "2021-08-14T14:04:46.390Z"
   },
   {
    "duration": 35,
    "start_time": "2021-08-14T14:04:46.436Z"
   },
   {
    "duration": 630,
    "start_time": "2021-08-14T14:04:46.474Z"
   },
   {
    "duration": 52,
    "start_time": "2021-08-14T14:05:36.773Z"
   },
   {
    "duration": 563,
    "start_time": "2021-08-14T14:05:50.463Z"
   },
   {
    "duration": 10,
    "start_time": "2021-08-14T14:06:11.039Z"
   },
   {
    "duration": 7,
    "start_time": "2021-08-14T14:06:16.606Z"
   },
   {
    "duration": 33,
    "start_time": "2021-08-14T14:07:13.053Z"
   },
   {
    "duration": 517,
    "start_time": "2021-08-14T14:07:13.923Z"
   },
   {
    "duration": 529,
    "start_time": "2021-08-14T14:07:49.885Z"
   },
   {
    "duration": 1226,
    "start_time": "2021-08-14T14:09:16.514Z"
   },
   {
    "duration": 11,
    "start_time": "2021-08-14T14:10:22.978Z"
   },
   {
    "duration": 37,
    "start_time": "2021-08-14T14:11:53.702Z"
   },
   {
    "duration": 20,
    "start_time": "2021-08-14T14:12:07.249Z"
   },
   {
    "duration": 403,
    "start_time": "2021-08-14T14:12:29.940Z"
   },
   {
    "duration": 11,
    "start_time": "2021-08-14T14:14:39.467Z"
   },
   {
    "duration": 6,
    "start_time": "2021-08-14T14:15:11.004Z"
   },
   {
    "duration": 7,
    "start_time": "2021-08-14T14:15:30.957Z"
   },
   {
    "duration": 4,
    "start_time": "2021-08-14T14:15:38.414Z"
   },
   {
    "duration": 559,
    "start_time": "2021-08-14T14:15:38.421Z"
   },
   {
    "duration": 22,
    "start_time": "2021-08-14T14:15:38.983Z"
   },
   {
    "duration": 17,
    "start_time": "2021-08-14T14:15:39.008Z"
   },
   {
    "duration": 61,
    "start_time": "2021-08-14T14:15:39.028Z"
   },
   {
    "duration": 10,
    "start_time": "2021-08-14T14:15:39.093Z"
   },
   {
    "duration": 28,
    "start_time": "2021-08-14T14:15:39.107Z"
   },
   {
    "duration": 58,
    "start_time": "2021-08-14T14:15:39.138Z"
   },
   {
    "duration": 10,
    "start_time": "2021-08-14T14:15:39.199Z"
   },
   {
    "duration": 32,
    "start_time": "2021-08-14T14:15:39.211Z"
   },
   {
    "duration": 45,
    "start_time": "2021-08-14T14:15:39.246Z"
   },
   {
    "duration": 19,
    "start_time": "2021-08-14T14:15:39.294Z"
   },
   {
    "duration": 117,
    "start_time": "2021-08-14T14:15:39.315Z"
   },
   {
    "duration": 5,
    "start_time": "2021-08-14T14:15:39.435Z"
   },
   {
    "duration": 18,
    "start_time": "2021-08-14T14:15:39.443Z"
   },
   {
    "duration": 82,
    "start_time": "2021-08-14T14:15:39.464Z"
   },
   {
    "duration": 14,
    "start_time": "2021-08-14T14:15:39.548Z"
   },
   {
    "duration": 114,
    "start_time": "2021-08-14T14:15:39.584Z"
   },
   {
    "duration": 3,
    "start_time": "2021-08-14T14:15:39.704Z"
   },
   {
    "duration": 22,
    "start_time": "2021-08-14T14:15:39.711Z"
   },
   {
    "duration": 71,
    "start_time": "2021-08-14T14:15:39.735Z"
   },
   {
    "duration": 13,
    "start_time": "2021-08-14T14:15:39.809Z"
   },
   {
    "duration": 6,
    "start_time": "2021-08-14T14:15:39.825Z"
   },
   {
    "duration": 12,
    "start_time": "2021-08-14T14:15:39.834Z"
   },
   {
    "duration": 8,
    "start_time": "2021-08-14T14:15:39.849Z"
   },
   {
    "duration": 10,
    "start_time": "2021-08-14T14:15:39.886Z"
   },
   {
    "duration": 16,
    "start_time": "2021-08-14T14:15:39.899Z"
   },
   {
    "duration": 4,
    "start_time": "2021-08-14T14:15:39.917Z"
   },
   {
    "duration": 7,
    "start_time": "2021-08-14T14:15:39.923Z"
   },
   {
    "duration": 69,
    "start_time": "2021-08-14T14:15:39.932Z"
   },
   {
    "duration": 52,
    "start_time": "2021-08-14T14:15:40.004Z"
   },
   {
    "duration": 9,
    "start_time": "2021-08-14T14:15:40.059Z"
   },
   {
    "duration": 4,
    "start_time": "2021-08-14T14:15:40.086Z"
   },
   {
    "duration": 21,
    "start_time": "2021-08-14T14:15:40.093Z"
   },
   {
    "duration": 40,
    "start_time": "2021-08-14T14:15:40.117Z"
   },
   {
    "duration": 30,
    "start_time": "2021-08-14T14:15:40.160Z"
   },
   {
    "duration": 14,
    "start_time": "2021-08-14T14:15:40.192Z"
   },
   {
    "duration": 38,
    "start_time": "2021-08-14T14:15:40.208Z"
   },
   {
    "duration": 55,
    "start_time": "2021-08-14T14:15:40.248Z"
   },
   {
    "duration": 7,
    "start_time": "2021-08-14T14:15:40.306Z"
   },
   {
    "duration": 36,
    "start_time": "2021-08-14T14:15:40.316Z"
   },
   {
    "duration": 48,
    "start_time": "2021-08-14T14:15:40.355Z"
   },
   {
    "duration": 50,
    "start_time": "2021-08-14T14:15:40.405Z"
   },
   {
    "duration": 1516,
    "start_time": "2021-08-14T14:15:40.458Z"
   },
   {
    "duration": 546,
    "start_time": "2021-08-14T14:15:41.977Z"
   },
   {
    "duration": 476,
    "start_time": "2021-08-14T14:15:42.526Z"
   },
   {
    "duration": 491,
    "start_time": "2021-08-14T14:15:43.005Z"
   },
   {
    "duration": 55,
    "start_time": "2021-08-14T14:15:43.498Z"
   },
   {
    "duration": 34,
    "start_time": "2021-08-14T14:15:43.556Z"
   },
   {
    "duration": 7,
    "start_time": "2021-08-14T14:15:43.593Z"
   },
   {
    "duration": 22,
    "start_time": "2021-08-14T14:15:43.602Z"
   },
   {
    "duration": 540,
    "start_time": "2021-08-14T14:15:43.626Z"
   },
   {
    "duration": 118,
    "start_time": "2021-08-14T14:15:44.168Z"
   },
   {
    "duration": 1993,
    "start_time": "2021-08-14T14:15:42.295Z"
   },
   {
    "duration": 1987,
    "start_time": "2021-08-14T14:15:42.302Z"
   },
   {
    "duration": 1959,
    "start_time": "2021-08-14T14:15:42.332Z"
   },
   {
    "duration": 11,
    "start_time": "2021-08-14T14:15:53.271Z"
   },
   {
    "duration": 7,
    "start_time": "2021-08-14T14:15:53.706Z"
   },
   {
    "duration": 6,
    "start_time": "2021-08-14T14:15:54.192Z"
   },
   {
    "duration": 11,
    "start_time": "2021-08-14T14:16:14.954Z"
   },
   {
    "duration": 7,
    "start_time": "2021-08-14T14:16:16.788Z"
   },
   {
    "duration": 7,
    "start_time": "2021-08-14T14:16:18.849Z"
   },
   {
    "duration": 6,
    "start_time": "2021-08-14T14:16:54.266Z"
   },
   {
    "duration": 6,
    "start_time": "2021-08-14T14:17:25.131Z"
   },
   {
    "duration": 5,
    "start_time": "2021-08-14T14:17:41.696Z"
   },
   {
    "duration": 6,
    "start_time": "2021-08-14T14:17:42.723Z"
   },
   {
    "duration": 534,
    "start_time": "2021-08-14T14:18:09.604Z"
   },
   {
    "duration": 515,
    "start_time": "2021-08-14T14:18:39.233Z"
   },
   {
    "duration": 509,
    "start_time": "2021-08-14T14:18:43.278Z"
   },
   {
    "duration": 316,
    "start_time": "2021-08-14T14:18:56.552Z"
   },
   {
    "duration": 432,
    "start_time": "2021-08-14T14:19:02.845Z"
   },
   {
    "duration": 548,
    "start_time": "2021-08-14T14:19:08.813Z"
   },
   {
    "duration": 508,
    "start_time": "2021-08-14T14:19:26.255Z"
   },
   {
    "duration": 6,
    "start_time": "2021-08-14T14:20:27.072Z"
   },
   {
    "duration": 1579,
    "start_time": "2021-08-14T16:13:34.646Z"
   },
   {
    "duration": 1413,
    "start_time": "2021-08-14T16:13:44.261Z"
   },
   {
    "duration": 13,
    "start_time": "2021-08-14T16:32:53.806Z"
   },
   {
    "duration": 25,
    "start_time": "2021-08-14T16:33:59.344Z"
   },
   {
    "duration": 7,
    "start_time": "2021-08-14T16:34:50.924Z"
   },
   {
    "duration": 3,
    "start_time": "2021-08-14T16:35:45.365Z"
   },
   {
    "duration": 3,
    "start_time": "2021-08-14T16:36:14.437Z"
   },
   {
    "duration": 607,
    "start_time": "2021-08-14T16:36:14.443Z"
   },
   {
    "duration": 20,
    "start_time": "2021-08-14T16:36:15.054Z"
   },
   {
    "duration": 13,
    "start_time": "2021-08-14T16:36:15.078Z"
   },
   {
    "duration": 46,
    "start_time": "2021-08-14T16:36:15.094Z"
   },
   {
    "duration": 13,
    "start_time": "2021-08-14T16:36:15.143Z"
   },
   {
    "duration": 27,
    "start_time": "2021-08-14T16:36:15.185Z"
   },
   {
    "duration": 31,
    "start_time": "2021-08-14T16:36:15.216Z"
   },
   {
    "duration": 40,
    "start_time": "2021-08-14T16:36:15.250Z"
   },
   {
    "duration": 35,
    "start_time": "2021-08-14T16:36:15.293Z"
   },
   {
    "duration": 13,
    "start_time": "2021-08-14T16:36:15.331Z"
   },
   {
    "duration": 19,
    "start_time": "2021-08-14T16:36:15.386Z"
   },
   {
    "duration": 106,
    "start_time": "2021-08-14T16:36:15.407Z"
   },
   {
    "duration": 4,
    "start_time": "2021-08-14T16:36:15.516Z"
   },
   {
    "duration": 19,
    "start_time": "2021-08-14T16:36:15.522Z"
   },
   {
    "duration": 94,
    "start_time": "2021-08-14T16:36:15.543Z"
   },
   {
    "duration": 12,
    "start_time": "2021-08-14T16:36:15.639Z"
   },
   {
    "duration": 128,
    "start_time": "2021-08-14T16:36:15.654Z"
   },
   {
    "duration": 2,
    "start_time": "2021-08-14T16:36:15.788Z"
   },
   {
    "duration": 6,
    "start_time": "2021-08-14T16:36:15.794Z"
   },
   {
    "duration": 88,
    "start_time": "2021-08-14T16:36:15.803Z"
   },
   {
    "duration": 12,
    "start_time": "2021-08-14T16:36:15.894Z"
   },
   {
    "duration": 8,
    "start_time": "2021-08-14T16:36:15.908Z"
   },
   {
    "duration": 17,
    "start_time": "2021-08-14T16:36:15.918Z"
   },
   {
    "duration": 4,
    "start_time": "2021-08-14T16:36:15.938Z"
   },
   {
    "duration": 16,
    "start_time": "2021-08-14T16:36:15.944Z"
   },
   {
    "duration": 33,
    "start_time": "2021-08-14T16:36:15.962Z"
   },
   {
    "duration": 8,
    "start_time": "2021-08-14T16:36:15.997Z"
   },
   {
    "duration": 31,
    "start_time": "2021-08-14T16:36:16.007Z"
   },
   {
    "duration": 47,
    "start_time": "2021-08-14T16:36:16.040Z"
   },
   {
    "duration": 10,
    "start_time": "2021-08-14T16:36:16.090Z"
   },
   {
    "duration": 13,
    "start_time": "2021-08-14T16:36:16.102Z"
   },
   {
    "duration": 14,
    "start_time": "2021-08-14T16:36:16.118Z"
   },
   {
    "duration": 58,
    "start_time": "2021-08-14T16:36:16.135Z"
   },
   {
    "duration": 11,
    "start_time": "2021-08-14T16:36:16.195Z"
   },
   {
    "duration": 17,
    "start_time": "2021-08-14T16:36:16.208Z"
   },
   {
    "duration": 58,
    "start_time": "2021-08-14T16:36:16.227Z"
   },
   {
    "duration": 27,
    "start_time": "2021-08-14T16:36:16.288Z"
   },
   {
    "duration": 12,
    "start_time": "2021-08-14T16:36:16.317Z"
   },
   {
    "duration": 37,
    "start_time": "2021-08-14T16:36:16.332Z"
   },
   {
    "duration": 3,
    "start_time": "2021-08-14T16:36:16.385Z"
   },
   {
    "duration": 67,
    "start_time": "2021-08-14T16:36:16.390Z"
   },
   {
    "duration": 1371,
    "start_time": "2021-08-14T16:36:16.459Z"
   },
   {
    "duration": 544,
    "start_time": "2021-08-14T16:36:17.833Z"
   },
   {
    "duration": 565,
    "start_time": "2021-08-14T16:36:18.379Z"
   },
   {
    "duration": 501,
    "start_time": "2021-08-14T16:36:18.947Z"
   },
   {
    "duration": 62,
    "start_time": "2021-08-14T16:36:19.450Z"
   },
   {
    "duration": 12,
    "start_time": "2021-08-14T16:36:19.515Z"
   },
   {
    "duration": 16,
    "start_time": "2021-08-14T16:36:19.529Z"
   },
   {
    "duration": 40,
    "start_time": "2021-08-14T16:36:19.547Z"
   },
   {
    "duration": 540,
    "start_time": "2021-08-14T16:36:19.590Z"
   },
   {
    "duration": 11,
    "start_time": "2021-08-14T16:36:20.132Z"
   },
   {
    "duration": 13,
    "start_time": "2021-08-14T16:36:20.146Z"
   },
   {
    "duration": 24,
    "start_time": "2021-08-14T16:36:20.161Z"
   },
   {
    "duration": 536,
    "start_time": "2021-08-14T16:36:20.191Z"
   },
   {
    "duration": 3,
    "start_time": "2021-08-14T16:50:15.033Z"
   },
   {
    "duration": 1385,
    "start_time": "2021-08-14T16:50:15.038Z"
   },
   {
    "duration": 16,
    "start_time": "2021-08-14T16:50:16.425Z"
   },
   {
    "duration": 6,
    "start_time": "2021-08-14T16:50:16.443Z"
   },
   {
    "duration": 23,
    "start_time": "2021-08-14T16:50:16.451Z"
   },
   {
    "duration": 9,
    "start_time": "2021-08-14T16:50:16.476Z"
   },
   {
    "duration": 21,
    "start_time": "2021-08-14T16:50:16.487Z"
   },
   {
    "duration": 17,
    "start_time": "2021-08-14T16:50:16.510Z"
   },
   {
    "duration": 6,
    "start_time": "2021-08-14T16:50:16.531Z"
   },
   {
    "duration": 21,
    "start_time": "2021-08-14T16:50:16.539Z"
   },
   {
    "duration": 8,
    "start_time": "2021-08-14T16:50:16.591Z"
   },
   {
    "duration": 10,
    "start_time": "2021-08-14T16:50:16.601Z"
   },
   {
    "duration": 80,
    "start_time": "2021-08-14T16:50:16.613Z"
   },
   {
    "duration": 3,
    "start_time": "2021-08-14T16:50:16.695Z"
   },
   {
    "duration": 9,
    "start_time": "2021-08-14T16:50:16.700Z"
   },
   {
    "duration": 47,
    "start_time": "2021-08-14T16:50:16.711Z"
   },
   {
    "duration": 34,
    "start_time": "2021-08-14T16:50:16.759Z"
   },
   {
    "duration": 69,
    "start_time": "2021-08-14T16:50:16.795Z"
   },
   {
    "duration": 3,
    "start_time": "2021-08-14T16:50:16.865Z"
   },
   {
    "duration": 4,
    "start_time": "2021-08-14T16:50:16.870Z"
   },
   {
    "duration": 43,
    "start_time": "2021-08-14T16:50:16.891Z"
   },
   {
    "duration": 9,
    "start_time": "2021-08-14T16:50:16.936Z"
   },
   {
    "duration": 5,
    "start_time": "2021-08-14T16:50:16.947Z"
   },
   {
    "duration": 9,
    "start_time": "2021-08-14T16:50:16.954Z"
   },
   {
    "duration": 26,
    "start_time": "2021-08-14T16:50:16.965Z"
   },
   {
    "duration": 7,
    "start_time": "2021-08-14T16:50:16.993Z"
   },
   {
    "duration": 8,
    "start_time": "2021-08-14T16:50:17.005Z"
   },
   {
    "duration": 9,
    "start_time": "2021-08-14T16:50:17.015Z"
   },
   {
    "duration": 25,
    "start_time": "2021-08-14T16:50:17.025Z"
   },
   {
    "duration": 13,
    "start_time": "2021-08-14T16:50:17.051Z"
   },
   {
    "duration": 25,
    "start_time": "2021-08-14T16:50:17.066Z"
   },
   {
    "duration": 3,
    "start_time": "2021-08-14T16:50:17.093Z"
   },
   {
    "duration": 9,
    "start_time": "2021-08-14T16:50:17.097Z"
   },
   {
    "duration": 23,
    "start_time": "2021-08-14T16:50:17.108Z"
   },
   {
    "duration": 7,
    "start_time": "2021-08-14T16:50:17.133Z"
   },
   {
    "duration": 6,
    "start_time": "2021-08-14T16:50:17.141Z"
   },
   {
    "duration": 23,
    "start_time": "2021-08-14T16:50:17.149Z"
   },
   {
    "duration": 16,
    "start_time": "2021-08-14T16:50:17.191Z"
   },
   {
    "duration": 6,
    "start_time": "2021-08-14T16:50:17.208Z"
   },
   {
    "duration": 18,
    "start_time": "2021-08-14T16:50:17.215Z"
   },
   {
    "duration": 2,
    "start_time": "2021-08-14T16:50:17.234Z"
   },
   {
    "duration": 40,
    "start_time": "2021-08-14T16:50:17.237Z"
   },
   {
    "duration": 855,
    "start_time": "2021-08-14T16:50:17.292Z"
   },
   {
    "duration": 264,
    "start_time": "2021-08-14T16:50:18.149Z"
   },
   {
    "duration": 232,
    "start_time": "2021-08-14T16:50:18.414Z"
   },
   {
    "duration": 311,
    "start_time": "2021-08-14T16:50:18.647Z"
   },
   {
    "duration": 37,
    "start_time": "2021-08-14T16:50:18.959Z"
   },
   {
    "duration": 7,
    "start_time": "2021-08-14T16:50:18.997Z"
   },
   {
    "duration": 5,
    "start_time": "2021-08-14T16:50:19.005Z"
   },
   {
    "duration": 17,
    "start_time": "2021-08-14T16:50:19.011Z"
   },
   {
    "duration": 269,
    "start_time": "2021-08-14T16:50:19.029Z"
   },
   {
    "duration": 7,
    "start_time": "2021-08-14T16:50:19.300Z"
   },
   {
    "duration": 6,
    "start_time": "2021-08-14T16:50:19.308Z"
   },
   {
    "duration": 4,
    "start_time": "2021-08-14T16:50:19.315Z"
   },
   {
    "duration": 274,
    "start_time": "2021-08-14T16:50:19.321Z"
   },
   {
    "duration": 19,
    "start_time": "2021-08-14T17:10:59.400Z"
   },
   {
    "duration": 309,
    "start_time": "2021-08-15T05:14:44.934Z"
   },
   {
    "duration": 4,
    "start_time": "2021-08-15T05:14:56.638Z"
   },
   {
    "duration": 2011,
    "start_time": "2021-08-15T05:14:56.644Z"
   },
   {
    "duration": 24,
    "start_time": "2021-08-15T05:14:58.658Z"
   },
   {
    "duration": 12,
    "start_time": "2021-08-15T05:14:58.684Z"
   },
   {
    "duration": 35,
    "start_time": "2021-08-15T05:14:58.698Z"
   },
   {
    "duration": 13,
    "start_time": "2021-08-15T05:14:58.736Z"
   },
   {
    "duration": 36,
    "start_time": "2021-08-15T05:14:58.784Z"
   },
   {
    "duration": 56,
    "start_time": "2021-08-15T05:14:58.826Z"
   },
   {
    "duration": 12,
    "start_time": "2021-08-15T05:14:58.886Z"
   },
   {
    "duration": 43,
    "start_time": "2021-08-15T05:14:58.901Z"
   },
   {
    "duration": 42,
    "start_time": "2021-08-15T05:14:58.947Z"
   },
   {
    "duration": 22,
    "start_time": "2021-08-15T05:14:58.991Z"
   },
   {
    "duration": 132,
    "start_time": "2021-08-15T05:14:59.016Z"
   },
   {
    "duration": 4,
    "start_time": "2021-08-15T05:14:59.150Z"
   },
   {
    "duration": 26,
    "start_time": "2021-08-15T05:14:59.156Z"
   },
   {
    "duration": 87,
    "start_time": "2021-08-15T05:14:59.185Z"
   },
   {
    "duration": 17,
    "start_time": "2021-08-15T05:14:59.283Z"
   },
   {
    "duration": 190,
    "start_time": "2021-08-15T05:14:59.303Z"
   },
   {
    "duration": 376,
    "start_time": "2021-08-15T05:14:59.496Z"
   },
   {
    "duration": 722,
    "start_time": "2021-08-15T05:14:59.155Z"
   },
   {
    "duration": 701,
    "start_time": "2021-08-15T05:14:59.178Z"
   },
   {
    "duration": 677,
    "start_time": "2021-08-15T05:14:59.203Z"
   },
   {
    "duration": 651,
    "start_time": "2021-08-15T05:14:59.230Z"
   },
   {
    "duration": 624,
    "start_time": "2021-08-15T05:14:59.258Z"
   },
   {
    "duration": 598,
    "start_time": "2021-08-15T05:14:59.285Z"
   },
   {
    "duration": 566,
    "start_time": "2021-08-15T05:14:59.318Z"
   },
   {
    "duration": 531,
    "start_time": "2021-08-15T05:14:59.354Z"
   },
   {
    "duration": 489,
    "start_time": "2021-08-15T05:14:59.398Z"
   },
   {
    "duration": 461,
    "start_time": "2021-08-15T05:14:59.427Z"
   },
   {
    "duration": 450,
    "start_time": "2021-08-15T05:14:59.440Z"
   },
   {
    "duration": 445,
    "start_time": "2021-08-15T05:14:59.447Z"
   },
   {
    "duration": 438,
    "start_time": "2021-08-15T05:14:59.455Z"
   },
   {
    "duration": 432,
    "start_time": "2021-08-15T05:14:59.463Z"
   },
   {
    "duration": 423,
    "start_time": "2021-08-15T05:14:59.473Z"
   },
   {
    "duration": 412,
    "start_time": "2021-08-15T05:14:59.485Z"
   },
   {
    "duration": 407,
    "start_time": "2021-08-15T05:14:59.492Z"
   },
   {
    "duration": 404,
    "start_time": "2021-08-15T05:14:59.498Z"
   },
   {
    "duration": 398,
    "start_time": "2021-08-15T05:14:59.506Z"
   },
   {
    "duration": 393,
    "start_time": "2021-08-15T05:14:59.512Z"
   },
   {
    "duration": 365,
    "start_time": "2021-08-15T05:14:59.542Z"
   },
   {
    "duration": 357,
    "start_time": "2021-08-15T05:14:59.551Z"
   },
   {
    "duration": 350,
    "start_time": "2021-08-15T05:14:59.560Z"
   },
   {
    "duration": 342,
    "start_time": "2021-08-15T05:14:59.569Z"
   },
   {
    "duration": 335,
    "start_time": "2021-08-15T05:14:59.578Z"
   },
   {
    "duration": 329,
    "start_time": "2021-08-15T05:14:59.585Z"
   },
   {
    "duration": 324,
    "start_time": "2021-08-15T05:14:59.592Z"
   },
   {
    "duration": 319,
    "start_time": "2021-08-15T05:14:59.599Z"
   },
   {
    "duration": 312,
    "start_time": "2021-08-15T05:14:59.607Z"
   },
   {
    "duration": 307,
    "start_time": "2021-08-15T05:14:59.613Z"
   },
   {
    "duration": 300,
    "start_time": "2021-08-15T05:14:59.622Z"
   },
   {
    "duration": 296,
    "start_time": "2021-08-15T05:14:59.628Z"
   },
   {
    "duration": 290,
    "start_time": "2021-08-15T05:14:59.635Z"
   },
   {
    "duration": 266,
    "start_time": "2021-08-15T05:14:59.661Z"
   },
   {
    "duration": 256,
    "start_time": "2021-08-15T05:14:59.672Z"
   },
   {
    "duration": 251,
    "start_time": "2021-08-15T05:14:59.679Z"
   },
   {
    "duration": 244,
    "start_time": "2021-08-15T05:14:59.687Z"
   },
   {
    "duration": 37,
    "start_time": "2021-08-15T05:15:28.569Z"
   },
   {
    "duration": 320,
    "start_time": "2021-08-15T05:15:43.106Z"
   },
   {
    "duration": 24,
    "start_time": "2021-08-15T05:15:56.489Z"
   },
   {
    "duration": 1186,
    "start_time": "2021-08-15T05:16:17.791Z"
   },
   {
    "duration": 18,
    "start_time": "2021-08-15T05:16:26.310Z"
   },
   {
    "duration": 15,
    "start_time": "2021-08-15T05:16:40.284Z"
   },
   {
    "duration": 22,
    "start_time": "2021-08-15T05:16:44.911Z"
   },
   {
    "duration": 15,
    "start_time": "2021-08-15T05:16:55.046Z"
   },
   {
    "duration": 18,
    "start_time": "2021-08-15T05:20:25.810Z"
   },
   {
    "duration": 22,
    "start_time": "2021-08-15T05:20:30.796Z"
   },
   {
    "duration": 14,
    "start_time": "2021-08-15T05:20:44.387Z"
   },
   {
    "duration": 14,
    "start_time": "2021-08-15T05:20:47.470Z"
   },
   {
    "duration": 13,
    "start_time": "2021-08-15T05:20:58.019Z"
   },
   {
    "duration": 13,
    "start_time": "2021-08-15T05:21:00.659Z"
   },
   {
    "duration": 15,
    "start_time": "2021-08-15T05:21:07.295Z"
   },
   {
    "duration": 13,
    "start_time": "2021-08-15T05:21:09.488Z"
   },
   {
    "duration": 13,
    "start_time": "2021-08-15T05:21:13.951Z"
   },
   {
    "duration": 21,
    "start_time": "2021-08-15T05:21:16.726Z"
   },
   {
    "duration": 4,
    "start_time": "2021-08-15T05:24:44.535Z"
   },
   {
    "duration": 522,
    "start_time": "2021-08-15T05:24:44.545Z"
   },
   {
    "duration": 19,
    "start_time": "2021-08-15T05:24:45.070Z"
   },
   {
    "duration": 17,
    "start_time": "2021-08-15T05:24:45.092Z"
   },
   {
    "duration": 55,
    "start_time": "2021-08-15T05:24:45.112Z"
   },
   {
    "duration": 10,
    "start_time": "2021-08-15T05:24:45.170Z"
   },
   {
    "duration": 35,
    "start_time": "2021-08-15T05:24:45.183Z"
   },
   {
    "duration": 23,
    "start_time": "2021-08-15T05:24:45.221Z"
   },
   {
    "duration": 9,
    "start_time": "2021-08-15T05:24:45.249Z"
   },
   {
    "duration": 30,
    "start_time": "2021-08-15T05:24:45.283Z"
   },
   {
    "duration": 10,
    "start_time": "2021-08-15T05:24:45.316Z"
   },
   {
    "duration": 54,
    "start_time": "2021-08-15T05:24:45.329Z"
   },
   {
    "duration": 98,
    "start_time": "2021-08-15T05:24:45.385Z"
   },
   {
    "duration": 4,
    "start_time": "2021-08-15T05:24:45.486Z"
   },
   {
    "duration": 21,
    "start_time": "2021-08-15T05:24:45.493Z"
   },
   {
    "duration": 91,
    "start_time": "2021-08-15T05:24:45.517Z"
   },
   {
    "duration": 24,
    "start_time": "2021-08-15T05:24:45.610Z"
   },
   {
    "duration": 17,
    "start_time": "2021-08-15T05:24:45.637Z"
   },
   {
    "duration": 12,
    "start_time": "2021-08-15T05:24:45.682Z"
   },
   {
    "duration": 7,
    "start_time": "2021-08-15T05:24:45.697Z"
   },
   {
    "duration": 9,
    "start_time": "2021-08-15T05:24:45.707Z"
   },
   {
    "duration": 11,
    "start_time": "2021-08-15T05:24:45.718Z"
   },
   {
    "duration": 95,
    "start_time": "2021-08-15T05:24:45.731Z"
   },
   {
    "duration": 12,
    "start_time": "2021-08-15T05:24:45.832Z"
   },
   {
    "duration": 15,
    "start_time": "2021-08-15T05:24:45.847Z"
   },
   {
    "duration": 20,
    "start_time": "2021-08-15T05:24:45.865Z"
   },
   {
    "duration": 9,
    "start_time": "2021-08-15T05:24:45.888Z"
   },
   {
    "duration": 19,
    "start_time": "2021-08-15T05:24:45.899Z"
   },
   {
    "duration": 19,
    "start_time": "2021-08-15T05:24:45.920Z"
   },
   {
    "duration": 18,
    "start_time": "2021-08-15T05:24:45.941Z"
   },
   {
    "duration": 48,
    "start_time": "2021-08-15T05:24:45.961Z"
   },
   {
    "duration": 37,
    "start_time": "2021-08-15T05:24:46.011Z"
   },
   {
    "duration": 38,
    "start_time": "2021-08-15T05:24:46.051Z"
   },
   {
    "duration": 10,
    "start_time": "2021-08-15T05:24:46.092Z"
   },
   {
    "duration": 18,
    "start_time": "2021-08-15T05:24:46.105Z"
   },
   {
    "duration": 83,
    "start_time": "2021-08-15T05:24:46.126Z"
   },
   {
    "duration": 15,
    "start_time": "2021-08-15T05:24:46.212Z"
   },
   {
    "duration": 9,
    "start_time": "2021-08-15T05:24:46.230Z"
   },
   {
    "duration": 85,
    "start_time": "2021-08-15T05:24:46.242Z"
   },
   {
    "duration": 52,
    "start_time": "2021-08-15T05:24:46.330Z"
   },
   {
    "duration": 10,
    "start_time": "2021-08-15T05:24:46.386Z"
   },
   {
    "duration": 47,
    "start_time": "2021-08-15T05:24:46.399Z"
   },
   {
    "duration": 33,
    "start_time": "2021-08-15T05:24:46.450Z"
   },
   {
    "duration": 71,
    "start_time": "2021-08-15T05:24:46.486Z"
   },
   {
    "duration": 1445,
    "start_time": "2021-08-15T05:24:46.560Z"
   },
   {
    "duration": 510,
    "start_time": "2021-08-15T05:24:48.007Z"
   },
   {
    "duration": 425,
    "start_time": "2021-08-15T05:24:48.520Z"
   },
   {
    "duration": 474,
    "start_time": "2021-08-15T05:24:48.948Z"
   },
   {
    "duration": 64,
    "start_time": "2021-08-15T05:24:49.424Z"
   },
   {
    "duration": 13,
    "start_time": "2021-08-15T05:24:49.490Z"
   },
   {
    "duration": 13,
    "start_time": "2021-08-15T05:24:49.505Z"
   },
   {
    "duration": 22,
    "start_time": "2021-08-15T05:24:49.520Z"
   },
   {
    "duration": 542,
    "start_time": "2021-08-15T05:24:49.544Z"
   },
   {
    "duration": 11,
    "start_time": "2021-08-15T05:24:50.088Z"
   },
   {
    "duration": 14,
    "start_time": "2021-08-15T05:24:50.101Z"
   },
   {
    "duration": 13,
    "start_time": "2021-08-15T05:24:50.118Z"
   },
   {
    "duration": 502,
    "start_time": "2021-08-15T05:24:50.134Z"
   },
   {
    "duration": 3,
    "start_time": "2021-08-15T05:24:58.248Z"
   },
   {
    "duration": 479,
    "start_time": "2021-08-15T05:24:59.232Z"
   },
   {
    "duration": 15,
    "start_time": "2021-08-15T05:25:32.752Z"
   },
   {
    "duration": 26,
    "start_time": "2021-08-15T05:28:34.645Z"
   },
   {
    "duration": 17,
    "start_time": "2021-08-15T05:29:21.550Z"
   },
   {
    "duration": 16,
    "start_time": "2021-08-15T05:38:16.421Z"
   },
   {
    "duration": 12,
    "start_time": "2021-08-15T05:38:22.635Z"
   },
   {
    "duration": 15,
    "start_time": "2021-08-15T05:38:29.617Z"
   },
   {
    "duration": 33,
    "start_time": "2021-08-15T05:41:38.474Z"
   },
   {
    "duration": 19,
    "start_time": "2021-08-15T05:41:42.270Z"
   },
   {
    "duration": 252,
    "start_time": "2021-08-15T05:42:31.636Z"
   },
   {
    "duration": 4,
    "start_time": "2021-08-15T05:42:39.047Z"
   },
   {
    "duration": 505,
    "start_time": "2021-08-15T05:42:39.056Z"
   },
   {
    "duration": 19,
    "start_time": "2021-08-15T05:42:39.564Z"
   },
   {
    "duration": 19,
    "start_time": "2021-08-15T05:42:39.587Z"
   },
   {
    "duration": 42,
    "start_time": "2021-08-15T05:42:39.609Z"
   },
   {
    "duration": 10,
    "start_time": "2021-08-15T05:42:39.654Z"
   },
   {
    "duration": 25,
    "start_time": "2021-08-15T05:42:39.683Z"
   },
   {
    "duration": 23,
    "start_time": "2021-08-15T05:42:39.711Z"
   },
   {
    "duration": 45,
    "start_time": "2021-08-15T05:42:39.738Z"
   },
   {
    "duration": 32,
    "start_time": "2021-08-15T05:42:39.786Z"
   },
   {
    "duration": 9,
    "start_time": "2021-08-15T05:42:39.821Z"
   },
   {
    "duration": 59,
    "start_time": "2021-08-15T05:42:39.833Z"
   },
   {
    "duration": 99,
    "start_time": "2021-08-15T05:42:39.895Z"
   },
   {
    "duration": 4,
    "start_time": "2021-08-15T05:42:39.997Z"
   },
   {
    "duration": 19,
    "start_time": "2021-08-15T05:42:40.003Z"
   },
   {
    "duration": 93,
    "start_time": "2021-08-15T05:42:40.025Z"
   },
   {
    "duration": 24,
    "start_time": "2021-08-15T05:42:40.120Z"
   },
   {
    "duration": 42,
    "start_time": "2021-08-15T05:42:40.147Z"
   },
   {
    "duration": 11,
    "start_time": "2021-08-15T05:42:40.192Z"
   },
   {
    "duration": 3,
    "start_time": "2021-08-15T05:42:40.206Z"
   },
   {
    "duration": 6,
    "start_time": "2021-08-15T05:42:40.212Z"
   },
   {
    "duration": 6,
    "start_time": "2021-08-15T05:42:40.220Z"
   },
   {
    "duration": 97,
    "start_time": "2021-08-15T05:42:40.228Z"
   },
   {
    "duration": 18,
    "start_time": "2021-08-15T05:42:40.330Z"
   },
   {
    "duration": 3,
    "start_time": "2021-08-15T05:42:40.352Z"
   },
   {
    "duration": 35,
    "start_time": "2021-08-15T05:42:40.358Z"
   },
   {
    "duration": 3,
    "start_time": "2021-08-15T05:42:40.396Z"
   },
   {
    "duration": 15,
    "start_time": "2021-08-15T05:42:40.402Z"
   },
   {
    "duration": 13,
    "start_time": "2021-08-15T05:42:40.419Z"
   },
   {
    "duration": 4,
    "start_time": "2021-08-15T05:42:40.482Z"
   },
   {
    "duration": 31,
    "start_time": "2021-08-15T05:42:40.489Z"
   },
   {
    "duration": 72,
    "start_time": "2021-08-15T05:42:40.522Z"
   },
   {
    "duration": 9,
    "start_time": "2021-08-15T05:42:40.596Z"
   },
   {
    "duration": 5,
    "start_time": "2021-08-15T05:42:40.608Z"
   },
   {
    "duration": 11,
    "start_time": "2021-08-15T05:42:40.615Z"
   },
   {
    "duration": 78,
    "start_time": "2021-08-15T05:42:40.629Z"
   },
   {
    "duration": 10,
    "start_time": "2021-08-15T05:42:40.709Z"
   },
   {
    "duration": 9,
    "start_time": "2021-08-15T05:42:40.721Z"
   },
   {
    "duration": 69,
    "start_time": "2021-08-15T05:42:40.732Z"
   },
   {
    "duration": 26,
    "start_time": "2021-08-15T05:42:40.803Z"
   },
   {
    "duration": 7,
    "start_time": "2021-08-15T05:42:40.831Z"
   },
   {
    "duration": 65,
    "start_time": "2021-08-15T05:42:40.840Z"
   },
   {
    "duration": 3,
    "start_time": "2021-08-15T05:42:40.908Z"
   },
   {
    "duration": 71,
    "start_time": "2021-08-15T05:42:40.913Z"
   },
   {
    "duration": 1437,
    "start_time": "2021-08-15T05:42:40.986Z"
   },
   {
    "duration": 577,
    "start_time": "2021-08-15T05:42:42.426Z"
   },
   {
    "duration": 440,
    "start_time": "2021-08-15T05:42:43.005Z"
   },
   {
    "duration": 469,
    "start_time": "2021-08-15T05:42:43.448Z"
   },
   {
    "duration": 47,
    "start_time": "2021-08-15T05:42:43.920Z"
   },
   {
    "duration": 24,
    "start_time": "2021-08-15T05:42:43.969Z"
   },
   {
    "duration": 9,
    "start_time": "2021-08-15T05:42:43.995Z"
   },
   {
    "duration": 21,
    "start_time": "2021-08-15T05:42:44.006Z"
   },
   {
    "duration": 519,
    "start_time": "2021-08-15T05:42:44.029Z"
   },
   {
    "duration": 11,
    "start_time": "2021-08-15T05:42:44.550Z"
   },
   {
    "duration": 21,
    "start_time": "2021-08-15T05:42:44.563Z"
   },
   {
    "duration": 13,
    "start_time": "2021-08-15T05:42:44.587Z"
   },
   {
    "duration": 465,
    "start_time": "2021-08-15T05:42:44.602Z"
   },
   {
    "duration": 27,
    "start_time": "2021-08-15T05:44:14.793Z"
   },
   {
    "duration": 27,
    "start_time": "2021-08-15T05:44:32.320Z"
   },
   {
    "duration": 36,
    "start_time": "2021-08-15T05:44:36.052Z"
   },
   {
    "duration": 29,
    "start_time": "2021-08-15T05:45:02.545Z"
   },
   {
    "duration": 35,
    "start_time": "2021-08-15T05:45:03.519Z"
   },
   {
    "duration": 27,
    "start_time": "2021-08-15T05:45:11.617Z"
   },
   {
    "duration": 37,
    "start_time": "2021-08-15T05:45:12.254Z"
   },
   {
    "duration": 30,
    "start_time": "2021-08-15T05:45:28.704Z"
   },
   {
    "duration": 35,
    "start_time": "2021-08-15T05:45:31.386Z"
   },
   {
    "duration": 32,
    "start_time": "2021-08-15T05:46:28.289Z"
   },
   {
    "duration": 9,
    "start_time": "2021-08-15T05:46:34.166Z"
   },
   {
    "duration": 27,
    "start_time": "2021-08-15T05:47:57.423Z"
   },
   {
    "duration": 35,
    "start_time": "2021-08-15T05:47:59.532Z"
   },
   {
    "duration": 28,
    "start_time": "2021-08-15T05:48:07.851Z"
   },
   {
    "duration": 38,
    "start_time": "2021-08-15T05:48:08.538Z"
   },
   {
    "duration": 11,
    "start_time": "2021-08-15T05:48:16.444Z"
   },
   {
    "duration": 28,
    "start_time": "2021-08-15T05:49:18.145Z"
   },
   {
    "duration": 36,
    "start_time": "2021-08-15T05:49:19.573Z"
   },
   {
    "duration": 29,
    "start_time": "2021-08-15T05:49:52.621Z"
   },
   {
    "duration": 38,
    "start_time": "2021-08-15T05:49:54.721Z"
   },
   {
    "duration": 29,
    "start_time": "2021-08-15T05:50:03.157Z"
   },
   {
    "duration": 37,
    "start_time": "2021-08-15T05:50:04.248Z"
   },
   {
    "duration": 29,
    "start_time": "2021-08-15T05:50:12.510Z"
   },
   {
    "duration": 38,
    "start_time": "2021-08-15T05:50:13.656Z"
   },
   {
    "duration": 130,
    "start_time": "2021-08-15T05:51:41.172Z"
   },
   {
    "duration": 91,
    "start_time": "2021-08-15T05:51:45.901Z"
   },
   {
    "duration": 264,
    "start_time": "2021-08-15T05:51:48.745Z"
   },
   {
    "duration": 237,
    "start_time": "2021-08-15T05:52:12.303Z"
   },
   {
    "duration": 259,
    "start_time": "2021-08-15T05:52:19.706Z"
   },
   {
    "duration": 28,
    "start_time": "2021-08-15T05:53:04.358Z"
   },
   {
    "duration": 35,
    "start_time": "2021-08-15T05:53:06.712Z"
   },
   {
    "duration": 30,
    "start_time": "2021-08-15T05:53:15.016Z"
   },
   {
    "duration": 36,
    "start_time": "2021-08-15T05:53:15.622Z"
   },
   {
    "duration": 34,
    "start_time": "2021-08-15T05:53:22.034Z"
   },
   {
    "duration": 38,
    "start_time": "2021-08-15T05:53:22.526Z"
   },
   {
    "duration": 12,
    "start_time": "2021-08-15T05:53:31.620Z"
   },
   {
    "duration": 5,
    "start_time": "2021-08-15T05:54:35.783Z"
   },
   {
    "duration": 478,
    "start_time": "2021-08-15T05:54:35.790Z"
   },
   {
    "duration": 19,
    "start_time": "2021-08-15T05:54:36.271Z"
   },
   {
    "duration": 14,
    "start_time": "2021-08-15T05:54:36.293Z"
   },
   {
    "duration": 50,
    "start_time": "2021-08-15T05:54:36.310Z"
   },
   {
    "duration": 21,
    "start_time": "2021-08-15T05:54:36.363Z"
   },
   {
    "duration": 24,
    "start_time": "2021-08-15T05:54:36.386Z"
   },
   {
    "duration": 27,
    "start_time": "2021-08-15T05:54:36.413Z"
   },
   {
    "duration": 39,
    "start_time": "2021-08-15T05:54:36.445Z"
   },
   {
    "duration": 31,
    "start_time": "2021-08-15T05:54:36.487Z"
   },
   {
    "duration": 9,
    "start_time": "2021-08-15T05:54:36.521Z"
   },
   {
    "duration": 61,
    "start_time": "2021-08-15T05:54:36.533Z"
   },
   {
    "duration": 100,
    "start_time": "2021-08-15T05:54:36.597Z"
   },
   {
    "duration": 5,
    "start_time": "2021-08-15T05:54:36.700Z"
   },
   {
    "duration": 14,
    "start_time": "2021-08-15T05:54:36.708Z"
   },
   {
    "duration": 96,
    "start_time": "2021-08-15T05:54:36.725Z"
   },
   {
    "duration": 23,
    "start_time": "2021-08-15T05:54:36.824Z"
   },
   {
    "duration": 34,
    "start_time": "2021-08-15T05:54:36.849Z"
   },
   {
    "duration": 13,
    "start_time": "2021-08-15T05:54:36.886Z"
   },
   {
    "duration": 5,
    "start_time": "2021-08-15T05:54:36.901Z"
   },
   {
    "duration": 5,
    "start_time": "2021-08-15T05:54:36.908Z"
   },
   {
    "duration": 4,
    "start_time": "2021-08-15T05:54:36.916Z"
   },
   {
    "duration": 92,
    "start_time": "2021-08-15T05:54:36.922Z"
   },
   {
    "duration": 16,
    "start_time": "2021-08-15T05:54:37.017Z"
   },
   {
    "duration": 18,
    "start_time": "2021-08-15T05:54:37.035Z"
   },
   {
    "duration": 29,
    "start_time": "2021-08-15T05:54:37.055Z"
   },
   {
    "duration": 8,
    "start_time": "2021-08-15T05:54:37.093Z"
   },
   {
    "duration": 27,
    "start_time": "2021-08-15T05:54:37.105Z"
   },
   {
    "duration": 36,
    "start_time": "2021-08-15T05:54:37.135Z"
   },
   {
    "duration": 12,
    "start_time": "2021-08-15T05:54:37.174Z"
   },
   {
    "duration": 56,
    "start_time": "2021-08-15T05:54:37.189Z"
   },
   {
    "duration": 60,
    "start_time": "2021-08-15T05:54:37.248Z"
   },
   {
    "duration": 13,
    "start_time": "2021-08-15T05:54:37.311Z"
   },
   {
    "duration": 10,
    "start_time": "2021-08-15T05:54:37.327Z"
   },
   {
    "duration": 5,
    "start_time": "2021-08-15T05:54:37.340Z"
   },
   {
    "duration": 46,
    "start_time": "2021-08-15T05:54:37.348Z"
   },
   {
    "duration": 43,
    "start_time": "2021-08-15T05:54:37.397Z"
   },
   {
    "duration": 40,
    "start_time": "2021-08-15T05:54:37.443Z"
   },
   {
    "duration": 8,
    "start_time": "2021-08-15T05:54:37.486Z"
   },
   {
    "duration": 42,
    "start_time": "2021-08-15T05:54:37.497Z"
   },
   {
    "duration": 58,
    "start_time": "2021-08-15T05:54:37.541Z"
   },
   {
    "duration": 7,
    "start_time": "2021-08-15T05:54:37.601Z"
   },
   {
    "duration": 31,
    "start_time": "2021-08-15T05:54:37.611Z"
   },
   {
    "duration": 3,
    "start_time": "2021-08-15T05:54:37.645Z"
   },
   {
    "duration": 76,
    "start_time": "2021-08-15T05:54:37.650Z"
   },
   {
    "duration": 1378,
    "start_time": "2021-08-15T05:54:37.729Z"
   },
   {
    "duration": 487,
    "start_time": "2021-08-15T05:54:39.110Z"
   },
   {
    "duration": 440,
    "start_time": "2021-08-15T05:54:39.600Z"
   },
   {
    "duration": 449,
    "start_time": "2021-08-15T05:54:40.043Z"
   },
   {
    "duration": 50,
    "start_time": "2021-08-15T05:54:40.495Z"
   },
   {
    "duration": 41,
    "start_time": "2021-08-15T05:54:40.548Z"
   },
   {
    "duration": 9,
    "start_time": "2021-08-15T05:54:40.592Z"
   },
   {
    "duration": 30,
    "start_time": "2021-08-15T05:54:40.604Z"
   },
   {
    "duration": 746,
    "start_time": "2021-08-15T05:54:40.637Z"
   },
   {
    "duration": 14,
    "start_time": "2021-08-15T05:54:41.386Z"
   },
   {
    "duration": 9,
    "start_time": "2021-08-15T05:54:41.403Z"
   },
   {
    "duration": 9,
    "start_time": "2021-08-15T05:54:41.415Z"
   },
   {
    "duration": 668,
    "start_time": "2021-08-15T05:54:41.426Z"
   },
   {
    "duration": 11,
    "start_time": "2021-08-15T06:18:21.978Z"
   },
   {
    "duration": 653,
    "start_time": "2021-08-15T06:22:29.138Z"
   },
   {
    "duration": 102,
    "start_time": "2021-08-15T06:22:46.897Z"
   },
   {
    "duration": 72,
    "start_time": "2021-08-15T06:23:06.280Z"
   },
   {
    "duration": 6,
    "start_time": "2021-08-15T06:23:09.522Z"
   },
   {
    "duration": 449,
    "start_time": "2021-08-15T06:26:27.780Z"
   },
   {
    "duration": 350,
    "start_time": "2021-08-15T06:26:32.572Z"
   },
   {
    "duration": 686,
    "start_time": "2021-08-15T06:26:43.574Z"
   },
   {
    "duration": 341,
    "start_time": "2021-08-15T06:26:55.840Z"
   },
   {
    "duration": 382,
    "start_time": "2021-08-15T06:27:10.671Z"
   },
   {
    "duration": 364,
    "start_time": "2021-08-15T06:27:18.201Z"
   },
   {
    "duration": 368,
    "start_time": "2021-08-15T06:27:52.585Z"
   },
   {
    "duration": 349,
    "start_time": "2021-08-15T06:27:56.938Z"
   },
   {
    "duration": 123,
    "start_time": "2021-08-15T06:28:15.054Z"
   },
   {
    "duration": 348,
    "start_time": "2021-08-15T06:28:20.863Z"
   },
   {
    "duration": 347,
    "start_time": "2021-08-15T06:28:32.301Z"
   },
   {
    "duration": 316,
    "start_time": "2021-08-15T06:30:23.710Z"
   },
   {
    "duration": 389,
    "start_time": "2021-08-15T06:30:49.733Z"
   },
   {
    "duration": 308,
    "start_time": "2021-08-15T06:31:09.688Z"
   },
   {
    "duration": 308,
    "start_time": "2021-08-15T06:34:07.844Z"
   },
   {
    "duration": 5,
    "start_time": "2021-08-15T06:34:15.264Z"
   },
   {
    "duration": 713,
    "start_time": "2021-08-15T06:34:15.275Z"
   },
   {
    "duration": 21,
    "start_time": "2021-08-15T06:34:15.991Z"
   },
   {
    "duration": 12,
    "start_time": "2021-08-15T06:34:16.016Z"
   },
   {
    "duration": 59,
    "start_time": "2021-08-15T06:34:16.031Z"
   },
   {
    "duration": 10,
    "start_time": "2021-08-15T06:34:16.092Z"
   },
   {
    "duration": 26,
    "start_time": "2021-08-15T06:34:16.105Z"
   },
   {
    "duration": 62,
    "start_time": "2021-08-15T06:34:16.134Z"
   },
   {
    "duration": 10,
    "start_time": "2021-08-15T06:34:16.200Z"
   },
   {
    "duration": 31,
    "start_time": "2021-08-15T06:34:16.213Z"
   },
   {
    "duration": 42,
    "start_time": "2021-08-15T06:34:16.246Z"
   },
   {
    "duration": 15,
    "start_time": "2021-08-15T06:34:16.291Z"
   },
   {
    "duration": 110,
    "start_time": "2021-08-15T06:34:16.308Z"
   },
   {
    "duration": 4,
    "start_time": "2021-08-15T06:34:16.421Z"
   },
   {
    "duration": 16,
    "start_time": "2021-08-15T06:34:16.427Z"
   },
   {
    "duration": 105,
    "start_time": "2021-08-15T06:34:16.446Z"
   },
   {
    "duration": 42,
    "start_time": "2021-08-15T06:34:16.554Z"
   },
   {
    "duration": 18,
    "start_time": "2021-08-15T06:34:16.604Z"
   },
   {
    "duration": 15,
    "start_time": "2021-08-15T06:34:16.625Z"
   },
   {
    "duration": 4,
    "start_time": "2021-08-15T06:34:16.643Z"
   },
   {
    "duration": 40,
    "start_time": "2021-08-15T06:34:16.649Z"
   },
   {
    "duration": 23,
    "start_time": "2021-08-15T06:34:16.692Z"
   },
   {
    "duration": 62,
    "start_time": "2021-08-15T06:34:16.718Z"
   },
   {
    "duration": 18,
    "start_time": "2021-08-15T06:34:16.786Z"
   },
   {
    "duration": 5,
    "start_time": "2021-08-15T06:34:16.807Z"
   },
   {
    "duration": 20,
    "start_time": "2021-08-15T06:34:16.815Z"
   },
   {
    "duration": 8,
    "start_time": "2021-08-15T06:34:16.838Z"
   },
   {
    "duration": 40,
    "start_time": "2021-08-15T06:34:16.848Z"
   },
   {
    "duration": 13,
    "start_time": "2021-08-15T06:34:16.890Z"
   },
   {
    "duration": 7,
    "start_time": "2021-08-15T06:34:16.905Z"
   },
   {
    "duration": 34,
    "start_time": "2021-08-15T06:34:16.915Z"
   },
   {
    "duration": 38,
    "start_time": "2021-08-15T06:34:16.982Z"
   },
   {
    "duration": 10,
    "start_time": "2021-08-15T06:34:17.023Z"
   },
   {
    "duration": 9,
    "start_time": "2021-08-15T06:34:17.035Z"
   },
   {
    "duration": 42,
    "start_time": "2021-08-15T06:34:17.046Z"
   },
   {
    "duration": 16,
    "start_time": "2021-08-15T06:34:17.090Z"
   },
   {
    "duration": 46,
    "start_time": "2021-08-15T06:34:17.108Z"
   },
   {
    "duration": 10,
    "start_time": "2021-08-15T06:34:17.157Z"
   },
   {
    "duration": 20,
    "start_time": "2021-08-15T06:34:17.169Z"
   },
   {
    "duration": 47,
    "start_time": "2021-08-15T06:34:17.191Z"
   },
   {
    "duration": 51,
    "start_time": "2021-08-15T06:34:17.240Z"
   },
   {
    "duration": 7,
    "start_time": "2021-08-15T06:34:17.294Z"
   },
   {
    "duration": 45,
    "start_time": "2021-08-15T06:34:17.304Z"
   },
   {
    "duration": 10,
    "start_time": "2021-08-15T06:34:17.352Z"
   },
   {
    "duration": 46,
    "start_time": "2021-08-15T06:34:17.384Z"
   },
   {
    "duration": 4,
    "start_time": "2021-08-15T06:34:17.433Z"
   },
   {
    "duration": 101,
    "start_time": "2021-08-15T06:34:17.439Z"
   },
   {
    "duration": 1831,
    "start_time": "2021-08-15T06:34:17.543Z"
   },
   {
    "duration": 767,
    "start_time": "2021-08-15T06:34:19.381Z"
   },
   {
    "duration": 604,
    "start_time": "2021-08-15T06:34:20.151Z"
   },
   {
    "duration": 677,
    "start_time": "2021-08-15T06:34:20.758Z"
   },
   {
    "duration": 83,
    "start_time": "2021-08-15T06:34:21.438Z"
   },
   {
    "duration": 15,
    "start_time": "2021-08-15T06:34:21.525Z"
   },
   {
    "duration": 8,
    "start_time": "2021-08-15T06:34:21.543Z"
   },
   {
    "duration": 38,
    "start_time": "2021-08-15T06:34:21.554Z"
   },
   {
    "duration": 671,
    "start_time": "2021-08-15T06:34:21.595Z"
   },
   {
    "duration": 22,
    "start_time": "2021-08-15T06:34:22.269Z"
   },
   {
    "duration": 15,
    "start_time": "2021-08-15T06:34:22.294Z"
   },
   {
    "duration": 14,
    "start_time": "2021-08-15T06:34:22.311Z"
   },
   {
    "duration": 490,
    "start_time": "2021-08-15T06:34:22.327Z"
   },
   {
    "duration": 292,
    "start_time": "2021-08-15T06:37:19.503Z"
   },
   {
    "duration": 526,
    "start_time": "2021-08-15T06:37:46.928Z"
   },
   {
    "duration": 637,
    "start_time": "2021-08-15T06:37:55.473Z"
   },
   {
    "duration": 5,
    "start_time": "2021-08-15T06:38:04.084Z"
   },
   {
    "duration": 574,
    "start_time": "2021-08-15T06:38:04.093Z"
   },
   {
    "duration": 20,
    "start_time": "2021-08-15T06:38:04.670Z"
   },
   {
    "duration": 16,
    "start_time": "2021-08-15T06:38:04.693Z"
   },
   {
    "duration": 36,
    "start_time": "2021-08-15T06:38:04.711Z"
   },
   {
    "duration": 44,
    "start_time": "2021-08-15T06:38:04.749Z"
   },
   {
    "duration": 40,
    "start_time": "2021-08-15T06:38:04.797Z"
   },
   {
    "duration": 60,
    "start_time": "2021-08-15T06:38:04.841Z"
   },
   {
    "duration": 11,
    "start_time": "2021-08-15T06:38:04.904Z"
   },
   {
    "duration": 81,
    "start_time": "2021-08-15T06:38:04.917Z"
   },
   {
    "duration": 13,
    "start_time": "2021-08-15T06:38:05.001Z"
   },
   {
    "duration": 23,
    "start_time": "2021-08-15T06:38:05.016Z"
   },
   {
    "duration": 123,
    "start_time": "2021-08-15T06:38:05.042Z"
   },
   {
    "duration": 17,
    "start_time": "2021-08-15T06:38:05.168Z"
   },
   {
    "duration": 25,
    "start_time": "2021-08-15T06:38:05.189Z"
   },
   {
    "duration": 93,
    "start_time": "2021-08-15T06:38:05.217Z"
   },
   {
    "duration": 25,
    "start_time": "2021-08-15T06:38:05.313Z"
   },
   {
    "duration": 17,
    "start_time": "2021-08-15T06:38:05.341Z"
   },
   {
    "duration": 12,
    "start_time": "2021-08-15T06:38:05.386Z"
   },
   {
    "duration": 11,
    "start_time": "2021-08-15T06:38:05.404Z"
   },
   {
    "duration": 10,
    "start_time": "2021-08-15T06:38:05.417Z"
   },
   {
    "duration": 16,
    "start_time": "2021-08-15T06:38:05.429Z"
   },
   {
    "duration": 77,
    "start_time": "2021-08-15T06:38:05.448Z"
   },
   {
    "duration": 25,
    "start_time": "2021-08-15T06:38:05.529Z"
   },
   {
    "duration": 4,
    "start_time": "2021-08-15T06:38:05.557Z"
   },
   {
    "duration": 21,
    "start_time": "2021-08-15T06:38:05.583Z"
   },
   {
    "duration": 5,
    "start_time": "2021-08-15T06:38:05.607Z"
   },
   {
    "duration": 28,
    "start_time": "2021-08-15T06:38:05.615Z"
   },
   {
    "duration": 47,
    "start_time": "2021-08-15T06:38:05.645Z"
   },
   {
    "duration": 9,
    "start_time": "2021-08-15T06:38:05.695Z"
   },
   {
    "duration": 33,
    "start_time": "2021-08-15T06:38:05.706Z"
   },
   {
    "duration": 71,
    "start_time": "2021-08-15T06:38:05.742Z"
   },
   {
    "duration": 10,
    "start_time": "2021-08-15T06:38:05.815Z"
   },
   {
    "duration": 13,
    "start_time": "2021-08-15T06:38:05.827Z"
   },
   {
    "duration": 17,
    "start_time": "2021-08-15T06:38:05.842Z"
   },
   {
    "duration": 26,
    "start_time": "2021-08-15T06:38:05.861Z"
   },
   {
    "duration": 57,
    "start_time": "2021-08-15T06:38:05.890Z"
   },
   {
    "duration": 11,
    "start_time": "2021-08-15T06:38:05.949Z"
   },
   {
    "duration": 21,
    "start_time": "2021-08-15T06:38:05.962Z"
   },
   {
    "duration": 53,
    "start_time": "2021-08-15T06:38:05.986Z"
   },
   {
    "duration": 16,
    "start_time": "2021-08-15T06:38:06.042Z"
   },
   {
    "duration": 21,
    "start_time": "2021-08-15T06:38:06.061Z"
   },
   {
    "duration": 39,
    "start_time": "2021-08-15T06:38:06.086Z"
   },
   {
    "duration": 8529,
    "start_time": "2021-08-15T06:38:06.128Z"
   },
   {
    "duration": 880,
    "start_time": "2021-08-15T06:38:13.779Z"
   },
   {
    "duration": 863,
    "start_time": "2021-08-15T06:38:13.798Z"
   },
   {
    "duration": 853,
    "start_time": "2021-08-15T06:38:13.809Z"
   },
   {
    "duration": 847,
    "start_time": "2021-08-15T06:38:13.817Z"
   },
   {
    "duration": 837,
    "start_time": "2021-08-15T06:38:13.828Z"
   },
   {
    "duration": 830,
    "start_time": "2021-08-15T06:38:13.836Z"
   },
   {
    "duration": 821,
    "start_time": "2021-08-15T06:38:13.846Z"
   },
   {
    "duration": 815,
    "start_time": "2021-08-15T06:38:13.854Z"
   },
   {
    "duration": 786,
    "start_time": "2021-08-15T06:38:13.884Z"
   },
   {
    "duration": 777,
    "start_time": "2021-08-15T06:38:13.894Z"
   },
   {
    "duration": 761,
    "start_time": "2021-08-15T06:38:13.912Z"
   },
   {
    "duration": 754,
    "start_time": "2021-08-15T06:38:13.920Z"
   },
   {
    "duration": 745,
    "start_time": "2021-08-15T06:38:13.930Z"
   },
   {
    "duration": 738,
    "start_time": "2021-08-15T06:38:13.938Z"
   },
   {
    "duration": 731,
    "start_time": "2021-08-15T06:38:13.947Z"
   },
   {
    "duration": 725,
    "start_time": "2021-08-15T06:38:13.954Z"
   },
   {
    "duration": 45,
    "start_time": "2021-08-15T06:39:56.649Z"
   },
   {
    "duration": 27,
    "start_time": "2021-08-15T06:40:15.814Z"
   },
   {
    "duration": 168,
    "start_time": "2021-08-15T06:41:07.965Z"
   },
   {
    "duration": 4,
    "start_time": "2021-08-15T06:41:50.900Z"
   },
   {
    "duration": 7,
    "start_time": "2021-08-15T06:42:36.526Z"
   },
   {
    "duration": 46,
    "start_time": "2021-08-15T06:42:37.592Z"
   },
   {
    "duration": 6584,
    "start_time": "2021-08-15T06:42:51.522Z"
   },
   {
    "duration": 917,
    "start_time": "2021-08-15T06:42:57.192Z"
   },
   {
    "duration": 6510,
    "start_time": "2021-08-15T06:42:59.759Z"
   },
   {
    "duration": 6461,
    "start_time": "2021-08-15T06:43:12.959Z"
   },
   {
    "duration": 871,
    "start_time": "2021-08-15T06:43:18.552Z"
   },
   {
    "duration": 5,
    "start_time": "2021-08-15T06:43:40.252Z"
   },
   {
    "duration": 526,
    "start_time": "2021-08-15T06:43:40.260Z"
   },
   {
    "duration": 19,
    "start_time": "2021-08-15T06:43:40.788Z"
   },
   {
    "duration": 9,
    "start_time": "2021-08-15T06:43:40.810Z"
   },
   {
    "duration": 68,
    "start_time": "2021-08-15T06:43:40.822Z"
   },
   {
    "duration": 11,
    "start_time": "2021-08-15T06:43:40.893Z"
   },
   {
    "duration": 25,
    "start_time": "2021-08-15T06:43:40.906Z"
   },
   {
    "duration": 57,
    "start_time": "2021-08-15T06:43:40.934Z"
   },
   {
    "duration": 10,
    "start_time": "2021-08-15T06:43:40.994Z"
   },
   {
    "duration": 30,
    "start_time": "2021-08-15T06:43:41.006Z"
   },
   {
    "duration": 46,
    "start_time": "2021-08-15T06:43:41.038Z"
   },
   {
    "duration": 17,
    "start_time": "2021-08-15T06:43:41.087Z"
   },
   {
    "duration": 105,
    "start_time": "2021-08-15T06:43:41.107Z"
   },
   {
    "duration": 4,
    "start_time": "2021-08-15T06:43:41.215Z"
   },
   {
    "duration": 16,
    "start_time": "2021-08-15T06:43:41.221Z"
   },
   {
    "duration": 103,
    "start_time": "2021-08-15T06:43:41.239Z"
   },
   {
    "duration": 39,
    "start_time": "2021-08-15T06:43:41.345Z"
   },
   {
    "duration": 21,
    "start_time": "2021-08-15T06:43:41.387Z"
   },
   {
    "duration": 15,
    "start_time": "2021-08-15T06:43:41.411Z"
   },
   {
    "duration": 132,
    "start_time": "2021-08-15T06:43:41.429Z"
   },
   {
    "duration": 3,
    "start_time": "2021-08-15T06:43:41.564Z"
   },
   {
    "duration": 16,
    "start_time": "2021-08-15T06:43:41.569Z"
   },
   {
    "duration": 62,
    "start_time": "2021-08-15T06:43:41.592Z"
   },
   {
    "duration": 36,
    "start_time": "2021-08-15T06:43:41.657Z"
   },
   {
    "duration": 5,
    "start_time": "2021-08-15T06:43:41.696Z"
   },
   {
    "duration": 19,
    "start_time": "2021-08-15T06:43:41.704Z"
   },
   {
    "duration": 5,
    "start_time": "2021-08-15T06:43:41.726Z"
   },
   {
    "duration": 60,
    "start_time": "2021-08-15T06:43:41.734Z"
   },
   {
    "duration": 12,
    "start_time": "2021-08-15T06:43:41.797Z"
   },
   {
    "duration": 6,
    "start_time": "2021-08-15T06:43:41.812Z"
   },
   {
    "duration": 31,
    "start_time": "2021-08-15T06:43:41.821Z"
   },
   {
    "duration": 65,
    "start_time": "2021-08-15T06:43:41.854Z"
   },
   {
    "duration": 10,
    "start_time": "2021-08-15T06:43:41.921Z"
   },
   {
    "duration": 8,
    "start_time": "2021-08-15T06:43:41.934Z"
   },
   {
    "duration": 38,
    "start_time": "2021-08-15T06:43:41.944Z"
   },
   {
    "duration": 12,
    "start_time": "2021-08-15T06:43:41.985Z"
   },
   {
    "duration": 29,
    "start_time": "2021-08-15T06:43:42.000Z"
   },
   {
    "duration": 11,
    "start_time": "2021-08-15T06:43:42.031Z"
   },
   {
    "duration": 39,
    "start_time": "2021-08-15T06:43:42.045Z"
   },
   {
    "duration": 47,
    "start_time": "2021-08-15T06:43:42.086Z"
   },
   {
    "duration": 6,
    "start_time": "2021-08-15T06:43:42.136Z"
   },
   {
    "duration": 981,
    "start_time": "2021-08-15T06:43:42.145Z"
   },
   {
    "duration": 827,
    "start_time": "2021-08-15T06:43:42.302Z"
   },
   {
    "duration": 821,
    "start_time": "2021-08-15T06:43:42.310Z"
   },
   {
    "duration": 813,
    "start_time": "2021-08-15T06:43:42.319Z"
   },
   {
    "duration": 806,
    "start_time": "2021-08-15T06:43:42.328Z"
   },
   {
    "duration": 799,
    "start_time": "2021-08-15T06:43:42.336Z"
   },
   {
    "duration": 795,
    "start_time": "2021-08-15T06:43:42.342Z"
   },
   {
    "duration": 789,
    "start_time": "2021-08-15T06:43:42.350Z"
   },
   {
    "duration": 783,
    "start_time": "2021-08-15T06:43:42.357Z"
   },
   {
    "duration": 778,
    "start_time": "2021-08-15T06:43:42.364Z"
   },
   {
    "duration": 770,
    "start_time": "2021-08-15T06:43:42.374Z"
   },
   {
    "duration": 761,
    "start_time": "2021-08-15T06:43:42.384Z"
   },
   {
    "duration": 737,
    "start_time": "2021-08-15T06:43:42.409Z"
   },
   {
    "duration": 729,
    "start_time": "2021-08-15T06:43:42.419Z"
   },
   {
    "duration": 724,
    "start_time": "2021-08-15T06:43:42.426Z"
   },
   {
    "duration": 717,
    "start_time": "2021-08-15T06:43:42.434Z"
   },
   {
    "duration": 712,
    "start_time": "2021-08-15T06:43:42.441Z"
   },
   {
    "duration": 705,
    "start_time": "2021-08-15T06:43:42.449Z"
   },
   {
    "duration": 697,
    "start_time": "2021-08-15T06:43:42.459Z"
   },
   {
    "duration": 691,
    "start_time": "2021-08-15T06:43:42.467Z"
   },
   {
    "duration": 3,
    "start_time": "2021-08-15T06:43:52.041Z"
   },
   {
    "duration": 535,
    "start_time": "2021-08-15T06:43:52.048Z"
   },
   {
    "duration": 19,
    "start_time": "2021-08-15T06:43:52.586Z"
   },
   {
    "duration": 16,
    "start_time": "2021-08-15T06:43:52.608Z"
   },
   {
    "duration": 57,
    "start_time": "2021-08-15T06:43:52.627Z"
   },
   {
    "duration": 12,
    "start_time": "2021-08-15T06:43:52.686Z"
   },
   {
    "duration": 29,
    "start_time": "2021-08-15T06:43:52.700Z"
   },
   {
    "duration": 65,
    "start_time": "2021-08-15T06:43:52.731Z"
   },
   {
    "duration": 10,
    "start_time": "2021-08-15T06:43:52.800Z"
   },
   {
    "duration": 31,
    "start_time": "2021-08-15T06:43:52.813Z"
   },
   {
    "duration": 42,
    "start_time": "2021-08-15T06:43:52.846Z"
   },
   {
    "duration": 19,
    "start_time": "2021-08-15T06:43:52.891Z"
   },
   {
    "duration": 111,
    "start_time": "2021-08-15T06:43:52.912Z"
   },
   {
    "duration": 4,
    "start_time": "2021-08-15T06:43:53.026Z"
   },
   {
    "duration": 16,
    "start_time": "2021-08-15T06:43:53.033Z"
   },
   {
    "duration": 83,
    "start_time": "2021-08-15T06:43:53.052Z"
   },
   {
    "duration": 22,
    "start_time": "2021-08-15T06:43:53.137Z"
   },
   {
    "duration": 34,
    "start_time": "2021-08-15T06:43:53.162Z"
   },
   {
    "duration": 12,
    "start_time": "2021-08-15T06:43:53.198Z"
   },
   {
    "duration": 123,
    "start_time": "2021-08-15T06:43:53.212Z"
   },
   {
    "duration": 3,
    "start_time": "2021-08-15T06:43:53.338Z"
   },
   {
    "duration": 6,
    "start_time": "2021-08-15T06:43:53.343Z"
   },
   {
    "duration": 74,
    "start_time": "2021-08-15T06:43:53.351Z"
   },
   {
    "duration": 16,
    "start_time": "2021-08-15T06:43:53.431Z"
   },
   {
    "duration": 32,
    "start_time": "2021-08-15T06:43:53.450Z"
   },
   {
    "duration": 15,
    "start_time": "2021-08-15T06:43:53.485Z"
   },
   {
    "duration": 4,
    "start_time": "2021-08-15T06:43:53.502Z"
   },
   {
    "duration": 20,
    "start_time": "2021-08-15T06:43:53.508Z"
   },
   {
    "duration": 13,
    "start_time": "2021-08-15T06:43:53.530Z"
   },
   {
    "duration": 37,
    "start_time": "2021-08-15T06:43:53.546Z"
   },
   {
    "duration": 29,
    "start_time": "2021-08-15T06:43:53.586Z"
   },
   {
    "duration": 36,
    "start_time": "2021-08-15T06:43:53.617Z"
   },
   {
    "duration": 9,
    "start_time": "2021-08-15T06:43:53.682Z"
   },
   {
    "duration": 7,
    "start_time": "2021-08-15T06:43:53.694Z"
   },
   {
    "duration": 12,
    "start_time": "2021-08-15T06:43:53.704Z"
   },
   {
    "duration": 24,
    "start_time": "2021-08-15T06:43:53.719Z"
   },
   {
    "duration": 45,
    "start_time": "2021-08-15T06:43:53.745Z"
   },
   {
    "duration": 10,
    "start_time": "2021-08-15T06:43:53.792Z"
   },
   {
    "duration": 7,
    "start_time": "2021-08-15T06:43:53.805Z"
   },
   {
    "duration": 67,
    "start_time": "2021-08-15T06:43:53.815Z"
   },
   {
    "duration": 7,
    "start_time": "2021-08-15T06:43:53.884Z"
   },
   {
    "duration": 1060,
    "start_time": "2021-08-15T06:43:53.894Z"
   },
   {
    "duration": 661,
    "start_time": "2021-08-15T06:43:54.309Z"
   },
   {
    "duration": 664,
    "start_time": "2021-08-15T06:43:54.315Z"
   },
   {
    "duration": 665,
    "start_time": "2021-08-15T06:43:54.324Z"
   },
   {
    "duration": 662,
    "start_time": "2021-08-15T06:43:54.330Z"
   },
   {
    "duration": 656,
    "start_time": "2021-08-15T06:43:54.338Z"
   },
   {
    "duration": 651,
    "start_time": "2021-08-15T06:43:54.344Z"
   },
   {
    "duration": 645,
    "start_time": "2021-08-15T06:43:54.352Z"
   },
   {
    "duration": 641,
    "start_time": "2021-08-15T06:43:54.358Z"
   },
   {
    "duration": 634,
    "start_time": "2021-08-15T06:43:54.366Z"
   },
   {
    "duration": 616,
    "start_time": "2021-08-15T06:43:54.386Z"
   },
   {
    "duration": 610,
    "start_time": "2021-08-15T06:43:54.394Z"
   },
   {
    "duration": 604,
    "start_time": "2021-08-15T06:43:54.401Z"
   },
   {
    "duration": 598,
    "start_time": "2021-08-15T06:43:54.409Z"
   },
   {
    "duration": 593,
    "start_time": "2021-08-15T06:43:54.415Z"
   },
   {
    "duration": 587,
    "start_time": "2021-08-15T06:43:54.423Z"
   },
   {
    "duration": 581,
    "start_time": "2021-08-15T06:43:54.431Z"
   },
   {
    "duration": 574,
    "start_time": "2021-08-15T06:43:54.439Z"
   },
   {
    "duration": 567,
    "start_time": "2021-08-15T06:43:54.447Z"
   },
   {
    "duration": 561,
    "start_time": "2021-08-15T06:43:54.455Z"
   },
   {
    "duration": 5,
    "start_time": "2021-08-15T06:47:01.772Z"
   },
   {
    "duration": 283,
    "start_time": "2021-08-15T06:47:10.202Z"
   },
   {
    "duration": 11,
    "start_time": "2021-08-15T06:47:12.573Z"
   },
   {
    "duration": 4,
    "start_time": "2021-08-15T06:47:24.734Z"
   },
   {
    "duration": 463,
    "start_time": "2021-08-15T06:47:25.799Z"
   },
   {
    "duration": 28,
    "start_time": "2021-08-15T06:47:27.782Z"
   },
   {
    "duration": 12,
    "start_time": "2021-08-15T06:47:28.367Z"
   },
   {
    "duration": 48,
    "start_time": "2021-08-15T06:47:29.020Z"
   },
   {
    "duration": 14,
    "start_time": "2021-08-15T06:47:29.552Z"
   },
   {
    "duration": 39,
    "start_time": "2021-08-15T06:47:30.143Z"
   },
   {
    "duration": 28,
    "start_time": "2021-08-15T06:47:30.616Z"
   },
   {
    "duration": 11,
    "start_time": "2021-08-15T06:47:31.174Z"
   },
   {
    "duration": 31,
    "start_time": "2021-08-15T06:47:31.364Z"
   },
   {
    "duration": 11,
    "start_time": "2021-08-15T06:47:31.702Z"
   },
   {
    "duration": 17,
    "start_time": "2021-08-15T06:47:31.878Z"
   },
   {
    "duration": 124,
    "start_time": "2021-08-15T06:47:33.213Z"
   },
   {
    "duration": 5,
    "start_time": "2021-08-15T06:47:33.466Z"
   },
   {
    "duration": 15,
    "start_time": "2021-08-15T06:47:33.712Z"
   },
   {
    "duration": 81,
    "start_time": "2021-08-15T06:47:34.293Z"
   },
   {
    "duration": 34,
    "start_time": "2021-08-15T06:47:34.822Z"
   },
   {
    "duration": 24,
    "start_time": "2021-08-15T06:47:35.310Z"
   },
   {
    "duration": 18,
    "start_time": "2021-08-15T06:47:35.550Z"
   },
   {
    "duration": 153,
    "start_time": "2021-08-15T06:47:36.039Z"
   },
   {
    "duration": 2,
    "start_time": "2021-08-15T06:47:36.774Z"
   },
   {
    "duration": 3,
    "start_time": "2021-08-15T06:47:37.084Z"
   },
   {
    "duration": 58,
    "start_time": "2021-08-15T06:47:37.309Z"
   },
   {
    "duration": 16,
    "start_time": "2021-08-15T06:47:37.918Z"
   },
   {
    "duration": 4,
    "start_time": "2021-08-15T06:47:38.240Z"
   },
   {
    "duration": 14,
    "start_time": "2021-08-15T06:47:38.599Z"
   },
   {
    "duration": 4,
    "start_time": "2021-08-15T06:47:39.231Z"
   },
   {
    "duration": 15,
    "start_time": "2021-08-15T06:47:39.592Z"
   },
   {
    "duration": 13,
    "start_time": "2021-08-15T06:47:40.887Z"
   },
   {
    "duration": 5,
    "start_time": "2021-08-15T06:47:41.742Z"
   },
   {
    "duration": 31,
    "start_time": "2021-08-15T06:47:42.590Z"
   },
   {
    "duration": 35,
    "start_time": "2021-08-15T06:47:42.994Z"
   },
   {
    "duration": 12,
    "start_time": "2021-08-15T06:47:43.494Z"
   },
   {
    "duration": 8,
    "start_time": "2021-08-15T06:47:45.176Z"
   },
   {
    "duration": 4,
    "start_time": "2021-08-15T06:47:46.030Z"
   },
   {
    "duration": 11,
    "start_time": "2021-08-15T06:47:46.458Z"
   },
   {
    "duration": 28,
    "start_time": "2021-08-15T06:47:46.914Z"
   },
   {
    "duration": 10,
    "start_time": "2021-08-15T06:47:48.302Z"
   },
   {
    "duration": 10,
    "start_time": "2021-08-15T06:47:49.199Z"
   },
   {
    "duration": 43,
    "start_time": "2021-08-15T06:47:49.736Z"
   },
   {
    "duration": 7,
    "start_time": "2021-08-15T06:47:50.825Z"
   },
   {
    "duration": 5,
    "start_time": "2021-08-15T06:47:51.759Z"
   },
   {
    "duration": 11,
    "start_time": "2021-08-15T06:47:52.286Z"
   },
   {
    "duration": 254,
    "start_time": "2021-08-15T06:48:10.341Z"
   },
   {
    "duration": 42,
    "start_time": "2021-08-15T06:48:20.215Z"
   },
   {
    "duration": 7,
    "start_time": "2021-08-15T06:50:50.824Z"
   },
   {
    "duration": 35,
    "start_time": "2021-08-15T06:51:13.919Z"
   },
   {
    "duration": 10,
    "start_time": "2021-08-15T06:51:18.387Z"
   },
   {
    "duration": 29,
    "start_time": "2021-08-15T06:51:28.420Z"
   },
   {
    "duration": 25,
    "start_time": "2021-08-15T06:51:43.357Z"
   },
   {
    "duration": 10,
    "start_time": "2021-08-15T06:51:49.327Z"
   },
   {
    "duration": 5,
    "start_time": "2021-08-15T06:52:19.225Z"
   },
   {
    "duration": 11,
    "start_time": "2021-08-15T06:52:20.117Z"
   },
   {
    "duration": 5,
    "start_time": "2021-08-15T06:52:21.552Z"
   },
   {
    "duration": 12,
    "start_time": "2021-08-15T06:52:23.062Z"
   },
   {
    "duration": 47,
    "start_time": "2021-08-15T06:52:35.805Z"
   },
   {
    "duration": 1289,
    "start_time": "2021-08-15T06:52:55.623Z"
   },
   {
    "duration": 1264,
    "start_time": "2021-08-15T06:53:10.658Z"
   },
   {
    "duration": 498,
    "start_time": "2021-08-15T06:53:26.895Z"
   },
   {
    "duration": 426,
    "start_time": "2021-08-15T06:53:29.897Z"
   },
   {
    "duration": 440,
    "start_time": "2021-08-15T06:53:31.040Z"
   },
   {
    "duration": 50,
    "start_time": "2021-08-15T06:53:35.739Z"
   },
   {
    "duration": 47,
    "start_time": "2021-08-15T06:53:52.259Z"
   },
   {
    "duration": 11,
    "start_time": "2021-08-15T06:54:15.612Z"
   },
   {
    "duration": 8,
    "start_time": "2021-08-15T06:54:16.165Z"
   },
   {
    "duration": 20,
    "start_time": "2021-08-15T06:54:17.237Z"
   },
   {
    "duration": 503,
    "start_time": "2021-08-15T06:54:17.644Z"
   },
   {
    "duration": 15,
    "start_time": "2021-08-15T06:54:26.460Z"
   },
   {
    "duration": 8,
    "start_time": "2021-08-15T06:54:27.484Z"
   },
   {
    "duration": 8,
    "start_time": "2021-08-15T06:54:28.850Z"
   },
   {
    "duration": 729,
    "start_time": "2021-08-15T06:54:29.328Z"
   },
   {
    "duration": 4,
    "start_time": "2021-08-15T07:25:37.752Z"
   },
   {
    "duration": 59,
    "start_time": "2021-08-15T07:25:39.696Z"
   },
   {
    "duration": 1444,
    "start_time": "2021-08-15T07:25:40.275Z"
   },
   {
    "duration": 527,
    "start_time": "2021-08-15T07:25:41.722Z"
   },
   {
    "duration": 482,
    "start_time": "2021-08-15T07:25:42.252Z"
   },
   {
    "duration": 595,
    "start_time": "2021-08-15T07:25:42.737Z"
   },
   {
    "duration": 66,
    "start_time": "2021-08-15T07:25:43.334Z"
   },
   {
    "duration": 11,
    "start_time": "2021-08-15T07:25:43.402Z"
   },
   {
    "duration": 17,
    "start_time": "2021-08-15T07:25:43.416Z"
   },
   {
    "duration": 29,
    "start_time": "2021-08-15T07:25:43.437Z"
   },
   {
    "duration": 542,
    "start_time": "2021-08-15T07:25:43.469Z"
   },
   {
    "duration": 11,
    "start_time": "2021-08-15T07:25:44.014Z"
   },
   {
    "duration": 17,
    "start_time": "2021-08-15T07:25:44.027Z"
   },
   {
    "duration": 7,
    "start_time": "2021-08-15T07:25:44.108Z"
   },
   {
    "duration": 474,
    "start_time": "2021-08-15T07:25:44.254Z"
   },
   {
    "duration": 4,
    "start_time": "2021-08-15T07:25:57.202Z"
   },
   {
    "duration": 552,
    "start_time": "2021-08-15T07:25:57.211Z"
   },
   {
    "duration": 24,
    "start_time": "2021-08-15T07:25:57.766Z"
   },
   {
    "duration": 13,
    "start_time": "2021-08-15T07:25:57.795Z"
   },
   {
    "duration": 35,
    "start_time": "2021-08-15T07:25:57.810Z"
   },
   {
    "duration": 51,
    "start_time": "2021-08-15T07:25:57.848Z"
   },
   {
    "duration": 37,
    "start_time": "2021-08-15T07:25:57.903Z"
   },
   {
    "duration": 65,
    "start_time": "2021-08-15T07:25:57.942Z"
   },
   {
    "duration": 9,
    "start_time": "2021-08-15T07:25:58.011Z"
   },
   {
    "duration": 31,
    "start_time": "2021-08-15T07:25:58.024Z"
   },
   {
    "duration": 38,
    "start_time": "2021-08-15T07:25:58.058Z"
   },
   {
    "duration": 16,
    "start_time": "2021-08-15T07:25:58.099Z"
   },
   {
    "duration": 111,
    "start_time": "2021-08-15T07:25:58.118Z"
   },
   {
    "duration": 4,
    "start_time": "2021-08-15T07:25:58.231Z"
   },
   {
    "duration": 16,
    "start_time": "2021-08-15T07:25:58.237Z"
   },
   {
    "duration": 91,
    "start_time": "2021-08-15T07:25:58.255Z"
   },
   {
    "duration": 41,
    "start_time": "2021-08-15T07:25:58.348Z"
   },
   {
    "duration": 19,
    "start_time": "2021-08-15T07:25:58.393Z"
   },
   {
    "duration": 12,
    "start_time": "2021-08-15T07:25:58.414Z"
   },
   {
    "duration": 133,
    "start_time": "2021-08-15T07:25:58.428Z"
   },
   {
    "duration": 3,
    "start_time": "2021-08-15T07:25:58.563Z"
   },
   {
    "duration": 21,
    "start_time": "2021-08-15T07:25:58.569Z"
   },
   {
    "duration": 89,
    "start_time": "2021-08-15T07:25:58.593Z"
   },
   {
    "duration": 22,
    "start_time": "2021-08-15T07:25:58.692Z"
   },
   {
    "duration": 5,
    "start_time": "2021-08-15T07:25:58.718Z"
   },
   {
    "duration": 20,
    "start_time": "2021-08-15T07:25:58.726Z"
   },
   {
    "duration": 33,
    "start_time": "2021-08-15T07:25:58.749Z"
   },
   {
    "duration": 26,
    "start_time": "2021-08-15T07:25:58.785Z"
   },
   {
    "duration": 12,
    "start_time": "2021-08-15T07:25:58.814Z"
   },
   {
    "duration": 5,
    "start_time": "2021-08-15T07:25:58.829Z"
   },
   {
    "duration": 69,
    "start_time": "2021-08-15T07:25:58.837Z"
   },
   {
    "duration": 36,
    "start_time": "2021-08-15T07:25:58.908Z"
   },
   {
    "duration": 10,
    "start_time": "2021-08-15T07:25:58.946Z"
   },
   {
    "duration": 38,
    "start_time": "2021-08-15T07:25:58.958Z"
   },
   {
    "duration": 3,
    "start_time": "2021-08-15T07:25:58.999Z"
   },
   {
    "duration": 11,
    "start_time": "2021-08-15T07:25:59.005Z"
   },
   {
    "duration": 30,
    "start_time": "2021-08-15T07:25:59.019Z"
   },
   {
    "duration": 22,
    "start_time": "2021-08-15T07:25:59.082Z"
   },
   {
    "duration": 6,
    "start_time": "2021-08-15T07:25:59.107Z"
   },
   {
    "duration": 43,
    "start_time": "2021-08-15T07:25:59.116Z"
   },
   {
    "duration": 24,
    "start_time": "2021-08-15T07:25:59.161Z"
   },
   {
    "duration": 6,
    "start_time": "2021-08-15T07:25:59.188Z"
   },
   {
    "duration": 10,
    "start_time": "2021-08-15T07:25:59.197Z"
   },
   {
    "duration": 10,
    "start_time": "2021-08-15T07:25:59.209Z"
   },
   {
    "duration": 76,
    "start_time": "2021-08-15T07:25:59.221Z"
   },
   {
    "duration": 1444,
    "start_time": "2021-08-15T07:25:59.300Z"
   },
   {
    "duration": 544,
    "start_time": "2021-08-15T07:26:00.747Z"
   },
   {
    "duration": 668,
    "start_time": "2021-08-15T07:26:01.293Z"
   },
   {
    "duration": 482,
    "start_time": "2021-08-15T07:26:01.963Z"
   },
   {
    "duration": 67,
    "start_time": "2021-08-15T07:26:02.447Z"
   },
   {
    "duration": 12,
    "start_time": "2021-08-15T07:26:02.517Z"
   },
   {
    "duration": 13,
    "start_time": "2021-08-15T07:26:02.532Z"
   },
   {
    "duration": 40,
    "start_time": "2021-08-15T07:26:02.548Z"
   },
   {
    "duration": 724,
    "start_time": "2021-08-15T07:26:02.591Z"
   },
   {
    "duration": 13,
    "start_time": "2021-08-15T07:26:03.318Z"
   },
   {
    "duration": 33,
    "start_time": "2021-08-15T07:26:03.333Z"
   },
   {
    "duration": 19,
    "start_time": "2021-08-15T07:26:03.368Z"
   },
   {
    "duration": 504,
    "start_time": "2021-08-15T07:26:03.390Z"
   },
   {
    "duration": 18,
    "start_time": "2021-08-15T07:26:39.650Z"
   },
   {
    "duration": 15,
    "start_time": "2021-08-15T07:27:01.686Z"
   },
   {
    "duration": 9,
    "start_time": "2021-08-15T07:27:02.269Z"
   },
   {
    "duration": 27,
    "start_time": "2021-08-15T07:27:03.436Z"
   },
   {
    "duration": 5,
    "start_time": "2021-08-15T07:30:12.582Z"
   },
   {
    "duration": 4,
    "start_time": "2021-08-15T07:30:26.559Z"
   },
   {
    "duration": 582,
    "start_time": "2021-08-15T07:30:26.571Z"
   },
   {
    "duration": 21,
    "start_time": "2021-08-15T07:30:27.156Z"
   },
   {
    "duration": 10,
    "start_time": "2021-08-15T07:30:27.180Z"
   },
   {
    "duration": 35,
    "start_time": "2021-08-15T07:30:27.194Z"
   },
   {
    "duration": 10,
    "start_time": "2021-08-15T07:30:27.231Z"
   },
   {
    "duration": 67,
    "start_time": "2021-08-15T07:30:27.244Z"
   },
   {
    "duration": 28,
    "start_time": "2021-08-15T07:30:27.313Z"
   },
   {
    "duration": 48,
    "start_time": "2021-08-15T07:30:27.346Z"
   },
   {
    "duration": 34,
    "start_time": "2021-08-15T07:30:27.397Z"
   },
   {
    "duration": 10,
    "start_time": "2021-08-15T07:30:27.433Z"
   },
   {
    "duration": 57,
    "start_time": "2021-08-15T07:30:27.445Z"
   },
   {
    "duration": 105,
    "start_time": "2021-08-15T07:30:27.505Z"
   },
   {
    "duration": 4,
    "start_time": "2021-08-15T07:30:27.613Z"
   },
   {
    "duration": 19,
    "start_time": "2021-08-15T07:30:27.619Z"
   },
   {
    "duration": 94,
    "start_time": "2021-08-15T07:30:27.640Z"
   },
   {
    "duration": 24,
    "start_time": "2021-08-15T07:30:27.736Z"
   },
   {
    "duration": 38,
    "start_time": "2021-08-15T07:30:27.763Z"
   },
   {
    "duration": 14,
    "start_time": "2021-08-15T07:30:27.807Z"
   },
   {
    "duration": 162,
    "start_time": "2021-08-15T07:30:27.824Z"
   },
   {
    "duration": 4,
    "start_time": "2021-08-15T07:30:27.989Z"
   },
   {
    "duration": 15,
    "start_time": "2021-08-15T07:30:27.995Z"
   },
   {
    "duration": 94,
    "start_time": "2021-08-15T07:30:28.013Z"
   },
   {
    "duration": 16,
    "start_time": "2021-08-15T07:30:28.113Z"
   },
   {
    "duration": 3,
    "start_time": "2021-08-15T07:30:28.133Z"
   },
   {
    "duration": 15,
    "start_time": "2021-08-15T07:30:28.139Z"
   },
   {
    "duration": 35,
    "start_time": "2021-08-15T07:30:28.156Z"
   },
   {
    "duration": 14,
    "start_time": "2021-08-15T07:30:28.199Z"
   },
   {
    "duration": 15,
    "start_time": "2021-08-15T07:30:28.216Z"
   },
   {
    "duration": 4,
    "start_time": "2021-08-15T07:30:28.234Z"
   },
   {
    "duration": 60,
    "start_time": "2021-08-15T07:30:28.241Z"
   },
   {
    "duration": 36,
    "start_time": "2021-08-15T07:30:28.303Z"
   },
   {
    "duration": 9,
    "start_time": "2021-08-15T07:30:28.342Z"
   },
   {
    "duration": 37,
    "start_time": "2021-08-15T07:30:28.353Z"
   },
   {
    "duration": 5,
    "start_time": "2021-08-15T07:30:28.393Z"
   },
   {
    "duration": 14,
    "start_time": "2021-08-15T07:30:28.402Z"
   },
   {
    "duration": 31,
    "start_time": "2021-08-15T07:30:28.418Z"
   },
   {
    "duration": 9,
    "start_time": "2021-08-15T07:30:28.452Z"
   },
   {
    "duration": 12,
    "start_time": "2021-08-15T07:30:28.487Z"
   },
   {
    "duration": 46,
    "start_time": "2021-08-15T07:30:28.502Z"
   },
   {
    "duration": 31,
    "start_time": "2021-08-15T07:30:28.551Z"
   },
   {
    "duration": 5,
    "start_time": "2021-08-15T07:30:28.587Z"
   },
   {
    "duration": 13,
    "start_time": "2021-08-15T07:30:28.595Z"
   },
   {
    "duration": 8,
    "start_time": "2021-08-15T07:30:28.610Z"
   },
   {
    "duration": 21,
    "start_time": "2021-08-15T07:30:28.621Z"
   },
   {
    "duration": 79,
    "start_time": "2021-08-15T07:30:28.645Z"
   },
   {
    "duration": 1396,
    "start_time": "2021-08-15T07:30:28.726Z"
   },
   {
    "duration": 547,
    "start_time": "2021-08-15T07:30:30.124Z"
   },
   {
    "duration": 458,
    "start_time": "2021-08-15T07:30:30.673Z"
   },
   {
    "duration": 490,
    "start_time": "2021-08-15T07:30:31.133Z"
   },
   {
    "duration": 65,
    "start_time": "2021-08-15T07:30:31.626Z"
   },
   {
    "duration": 18,
    "start_time": "2021-08-15T07:30:31.694Z"
   },
   {
    "duration": 7,
    "start_time": "2021-08-15T07:30:31.715Z"
   },
   {
    "duration": 30,
    "start_time": "2021-08-15T07:30:31.725Z"
   },
   {
    "duration": 552,
    "start_time": "2021-08-15T07:30:31.758Z"
   },
   {
    "duration": 12,
    "start_time": "2021-08-15T07:30:32.312Z"
   },
   {
    "duration": 17,
    "start_time": "2021-08-15T07:30:32.326Z"
   },
   {
    "duration": 14,
    "start_time": "2021-08-15T07:30:32.345Z"
   },
   {
    "duration": 499,
    "start_time": "2021-08-15T07:30:32.362Z"
   },
   {
    "duration": 5,
    "start_time": "2021-08-15T07:31:16.663Z"
   },
   {
    "duration": 524,
    "start_time": "2021-08-15T07:31:16.677Z"
   },
   {
    "duration": 20,
    "start_time": "2021-08-15T07:31:17.204Z"
   },
   {
    "duration": 10,
    "start_time": "2021-08-15T07:31:17.227Z"
   },
   {
    "duration": 60,
    "start_time": "2021-08-15T07:31:17.240Z"
   },
   {
    "duration": 11,
    "start_time": "2021-08-15T07:31:17.302Z"
   },
   {
    "duration": 26,
    "start_time": "2021-08-15T07:31:17.316Z"
   },
   {
    "duration": 56,
    "start_time": "2021-08-15T07:31:17.345Z"
   },
   {
    "duration": 10,
    "start_time": "2021-08-15T07:31:17.403Z"
   },
   {
    "duration": 30,
    "start_time": "2021-08-15T07:31:17.417Z"
   },
   {
    "duration": 46,
    "start_time": "2021-08-15T07:31:17.450Z"
   },
   {
    "duration": 19,
    "start_time": "2021-08-15T07:31:17.499Z"
   },
   {
    "duration": 119,
    "start_time": "2021-08-15T07:31:17.520Z"
   },
   {
    "duration": 4,
    "start_time": "2021-08-15T07:31:17.642Z"
   },
   {
    "duration": 15,
    "start_time": "2021-08-15T07:31:17.648Z"
   },
   {
    "duration": 81,
    "start_time": "2021-08-15T07:31:17.665Z"
   },
   {
    "duration": 34,
    "start_time": "2021-08-15T07:31:17.748Z"
   },
   {
    "duration": 22,
    "start_time": "2021-08-15T07:31:17.785Z"
   },
   {
    "duration": 12,
    "start_time": "2021-08-15T07:31:17.810Z"
   },
   {
    "duration": 192,
    "start_time": "2021-08-15T07:31:17.825Z"
   },
   {
    "duration": 3,
    "start_time": "2021-08-15T07:31:18.020Z"
   },
   {
    "duration": 6,
    "start_time": "2021-08-15T07:31:18.026Z"
   },
   {
    "duration": 90,
    "start_time": "2021-08-15T07:31:18.034Z"
   },
   {
    "duration": 17,
    "start_time": "2021-08-15T07:31:18.126Z"
   },
   {
    "duration": 4,
    "start_time": "2021-08-15T07:31:18.146Z"
   },
   {
    "duration": 47,
    "start_time": "2021-08-15T07:31:18.152Z"
   },
   {
    "duration": 4,
    "start_time": "2021-08-15T07:31:18.201Z"
   },
   {
    "duration": 15,
    "start_time": "2021-08-15T07:31:18.212Z"
   },
   {
    "duration": 13,
    "start_time": "2021-08-15T07:31:18.230Z"
   },
   {
    "duration": 43,
    "start_time": "2021-08-15T07:31:18.246Z"
   },
   {
    "duration": 35,
    "start_time": "2021-08-15T07:31:18.292Z"
   },
   {
    "duration": 59,
    "start_time": "2021-08-15T07:31:18.329Z"
   },
   {
    "duration": 11,
    "start_time": "2021-08-15T07:31:18.391Z"
   },
   {
    "duration": 11,
    "start_time": "2021-08-15T07:31:18.405Z"
   },
   {
    "duration": 4,
    "start_time": "2021-08-15T07:31:18.423Z"
   },
   {
    "duration": 12,
    "start_time": "2021-08-15T07:31:18.430Z"
   },
   {
    "duration": 71,
    "start_time": "2021-08-15T07:31:18.444Z"
   },
   {
    "duration": 16,
    "start_time": "2021-08-15T07:31:18.517Z"
   },
   {
    "duration": 10,
    "start_time": "2021-08-15T07:31:18.535Z"
   },
   {
    "duration": 62,
    "start_time": "2021-08-15T07:31:18.547Z"
   },
   {
    "duration": 6,
    "start_time": "2021-08-15T07:31:18.611Z"
   },
   {
    "duration": 7,
    "start_time": "2021-08-15T07:31:18.619Z"
   },
   {
    "duration": 12,
    "start_time": "2021-08-15T07:31:18.628Z"
   },
   {
    "duration": 7,
    "start_time": "2021-08-15T07:31:18.642Z"
   },
   {
    "duration": 50,
    "start_time": "2021-08-15T07:31:18.651Z"
   },
   {
    "duration": 46,
    "start_time": "2021-08-15T07:31:18.703Z"
   },
   {
    "duration": 1563,
    "start_time": "2021-08-15T07:31:18.751Z"
   },
   {
    "duration": 531,
    "start_time": "2021-08-15T07:31:20.317Z"
   },
   {
    "duration": 455,
    "start_time": "2021-08-15T07:31:20.850Z"
   },
   {
    "duration": 470,
    "start_time": "2021-08-15T07:31:21.308Z"
   },
   {
    "duration": 49,
    "start_time": "2021-08-15T07:31:21.787Z"
   },
   {
    "duration": 13,
    "start_time": "2021-08-15T07:31:21.840Z"
   },
   {
    "duration": 40,
    "start_time": "2021-08-15T07:31:21.855Z"
   },
   {
    "duration": 21,
    "start_time": "2021-08-15T07:31:21.901Z"
   },
   {
    "duration": 567,
    "start_time": "2021-08-15T07:31:21.924Z"
   },
   {
    "duration": 12,
    "start_time": "2021-08-15T07:31:22.493Z"
   },
   {
    "duration": 13,
    "start_time": "2021-08-15T07:31:22.508Z"
   },
   {
    "duration": 7,
    "start_time": "2021-08-15T07:31:22.524Z"
   },
   {
    "duration": 518,
    "start_time": "2021-08-15T07:31:22.534Z"
   },
   {
    "duration": 5,
    "start_time": "2021-08-15T15:38:52.816Z"
   },
   {
    "duration": 2034,
    "start_time": "2021-08-15T15:38:52.823Z"
   },
   {
    "duration": 26,
    "start_time": "2021-08-15T15:38:54.860Z"
   },
   {
    "duration": 10,
    "start_time": "2021-08-15T15:38:54.890Z"
   },
   {
    "duration": 75,
    "start_time": "2021-08-15T15:38:54.903Z"
   },
   {
    "duration": 14,
    "start_time": "2021-08-15T15:38:54.981Z"
   },
   {
    "duration": 27,
    "start_time": "2021-08-15T15:38:54.998Z"
   },
   {
    "duration": 64,
    "start_time": "2021-08-15T15:38:55.028Z"
   },
   {
    "duration": 10,
    "start_time": "2021-08-15T15:38:55.098Z"
   },
   {
    "duration": 68,
    "start_time": "2021-08-15T15:38:55.112Z"
   },
   {
    "duration": 12,
    "start_time": "2021-08-15T15:38:55.182Z"
   },
   {
    "duration": 17,
    "start_time": "2021-08-15T15:38:55.196Z"
   },
   {
    "duration": 135,
    "start_time": "2021-08-15T15:38:55.215Z"
   },
   {
    "duration": 4,
    "start_time": "2021-08-15T15:38:55.353Z"
   },
   {
    "duration": 11,
    "start_time": "2021-08-15T15:38:55.368Z"
   },
   {
    "duration": 92,
    "start_time": "2021-08-15T15:38:55.382Z"
   },
   {
    "duration": 28,
    "start_time": "2021-08-15T15:38:55.477Z"
   },
   {
    "duration": 18,
    "start_time": "2021-08-15T15:38:55.507Z"
   },
   {
    "duration": 12,
    "start_time": "2021-08-15T15:38:55.527Z"
   },
   {
    "duration": 113,
    "start_time": "2021-08-15T15:38:55.568Z"
   },
   {
    "duration": 3,
    "start_time": "2021-08-15T15:38:55.683Z"
   },
   {
    "duration": 11,
    "start_time": "2021-08-15T15:38:55.688Z"
   },
   {
    "duration": 78,
    "start_time": "2021-08-15T15:38:55.701Z"
   },
   {
    "duration": 16,
    "start_time": "2021-08-15T15:38:55.781Z"
   },
   {
    "duration": 5,
    "start_time": "2021-08-15T15:38:55.800Z"
   },
   {
    "duration": 16,
    "start_time": "2021-08-15T15:38:55.807Z"
   },
   {
    "duration": 3,
    "start_time": "2021-08-15T15:38:55.831Z"
   },
   {
    "duration": 15,
    "start_time": "2021-08-15T15:38:55.868Z"
   },
   {
    "duration": 12,
    "start_time": "2021-08-15T15:38:55.886Z"
   },
   {
    "duration": 6,
    "start_time": "2021-08-15T15:38:55.900Z"
   },
   {
    "duration": 68,
    "start_time": "2021-08-15T15:38:55.908Z"
   },
   {
    "duration": 38,
    "start_time": "2021-08-15T15:38:55.978Z"
   },
   {
    "duration": 10,
    "start_time": "2021-08-15T15:38:56.018Z"
   },
   {
    "duration": 38,
    "start_time": "2021-08-15T15:38:56.030Z"
   },
   {
    "duration": 13,
    "start_time": "2021-08-15T15:38:56.070Z"
   },
   {
    "duration": 13,
    "start_time": "2021-08-15T15:38:56.086Z"
   },
   {
    "duration": 32,
    "start_time": "2021-08-15T15:38:56.101Z"
   },
   {
    "duration": 13,
    "start_time": "2021-08-15T15:38:56.135Z"
   },
   {
    "duration": 7,
    "start_time": "2021-08-15T15:38:56.167Z"
   },
   {
    "duration": 52,
    "start_time": "2021-08-15T15:38:56.176Z"
   },
   {
    "duration": 7,
    "start_time": "2021-08-15T15:38:56.230Z"
   },
   {
    "duration": 28,
    "start_time": "2021-08-15T15:38:56.239Z"
   },
   {
    "duration": 13,
    "start_time": "2021-08-15T15:38:56.269Z"
   },
   {
    "duration": 5,
    "start_time": "2021-08-15T15:38:56.284Z"
   },
   {
    "duration": 20,
    "start_time": "2021-08-15T15:38:56.292Z"
   },
   {
    "duration": 83,
    "start_time": "2021-08-15T15:38:56.314Z"
   },
   {
    "duration": 1406,
    "start_time": "2021-08-15T15:38:56.399Z"
   },
   {
    "duration": 475,
    "start_time": "2021-08-15T15:38:57.808Z"
   },
   {
    "duration": -84,
    "start_time": "2021-08-15T15:38:58.370Z"
   },
   {
    "duration": -85,
    "start_time": "2021-08-15T15:38:58.373Z"
   },
   {
    "duration": -87,
    "start_time": "2021-08-15T15:38:58.376Z"
   },
   {
    "duration": -89,
    "start_time": "2021-08-15T15:38:58.380Z"
   },
   {
    "duration": -89,
    "start_time": "2021-08-15T15:38:58.382Z"
   },
   {
    "duration": -92,
    "start_time": "2021-08-15T15:38:58.386Z"
   },
   {
    "duration": -93,
    "start_time": "2021-08-15T15:38:58.389Z"
   },
   {
    "duration": -95,
    "start_time": "2021-08-15T15:38:58.392Z"
   },
   {
    "duration": -97,
    "start_time": "2021-08-15T15:38:58.396Z"
   },
   {
    "duration": -99,
    "start_time": "2021-08-15T15:38:58.399Z"
   },
   {
    "duration": -99,
    "start_time": "2021-08-15T15:38:58.401Z"
   },
   {
    "duration": 562,
    "start_time": "2021-08-15T15:44:52.977Z"
   },
   {
    "duration": 7,
    "start_time": "2021-08-15T15:45:08.300Z"
   },
   {
    "duration": 519,
    "start_time": "2021-08-15T15:45:10.988Z"
   },
   {
    "duration": 401,
    "start_time": "2021-08-15T15:45:12.377Z"
   },
   {
    "duration": 347,
    "start_time": "2021-08-15T15:45:12.987Z"
   },
   {
    "duration": 554,
    "start_time": "2021-08-15T15:45:19.546Z"
   },
   {
    "duration": 494,
    "start_time": "2021-08-15T15:45:21.249Z"
   },
   {
    "duration": 50,
    "start_time": "2021-08-15T15:45:23.072Z"
   },
   {
    "duration": 12,
    "start_time": "2021-08-15T15:45:27.390Z"
   },
   {
    "duration": 8,
    "start_time": "2021-08-15T15:45:27.790Z"
   },
   {
    "duration": 21,
    "start_time": "2021-08-15T15:45:29.169Z"
   },
   {
    "duration": 640,
    "start_time": "2021-08-15T15:45:29.695Z"
   },
   {
    "duration": 11,
    "start_time": "2021-08-15T15:45:31.274Z"
   },
   {
    "duration": 6,
    "start_time": "2021-08-15T15:45:31.475Z"
   },
   {
    "duration": 5,
    "start_time": "2021-08-15T15:45:31.674Z"
   },
   {
    "duration": 520,
    "start_time": "2021-08-15T15:45:32.277Z"
   },
   {
    "duration": 350,
    "start_time": "2021-08-18T07:54:52.368Z"
   },
   {
    "duration": 274,
    "start_time": "2021-08-18T07:55:00.484Z"
   },
   {
    "duration": 5,
    "start_time": "2021-08-18T08:05:14.866Z"
   },
   {
    "duration": 2070,
    "start_time": "2021-08-18T08:05:14.875Z"
   },
   {
    "duration": 34,
    "start_time": "2021-08-18T08:05:16.948Z"
   },
   {
    "duration": 20,
    "start_time": "2021-08-18T08:05:16.986Z"
   },
   {
    "duration": 73,
    "start_time": "2021-08-18T08:05:17.009Z"
   },
   {
    "duration": 16,
    "start_time": "2021-08-18T08:05:17.085Z"
   },
   {
    "duration": 60,
    "start_time": "2021-08-18T08:05:17.104Z"
   },
   {
    "duration": 27,
    "start_time": "2021-08-18T08:05:17.170Z"
   },
   {
    "duration": 11,
    "start_time": "2021-08-18T08:05:17.201Z"
   },
   {
    "duration": 36,
    "start_time": "2021-08-18T08:05:17.255Z"
   },
   {
    "duration": 13,
    "start_time": "2021-08-18T08:05:17.294Z"
   },
   {
    "duration": 50,
    "start_time": "2021-08-18T08:05:17.310Z"
   },
   {
    "duration": 120,
    "start_time": "2021-08-18T08:05:17.363Z"
   },
   {
    "duration": 5,
    "start_time": "2021-08-18T08:05:17.486Z"
   },
   {
    "duration": 23,
    "start_time": "2021-08-18T08:05:17.494Z"
   },
   {
    "duration": 98,
    "start_time": "2021-08-18T08:05:17.520Z"
   },
   {
    "duration": 41,
    "start_time": "2021-08-18T08:05:17.620Z"
   },
   {
    "duration": 19,
    "start_time": "2021-08-18T08:05:17.664Z"
   },
   {
    "duration": 14,
    "start_time": "2021-08-18T08:05:17.686Z"
   },
   {
    "duration": 138,
    "start_time": "2021-08-18T08:05:17.703Z"
   },
   {
    "duration": 10,
    "start_time": "2021-08-18T08:05:17.844Z"
   },
   {
    "duration": 6,
    "start_time": "2021-08-18T08:05:17.857Z"
   },
   {
    "duration": 94,
    "start_time": "2021-08-18T08:05:17.871Z"
   },
   {
    "duration": 18,
    "start_time": "2021-08-18T08:05:17.968Z"
   },
   {
    "duration": 8,
    "start_time": "2021-08-18T08:05:17.988Z"
   },
   {
    "duration": 16,
    "start_time": "2021-08-18T08:05:17.998Z"
   },
   {
    "duration": 6,
    "start_time": "2021-08-18T08:05:18.016Z"
   },
   {
    "duration": 41,
    "start_time": "2021-08-18T08:05:18.025Z"
   },
   {
    "duration": 13,
    "start_time": "2021-08-18T08:05:18.068Z"
   },
   {
    "duration": 8,
    "start_time": "2021-08-18T08:05:18.084Z"
   },
   {
    "duration": 64,
    "start_time": "2021-08-18T08:05:18.095Z"
   },
   {
    "duration": 38,
    "start_time": "2021-08-18T08:05:18.162Z"
   },
   {
    "duration": 9,
    "start_time": "2021-08-18T08:05:18.203Z"
   },
   {
    "duration": 40,
    "start_time": "2021-08-18T08:05:18.215Z"
   },
   {
    "duration": 3,
    "start_time": "2021-08-18T08:05:18.258Z"
   },
   {
    "duration": 15,
    "start_time": "2021-08-18T08:05:18.263Z"
   },
   {
    "duration": 29,
    "start_time": "2021-08-18T08:05:18.280Z"
   },
   {
    "duration": 43,
    "start_time": "2021-08-18T08:05:18.311Z"
   },
   {
    "duration": 8,
    "start_time": "2021-08-18T08:05:18.357Z"
   },
   {
    "duration": 47,
    "start_time": "2021-08-18T08:05:18.368Z"
   },
   {
    "duration": 13,
    "start_time": "2021-08-18T08:05:18.417Z"
   },
   {
    "duration": 25,
    "start_time": "2021-08-18T08:05:18.433Z"
   },
   {
    "duration": 13,
    "start_time": "2021-08-18T08:05:18.461Z"
   },
   {
    "duration": 6,
    "start_time": "2021-08-18T08:05:18.477Z"
   },
   {
    "duration": 33,
    "start_time": "2021-08-18T08:05:18.486Z"
   },
   {
    "duration": 103,
    "start_time": "2021-08-18T08:05:18.521Z"
   },
   {
    "duration": 1969,
    "start_time": "2021-08-18T08:05:18.627Z"
   },
   {
    "duration": 845,
    "start_time": "2021-08-18T08:05:20.600Z"
   },
   {
    "duration": 689,
    "start_time": "2021-08-18T08:05:21.448Z"
   },
   {
    "duration": 635,
    "start_time": "2021-08-18T08:05:22.140Z"
   },
   {
    "duration": 50,
    "start_time": "2021-08-18T08:05:22.779Z"
   },
   {
    "duration": 33,
    "start_time": "2021-08-18T08:05:22.831Z"
   },
   {
    "duration": 11,
    "start_time": "2021-08-18T08:05:22.866Z"
   },
   {
    "duration": 38,
    "start_time": "2021-08-18T08:05:22.880Z"
   },
   {
    "duration": 548,
    "start_time": "2021-08-18T08:05:22.921Z"
   },
   {
    "duration": 11,
    "start_time": "2021-08-18T08:05:23.472Z"
   },
   {
    "duration": 10,
    "start_time": "2021-08-18T08:05:23.486Z"
   },
   {
    "duration": 10,
    "start_time": "2021-08-18T08:05:23.499Z"
   },
   {
    "duration": 526,
    "start_time": "2021-08-18T08:05:23.512Z"
   }
  ],
  "kernelspec": {
   "display_name": "Python 3",
   "language": "python",
   "name": "python3"
  },
  "language_info": {
   "codemirror_mode": {
    "name": "ipython",
    "version": 3
   },
   "file_extension": ".py",
   "mimetype": "text/x-python",
   "name": "python",
   "nbconvert_exporter": "python",
   "pygments_lexer": "ipython3",
   "version": "3.8.8"
  },
  "toc": {
   "base_numbering": 1,
   "nav_menu": {},
   "number_sections": true,
   "sideBar": true,
   "skip_h1_title": true,
   "title_cell": "Содержание",
   "title_sidebar": "Contents",
   "toc_cell": true,
   "toc_position": {
    "height": "448px",
    "left": "37px",
    "top": "44px",
    "width": "165px"
   },
   "toc_section_display": true,
   "toc_window_display": true
  }
 },
 "nbformat": 4,
 "nbformat_minor": 2
}
