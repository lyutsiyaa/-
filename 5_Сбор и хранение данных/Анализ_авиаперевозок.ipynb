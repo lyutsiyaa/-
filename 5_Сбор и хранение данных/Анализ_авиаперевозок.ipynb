{
 "cells": [
  {
   "cell_type": "markdown",
   "metadata": {
    "toc": true
   },
   "source": [
    "<h1>Содержание<span class=\"tocSkip\"></span></h1>\n",
    "<div class=\"toc\"><ul class=\"toc-item\"><li><span><a href=\"#Изучение-данных-и-общей-информации\" data-toc-modified-id=\"Изучение-данных-и-общей-информации-1\"><span class=\"toc-item-num\">1&nbsp;&nbsp;</span>Изучение данных и общей информации</a></span></li><li><span><a href=\"#Топ-10-городов-по-количеству-рейсов\" data-toc-modified-id=\"Топ-10-городов-по-количеству-рейсов-2\"><span class=\"toc-item-num\">2&nbsp;&nbsp;</span>Топ 10 городов по количеству рейсов</a></span></li><li><span><a href=\"#График-среднего-количества-рейсов-для-каждого-города\" data-toc-modified-id=\"График-среднего-количества-рейсов-для-каждого-города-3\"><span class=\"toc-item-num\">3&nbsp;&nbsp;</span>График среднего количества рейсов для каждого города</a></span></li><li><span><a href=\"#График-количества-рейсов-каждой-модели-самолета\" data-toc-modified-id=\"График-количества-рейсов-каждой-модели-самолета-4\"><span class=\"toc-item-num\">4&nbsp;&nbsp;</span>График количества рейсов каждой модели самолета</a></span></li><li><span><a href=\"#Общий-вывод\" data-toc-modified-id=\"Общий-вывод-5\"><span class=\"toc-item-num\">5&nbsp;&nbsp;</span>Общий вывод</a></span></li></ul></div>"
   ]
  },
  {
   "cell_type": "markdown",
   "metadata": {},
   "source": [
    "# Анализ внутренних пассажирских авиаперевозок компании F9"
   ]
  },
  {
   "cell_type": "markdown",
   "metadata": {},
   "source": [
    "## Изучение данных и общей информации"
   ]
  },
  {
   "cell_type": "markdown",
   "metadata": {},
   "source": [
    "«F9» — это российская авиакомпания, выполняющая внутренние пассажирские авиаперевозки. Сотни перелётов каждый день. Нужно понять предпочтения пользователей, покупающих билеты на те или иные направления.\n",
    "Необходимо изучить базу данных и проанализировать спрос пассажиров на рейсы в города, где проходят крупнейшие фестивали.\n",
    "\n",
    "* model — модели самолета;\n",
    "* flights_amount — количество рейсов для каждой модели самолетов model в сентябре 2018 года;\n",
    "\n",
    "* city — города;\n",
    "* average_flights — среднее количество рейсов, прибывающих в город city за день в августе 2018 года."
   ]
  },
  {
   "cell_type": "code",
   "execution_count": 1,
   "metadata": {},
   "outputs": [],
   "source": [
    "import warnings\n",
    "warnings.filterwarnings('ignore')"
   ]
  },
  {
   "cell_type": "code",
   "execution_count": 2,
   "metadata": {},
   "outputs": [],
   "source": [
    "import pandas as pd\n",
    "import seaborn as sns\n",
    "import matplotlib.pyplot as plt\n",
    "import numpy as np\n",
    "import plotly\n",
    "import plotly.graph_objs as go\n",
    "import plotly.express as px\n",
    "from plotly.subplots import make_subplots\n",
    "pd.options.display.max_columns = None\n",
    "# sns.set_style(\"darkgrid\")"
   ]
  },
  {
   "cell_type": "code",
   "execution_count": 3,
   "metadata": {},
   "outputs": [],
   "source": [
    "df1 = pd.read_csv('query_1.csv')\n",
    "df3 = pd.read_csv('query_3.csv')"
   ]
  },
  {
   "cell_type": "code",
   "execution_count": 4,
   "metadata": {},
   "outputs": [
    {
     "name": "stdout",
     "output_type": "stream",
     "text": [
      "<class 'pandas.core.frame.DataFrame'>\n",
      "RangeIndex: 8 entries, 0 to 7\n",
      "Data columns (total 2 columns):\n",
      " #   Column          Non-Null Count  Dtype \n",
      "---  ------          --------------  ----- \n",
      " 0   model           8 non-null      object\n",
      " 1   flights_amount  8 non-null      int64 \n",
      "dtypes: int64(1), object(1)\n",
      "memory usage: 256.0+ bytes\n"
     ]
    },
    {
     "data": {
      "text/html": [
       "<div>\n",
       "<style scoped>\n",
       "    .dataframe tbody tr th:only-of-type {\n",
       "        vertical-align: middle;\n",
       "    }\n",
       "\n",
       "    .dataframe tbody tr th {\n",
       "        vertical-align: top;\n",
       "    }\n",
       "\n",
       "    .dataframe thead th {\n",
       "        text-align: right;\n",
       "    }\n",
       "</style>\n",
       "<table border=\"1\" class=\"dataframe\">\n",
       "  <thead>\n",
       "    <tr style=\"text-align: right;\">\n",
       "      <th></th>\n",
       "      <th>model</th>\n",
       "      <th>flights_amount</th>\n",
       "    </tr>\n",
       "  </thead>\n",
       "  <tbody>\n",
       "    <tr>\n",
       "      <th>0</th>\n",
       "      <td>Airbus A319-100</td>\n",
       "      <td>607</td>\n",
       "    </tr>\n",
       "    <tr>\n",
       "      <th>1</th>\n",
       "      <td>Airbus A321-200</td>\n",
       "      <td>960</td>\n",
       "    </tr>\n",
       "    <tr>\n",
       "      <th>2</th>\n",
       "      <td>Boeing 737-300</td>\n",
       "      <td>630</td>\n",
       "    </tr>\n",
       "    <tr>\n",
       "      <th>3</th>\n",
       "      <td>Boeing 767-300</td>\n",
       "      <td>600</td>\n",
       "    </tr>\n",
       "    <tr>\n",
       "      <th>4</th>\n",
       "      <td>Boeing 777-300</td>\n",
       "      <td>300</td>\n",
       "    </tr>\n",
       "    <tr>\n",
       "      <th>5</th>\n",
       "      <td>Bombardier CRJ-200</td>\n",
       "      <td>4446</td>\n",
       "    </tr>\n",
       "    <tr>\n",
       "      <th>6</th>\n",
       "      <td>Cessna 208 Caravan</td>\n",
       "      <td>4557</td>\n",
       "    </tr>\n",
       "    <tr>\n",
       "      <th>7</th>\n",
       "      <td>Sukhoi SuperJet-100</td>\n",
       "      <td>4185</td>\n",
       "    </tr>\n",
       "  </tbody>\n",
       "</table>\n",
       "</div>"
      ],
      "text/plain": [
       "                 model  flights_amount\n",
       "0      Airbus A319-100             607\n",
       "1      Airbus A321-200             960\n",
       "2       Boeing 737-300             630\n",
       "3       Boeing 767-300             600\n",
       "4       Boeing 777-300             300\n",
       "5   Bombardier CRJ-200            4446\n",
       "6   Cessna 208 Caravan            4557\n",
       "7  Sukhoi SuperJet-100            4185"
      ]
     },
     "execution_count": 4,
     "metadata": {},
     "output_type": "execute_result"
    }
   ],
   "source": [
    "df1.info()\n",
    "df1.head(8)"
   ]
  },
  {
   "cell_type": "code",
   "execution_count": 5,
   "metadata": {},
   "outputs": [
    {
     "name": "stdout",
     "output_type": "stream",
     "text": [
      "<class 'pandas.core.frame.DataFrame'>\n",
      "RangeIndex: 101 entries, 0 to 100\n",
      "Data columns (total 2 columns):\n",
      " #   Column           Non-Null Count  Dtype  \n",
      "---  ------           --------------  -----  \n",
      " 0   city             101 non-null    object \n",
      " 1   average_flights  101 non-null    float64\n",
      "dtypes: float64(1), object(1)\n",
      "memory usage: 1.7+ KB\n"
     ]
    },
    {
     "data": {
      "text/html": [
       "<div>\n",
       "<style scoped>\n",
       "    .dataframe tbody tr th:only-of-type {\n",
       "        vertical-align: middle;\n",
       "    }\n",
       "\n",
       "    .dataframe tbody tr th {\n",
       "        vertical-align: top;\n",
       "    }\n",
       "\n",
       "    .dataframe thead th {\n",
       "        text-align: right;\n",
       "    }\n",
       "</style>\n",
       "<table border=\"1\" class=\"dataframe\">\n",
       "  <thead>\n",
       "    <tr style=\"text-align: right;\">\n",
       "      <th></th>\n",
       "      <th>city</th>\n",
       "      <th>average_flights</th>\n",
       "    </tr>\n",
       "  </thead>\n",
       "  <tbody>\n",
       "    <tr>\n",
       "      <th>0</th>\n",
       "      <td>Абакан</td>\n",
       "      <td>3.870968</td>\n",
       "    </tr>\n",
       "    <tr>\n",
       "      <th>1</th>\n",
       "      <td>Анадырь</td>\n",
       "      <td>1.000000</td>\n",
       "    </tr>\n",
       "    <tr>\n",
       "      <th>2</th>\n",
       "      <td>Анапа</td>\n",
       "      <td>2.161290</td>\n",
       "    </tr>\n",
       "    <tr>\n",
       "      <th>3</th>\n",
       "      <td>Архангельск</td>\n",
       "      <td>5.354839</td>\n",
       "    </tr>\n",
       "    <tr>\n",
       "      <th>4</th>\n",
       "      <td>Астрахань</td>\n",
       "      <td>2.451613</td>\n",
       "    </tr>\n",
       "  </tbody>\n",
       "</table>\n",
       "</div>"
      ],
      "text/plain": [
       "          city  average_flights\n",
       "0       Абакан         3.870968\n",
       "1      Анадырь         1.000000\n",
       "2        Анапа         2.161290\n",
       "3  Архангельск         5.354839\n",
       "4    Астрахань         2.451613"
      ]
     },
     "execution_count": 5,
     "metadata": {},
     "output_type": "execute_result"
    }
   ],
   "source": [
    "df3.info()\n",
    "df3.head()"
   ]
  },
  {
   "cell_type": "code",
   "execution_count": 6,
   "metadata": {},
   "outputs": [
    {
     "data": {
      "text/plain": [
       "model             0\n",
       "flights_amount    0\n",
       "dtype: int64"
      ]
     },
     "execution_count": 6,
     "metadata": {},
     "output_type": "execute_result"
    }
   ],
   "source": [
    "df1.isna().sum()"
   ]
  },
  {
   "cell_type": "code",
   "execution_count": 7,
   "metadata": {},
   "outputs": [
    {
     "data": {
      "text/plain": [
       "city               0\n",
       "average_flights    0\n",
       "dtype: int64"
      ]
     },
     "execution_count": 7,
     "metadata": {},
     "output_type": "execute_result"
    }
   ],
   "source": [
    "df3.isna().sum()"
   ]
  },
  {
   "cell_type": "code",
   "execution_count": 8,
   "metadata": {},
   "outputs": [
    {
     "data": {
      "text/plain": [
       "Sukhoi SuperJet-100    1\n",
       "Airbus A319-100        1\n",
       "Airbus A321-200        1\n",
       "Cessna 208 Caravan     1\n",
       "Boeing 767-300         1\n",
       "Bombardier CRJ-200     1\n",
       "Boeing 737-300         1\n",
       "Boeing 777-300         1\n",
       "Name: model, dtype: int64"
      ]
     },
     "execution_count": 8,
     "metadata": {},
     "output_type": "execute_result"
    }
   ],
   "source": [
    "df1['model'].value_counts()"
   ]
  },
  {
   "cell_type": "code",
   "execution_count": 9,
   "metadata": {},
   "outputs": [
    {
     "data": {
      "text/plain": [
       "Абакан            1\n",
       "Урай              1\n",
       "Мирный            1\n",
       "Южно-Сахалинск    1\n",
       "Удачный           1\n",
       "                 ..\n",
       "Ярославль         1\n",
       "Владикавказ       1\n",
       "Чита              1\n",
       "Курган            1\n",
       "Самара            1\n",
       "Name: city, Length: 101, dtype: int64"
      ]
     },
     "execution_count": 9,
     "metadata": {},
     "output_type": "execute_result"
    }
   ],
   "source": [
    "df3['city'].value_counts()"
   ]
  },
  {
   "cell_type": "markdown",
   "metadata": {},
   "source": [
    "Изучили общие данные о двух таблицах df1 и df3.\n",
    "\n",
    "С данным все в порядке, нет пропущенных значений, дубликатов, типы данных соответсвуют своему содержанию. Можно продолжать анализ данных."
   ]
  },
  {
   "cell_type": "markdown",
   "metadata": {},
   "source": [
    "## Топ 10 городов по количеству рейсов"
   ]
  },
  {
   "cell_type": "code",
   "execution_count": 10,
   "metadata": {
    "scrolled": true
   },
   "outputs": [
    {
     "data": {
      "text/html": [
       "<div>\n",
       "<style scoped>\n",
       "    .dataframe tbody tr th:only-of-type {\n",
       "        vertical-align: middle;\n",
       "    }\n",
       "\n",
       "    .dataframe tbody tr th {\n",
       "        vertical-align: top;\n",
       "    }\n",
       "\n",
       "    .dataframe thead th {\n",
       "        text-align: right;\n",
       "    }\n",
       "</style>\n",
       "<table border=\"1\" class=\"dataframe\">\n",
       "  <thead>\n",
       "    <tr style=\"text-align: right;\">\n",
       "      <th></th>\n",
       "      <th>city</th>\n",
       "      <th>average_flights</th>\n",
       "    </tr>\n",
       "  </thead>\n",
       "  <tbody>\n",
       "    <tr>\n",
       "      <th>43</th>\n",
       "      <td>Москва</td>\n",
       "      <td>129.774194</td>\n",
       "    </tr>\n",
       "    <tr>\n",
       "      <th>70</th>\n",
       "      <td>Санкт-Петербург</td>\n",
       "      <td>31.161290</td>\n",
       "    </tr>\n",
       "    <tr>\n",
       "      <th>54</th>\n",
       "      <td>Новосибирск</td>\n",
       "      <td>17.322581</td>\n",
       "    </tr>\n",
       "    <tr>\n",
       "      <th>33</th>\n",
       "      <td>Красноярск</td>\n",
       "      <td>11.580645</td>\n",
       "    </tr>\n",
       "    <tr>\n",
       "      <th>20</th>\n",
       "      <td>Екатеринбург</td>\n",
       "      <td>11.322581</td>\n",
       "    </tr>\n",
       "    <tr>\n",
       "      <th>67</th>\n",
       "      <td>Ростов-на-Дону</td>\n",
       "      <td>10.193548</td>\n",
       "    </tr>\n",
       "    <tr>\n",
       "      <th>63</th>\n",
       "      <td>Пермь</td>\n",
       "      <td>10.129032</td>\n",
       "    </tr>\n",
       "    <tr>\n",
       "      <th>10</th>\n",
       "      <td>Брянск</td>\n",
       "      <td>10.000000</td>\n",
       "    </tr>\n",
       "    <tr>\n",
       "      <th>74</th>\n",
       "      <td>Сочи</td>\n",
       "      <td>9.612903</td>\n",
       "    </tr>\n",
       "    <tr>\n",
       "      <th>84</th>\n",
       "      <td>Ульяновск</td>\n",
       "      <td>9.580645</td>\n",
       "    </tr>\n",
       "  </tbody>\n",
       "</table>\n",
       "</div>"
      ],
      "text/plain": [
       "               city  average_flights\n",
       "43           Москва       129.774194\n",
       "70  Санкт-Петербург        31.161290\n",
       "54      Новосибирск        17.322581\n",
       "33       Красноярск        11.580645\n",
       "20     Екатеринбург        11.322581\n",
       "67   Ростов-на-Дону        10.193548\n",
       "63            Пермь        10.129032\n",
       "10           Брянск        10.000000\n",
       "74             Сочи         9.612903\n",
       "84        Ульяновск         9.580645"
      ]
     },
     "execution_count": 10,
     "metadata": {},
     "output_type": "execute_result"
    }
   ],
   "source": [
    "df3.sort_values(by='average_flights',ascending=False).head(10)"
   ]
  },
  {
   "cell_type": "code",
   "execution_count": 11,
   "metadata": {},
   "outputs": [
    {
     "data": {
      "text/plain": [
       "Text(0, 0.5, 'Город')"
      ]
     },
     "execution_count": 11,
     "metadata": {},
     "output_type": "execute_result"
    },
    {
     "data": {
      "image/png": "[encoded data removed]",
      "text/plain": [
       "<Figure size 864x432 with 1 Axes>"
      ]
     },
     "metadata": {
      "needs_background": "light"
     },
     "output_type": "display_data"
    }
   ],
   "source": [
    "top10 = df3.query('average_flights>=9.580645').sort_values(by='average_flights',ascending=False)\n",
    "plt.figure(figsize=(12, 6))\n",
    "sns.barplot(data=top10, x='average_flights', y='city')\n",
    "plt.xticks(rotation=45)\n",
    "plt.title(\"График среднего количества рейсов для топ 10 городов за Август 2018г.\")\n",
    "plt.xlabel(\"Среднее количество рейсов\")\n",
    "plt.ylabel(\"Город\")"
   ]
  },
  {
   "cell_type": "markdown",
   "metadata": {},
   "source": [
    "Вывели таблицу и построили график с топ 10 городами по среднему количеству рейсов. \n",
    "\n",
    "Лидером является Москва(129.77), так как это самый крупный город России и через него происходит огромное количество пересадок. \n",
    "\n",
    "На 2 месте Санкт-Петербург(31.16), также крупный город и культурная столица России, большой туристический поток. \n",
    "\n",
    "3 место Новосибирск(17.32) самый крупный город в СФО. \n",
    "\n",
    "4 и 5 место Красноярск(11.58) и Екатеринбург(11.32). "
   ]
  },
  {
   "cell_type": "markdown",
   "metadata": {},
   "source": [
    "## График среднего количества рейсов для каждого города"
   ]
  },
  {
   "cell_type": "code",
   "execution_count": 12,
   "metadata": {},
   "outputs": [
    {
     "data": {
      "text/plain": [
       "Text(0, 0.5, 'Город')"
      ]
     },
     "execution_count": 12,
     "metadata": {},
     "output_type": "execute_result"
    },
    {
     "data": {
      "image/png": "[encoded data removed]",
      "text/plain": [
       "<Figure size 864x1584 with 1 Axes>"
      ]
     },
     "metadata": {
      "needs_background": "light"
     },
     "output_type": "display_data"
    }
   ],
   "source": [
    "df3 = df3.sort_values(by='average_flights',ascending=False)\n",
    "plt.figure(figsize=(12, 22))\n",
    "sns.barplot(data=df3, x='average_flights', y='city')\n",
    "plt.xticks(rotation=45)\n",
    "plt.title(\"График среднего количества рейсов для каждого города за Август 2018г.\")\n",
    "plt.xlabel(\"Среднее количество рейсов\")\n",
    "plt.ylabel(\"Город\")"
   ]
  },
  {
   "cell_type": "markdown",
   "metadata": {},
   "source": [
    "Большее количество перелетов у крупных городов, и которые являются столицами федеральных округов. Меньше всего перелетов у городов с маленьким количеством жителей и также у тех, которые приравнены к районам крайнего севера."
   ]
  },
  {
   "cell_type": "markdown",
   "metadata": {},
   "source": [
    "## График количества рейсов каждой модели самолета"
   ]
  },
  {
   "cell_type": "code",
   "execution_count": 13,
   "metadata": {},
   "outputs": [
    {
     "data": {
      "text/html": [
       "<div>\n",
       "<style scoped>\n",
       "    .dataframe tbody tr th:only-of-type {\n",
       "        vertical-align: middle;\n",
       "    }\n",
       "\n",
       "    .dataframe tbody tr th {\n",
       "        vertical-align: top;\n",
       "    }\n",
       "\n",
       "    .dataframe thead th {\n",
       "        text-align: right;\n",
       "    }\n",
       "</style>\n",
       "<table border=\"1\" class=\"dataframe\">\n",
       "  <thead>\n",
       "    <tr style=\"text-align: right;\">\n",
       "      <th></th>\n",
       "      <th>model</th>\n",
       "      <th>flights_amount</th>\n",
       "    </tr>\n",
       "  </thead>\n",
       "  <tbody>\n",
       "    <tr>\n",
       "      <th>6</th>\n",
       "      <td>Cessna 208 Caravan</td>\n",
       "      <td>4557</td>\n",
       "    </tr>\n",
       "    <tr>\n",
       "      <th>5</th>\n",
       "      <td>Bombardier CRJ-200</td>\n",
       "      <td>4446</td>\n",
       "    </tr>\n",
       "    <tr>\n",
       "      <th>7</th>\n",
       "      <td>Sukhoi SuperJet-100</td>\n",
       "      <td>4185</td>\n",
       "    </tr>\n",
       "    <tr>\n",
       "      <th>1</th>\n",
       "      <td>Airbus A321-200</td>\n",
       "      <td>960</td>\n",
       "    </tr>\n",
       "    <tr>\n",
       "      <th>2</th>\n",
       "      <td>Boeing 737-300</td>\n",
       "      <td>630</td>\n",
       "    </tr>\n",
       "    <tr>\n",
       "      <th>0</th>\n",
       "      <td>Airbus A319-100</td>\n",
       "      <td>607</td>\n",
       "    </tr>\n",
       "    <tr>\n",
       "      <th>3</th>\n",
       "      <td>Boeing 767-300</td>\n",
       "      <td>600</td>\n",
       "    </tr>\n",
       "    <tr>\n",
       "      <th>4</th>\n",
       "      <td>Boeing 777-300</td>\n",
       "      <td>300</td>\n",
       "    </tr>\n",
       "  </tbody>\n",
       "</table>\n",
       "</div>"
      ],
      "text/plain": [
       "                 model  flights_amount\n",
       "6   Cessna 208 Caravan            4557\n",
       "5   Bombardier CRJ-200            4446\n",
       "7  Sukhoi SuperJet-100            4185\n",
       "1      Airbus A321-200             960\n",
       "2       Boeing 737-300             630\n",
       "0      Airbus A319-100             607\n",
       "3       Boeing 767-300             600\n",
       "4       Boeing 777-300             300"
      ]
     },
     "execution_count": 13,
     "metadata": {},
     "output_type": "execute_result"
    }
   ],
   "source": [
    "df1=df1.sort_values(by='flights_amount',ascending=False).head(10)\n",
    "df1"
   ]
  },
  {
   "cell_type": "code",
   "execution_count": 14,
   "metadata": {},
   "outputs": [
    {
     "data": {
      "text/plain": [
       "Text(0, 0.5, 'Количество рейсов')"
      ]
     },
     "execution_count": 14,
     "metadata": {},
     "output_type": "execute_result"
    },
    {
     "data": {
      "image/png": "[encoded data removed]",
      "text/plain": [
       "<Figure size 864x432 with 1 Axes>"
      ]
     },
     "metadata": {
      "needs_background": "light"
     },
     "output_type": "display_data"
    }
   ],
   "source": [
    "plt.figure(figsize=(12,6))\n",
    "sns.barplot(data=df1, x='model', y='flights_amount')\n",
    "plt.xticks(rotation=45)\n",
    "plt.title(\"График количества рейсов каждой модели самолета за Сентябрь 2018г.\")\n",
    "plt.xlabel(\"Модель самолета\")\n",
    "plt.ylabel(\"Количество рейсов\")"
   ]
  },
  {
   "cell_type": "markdown",
   "metadata": {},
   "source": [
    "Самое большое количество рейсов у самолетов:\n",
    "\n",
    "    * Cessna 208 Caravan - 4557\n",
    "    * Bombardier CRJ-200 - 4446\n",
    "    * Sukhoi SuperJet-100 - 4185\n",
    "    \n",
    "Лидером является **Cessna 208 Caravan**, потому что данный самолет предназначен для полетов на небольшие расстояния, вместительность самолета 9 человек. \n",
    "Затем идет **Bombardier CRJ-200** предназначен для полетов на средние расстояния, вместимость 50-52 человека. \n",
    "На третьем месте **Sukhoi SuperJet-100**, предназначен для полетов с дальностью выше средней и вместимостью 98 человек. \n",
    "\n",
    "Так как эти самолеты маленькие, и вмещают в себя относительно немного людей они совершают самое большое количество рейсов. \n",
    "\n",
    "Остальные же модели самолетов предназначены для полетов на большие расстояния, и вмещают в себя более 100 человек. Поэтому они соврешают намного меньше перелетов."
   ]
  },
  {
   "cell_type": "markdown",
   "metadata": {},
   "source": [
    "## Общий вывод"
   ]
  },
  {
   "cell_type": "markdown",
   "metadata": {},
   "source": [
    "Изучив все данные и построив графики выяснили, что больше всего рейсов в крупных городах. Лидерами являются **Москва и Санк-Петербург.**\n",
    "\n",
    "| Города     | Среднее количество рейсов |\n",
    "| ------------- |:--------------------:| \n",
    "|Москва\t|129.774194|\n",
    "|Санкт-Петербург|\t31.161290|\n",
    "|Новосибирск\t|17.322581|\n",
    "|Красноярск|\t11.580645|\n",
    "|Екатеринбург|\t11.322581|\n",
    "|Ростов-на-Дону\t|10.193548|\n",
    "|Пермь\t|10.129032|\n",
    "|Брянск\t|10.000000|\n",
    "|Сочи\t|9.612903|\n",
    "|Ульяновск|\t9.580645|\n",
    "\n",
    "Также посмотрели количество рейсов для каждой модели самолета. Чаще всего используются самолеты **Cessna 208 Caravan, Bombardier CRJ-200, Sukhoi SuperJet-100.**\n",
    "\n",
    "| Модель   | Количество рейсов |\n",
    "| ------------- |:--------------------:| \n",
    "|Cessna 208 Caravan\t|4557|\n",
    "|Bombardier CRJ-200\t|4446|\n",
    "|Sukhoi SuperJet-100\t|4185|\n",
    "|Airbus A321-200\t|960|\n",
    "|Boeing 737-300\t|630|\n",
    "|Airbus A319-100\t|607|\n",
    "|Boeing 767-300|\t600||\n",
    "|Boeing 777-300\t|300|"
   ]
  }
 ],
 "metadata": {
  "ExecuteTimeLog": [
   {
    "duration": 4,
    "start_time": "2021-09-05T09:39:57.158Z"
   },
   {
    "duration": 2001,
    "start_time": "2021-09-05T09:39:57.676Z"
   },
   {
    "duration": 192,
    "start_time": "2021-09-05T09:39:59.680Z"
   },
   {
    "duration": -56,
    "start_time": "2021-09-05T09:39:59.930Z"
   },
   {
    "duration": -62,
    "start_time": "2021-09-05T09:39:59.938Z"
   },
   {
    "duration": 6,
    "start_time": "2021-09-05T09:40:05.885Z"
   },
   {
    "duration": 500,
    "start_time": "2021-09-05T09:40:06.379Z"
   },
   {
    "duration": 419,
    "start_time": "2021-09-05T09:40:07.211Z"
   },
   {
    "duration": 428,
    "start_time": "2021-09-05T09:40:07.830Z"
   },
   {
    "duration": 116,
    "start_time": "2021-09-05T09:40:40.544Z"
   },
   {
    "duration": 2,
    "start_time": "2021-09-05T09:43:42.104Z"
   },
   {
    "duration": 4,
    "start_time": "2021-09-05T09:43:42.528Z"
   },
   {
    "duration": 33,
    "start_time": "2021-09-05T09:43:42.971Z"
   },
   {
    "duration": 17,
    "start_time": "2021-09-05T09:43:43.575Z"
   },
   {
    "duration": 8,
    "start_time": "2021-09-05T09:43:44.247Z"
   },
   {
    "duration": 7,
    "start_time": "2021-09-05T09:44:15.191Z"
   },
   {
    "duration": 7,
    "start_time": "2021-09-05T09:44:20.241Z"
   },
   {
    "duration": 13,
    "start_time": "2021-09-05T09:44:52.939Z"
   },
   {
    "duration": 13,
    "start_time": "2021-09-05T09:45:03.783Z"
   },
   {
    "duration": 14,
    "start_time": "2021-09-05T09:45:04.335Z"
   },
   {
    "duration": 385,
    "start_time": "2021-09-05T09:47:32.356Z"
   },
   {
    "duration": -94,
    "start_time": "2021-09-05T09:47:59.011Z"
   },
   {
    "duration": 9,
    "start_time": "2021-09-05T09:48:04.584Z"
   },
   {
    "duration": 6,
    "start_time": "2021-09-05T09:48:13.235Z"
   },
   {
    "duration": 7,
    "start_time": "2021-09-05T09:48:18.902Z"
   },
   {
    "duration": 7,
    "start_time": "2021-09-05T09:48:22.229Z"
   },
   {
    "duration": 6,
    "start_time": "2021-09-05T09:49:05.901Z"
   },
   {
    "duration": 6,
    "start_time": "2021-09-05T09:49:13.157Z"
   },
   {
    "duration": 7,
    "start_time": "2021-09-05T10:08:16.460Z"
   },
   {
    "duration": 118,
    "start_time": "2021-09-05T10:13:57.752Z"
   },
   {
    "duration": 12,
    "start_time": "2021-09-05T10:14:01.250Z"
   },
   {
    "duration": 9,
    "start_time": "2021-09-05T10:15:56.167Z"
   },
   {
    "duration": 230,
    "start_time": "2021-09-05T10:27:18.172Z"
   },
   {
    "duration": 277,
    "start_time": "2021-09-05T10:29:23.401Z"
   },
   {
    "duration": 320,
    "start_time": "2021-09-05T10:31:30.760Z"
   },
   {
    "duration": 328,
    "start_time": "2021-09-05T10:31:39.000Z"
   },
   {
    "duration": 306,
    "start_time": "2021-09-05T10:31:45.669Z"
   },
   {
    "duration": 1120,
    "start_time": "2021-09-05T10:37:13.805Z"
   },
   {
    "duration": 391,
    "start_time": "2021-09-05T10:37:35.249Z"
   },
   {
    "duration": 4,
    "start_time": "2021-09-05T10:37:55.659Z"
   },
   {
    "duration": 351,
    "start_time": "2021-09-05T10:37:58.688Z"
   },
   {
    "duration": 810,
    "start_time": "2021-09-05T10:38:15.808Z"
   },
   {
    "duration": 293,
    "start_time": "2021-09-05T10:38:24.562Z"
   },
   {
    "duration": 418,
    "start_time": "2021-09-05T10:41:29.498Z"
   },
   {
    "duration": 428,
    "start_time": "2021-09-05T10:41:34.931Z"
   },
   {
    "duration": 325,
    "start_time": "2021-09-05T10:42:36.082Z"
   },
   {
    "duration": 717,
    "start_time": "2021-09-05T10:42:43.017Z"
   },
   {
    "duration": 344,
    "start_time": "2021-09-05T10:43:30.615Z"
   },
   {
    "duration": 328,
    "start_time": "2021-09-05T10:44:01.007Z"
   },
   {
    "duration": 697,
    "start_time": "2021-09-05T10:44:09.924Z"
   },
   {
    "duration": 424,
    "start_time": "2021-09-05T10:44:15.573Z"
   },
   {
    "duration": 322,
    "start_time": "2021-09-05T10:44:35.055Z"
   },
   {
    "duration": 357,
    "start_time": "2021-09-05T10:48:31.187Z"
   },
   {
    "duration": 452,
    "start_time": "2021-09-05T10:48:46.832Z"
   },
   {
    "duration": 350,
    "start_time": "2021-09-05T10:48:49.937Z"
   },
   {
    "duration": 367,
    "start_time": "2021-09-05T10:49:04.353Z"
   },
   {
    "duration": 381,
    "start_time": "2021-09-05T10:51:23.566Z"
   },
   {
    "duration": 2172,
    "start_time": "2021-09-05T10:51:28.556Z"
   },
   {
    "duration": 2276,
    "start_time": "2021-09-05T10:52:01.909Z"
   },
   {
    "duration": 2404,
    "start_time": "2021-09-05T10:52:12.084Z"
   },
   {
    "duration": 2383,
    "start_time": "2021-09-05T10:53:19.073Z"
   },
   {
    "duration": 12,
    "start_time": "2021-09-05T10:53:54.522Z"
   },
   {
    "duration": 1201,
    "start_time": "2021-09-05T10:55:17.476Z"
   },
   {
    "duration": 10,
    "start_time": "2021-09-05T10:56:04.357Z"
   },
   {
    "duration": 898,
    "start_time": "2021-09-05T10:56:30.456Z"
   },
   {
    "duration": 11,
    "start_time": "2021-09-05T10:56:49.959Z"
   },
   {
    "duration": 11,
    "start_time": "2021-09-05T10:57:05.093Z"
   },
   {
    "duration": 14,
    "start_time": "2021-09-05T10:57:16.981Z"
   },
   {
    "duration": 15,
    "start_time": "2021-09-05T10:57:26.759Z"
   },
   {
    "duration": 4,
    "start_time": "2021-09-05T10:57:49.913Z"
   },
   {
    "duration": 1641,
    "start_time": "2021-09-05T10:57:49.919Z"
   },
   {
    "duration": 37,
    "start_time": "2021-09-05T10:57:51.563Z"
   },
   {
    "duration": 17,
    "start_time": "2021-09-05T10:57:51.603Z"
   },
   {
    "duration": 12,
    "start_time": "2021-09-05T10:57:51.622Z"
   },
   {
    "duration": 13,
    "start_time": "2021-09-05T10:57:51.637Z"
   },
   {
    "duration": 25,
    "start_time": "2021-09-05T10:57:51.652Z"
   },
   {
    "duration": 346,
    "start_time": "2021-09-05T10:57:51.679Z"
   },
   {
    "duration": 2235,
    "start_time": "2021-09-05T10:57:52.029Z"
   },
   {
    "duration": 13,
    "start_time": "2021-09-05T10:58:46.883Z"
   },
   {
    "duration": 2834,
    "start_time": "2021-09-05T10:58:54.110Z"
   },
   {
    "duration": 13,
    "start_time": "2021-09-05T10:58:59.402Z"
   },
   {
    "duration": 13,
    "start_time": "2021-09-05T10:59:02.010Z"
   },
   {
    "duration": 4,
    "start_time": "2021-09-05T10:59:12.007Z"
   },
   {
    "duration": 2076,
    "start_time": "2021-09-05T10:59:12.014Z"
   },
   {
    "duration": 35,
    "start_time": "2021-09-05T10:59:14.093Z"
   },
   {
    "duration": 20,
    "start_time": "2021-09-05T10:59:14.131Z"
   },
   {
    "duration": 17,
    "start_time": "2021-09-05T10:59:14.153Z"
   },
   {
    "duration": 12,
    "start_time": "2021-09-05T10:59:14.171Z"
   },
   {
    "duration": 7,
    "start_time": "2021-09-05T10:59:14.185Z"
   },
   {
    "duration": 322,
    "start_time": "2021-09-05T10:59:14.194Z"
   },
   {
    "duration": 2115,
    "start_time": "2021-09-05T10:59:14.518Z"
   },
   {
    "duration": 119,
    "start_time": "2021-09-05T11:00:11.083Z"
   },
   {
    "duration": 862,
    "start_time": "2021-09-05T11:00:19.898Z"
   },
   {
    "duration": 509,
    "start_time": "2021-09-05T11:00:26.377Z"
   },
   {
    "duration": 385,
    "start_time": "2021-09-05T11:00:56.074Z"
   },
   {
    "duration": 402,
    "start_time": "2021-09-05T11:01:56.477Z"
   },
   {
    "duration": 1804,
    "start_time": "2021-09-05T11:02:39.962Z"
   },
   {
    "duration": 2056,
    "start_time": "2021-09-05T11:03:32.924Z"
   },
   {
    "duration": 518,
    "start_time": "2021-09-05T11:03:38.898Z"
   },
   {
    "duration": 3,
    "start_time": "2021-09-05T11:03:44.286Z"
   },
   {
    "duration": 1874,
    "start_time": "2021-09-05T11:03:44.292Z"
   },
   {
    "duration": 34,
    "start_time": "2021-09-05T11:03:46.168Z"
   },
   {
    "duration": 20,
    "start_time": "2021-09-05T11:03:46.204Z"
   },
   {
    "duration": 12,
    "start_time": "2021-09-05T11:03:46.227Z"
   },
   {
    "duration": 13,
    "start_time": "2021-09-05T11:03:46.241Z"
   },
   {
    "duration": 483,
    "start_time": "2021-09-05T11:03:46.257Z"
   },
   {
    "duration": 512,
    "start_time": "2021-09-05T11:03:46.743Z"
   },
   {
    "duration": 34,
    "start_time": "2021-09-05T11:03:47.223Z"
   },
   {
    "duration": 20,
    "start_time": "2021-09-05T11:03:47.238Z"
   },
   {
    "duration": 17,
    "start_time": "2021-09-05T11:03:47.243Z"
   },
   {
    "duration": 2414,
    "start_time": "2021-09-05T11:04:01.652Z"
   },
   {
    "duration": 5,
    "start_time": "2021-09-05T11:04:13.602Z"
   },
   {
    "duration": 414,
    "start_time": "2021-09-05T11:04:14.036Z"
   },
   {
    "duration": 4373,
    "start_time": "2021-09-05T11:04:14.480Z"
   },
   {
    "duration": 4,
    "start_time": "2021-09-05T11:05:57.137Z"
   },
   {
    "duration": 1704,
    "start_time": "2021-09-05T11:05:57.143Z"
   },
   {
    "duration": 33,
    "start_time": "2021-09-05T11:05:58.849Z"
   },
   {
    "duration": 17,
    "start_time": "2021-09-05T11:05:58.884Z"
   },
   {
    "duration": 11,
    "start_time": "2021-09-05T11:05:58.903Z"
   },
   {
    "duration": 11,
    "start_time": "2021-09-05T11:05:58.916Z"
   },
   {
    "duration": 405,
    "start_time": "2021-09-05T11:05:58.930Z"
   },
   {
    "duration": 1972,
    "start_time": "2021-09-05T11:05:59.337Z"
   },
   {
    "duration": 4,
    "start_time": "2021-09-05T11:06:01.311Z"
   },
   {
    "duration": 324,
    "start_time": "2021-09-05T11:06:01.318Z"
   },
   {
    "duration": 412,
    "start_time": "2021-09-05T11:06:12.743Z"
   },
   {
    "duration": 7,
    "start_time": "2021-09-05T11:19:06.601Z"
   },
   {
    "duration": 7,
    "start_time": "2021-09-05T11:19:16.798Z"
   },
   {
    "duration": 6,
    "start_time": "2021-09-05T11:19:49.045Z"
   },
   {
    "duration": 6,
    "start_time": "2021-09-05T11:19:56.184Z"
   },
   {
    "duration": 4,
    "start_time": "2021-09-05T11:35:41.734Z"
   },
   {
    "duration": 10,
    "start_time": "2021-09-05T11:35:43.388Z"
   },
   {
    "duration": 4,
    "start_time": "2021-09-05T11:35:51.565Z"
   },
   {
    "duration": 1842,
    "start_time": "2021-09-05T11:35:51.570Z"
   },
   {
    "duration": 34,
    "start_time": "2021-09-05T11:35:53.415Z"
   },
   {
    "duration": 18,
    "start_time": "2021-09-05T11:35:53.452Z"
   },
   {
    "duration": 20,
    "start_time": "2021-09-05T11:35:53.472Z"
   },
   {
    "duration": 7,
    "start_time": "2021-09-05T11:35:53.494Z"
   },
   {
    "duration": 10,
    "start_time": "2021-09-05T11:35:53.504Z"
   },
   {
    "duration": 15,
    "start_time": "2021-09-05T11:35:53.516Z"
   },
   {
    "duration": 12,
    "start_time": "2021-09-05T11:35:53.533Z"
   },
   {
    "duration": 5,
    "start_time": "2021-09-05T11:35:53.547Z"
   },
   {
    "duration": 14,
    "start_time": "2021-09-05T11:35:53.576Z"
   },
   {
    "duration": 416,
    "start_time": "2021-09-05T11:35:53.592Z"
   },
   {
    "duration": 2093,
    "start_time": "2021-09-05T11:35:54.010Z"
   },
   {
    "duration": 348,
    "start_time": "2021-09-05T11:35:56.106Z"
   },
   {
    "duration": 4,
    "start_time": "2021-09-05T11:37:12.833Z"
   },
   {
    "duration": 1675,
    "start_time": "2021-09-05T11:37:12.839Z"
   },
   {
    "duration": 33,
    "start_time": "2021-09-05T11:37:14.516Z"
   },
   {
    "duration": 24,
    "start_time": "2021-09-05T11:37:14.551Z"
   },
   {
    "duration": 17,
    "start_time": "2021-09-05T11:37:14.579Z"
   },
   {
    "duration": 7,
    "start_time": "2021-09-05T11:37:14.598Z"
   },
   {
    "duration": 16,
    "start_time": "2021-09-05T11:37:14.606Z"
   },
   {
    "duration": 26,
    "start_time": "2021-09-05T11:37:14.624Z"
   },
   {
    "duration": 18,
    "start_time": "2021-09-05T11:37:14.652Z"
   },
   {
    "duration": 15,
    "start_time": "2021-09-05T11:37:14.672Z"
   },
   {
    "duration": 24,
    "start_time": "2021-09-05T11:37:14.690Z"
   },
   {
    "duration": 426,
    "start_time": "2021-09-05T11:37:14.716Z"
   },
   {
    "duration": 2123,
    "start_time": "2021-09-05T11:37:15.145Z"
   },
   {
    "duration": 366,
    "start_time": "2021-09-05T11:37:17.271Z"
   },
   {
    "duration": 11,
    "start_time": "2021-09-05T11:42:12.734Z"
   },
   {
    "duration": 11,
    "start_time": "2021-09-05T11:42:25.337Z"
   },
   {
    "duration": 20,
    "start_time": "2021-09-05T11:42:29.918Z"
   },
   {
    "duration": 19,
    "start_time": "2021-09-05T11:42:33.373Z"
   },
   {
    "duration": 1082,
    "start_time": "2021-09-05T11:49:31.338Z"
   },
   {
    "duration": 9,
    "start_time": "2021-09-05T11:52:16.113Z"
   },
   {
    "duration": 8,
    "start_time": "2021-09-05T11:52:19.893Z"
   },
   {
    "duration": 596,
    "start_time": "2021-09-05T11:52:30.016Z"
   },
   {
    "duration": 412,
    "start_time": "2021-09-05T11:55:55.045Z"
   },
   {
    "duration": 4,
    "start_time": "2021-09-05T11:56:41.670Z"
   },
   {
    "duration": 1641,
    "start_time": "2021-09-05T11:56:41.676Z"
   },
   {
    "duration": 33,
    "start_time": "2021-09-05T11:56:43.319Z"
   },
   {
    "duration": 15,
    "start_time": "2021-09-05T11:56:43.354Z"
   },
   {
    "duration": 12,
    "start_time": "2021-09-05T11:56:43.371Z"
   },
   {
    "duration": 8,
    "start_time": "2021-09-05T11:56:43.385Z"
   },
   {
    "duration": 11,
    "start_time": "2021-09-05T11:56:43.395Z"
   },
   {
    "duration": 10,
    "start_time": "2021-09-05T11:56:43.408Z"
   },
   {
    "duration": 8,
    "start_time": "2021-09-05T11:56:43.420Z"
   },
   {
    "duration": 5,
    "start_time": "2021-09-05T11:56:43.430Z"
   },
   {
    "duration": 41,
    "start_time": "2021-09-05T11:56:43.437Z"
   },
   {
    "duration": 497,
    "start_time": "2021-09-05T11:56:43.480Z"
   },
   {
    "duration": 482,
    "start_time": "2021-09-05T11:56:43.979Z"
   },
   {
    "duration": 71,
    "start_time": "2021-09-05T11:56:44.392Z"
   },
   {
    "duration": 67,
    "start_time": "2021-09-05T11:56:44.397Z"
   },
   {
    "duration": 135,
    "start_time": "2021-09-05T11:58:19.412Z"
   },
   {
    "duration": 24,
    "start_time": "2021-09-05T11:58:23.337Z"
   },
   {
    "duration": 364,
    "start_time": "2021-09-05T11:58:37.698Z"
   },
   {
    "duration": 372,
    "start_time": "2021-09-05T11:58:46.388Z"
   },
   {
    "duration": 815,
    "start_time": "2021-09-05T11:58:58.446Z"
   },
   {
    "duration": 380,
    "start_time": "2021-09-05T11:59:16.604Z"
   },
   {
    "duration": 363,
    "start_time": "2021-09-05T12:00:05.542Z"
   },
   {
    "duration": 358,
    "start_time": "2021-09-05T12:30:31.905Z"
   },
   {
    "duration": 408,
    "start_time": "2021-09-05T12:30:36.211Z"
   },
   {
    "duration": 4,
    "start_time": "2021-09-05T12:30:42.128Z"
   },
   {
    "duration": 1584,
    "start_time": "2021-09-05T12:30:42.134Z"
   },
   {
    "duration": 33,
    "start_time": "2021-09-05T12:30:43.721Z"
   },
   {
    "duration": 43,
    "start_time": "2021-09-05T12:30:43.756Z"
   },
   {
    "duration": 11,
    "start_time": "2021-09-05T12:30:43.801Z"
   },
   {
    "duration": 10,
    "start_time": "2021-09-05T12:30:43.813Z"
   },
   {
    "duration": 6,
    "start_time": "2021-09-05T12:30:43.826Z"
   },
   {
    "duration": 10,
    "start_time": "2021-09-05T12:30:43.834Z"
   },
   {
    "duration": 12,
    "start_time": "2021-09-05T12:30:43.846Z"
   },
   {
    "duration": 3,
    "start_time": "2021-09-05T12:30:43.877Z"
   },
   {
    "duration": 14,
    "start_time": "2021-09-05T12:30:43.882Z"
   },
   {
    "duration": 409,
    "start_time": "2021-09-05T12:30:43.898Z"
   },
   {
    "duration": 543,
    "start_time": "2021-09-05T12:30:44.310Z"
   },
   {
    "duration": 132,
    "start_time": "2021-09-05T12:30:44.723Z"
   },
   {
    "duration": 125,
    "start_time": "2021-09-05T12:30:44.731Z"
   },
   {
    "duration": 379,
    "start_time": "2021-09-05T12:31:18.330Z"
   },
   {
    "duration": 612,
    "start_time": "2021-09-05T12:31:46.941Z"
   },
   {
    "duration": 3,
    "start_time": "2021-09-05T12:32:23.921Z"
   },
   {
    "duration": 1643,
    "start_time": "2021-09-05T12:32:23.931Z"
   },
   {
    "duration": 34,
    "start_time": "2021-09-05T12:32:25.577Z"
   },
   {
    "duration": 17,
    "start_time": "2021-09-05T12:32:25.613Z"
   },
   {
    "duration": 12,
    "start_time": "2021-09-05T12:32:25.632Z"
   },
   {
    "duration": 7,
    "start_time": "2021-09-05T12:32:25.646Z"
   },
   {
    "duration": 7,
    "start_time": "2021-09-05T12:32:25.655Z"
   },
   {
    "duration": 17,
    "start_time": "2021-09-05T12:32:25.664Z"
   },
   {
    "duration": 11,
    "start_time": "2021-09-05T12:32:25.683Z"
   },
   {
    "duration": 2,
    "start_time": "2021-09-05T12:32:25.697Z"
   },
   {
    "duration": 12,
    "start_time": "2021-09-05T12:32:25.701Z"
   },
   {
    "duration": 348,
    "start_time": "2021-09-05T12:32:25.715Z"
   },
   {
    "duration": 603,
    "start_time": "2021-09-05T12:32:26.065Z"
   },
   {
    "duration": 2338,
    "start_time": "2021-09-05T12:32:26.670Z"
   },
   {
    "duration": 307,
    "start_time": "2021-09-05T12:32:29.010Z"
   },
   {
    "duration": 9,
    "start_time": "2021-09-05T12:34:51.397Z"
   },
   {
    "duration": 961,
    "start_time": "2021-09-05T12:35:07.731Z"
   },
   {
    "duration": 9,
    "start_time": "2021-09-05T12:35:27.587Z"
   },
   {
    "duration": 362,
    "start_time": "2021-09-05T12:40:40.435Z"
   },
   {
    "duration": 365,
    "start_time": "2021-09-05T12:40:46.080Z"
   },
   {
    "duration": 433,
    "start_time": "2021-09-05T12:40:50.676Z"
   },
   {
    "duration": 395,
    "start_time": "2021-09-05T12:40:56.949Z"
   },
   {
    "duration": 368,
    "start_time": "2021-09-05T12:41:02.261Z"
   },
   {
    "duration": 296,
    "start_time": "2021-09-05T12:41:05.203Z"
   },
   {
    "duration": 12,
    "start_time": "2021-09-05T12:49:44.376Z"
   },
   {
    "duration": 278,
    "start_time": "2021-09-05T12:49:49.526Z"
   },
   {
    "duration": 3,
    "start_time": "2021-09-05T13:11:49.547Z"
   },
   {
    "duration": 1697,
    "start_time": "2021-09-05T13:11:49.553Z"
   },
   {
    "duration": 37,
    "start_time": "2021-09-05T13:11:51.252Z"
   },
   {
    "duration": 19,
    "start_time": "2021-09-05T13:11:51.292Z"
   },
   {
    "duration": 11,
    "start_time": "2021-09-05T13:11:51.313Z"
   },
   {
    "duration": 8,
    "start_time": "2021-09-05T13:11:51.326Z"
   },
   {
    "duration": 8,
    "start_time": "2021-09-05T13:11:51.335Z"
   },
   {
    "duration": 6,
    "start_time": "2021-09-05T13:11:51.345Z"
   },
   {
    "duration": 32,
    "start_time": "2021-09-05T13:11:51.354Z"
   },
   {
    "duration": 14,
    "start_time": "2021-09-05T13:11:51.389Z"
   },
   {
    "duration": 366,
    "start_time": "2021-09-05T13:11:51.406Z"
   },
   {
    "duration": 2133,
    "start_time": "2021-09-05T13:11:51.774Z"
   },
   {
    "duration": 9,
    "start_time": "2021-09-05T13:11:53.909Z"
   },
   {
    "duration": 324,
    "start_time": "2021-09-05T13:11:53.920Z"
   },
   {
    "duration": 9,
    "start_time": "2021-09-05T13:32:13.936Z"
   },
   {
    "duration": 364,
    "start_time": "2021-09-05T13:32:15.743Z"
   },
   {
    "duration": 9,
    "start_time": "2021-09-05T13:32:29.063Z"
   },
   {
    "duration": 9,
    "start_time": "2021-09-05T13:32:47.039Z"
   },
   {
    "duration": 9,
    "start_time": "2021-09-05T13:32:50.012Z"
   },
   {
    "duration": 9,
    "start_time": "2021-09-05T13:32:57.241Z"
   },
   {
    "duration": 18,
    "start_time": "2021-09-05T13:33:00.119Z"
   },
   {
    "duration": 404,
    "start_time": "2021-09-05T13:33:01.594Z"
   },
   {
    "duration": 3,
    "start_time": "2021-09-05T13:36:59.044Z"
   },
   {
    "duration": 1767,
    "start_time": "2021-09-05T13:36:59.052Z"
   },
   {
    "duration": 76,
    "start_time": "2021-09-05T13:37:00.837Z"
   },
   {
    "duration": 31,
    "start_time": "2021-09-05T13:37:00.916Z"
   },
   {
    "duration": 48,
    "start_time": "2021-09-05T13:37:00.951Z"
   },
   {
    "duration": 16,
    "start_time": "2021-09-05T13:37:01.003Z"
   },
   {
    "duration": 33,
    "start_time": "2021-09-05T13:37:01.022Z"
   },
   {
    "duration": 25,
    "start_time": "2021-09-05T13:37:01.058Z"
   },
   {
    "duration": 28,
    "start_time": "2021-09-05T13:37:01.087Z"
   },
   {
    "duration": 28,
    "start_time": "2021-09-05T13:37:01.119Z"
   },
   {
    "duration": 355,
    "start_time": "2021-09-05T13:37:01.154Z"
   },
   {
    "duration": 2075,
    "start_time": "2021-09-05T13:37:01.511Z"
   },
   {
    "duration": 9,
    "start_time": "2021-09-05T13:37:03.588Z"
   },
   {
    "duration": 286,
    "start_time": "2021-09-05T13:37:03.599Z"
   },
   {
    "duration": 86,
    "start_time": "2021-09-05T15:14:02.662Z"
   },
   {
    "duration": 128,
    "start_time": "2021-09-05T15:15:06.586Z"
   }
  ],
  "kernelspec": {
   "display_name": "Python 3",
   "language": "python",
   "name": "python3"
  },
  "language_info": {
   "codemirror_mode": {
    "name": "ipython",
    "version": 3
   },
   "file_extension": ".py",
   "mimetype": "text/x-python",
   "name": "python",
   "nbconvert_exporter": "python",
   "pygments_lexer": "ipython3",
   "version": "3.8.8"
  },
  "toc": {
   "base_numbering": 1,
   "nav_menu": {},
   "number_sections": true,
   "sideBar": true,
   "skip_h1_title": true,
   "title_cell": "Содержание",
   "title_sidebar": "Contents",
   "toc_cell": true,
   "toc_position": {
    "height": "calc(100% - 180px)",
    "left": "10px",
    "top": "150px",
    "width": "165px"
   },
   "toc_section_display": true,
   "toc_window_display": true
  }
 },
 "nbformat": 4,
 "nbformat_minor": 2
}
