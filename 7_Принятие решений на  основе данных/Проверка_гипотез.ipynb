{
 "cells": [
  {
   "cell_type": "markdown",
   "metadata": {
    "toc": true
   },
   "source": [
    "<h1>Содержание<span class=\"tocSkip\"></span></h1>\n",
    "<div class=\"toc\"><ul class=\"toc-item\"><li><span><a href=\"#Изучение-общей-информации-и-предобработка-данных.\" data-toc-modified-id=\"Изучение-общей-информации-и-предобработка-данных.-1\"><span class=\"toc-item-num\">1&nbsp;&nbsp;</span>Изучение общей информации и предобработка данных.</a></span></li><li><span><a href=\"#Приоритизация-гипотез\" data-toc-modified-id=\"Приоритизация-гипотез-2\"><span class=\"toc-item-num\">2&nbsp;&nbsp;</span>Приоритизация гипотез</a></span></li><li><span><a href=\"#Анализ-A/B-теста\" data-toc-modified-id=\"Анализ-A/B-теста-3\"><span class=\"toc-item-num\">3&nbsp;&nbsp;</span>Анализ A/B теста</a></span><ul class=\"toc-item\"><li><span><a href=\"#График-кумулятивной-выручки-по-группам.\" data-toc-modified-id=\"График-кумулятивной-выручки-по-группам.-3.1\"><span class=\"toc-item-num\">3.1&nbsp;&nbsp;</span>График кумулятивной выручки по группам.</a></span></li><li><span><a href=\"#График-кумулятивного-среднего-чека-по-группам\" data-toc-modified-id=\"График-кумулятивного-среднего-чека-по-группам-3.2\"><span class=\"toc-item-num\">3.2&nbsp;&nbsp;</span>График кумулятивного среднего чека по группам</a></span></li><li><span><a href=\"#График-относительного-изменения-кумулятивного-среднего-чека-группы-B-к-группе-A.\" data-toc-modified-id=\"График-относительного-изменения-кумулятивного-среднего-чека-группы-B-к-группе-A.-3.3\"><span class=\"toc-item-num\">3.3&nbsp;&nbsp;</span>График относительного изменения кумулятивного среднего чека группы B к группе A.</a></span></li><li><span><a href=\"#График-кумулятивной-конверсии-по-группам.\" data-toc-modified-id=\"График-кумулятивной-конверсии-по-группам.-3.4\"><span class=\"toc-item-num\">3.4&nbsp;&nbsp;</span>График кумулятивной конверсии по группам.</a></span></li><li><span><a href=\"#График-относительного-изменения-кумулятивной-конверсии-группы-B-к-группе-A.\" data-toc-modified-id=\"График-относительного-изменения-кумулятивной-конверсии-группы-B-к-группе-A.-3.5\"><span class=\"toc-item-num\">3.5&nbsp;&nbsp;</span>График относительного изменения кумулятивной конверсии группы B к группе A.</a></span></li><li><span><a href=\"#Точечный-график-количества-заказов-по-пользователям.\" data-toc-modified-id=\"Точечный-график-количества-заказов-по-пользователям.-3.6\"><span class=\"toc-item-num\">3.6&nbsp;&nbsp;</span>Точечный график количества заказов по пользователям.</a></span></li><li><span><a href=\"#95-й-и-99-й-перцентили-количества-заказов-на-пользователя.\" data-toc-modified-id=\"95-й-и-99-й-перцентили-количества-заказов-на-пользователя.-3.7\"><span class=\"toc-item-num\">3.7&nbsp;&nbsp;</span>95-й и 99-й перцентили количества заказов на пользователя.</a></span></li><li><span><a href=\"#Точечный-график-стоимостей-заказов.\" data-toc-modified-id=\"Точечный-график-стоимостей-заказов.-3.8\"><span class=\"toc-item-num\">3.8&nbsp;&nbsp;</span>Точечный график стоимостей заказов.</a></span></li><li><span><a href=\"#95-й-и-99-й-перцентили-стоимости-заказов.\" data-toc-modified-id=\"95-й-и-99-й-перцентили-стоимости-заказов.-3.9\"><span class=\"toc-item-num\">3.9&nbsp;&nbsp;</span>95-й и 99-й перцентили стоимости заказов.</a></span></li><li><span><a href=\"#Статистическая-значимость-различий-в-конверсии-между-группами-по-«сырым»-данным.\" data-toc-modified-id=\"Статистическая-значимость-различий-в-конверсии-между-группами-по-«сырым»-данным.-3.10\"><span class=\"toc-item-num\">3.10&nbsp;&nbsp;</span>Статистическая значимость различий в конверсии между группами по «сырым» данным.</a></span></li><li><span><a href=\"#Статистическая-значимость-различий-в-среднем-чеке-заказа-между-группами-по-«сырым»-данным.\" data-toc-modified-id=\"Статистическая-значимость-различий-в-среднем-чеке-заказа-между-группами-по-«сырым»-данным.-3.11\"><span class=\"toc-item-num\">3.11&nbsp;&nbsp;</span>Статистическая значимость различий в среднем чеке заказа между группами по «сырым» данным.</a></span></li><li><span><a href=\"#Статистическая-значимость-различий-в-конверсии-между-группами-по-«очищенным»-данным.\" data-toc-modified-id=\"Статистическая-значимость-различий-в-конверсии-между-группами-по-«очищенным»-данным.-3.12\"><span class=\"toc-item-num\">3.12&nbsp;&nbsp;</span>Статистическая значимость различий в конверсии между группами по «очищенным» данным.</a></span></li><li><span><a href=\"#Статистическая-значимость-различий-в-среднем-чеке-заказа-между-группами-по-«очищенным»-данным.\" data-toc-modified-id=\"Статистическая-значимость-различий-в-среднем-чеке-заказа-между-группами-по-«очищенным»-данным.-3.13\"><span class=\"toc-item-num\">3.13&nbsp;&nbsp;</span>Статистическая значимость различий в среднем чеке заказа между группами по «очищенным» данным.</a></span></li></ul></li><li><span><a href=\"#Вывод\" data-toc-modified-id=\"Вывод-4\"><span class=\"toc-item-num\">4&nbsp;&nbsp;</span>Вывод</a></span></li></ul></div>"
   ]
  },
  {
   "cell_type": "markdown",
   "metadata": {},
   "source": [
    "# Приоритизация гипотез и анализ A/B теста."
   ]
  },
  {
   "cell_type": "markdown",
   "metadata": {},
   "source": [
    "В данной работе для крупного интернет-магазина необходимо приоритизировать гипотезы для увеличения выручки, которые были подготовлены вместе с отделом маркетинга. А также запустить A/B-тест и проанализировать результаты.\n",
    "\n",
    "**Часть 1. Приоритизация гипотез.**\n",
    "\n",
    "**Файл /datasets/hypothesis.csv.**\n",
    "  \n",
    "* Hypothesis — краткое описание гипотезы;\n",
    "* Reach — охват пользователей по 10-балльной шкале;\n",
    "* Impact — влияние на пользователей по 10-балльной шкале;\n",
    "* Confidence — уверенность в гипотезе по 10-балльной шкале;\n",
    "* Efforts — затраты ресурсов на проверку гипотезы по 10-балльной шкале. Чем больше значение Efforts, тем дороже проверка гипотезы.\n",
    "\n",
    "**Часть 2. Анализ A/B-теста**\n",
    "\n",
    "**Файл /datasets/orders.csv.**\n",
    "    \n",
    "* transactionId — идентификатор заказа;\n",
    "* visitorId — идентификатор пользователя, совершившего заказ;\n",
    "* date — дата, когда был совершён заказ;\n",
    "* revenue — выручка заказа;\n",
    "* group — группа A/B-теста, в которую попал заказ.\n",
    "\n",
    "**Файл /datasets/visitors.csv.**\n",
    "\n",
    "* date — дата;\n",
    "* group — группа A/B-теста;\n",
    "* visitors — количество пользователей в указанную дату в указанной группе A/B-теста."
   ]
  },
  {
   "cell_type": "markdown",
   "metadata": {},
   "source": [
    "## Изучение общей информации и предобработка данных."
   ]
  },
  {
   "cell_type": "code",
   "execution_count": 1,
   "metadata": {},
   "outputs": [],
   "source": [
    "from IPython.core.interactiveshell import InteractiveShell\n",
    "InteractiveShell.ast_node_interactivity = \"all\"\n",
    "\n",
    "import warnings\n",
    "warnings.filterwarnings('ignore')"
   ]
  },
  {
   "cell_type": "code",
   "execution_count": 2,
   "metadata": {},
   "outputs": [],
   "source": [
    "import pandas as pd\n",
    "import datetime as dt\n",
    "import numpy as np\n",
    "import matplotlib.pyplot as plt\n",
    "import scipy.stats as stats\n",
    "\n",
    "pd.options.display.max_columns = None\n",
    "pd.options.display.max_rows = None"
   ]
  },
  {
   "cell_type": "code",
   "execution_count": 3,
   "metadata": {},
   "outputs": [],
   "source": [
    "hypothesis = pd.read_csv('hypothesis.csv')\n",
    "from datetime import datetime\n",
    "custom_date_parser = lambda x: datetime.strptime(x, \"%Y-%m-%d\")\n",
    "orders = pd.read_csv('orders.csv', parse_dates=['date'], date_parser=custom_date_parser)\n",
    "visitors = pd.read_csv('visitors.csv', parse_dates=['date'], date_parser=custom_date_parser)\n",
    "#изменили тип данных date, при загрузке таблиц."
   ]
  },
  {
   "cell_type": "code",
   "execution_count": 4,
   "metadata": {},
   "outputs": [
    {
     "name": "stdout",
     "output_type": "stream",
     "text": [
      "<class 'pandas.core.frame.DataFrame'>\n",
      "RangeIndex: 9 entries, 0 to 8\n",
      "Data columns (total 5 columns):\n",
      " #   Column      Non-Null Count  Dtype \n",
      "---  ------      --------------  ----- \n",
      " 0   Hypothesis  9 non-null      object\n",
      " 1   Reach       9 non-null      int64 \n",
      " 2   Impact      9 non-null      int64 \n",
      " 3   Confidence  9 non-null      int64 \n",
      " 4   Efforts     9 non-null      int64 \n",
      "dtypes: int64(4), object(1)\n",
      "memory usage: 488.0+ bytes\n"
     ]
    },
    {
     "data": {
      "text/html": [
       "<div>\n",
       "<style scoped>\n",
       "    .dataframe tbody tr th:only-of-type {\n",
       "        vertical-align: middle;\n",
       "    }\n",
       "\n",
       "    .dataframe tbody tr th {\n",
       "        vertical-align: top;\n",
       "    }\n",
       "\n",
       "    .dataframe thead th {\n",
       "        text-align: right;\n",
       "    }\n",
       "</style>\n",
       "<table border=\"1\" class=\"dataframe\">\n",
       "  <thead>\n",
       "    <tr style=\"text-align: right;\">\n",
       "      <th></th>\n",
       "      <th>Hypothesis</th>\n",
       "      <th>Reach</th>\n",
       "      <th>Impact</th>\n",
       "      <th>Confidence</th>\n",
       "      <th>Efforts</th>\n",
       "    </tr>\n",
       "  </thead>\n",
       "  <tbody>\n",
       "    <tr>\n",
       "      <th>0</th>\n",
       "      <td>Добавить два новых канала привлечения трафика,...</td>\n",
       "      <td>3</td>\n",
       "      <td>10</td>\n",
       "      <td>8</td>\n",
       "      <td>6</td>\n",
       "    </tr>\n",
       "    <tr>\n",
       "      <th>1</th>\n",
       "      <td>Запустить собственную службу доставки, что сок...</td>\n",
       "      <td>2</td>\n",
       "      <td>5</td>\n",
       "      <td>4</td>\n",
       "      <td>10</td>\n",
       "    </tr>\n",
       "    <tr>\n",
       "      <th>2</th>\n",
       "      <td>Добавить блоки рекомендаций товаров на сайт ин...</td>\n",
       "      <td>8</td>\n",
       "      <td>3</td>\n",
       "      <td>7</td>\n",
       "      <td>3</td>\n",
       "    </tr>\n",
       "    <tr>\n",
       "      <th>3</th>\n",
       "      <td>Изменить структура категорий, что увеличит кон...</td>\n",
       "      <td>8</td>\n",
       "      <td>3</td>\n",
       "      <td>3</td>\n",
       "      <td>8</td>\n",
       "    </tr>\n",
       "    <tr>\n",
       "      <th>4</th>\n",
       "      <td>Изменить цвет фона главной страницы, чтобы уве...</td>\n",
       "      <td>3</td>\n",
       "      <td>1</td>\n",
       "      <td>1</td>\n",
       "      <td>1</td>\n",
       "    </tr>\n",
       "    <tr>\n",
       "      <th>5</th>\n",
       "      <td>Добавить страницу отзывов клиентов о магазине,...</td>\n",
       "      <td>3</td>\n",
       "      <td>2</td>\n",
       "      <td>2</td>\n",
       "      <td>3</td>\n",
       "    </tr>\n",
       "    <tr>\n",
       "      <th>6</th>\n",
       "      <td>Показать на главной странице баннеры с актуаль...</td>\n",
       "      <td>5</td>\n",
       "      <td>3</td>\n",
       "      <td>8</td>\n",
       "      <td>3</td>\n",
       "    </tr>\n",
       "    <tr>\n",
       "      <th>7</th>\n",
       "      <td>Добавить форму подписки на все основные страни...</td>\n",
       "      <td>10</td>\n",
       "      <td>7</td>\n",
       "      <td>8</td>\n",
       "      <td>5</td>\n",
       "    </tr>\n",
       "    <tr>\n",
       "      <th>8</th>\n",
       "      <td>Запустить акцию, дающую скидку на товар в день...</td>\n",
       "      <td>1</td>\n",
       "      <td>9</td>\n",
       "      <td>9</td>\n",
       "      <td>5</td>\n",
       "    </tr>\n",
       "  </tbody>\n",
       "</table>\n",
       "</div>"
      ],
      "text/plain": [
       "                                          Hypothesis  Reach  Impact  \\\n",
       "0  Добавить два новых канала привлечения трафика,...      3      10   \n",
       "1  Запустить собственную службу доставки, что сок...      2       5   \n",
       "2  Добавить блоки рекомендаций товаров на сайт ин...      8       3   \n",
       "3  Изменить структура категорий, что увеличит кон...      8       3   \n",
       "4  Изменить цвет фона главной страницы, чтобы уве...      3       1   \n",
       "5  Добавить страницу отзывов клиентов о магазине,...      3       2   \n",
       "6  Показать на главной странице баннеры с актуаль...      5       3   \n",
       "7  Добавить форму подписки на все основные страни...     10       7   \n",
       "8  Запустить акцию, дающую скидку на товар в день...      1       9   \n",
       "\n",
       "   Confidence  Efforts  \n",
       "0           8        6  \n",
       "1           4       10  \n",
       "2           7        3  \n",
       "3           3        8  \n",
       "4           1        1  \n",
       "5           2        3  \n",
       "6           8        3  \n",
       "7           8        5  \n",
       "8           9        5  "
      ]
     },
     "execution_count": 4,
     "metadata": {},
     "output_type": "execute_result"
    },
    {
     "data": {
      "text/plain": [
       "Hypothesis    0\n",
       "Reach         0\n",
       "Impact        0\n",
       "Confidence    0\n",
       "Efforts       0\n",
       "dtype: int64"
      ]
     },
     "execution_count": 4,
     "metadata": {},
     "output_type": "execute_result"
    }
   ],
   "source": [
    "hypothesis.info()\n",
    "hypothesis\n",
    "hypothesis.isnull().sum()"
   ]
  },
  {
   "cell_type": "code",
   "execution_count": 5,
   "metadata": {},
   "outputs": [
    {
     "name": "stdout",
     "output_type": "stream",
     "text": [
      "<class 'pandas.core.frame.DataFrame'>\n",
      "RangeIndex: 1197 entries, 0 to 1196\n",
      "Data columns (total 5 columns):\n",
      " #   Column         Non-Null Count  Dtype         \n",
      "---  ------         --------------  -----         \n",
      " 0   transactionId  1197 non-null   int64         \n",
      " 1   visitorId      1197 non-null   int64         \n",
      " 2   date           1197 non-null   datetime64[ns]\n",
      " 3   revenue        1197 non-null   int64         \n",
      " 4   group          1197 non-null   object        \n",
      "dtypes: datetime64[ns](1), int64(3), object(1)\n",
      "memory usage: 46.9+ KB\n"
     ]
    },
    {
     "data": {
      "text/html": [
       "<div>\n",
       "<style scoped>\n",
       "    .dataframe tbody tr th:only-of-type {\n",
       "        vertical-align: middle;\n",
       "    }\n",
       "\n",
       "    .dataframe tbody tr th {\n",
       "        vertical-align: top;\n",
       "    }\n",
       "\n",
       "    .dataframe thead th {\n",
       "        text-align: right;\n",
       "    }\n",
       "</style>\n",
       "<table border=\"1\" class=\"dataframe\">\n",
       "  <thead>\n",
       "    <tr style=\"text-align: right;\">\n",
       "      <th></th>\n",
       "      <th>transactionId</th>\n",
       "      <th>visitorId</th>\n",
       "      <th>date</th>\n",
       "      <th>revenue</th>\n",
       "      <th>group</th>\n",
       "    </tr>\n",
       "  </thead>\n",
       "  <tbody>\n",
       "    <tr>\n",
       "      <th>0</th>\n",
       "      <td>3667963787</td>\n",
       "      <td>3312258926</td>\n",
       "      <td>2019-08-15</td>\n",
       "      <td>1650</td>\n",
       "      <td>B</td>\n",
       "    </tr>\n",
       "    <tr>\n",
       "      <th>1</th>\n",
       "      <td>2804400009</td>\n",
       "      <td>3642806036</td>\n",
       "      <td>2019-08-15</td>\n",
       "      <td>730</td>\n",
       "      <td>B</td>\n",
       "    </tr>\n",
       "    <tr>\n",
       "      <th>2</th>\n",
       "      <td>2961555356</td>\n",
       "      <td>4069496402</td>\n",
       "      <td>2019-08-15</td>\n",
       "      <td>400</td>\n",
       "      <td>A</td>\n",
       "    </tr>\n",
       "    <tr>\n",
       "      <th>3</th>\n",
       "      <td>3797467345</td>\n",
       "      <td>1196621759</td>\n",
       "      <td>2019-08-15</td>\n",
       "      <td>9759</td>\n",
       "      <td>B</td>\n",
       "    </tr>\n",
       "    <tr>\n",
       "      <th>4</th>\n",
       "      <td>2282983706</td>\n",
       "      <td>2322279887</td>\n",
       "      <td>2019-08-15</td>\n",
       "      <td>2308</td>\n",
       "      <td>B</td>\n",
       "    </tr>\n",
       "  </tbody>\n",
       "</table>\n",
       "</div>"
      ],
      "text/plain": [
       "   transactionId   visitorId       date  revenue group\n",
       "0     3667963787  3312258926 2019-08-15     1650     B\n",
       "1     2804400009  3642806036 2019-08-15      730     B\n",
       "2     2961555356  4069496402 2019-08-15      400     A\n",
       "3     3797467345  1196621759 2019-08-15     9759     B\n",
       "4     2282983706  2322279887 2019-08-15     2308     B"
      ]
     },
     "execution_count": 5,
     "metadata": {},
     "output_type": "execute_result"
    },
    {
     "data": {
      "text/plain": [
       "transactionId    0\n",
       "visitorId        0\n",
       "date             0\n",
       "revenue          0\n",
       "group            0\n",
       "dtype: int64"
      ]
     },
     "execution_count": 5,
     "metadata": {},
     "output_type": "execute_result"
    }
   ],
   "source": [
    "orders.info()\n",
    "orders.head()\n",
    "orders.isnull().sum()"
   ]
  },
  {
   "cell_type": "code",
   "execution_count": 6,
   "metadata": {},
   "outputs": [
    {
     "name": "stdout",
     "output_type": "stream",
     "text": [
      "<class 'pandas.core.frame.DataFrame'>\n",
      "RangeIndex: 62 entries, 0 to 61\n",
      "Data columns (total 3 columns):\n",
      " #   Column    Non-Null Count  Dtype         \n",
      "---  ------    --------------  -----         \n",
      " 0   date      62 non-null     datetime64[ns]\n",
      " 1   group     62 non-null     object        \n",
      " 2   visitors  62 non-null     int64         \n",
      "dtypes: datetime64[ns](1), int64(1), object(1)\n",
      "memory usage: 1.6+ KB\n"
     ]
    },
    {
     "data": {
      "text/html": [
       "<div>\n",
       "<style scoped>\n",
       "    .dataframe tbody tr th:only-of-type {\n",
       "        vertical-align: middle;\n",
       "    }\n",
       "\n",
       "    .dataframe tbody tr th {\n",
       "        vertical-align: top;\n",
       "    }\n",
       "\n",
       "    .dataframe thead th {\n",
       "        text-align: right;\n",
       "    }\n",
       "</style>\n",
       "<table border=\"1\" class=\"dataframe\">\n",
       "  <thead>\n",
       "    <tr style=\"text-align: right;\">\n",
       "      <th></th>\n",
       "      <th>date</th>\n",
       "      <th>group</th>\n",
       "      <th>visitors</th>\n",
       "    </tr>\n",
       "  </thead>\n",
       "  <tbody>\n",
       "    <tr>\n",
       "      <th>0</th>\n",
       "      <td>2019-08-01</td>\n",
       "      <td>A</td>\n",
       "      <td>719</td>\n",
       "    </tr>\n",
       "    <tr>\n",
       "      <th>1</th>\n",
       "      <td>2019-08-02</td>\n",
       "      <td>A</td>\n",
       "      <td>619</td>\n",
       "    </tr>\n",
       "    <tr>\n",
       "      <th>2</th>\n",
       "      <td>2019-08-03</td>\n",
       "      <td>A</td>\n",
       "      <td>507</td>\n",
       "    </tr>\n",
       "    <tr>\n",
       "      <th>3</th>\n",
       "      <td>2019-08-04</td>\n",
       "      <td>A</td>\n",
       "      <td>717</td>\n",
       "    </tr>\n",
       "    <tr>\n",
       "      <th>4</th>\n",
       "      <td>2019-08-05</td>\n",
       "      <td>A</td>\n",
       "      <td>756</td>\n",
       "    </tr>\n",
       "  </tbody>\n",
       "</table>\n",
       "</div>"
      ],
      "text/plain": [
       "        date group  visitors\n",
       "0 2019-08-01     A       719\n",
       "1 2019-08-02     A       619\n",
       "2 2019-08-03     A       507\n",
       "3 2019-08-04     A       717\n",
       "4 2019-08-05     A       756"
      ]
     },
     "execution_count": 6,
     "metadata": {},
     "output_type": "execute_result"
    },
    {
     "data": {
      "text/plain": [
       "date        0\n",
       "group       0\n",
       "visitors    0\n",
       "dtype: int64"
      ]
     },
     "execution_count": 6,
     "metadata": {},
     "output_type": "execute_result"
    }
   ],
   "source": [
    "visitors.info()\n",
    "visitors.head()\n",
    "visitors.isnull().sum()"
   ]
  },
  {
   "cell_type": "code",
   "execution_count": 7,
   "metadata": {},
   "outputs": [],
   "source": [
    "hypothesis.columns=hypothesis.columns.str.lower()"
   ]
  },
  {
   "cell_type": "code",
   "execution_count": 8,
   "metadata": {},
   "outputs": [
    {
     "data": {
      "text/html": [
       "<div>\n",
       "<style scoped>\n",
       "    .dataframe tbody tr th:only-of-type {\n",
       "        vertical-align: middle;\n",
       "    }\n",
       "\n",
       "    .dataframe tbody tr th {\n",
       "        vertical-align: top;\n",
       "    }\n",
       "\n",
       "    .dataframe thead th {\n",
       "        text-align: right;\n",
       "    }\n",
       "</style>\n",
       "<table border=\"1\" class=\"dataframe\">\n",
       "  <thead>\n",
       "    <tr style=\"text-align: right;\">\n",
       "      <th></th>\n",
       "      <th>hypothesis</th>\n",
       "      <th>reach</th>\n",
       "      <th>impact</th>\n",
       "      <th>confidence</th>\n",
       "      <th>efforts</th>\n",
       "    </tr>\n",
       "  </thead>\n",
       "  <tbody>\n",
       "    <tr>\n",
       "      <th>0</th>\n",
       "      <td>Добавить два новых канала привлечения трафика,...</td>\n",
       "      <td>3</td>\n",
       "      <td>10</td>\n",
       "      <td>8</td>\n",
       "      <td>6</td>\n",
       "    </tr>\n",
       "    <tr>\n",
       "      <th>1</th>\n",
       "      <td>Запустить собственную службу доставки, что сок...</td>\n",
       "      <td>2</td>\n",
       "      <td>5</td>\n",
       "      <td>4</td>\n",
       "      <td>10</td>\n",
       "    </tr>\n",
       "    <tr>\n",
       "      <th>2</th>\n",
       "      <td>Добавить блоки рекомендаций товаров на сайт ин...</td>\n",
       "      <td>8</td>\n",
       "      <td>3</td>\n",
       "      <td>7</td>\n",
       "      <td>3</td>\n",
       "    </tr>\n",
       "    <tr>\n",
       "      <th>3</th>\n",
       "      <td>Изменить структура категорий, что увеличит кон...</td>\n",
       "      <td>8</td>\n",
       "      <td>3</td>\n",
       "      <td>3</td>\n",
       "      <td>8</td>\n",
       "    </tr>\n",
       "    <tr>\n",
       "      <th>4</th>\n",
       "      <td>Изменить цвет фона главной страницы, чтобы уве...</td>\n",
       "      <td>3</td>\n",
       "      <td>1</td>\n",
       "      <td>1</td>\n",
       "      <td>1</td>\n",
       "    </tr>\n",
       "    <tr>\n",
       "      <th>5</th>\n",
       "      <td>Добавить страницу отзывов клиентов о магазине,...</td>\n",
       "      <td>3</td>\n",
       "      <td>2</td>\n",
       "      <td>2</td>\n",
       "      <td>3</td>\n",
       "    </tr>\n",
       "    <tr>\n",
       "      <th>6</th>\n",
       "      <td>Показать на главной странице баннеры с актуаль...</td>\n",
       "      <td>5</td>\n",
       "      <td>3</td>\n",
       "      <td>8</td>\n",
       "      <td>3</td>\n",
       "    </tr>\n",
       "    <tr>\n",
       "      <th>7</th>\n",
       "      <td>Добавить форму подписки на все основные страни...</td>\n",
       "      <td>10</td>\n",
       "      <td>7</td>\n",
       "      <td>8</td>\n",
       "      <td>5</td>\n",
       "    </tr>\n",
       "    <tr>\n",
       "      <th>8</th>\n",
       "      <td>Запустить акцию, дающую скидку на товар в день...</td>\n",
       "      <td>1</td>\n",
       "      <td>9</td>\n",
       "      <td>9</td>\n",
       "      <td>5</td>\n",
       "    </tr>\n",
       "  </tbody>\n",
       "</table>\n",
       "</div>"
      ],
      "text/plain": [
       "                                          hypothesis  reach  impact  \\\n",
       "0  Добавить два новых канала привлечения трафика,...      3      10   \n",
       "1  Запустить собственную службу доставки, что сок...      2       5   \n",
       "2  Добавить блоки рекомендаций товаров на сайт ин...      8       3   \n",
       "3  Изменить структура категорий, что увеличит кон...      8       3   \n",
       "4  Изменить цвет фона главной страницы, чтобы уве...      3       1   \n",
       "5  Добавить страницу отзывов клиентов о магазине,...      3       2   \n",
       "6  Показать на главной странице баннеры с актуаль...      5       3   \n",
       "7  Добавить форму подписки на все основные страни...     10       7   \n",
       "8  Запустить акцию, дающую скидку на товар в день...      1       9   \n",
       "\n",
       "   confidence  efforts  \n",
       "0           8        6  \n",
       "1           4       10  \n",
       "2           7        3  \n",
       "3           3        8  \n",
       "4           1        1  \n",
       "5           2        3  \n",
       "6           8        3  \n",
       "7           8        5  \n",
       "8           9        5  "
      ]
     },
     "execution_count": 8,
     "metadata": {},
     "output_type": "execute_result"
    }
   ],
   "source": [
    "hypothesis"
   ]
  },
  {
   "cell_type": "markdown",
   "metadata": {},
   "source": [
    "## Приоритизация гипотез"
   ]
  },
  {
   "cell_type": "markdown",
   "metadata": {},
   "source": [
    "Рассчитаем приоритизацию с помощью двух способов ICE и RICE\n",
    "\n",
    "$$ICE = \\frac{Impact * Confidence}{Efforts}$$\n",
    "\n",
    "$$RICE = \\frac{Reach * Impact * Confidence}{Efforts}$$\n",
    "\n"
   ]
  },
  {
   "cell_type": "code",
   "execution_count": 9,
   "metadata": {},
   "outputs": [],
   "source": [
    "hypothesis['ICE']=(hypothesis['impact']*hypothesis['confidence'])/hypothesis['efforts']\n",
    "hypothesis['RICE']=(hypothesis['reach']*hypothesis['impact']*hypothesis['confidence'])/hypothesis['efforts']"
   ]
  },
  {
   "cell_type": "code",
   "execution_count": 10,
   "metadata": {
    "scrolled": false
   },
   "outputs": [
    {
     "data": {
      "text/html": [
       "<div>\n",
       "<style scoped>\n",
       "    .dataframe tbody tr th:only-of-type {\n",
       "        vertical-align: middle;\n",
       "    }\n",
       "\n",
       "    .dataframe tbody tr th {\n",
       "        vertical-align: top;\n",
       "    }\n",
       "\n",
       "    .dataframe thead th {\n",
       "        text-align: right;\n",
       "    }\n",
       "</style>\n",
       "<table border=\"1\" class=\"dataframe\">\n",
       "  <thead>\n",
       "    <tr style=\"text-align: right;\">\n",
       "      <th></th>\n",
       "      <th>hypothesis</th>\n",
       "      <th>reach</th>\n",
       "      <th>impact</th>\n",
       "      <th>confidence</th>\n",
       "      <th>efforts</th>\n",
       "      <th>ICE</th>\n",
       "      <th>RICE</th>\n",
       "    </tr>\n",
       "  </thead>\n",
       "  <tbody>\n",
       "    <tr>\n",
       "      <th>8</th>\n",
       "      <td>Запустить акцию, дающую скидку на товар в день рождения</td>\n",
       "      <td>1</td>\n",
       "      <td>9</td>\n",
       "      <td>9</td>\n",
       "      <td>5</td>\n",
       "      <td>16.200000</td>\n",
       "      <td>16.2</td>\n",
       "    </tr>\n",
       "    <tr>\n",
       "      <th>0</th>\n",
       "      <td>Добавить два новых канала привлечения трафика, что позволит привлекать на 30% больше пользователей</td>\n",
       "      <td>3</td>\n",
       "      <td>10</td>\n",
       "      <td>8</td>\n",
       "      <td>6</td>\n",
       "      <td>13.333333</td>\n",
       "      <td>40.0</td>\n",
       "    </tr>\n",
       "    <tr>\n",
       "      <th>7</th>\n",
       "      <td>Добавить форму подписки на все основные страницы, чтобы собрать базу клиентов для email-рассылок</td>\n",
       "      <td>10</td>\n",
       "      <td>7</td>\n",
       "      <td>8</td>\n",
       "      <td>5</td>\n",
       "      <td>11.200000</td>\n",
       "      <td>112.0</td>\n",
       "    </tr>\n",
       "    <tr>\n",
       "      <th>6</th>\n",
       "      <td>Показать на главной странице баннеры с актуальными акциями и распродажами, чтобы увеличить конверсию</td>\n",
       "      <td>5</td>\n",
       "      <td>3</td>\n",
       "      <td>8</td>\n",
       "      <td>3</td>\n",
       "      <td>8.000000</td>\n",
       "      <td>40.0</td>\n",
       "    </tr>\n",
       "    <tr>\n",
       "      <th>2</th>\n",
       "      <td>Добавить блоки рекомендаций товаров на сайт интернет магазина, чтобы повысить конверсию и средний чек заказа</td>\n",
       "      <td>8</td>\n",
       "      <td>3</td>\n",
       "      <td>7</td>\n",
       "      <td>3</td>\n",
       "      <td>7.000000</td>\n",
       "      <td>56.0</td>\n",
       "    </tr>\n",
       "    <tr>\n",
       "      <th>1</th>\n",
       "      <td>Запустить собственную службу доставки, что сократит срок доставки заказов</td>\n",
       "      <td>2</td>\n",
       "      <td>5</td>\n",
       "      <td>4</td>\n",
       "      <td>10</td>\n",
       "      <td>2.000000</td>\n",
       "      <td>4.0</td>\n",
       "    </tr>\n",
       "    <tr>\n",
       "      <th>5</th>\n",
       "      <td>Добавить страницу отзывов клиентов о магазине, что позволит увеличить количество заказов</td>\n",
       "      <td>3</td>\n",
       "      <td>2</td>\n",
       "      <td>2</td>\n",
       "      <td>3</td>\n",
       "      <td>1.333333</td>\n",
       "      <td>4.0</td>\n",
       "    </tr>\n",
       "    <tr>\n",
       "      <th>3</th>\n",
       "      <td>Изменить структура категорий, что увеличит конверсию, т.к. пользователи быстрее найдут нужный товар</td>\n",
       "      <td>8</td>\n",
       "      <td>3</td>\n",
       "      <td>3</td>\n",
       "      <td>8</td>\n",
       "      <td>1.125000</td>\n",
       "      <td>9.0</td>\n",
       "    </tr>\n",
       "    <tr>\n",
       "      <th>4</th>\n",
       "      <td>Изменить цвет фона главной страницы, чтобы увеличить вовлеченность пользователей</td>\n",
       "      <td>3</td>\n",
       "      <td>1</td>\n",
       "      <td>1</td>\n",
       "      <td>1</td>\n",
       "      <td>1.000000</td>\n",
       "      <td>3.0</td>\n",
       "    </tr>\n",
       "  </tbody>\n",
       "</table>\n",
       "</div>"
      ],
      "text/plain": [
       "                                                                                                     hypothesis  \\\n",
       "8  Запустить акцию, дающую скидку на товар в день рождения                                                        \n",
       "0  Добавить два новых канала привлечения трафика, что позволит привлекать на 30% больше пользователей             \n",
       "7  Добавить форму подписки на все основные страницы, чтобы собрать базу клиентов для email-рассылок               \n",
       "6  Показать на главной странице баннеры с актуальными акциями и распродажами, чтобы увеличить конверсию           \n",
       "2  Добавить блоки рекомендаций товаров на сайт интернет магазина, чтобы повысить конверсию и средний чек заказа   \n",
       "1  Запустить собственную службу доставки, что сократит срок доставки заказов                                      \n",
       "5  Добавить страницу отзывов клиентов о магазине, что позволит увеличить количество заказов                       \n",
       "3  Изменить структура категорий, что увеличит конверсию, т.к. пользователи быстрее найдут нужный товар            \n",
       "4  Изменить цвет фона главной страницы, чтобы увеличить вовлеченность пользователей                               \n",
       "\n",
       "   reach  impact  confidence  efforts        ICE   RICE  \n",
       "8  1      9       9           5        16.200000  16.2   \n",
       "0  3      10      8           6        13.333333  40.0   \n",
       "7  10     7       8           5        11.200000  112.0  \n",
       "6  5      3       8           3        8.000000   40.0   \n",
       "2  8      3       7           3        7.000000   56.0   \n",
       "1  2      5       4           10       2.000000   4.0    \n",
       "5  3      2       2           3        1.333333   4.0    \n",
       "3  8      3       3           8        1.125000   9.0    \n",
       "4  3      1       1           1        1.000000   3.0    "
      ]
     },
     "execution_count": 10,
     "metadata": {},
     "output_type": "execute_result"
    },
    {
     "data": {
      "text/html": [
       "<div>\n",
       "<style scoped>\n",
       "    .dataframe tbody tr th:only-of-type {\n",
       "        vertical-align: middle;\n",
       "    }\n",
       "\n",
       "    .dataframe tbody tr th {\n",
       "        vertical-align: top;\n",
       "    }\n",
       "\n",
       "    .dataframe thead th {\n",
       "        text-align: right;\n",
       "    }\n",
       "</style>\n",
       "<table border=\"1\" class=\"dataframe\">\n",
       "  <thead>\n",
       "    <tr style=\"text-align: right;\">\n",
       "      <th></th>\n",
       "      <th>hypothesis</th>\n",
       "      <th>reach</th>\n",
       "      <th>impact</th>\n",
       "      <th>confidence</th>\n",
       "      <th>efforts</th>\n",
       "      <th>ICE</th>\n",
       "      <th>RICE</th>\n",
       "    </tr>\n",
       "  </thead>\n",
       "  <tbody>\n",
       "    <tr>\n",
       "      <th>7</th>\n",
       "      <td>Добавить форму подписки на все основные страницы, чтобы собрать базу клиентов для email-рассылок</td>\n",
       "      <td>10</td>\n",
       "      <td>7</td>\n",
       "      <td>8</td>\n",
       "      <td>5</td>\n",
       "      <td>11.200000</td>\n",
       "      <td>112.0</td>\n",
       "    </tr>\n",
       "    <tr>\n",
       "      <th>2</th>\n",
       "      <td>Добавить блоки рекомендаций товаров на сайт интернет магазина, чтобы повысить конверсию и средний чек заказа</td>\n",
       "      <td>8</td>\n",
       "      <td>3</td>\n",
       "      <td>7</td>\n",
       "      <td>3</td>\n",
       "      <td>7.000000</td>\n",
       "      <td>56.0</td>\n",
       "    </tr>\n",
       "    <tr>\n",
       "      <th>0</th>\n",
       "      <td>Добавить два новых канала привлечения трафика, что позволит привлекать на 30% больше пользователей</td>\n",
       "      <td>3</td>\n",
       "      <td>10</td>\n",
       "      <td>8</td>\n",
       "      <td>6</td>\n",
       "      <td>13.333333</td>\n",
       "      <td>40.0</td>\n",
       "    </tr>\n",
       "    <tr>\n",
       "      <th>6</th>\n",
       "      <td>Показать на главной странице баннеры с актуальными акциями и распродажами, чтобы увеличить конверсию</td>\n",
       "      <td>5</td>\n",
       "      <td>3</td>\n",
       "      <td>8</td>\n",
       "      <td>3</td>\n",
       "      <td>8.000000</td>\n",
       "      <td>40.0</td>\n",
       "    </tr>\n",
       "    <tr>\n",
       "      <th>8</th>\n",
       "      <td>Запустить акцию, дающую скидку на товар в день рождения</td>\n",
       "      <td>1</td>\n",
       "      <td>9</td>\n",
       "      <td>9</td>\n",
       "      <td>5</td>\n",
       "      <td>16.200000</td>\n",
       "      <td>16.2</td>\n",
       "    </tr>\n",
       "    <tr>\n",
       "      <th>3</th>\n",
       "      <td>Изменить структура категорий, что увеличит конверсию, т.к. пользователи быстрее найдут нужный товар</td>\n",
       "      <td>8</td>\n",
       "      <td>3</td>\n",
       "      <td>3</td>\n",
       "      <td>8</td>\n",
       "      <td>1.125000</td>\n",
       "      <td>9.0</td>\n",
       "    </tr>\n",
       "    <tr>\n",
       "      <th>1</th>\n",
       "      <td>Запустить собственную службу доставки, что сократит срок доставки заказов</td>\n",
       "      <td>2</td>\n",
       "      <td>5</td>\n",
       "      <td>4</td>\n",
       "      <td>10</td>\n",
       "      <td>2.000000</td>\n",
       "      <td>4.0</td>\n",
       "    </tr>\n",
       "    <tr>\n",
       "      <th>5</th>\n",
       "      <td>Добавить страницу отзывов клиентов о магазине, что позволит увеличить количество заказов</td>\n",
       "      <td>3</td>\n",
       "      <td>2</td>\n",
       "      <td>2</td>\n",
       "      <td>3</td>\n",
       "      <td>1.333333</td>\n",
       "      <td>4.0</td>\n",
       "    </tr>\n",
       "    <tr>\n",
       "      <th>4</th>\n",
       "      <td>Изменить цвет фона главной страницы, чтобы увеличить вовлеченность пользователей</td>\n",
       "      <td>3</td>\n",
       "      <td>1</td>\n",
       "      <td>1</td>\n",
       "      <td>1</td>\n",
       "      <td>1.000000</td>\n",
       "      <td>3.0</td>\n",
       "    </tr>\n",
       "  </tbody>\n",
       "</table>\n",
       "</div>"
      ],
      "text/plain": [
       "                                                                                                     hypothesis  \\\n",
       "7  Добавить форму подписки на все основные страницы, чтобы собрать базу клиентов для email-рассылок               \n",
       "2  Добавить блоки рекомендаций товаров на сайт интернет магазина, чтобы повысить конверсию и средний чек заказа   \n",
       "0  Добавить два новых канала привлечения трафика, что позволит привлекать на 30% больше пользователей             \n",
       "6  Показать на главной странице баннеры с актуальными акциями и распродажами, чтобы увеличить конверсию           \n",
       "8  Запустить акцию, дающую скидку на товар в день рождения                                                        \n",
       "3  Изменить структура категорий, что увеличит конверсию, т.к. пользователи быстрее найдут нужный товар            \n",
       "1  Запустить собственную службу доставки, что сократит срок доставки заказов                                      \n",
       "5  Добавить страницу отзывов клиентов о магазине, что позволит увеличить количество заказов                       \n",
       "4  Изменить цвет фона главной страницы, чтобы увеличить вовлеченность пользователей                               \n",
       "\n",
       "   reach  impact  confidence  efforts        ICE   RICE  \n",
       "7  10     7       8           5        11.200000  112.0  \n",
       "2  8      3       7           3        7.000000   56.0   \n",
       "0  3      10      8           6        13.333333  40.0   \n",
       "6  5      3       8           3        8.000000   40.0   \n",
       "8  1      9       9           5        16.200000  16.2   \n",
       "3  8      3       3           8        1.125000   9.0    \n",
       "1  2      5       4           10       2.000000   4.0    \n",
       "5  3      2       2           3        1.333333   4.0    \n",
       "4  3      1       1           1        1.000000   3.0    "
      ]
     },
     "execution_count": 10,
     "metadata": {},
     "output_type": "execute_result"
    }
   ],
   "source": [
    "pd.set_option('display.max_colwidth', 0)\n",
    "hypothesis.sort_values(by='ICE', ascending=False)\n",
    "hypothesis.sort_values(by='RICE', ascending=False)"
   ]
  },
  {
   "cell_type": "markdown",
   "metadata": {},
   "source": [
    "Провели приоритизацию двумя гипотезами ICE и RICE. Изучив в таблицах значения для обоих показателей расположенных в порядке убывания, видно, что почти все гипотезы расположились на разных \"местах\". Объяснить это можно тем, что при рассчете RICE мы учитываем параметр REACH(охват пользователей). \n",
    "\n",
    "**Лидеры по гипотезе ICE:**\n",
    "* Запустить акцию, дающую скидку на товар в день рождения - 16,2;\n",
    "* Добавить два новых канала привлечения трафика, что позволит привлекать на 30% больше пользователей - 13,3;\n",
    "* Добавить форму подписки на все основные страницы, чтобы собрать базу клиентов для email-рассылок - 11,2.\n",
    "\n",
    "\n",
    "**Лидеры по гипотезе RICE:**\n",
    "* Добавить форму подписки на все основные страницы, чтобы собрать базу клиентов для email-рассылок - 112;\t\n",
    "* Добавить блоки рекомендаций товаров на сайт интернет магазина, чтобы повысить конверсию и средний чек заказа - 56;\n",
    "* Добавить два новых канала привлечения трафика, что позволит привлекать на 30% больше пользователей - 40."
   ]
  },
  {
   "cell_type": "markdown",
   "metadata": {},
   "source": [
    "## Анализ A/B теста"
   ]
  },
  {
   "cell_type": "markdown",
   "metadata": {},
   "source": [
    "Для изучения кумулятивной выручки посмотрели за какой период мы выгрузили данные по таблицам.\n",
    "\n",
    "Анализировать A/B тест мы будем за август 2019 года."
   ]
  },
  {
   "cell_type": "code",
   "execution_count": 11,
   "metadata": {
    "scrolled": true
   },
   "outputs": [
    {
     "data": {
      "text/plain": [
       "Timestamp('2019-08-01 00:00:00')"
      ]
     },
     "execution_count": 11,
     "metadata": {},
     "output_type": "execute_result"
    },
    {
     "data": {
      "text/plain": [
       "Timestamp('2019-08-31 00:00:00')"
      ]
     },
     "execution_count": 11,
     "metadata": {},
     "output_type": "execute_result"
    },
    {
     "data": {
      "text/plain": [
       "Timestamp('2019-08-01 00:00:00')"
      ]
     },
     "execution_count": 11,
     "metadata": {},
     "output_type": "execute_result"
    },
    {
     "data": {
      "text/plain": [
       "Timestamp('2019-08-31 00:00:00')"
      ]
     },
     "execution_count": 11,
     "metadata": {},
     "output_type": "execute_result"
    }
   ],
   "source": [
    "visitors['date'].min()\n",
    "visitors['date'].max()\n",
    "orders['date'].min()\n",
    "orders['date'].max()"
   ]
  },
  {
   "cell_type": "code",
   "execution_count": 12,
   "metadata": {},
   "outputs": [
    {
     "data": {
      "text/plain": [
       "visitorId    58\n",
       "group        58\n",
       "dtype: int64"
      ]
     },
     "execution_count": 12,
     "metadata": {},
     "output_type": "execute_result"
    },
    {
     "data": {
      "text/plain": [
       "1197"
      ]
     },
     "execution_count": 12,
     "metadata": {},
     "output_type": "execute_result"
    },
    {
     "name": "stdout",
     "output_type": "stream",
     "text": [
      "4.85 %\n"
     ]
    }
   ],
   "source": [
    "a=orders.groupby('visitorId')['group'].nunique().reset_index()\n",
    "a.query('group>1').count()\n",
    "orders['group'].count()\n",
    "print(round(58/1197*100, 2), '%')"
   ]
  },
  {
   "cell_type": "code",
   "execution_count": 13,
   "metadata": {
    "scrolled": true
   },
   "outputs": [
    {
     "data": {
      "text/plain": [
       "166"
      ]
     },
     "execution_count": 13,
     "metadata": {},
     "output_type": "execute_result"
    }
   ],
   "source": [
    "orders['visitorId'].duplicated().sum()"
   ]
  },
  {
   "cell_type": "markdown",
   "metadata": {},
   "source": [
    "Есть пользователи, которые попали в обе группы теста, их 4.85%. В идеальном случае, нужно попросить разработчиков, что-то сделать с такими \"неправильными\" данными. Мы же оставим все как есть."
   ]
  },
  {
   "cell_type": "markdown",
   "metadata": {},
   "source": [
    "### График кумулятивной выручки по группам."
   ]
  },
  {
   "cell_type": "code",
   "execution_count": 14,
   "metadata": {
    "scrolled": true
   },
   "outputs": [
    {
     "data": {
      "image/png": "[encoded data removed]",
      "text/plain": [
       "<Figure size 720x288 with 1 Axes>"
      ]
     },
     "metadata": {
      "needs_background": "light"
     },
     "output_type": "display_data"
    }
   ],
   "source": [
    "cum_orders = orders.groupby(['date', 'group'])['revenue'].sum().reset_index()\n",
    "#сгруппировали таблицу по дате, группе и сумме выручки\n",
    "cum_orders['cum_revenue']=cum_orders.groupby('group')['revenue'].cumsum()\n",
    "#добавили столбец с куммулятивной выручкой\n",
    "\n",
    "cum_orders['date']=cum_orders['date'].dt.date\n",
    "\n",
    "cum_orders.pivot(\n",
    "    index='date',\n",
    "    columns='group',\n",
    "    values='cum_revenue').plot(grid=True, figsize=(10, 4),\n",
    "              title='Граффик кумулятивной выручки', legend=True);\n",
    "plt.xlabel('Дата');\n",
    "plt.ylabel('Выручка');"
   ]
  },
  {
   "cell_type": "markdown",
   "metadata": {},
   "source": [
    "Построили граффик кумулятивной выручки по группам. По графику хорошо видно, что у группы B выручка всегда больше, чем у группы А. Резкий рост выручки вверх идет 18.08.21. Это может быть связанно с крупным заказом, при анализе статистической значимости, мы исключим такие заказы."
   ]
  },
  {
   "cell_type": "markdown",
   "metadata": {},
   "source": [
    "### График кумулятивного среднего чека по группам"
   ]
  },
  {
   "cell_type": "code",
   "execution_count": 15,
   "metadata": {},
   "outputs": [
    {
     "data": {
      "image/png": "[encoded data removed]",
      "text/plain": [
       "<Figure size 720x288 with 1 Axes>"
      ]
     },
     "metadata": {
      "needs_background": "light"
     },
     "output_type": "display_data"
    }
   ],
   "source": [
    "orders_c=(orders.groupby(['date', 'group']).agg({'transactionId':'nunique', 'visitorId':'nunique', 'revenue':'sum'})\n",
    ".rename(columns={'transactionId':'orders','revenue':'revenue', 'visitorId':'buyers'})\n",
    ".reset_index())\n",
    "#сгруппировали по дате и группе, посчитали сумму выручки, уникальные значения идентификатора заказа \n",
    "#для самого заказа и пользователя совершившего заказ. Переименовали столбцы\n",
    "\n",
    "orders_c[['orders_c', 'buyers_c', 'revenue_c']]=orders_c.groupby('group')[['orders', 'buyers', 'revenue']].cumsum()       \n",
    "#добавили в таблицу накопительные значения заказов, покупателей и выручки\n",
    "orders_c['mean_c']=orders_c['revenue_c']/orders_c['orders_c'] \n",
    "#нашли куммулятивный средний чек для всей таблицы\n",
    "check=orders_c.pivot_table(\n",
    "        index='date',\n",
    "        values='mean_c',\n",
    "        columns='group')\n",
    "\n",
    "check.index = check.index.strftime(\"%Y-%m-%d\")\n",
    "check.plot(grid=True, figsize=(10, 4),\n",
    "              title='Граффик кумулятивного среднего чека', legend=True);\n",
    "plt.xlabel('Дата');\n",
    "plt.ylabel('Средний чек');"
   ]
  },
  {
   "cell_type": "markdown",
   "metadata": {},
   "source": [
    "По графику видно, что в основном средний чек выше у группы B. Также опять видм, что 18.08.21 идет резкое увеличение среднего чека, также как и выручки."
   ]
  },
  {
   "cell_type": "markdown",
   "metadata": {},
   "source": [
    "### График относительного изменения кумулятивного среднего чека группы B к группе A. "
   ]
  },
  {
   "cell_type": "code",
   "execution_count": 16,
   "metadata": {},
   "outputs": [
    {
     "data": {
      "image/png": "[encoded data removed]",
      "text/plain": [
       "<Figure size 720x360 with 1 Axes>"
      ]
     },
     "metadata": {
      "needs_background": "light"
     },
     "output_type": "display_data"
    }
   ],
   "source": [
    "check_a=orders_c.query('group==\"A\"')\n",
    "check_b=orders_c.query('group==\"B\"')\n",
    "#отфильтровали данные отдельно для группы А и B\n",
    "check_ab=check_a.merge(check_b, left_on='date', right_on='date', how='left', suffixes=['A','B'])\n",
    "#соединили 2 таблицы\n",
    "\n",
    "plt.figure(figsize=(10,5));\n",
    "plt.plot(check_ab['date'], (check_ab['revenue_cB']/check_ab['orders_cB'])/(check_ab['revenue_cA']/check_ab['orders_cA'])-1, label=\"Относительное изменение куммулятивного среднего чека группы B относительно группы A\");\n",
    "plt.axhline(y=0, color='black', linestyle='--');\n",
    "plt.xticks(rotation=45);\n",
    "plt.grid();\n",
    "plt.legend();\n",
    "plt.title('График относительного изменения кумулятивного среднего чека')\n",
    "plt.xlabel('Дата');\n",
    "plt.ylabel('Относительное изменение чека');"
   ]
  },
  {
   "cell_type": "markdown",
   "metadata": {},
   "source": [
    "Видим резкие скачки графика, это значит, что в наших данных есть крупные заказы и выбросы."
   ]
  },
  {
   "cell_type": "markdown",
   "metadata": {},
   "source": [
    "### График кумулятивной конверсии по группам."
   ]
  },
  {
   "cell_type": "code",
   "execution_count": 17,
   "metadata": {},
   "outputs": [
    {
     "data": {
      "image/png": "[encoded data removed]",
      "text/plain": [
       "<Figure size 720x288 with 1 Axes>"
      ]
     },
     "metadata": {
      "needs_background": "light"
     },
     "output_type": "display_data"
    }
   ],
   "source": [
    "visitors_c = visitors.groupby(['date', 'group'])['visitors'].sum().reset_index()\n",
    "#сгруппировали по дате и группе, посчитали сумму визитов\n",
    "visitors_c['visitors_c']=visitors_c.groupby('group')['visitors'].cumsum()\n",
    "#добавили в таблицу накопительные значения визитов\n",
    "cummulative=visitors_c.merge(orders_c, left_on=['date', 'group'], right_on=['date', 'group'])\n",
    "#соединили 2 таблицы\n",
    "cummulative['conversion']=cummulative['orders_c']/cummulative['visitors_c']\n",
    "#нашли куммулятивную конверсию для всей таблицы\n",
    "cummulative['date']=cummulative['date'].dt.date\n",
    "\n",
    "conversion=cummulative.pivot_table(\n",
    "        index='date',\n",
    "        values='conversion',\n",
    "        columns='group')\n",
    "\n",
    "conversion.plot(grid=True, figsize=(10, 4),\n",
    "              title='Граффик кумулятивной конверсии', legend=True);\n",
    "plt.axis([\"2019-08-01\", '2019-08-31', 0, 0.04]);\n",
    "plt.xlabel('Дата');\n",
    "plt.ylabel('Конверсия');"
   ]
  },
  {
   "cell_type": "markdown",
   "metadata": {},
   "source": [
    "В начале проведения теста уровень конверсии был выше у групы А, затем группа B начала выходить вперед и уровень конверсии выровнился после 9.08.21."
   ]
  },
  {
   "cell_type": "markdown",
   "metadata": {},
   "source": [
    "### График относительного изменения кумулятивной конверсии группы B к группе A."
   ]
  },
  {
   "cell_type": "code",
   "execution_count": 18,
   "metadata": {
    "scrolled": false
   },
   "outputs": [
    {
     "data": {
      "image/png": "[encoded data removed]",
      "text/plain": [
       "<Figure size 576x288 with 1 Axes>"
      ]
     },
     "metadata": {
      "needs_background": "light"
     },
     "output_type": "display_data"
    }
   ],
   "source": [
    "cummulative_a=cummulative[cummulative['group']=='A']\n",
    "cummulative_b=cummulative[cummulative['group']=='B']\n",
    "#отфильтровали данные отдельно для группы А и B\n",
    "cummulative_ab=(cummulative_a[['date', 'conversion']]\n",
    ".merge(cummulative_b[['date', 'conversion']], left_on='date', right_on='date', how='left', suffixes=['A','B']))\n",
    "\n",
    "plt.figure(figsize=(8,4));\n",
    "plt.plot(cummulative_ab['date'], cummulative_ab['conversionB']/cummulative_ab['conversionA']-1, label=\"Относительный прирост конверсии группы B относительно группы A\");\n",
    "plt.legend();\n",
    "plt.grid();\n",
    "plt.xticks(rotation=45);\n",
    "plt.axhline(y=0, color='black', linestyle='--');\n",
    "plt.axhline(y=-0.1, color='grey', linestyle='--');\n",
    "plt.title('График относительного изменения кумулятивной конверсии')\n",
    "plt.xlabel('Дата');\n",
    "plt.ylabel('Конверсия');"
   ]
  },
  {
   "cell_type": "markdown",
   "metadata": {},
   "source": [
    "В начале исследования конверсия у группы B была не стабильной, сначала резко увеличилась, потом упала, но после 5.08.2019 начала расти, и затем зафиксировалась примерно на одном уровне."
   ]
  },
  {
   "cell_type": "markdown",
   "metadata": {},
   "source": [
    "### Точечный график количества заказов по пользователям."
   ]
  },
  {
   "cell_type": "code",
   "execution_count": 19,
   "metadata": {
    "scrolled": false
   },
   "outputs": [
    {
     "name": "stdout",
     "output_type": "stream",
     "text": [
      "           users  orders\n",
      "1023  4256040402  11    \n",
      "591   2458001652  11    \n",
      "569   2378935119  9     \n",
      "487   2038680547  8     \n",
      "44    199603092   5     \n",
      "744   3062433592  5     \n",
      "55    237748145   5     \n",
      "917   3803269165  5     \n",
      "299   1230306981  5     \n",
      "897   3717692402  5     \n"
     ]
    },
    {
     "data": {
      "image/png": "[encoded data removed]",
      "text/plain": [
       "<Figure size 432x288 with 1 Axes>"
      ]
     },
     "metadata": {
      "needs_background": "light"
     },
     "output_type": "display_data"
    }
   ],
   "source": [
    "orders_scatter=orders.groupby('visitorId').agg({'transactionId':'nunique'}).reset_index()\n",
    "#сгруппировали таблицу по идентификатору пользователя, совершившего заказ, и нашли уникальные значения идентификатора заказа\n",
    "orders_scatter.columns=['users', 'orders']\n",
    "print(orders_scatter.sort_values(by='orders', ascending=False).head(10))\n",
    "#отсортировали количество заказов по убыванию \n",
    "x_values = pd.Series(range(0,len(orders_scatter)))\n",
    "\n",
    "plt.title('Точечный график количества заказов')\n",
    "plt.xlabel('Пользователи');\n",
    "plt.ylabel('Количество заказов');\n",
    "plt.scatter(x_values, orders_scatter['orders']);"
   ]
  },
  {
   "cell_type": "code",
   "execution_count": 20,
   "metadata": {
    "scrolled": true
   },
   "outputs": [
    {
     "data": {
      "image/png": "[encoded data removed]",
      "text/plain": [
       "<Figure size 432x288 with 1 Axes>"
      ]
     },
     "metadata": {
      "needs_background": "light"
     },
     "output_type": "display_data"
    }
   ],
   "source": [
    "orders_scatter['orders'].hist();\n",
    "plt.title('Гистограмма количества заказов')\n",
    "plt.ylabel('Пользователи');\n",
    "plt.xlabel('Количество заказов');"
   ]
  },
  {
   "cell_type": "markdown",
   "metadata": {},
   "source": [
    "Построили два графика, по ним видно, что в основном пользователи совершают 1 заказ, намного реже 2 заказа. Аномальными заказами уже можно считать количество заказов больше 3-х. Дальше посмотрим в процентном соотношении количество заказов на пользователя."
   ]
  },
  {
   "cell_type": "markdown",
   "metadata": {},
   "source": [
    "### 95-й и 99-й перцентили количества заказов на пользователя. "
   ]
  },
  {
   "cell_type": "code",
   "execution_count": 21,
   "metadata": {},
   "outputs": [
    {
     "data": {
      "text/plain": [
       "array([1., 2., 4.])"
      ]
     },
     "execution_count": 21,
     "metadata": {},
     "output_type": "execute_result"
    }
   ],
   "source": [
    "np.percentile(orders_scatter['orders'], [90, 95, 99])"
   ]
  },
  {
   "cell_type": "markdown",
   "metadata": {},
   "source": [
    "Не более 5% пользователей совершали более 2-х заказов. Не больше 1% процента пользователей совершали более 4-х заказов.\n",
    "\n",
    "**За границу определения аномальных показателей возьмем число заказов равное 3.**"
   ]
  },
  {
   "cell_type": "markdown",
   "metadata": {},
   "source": [
    "### Точечный график стоимостей заказов. "
   ]
  },
  {
   "cell_type": "code",
   "execution_count": 22,
   "metadata": {},
   "outputs": [
    {
     "name": "stdout",
     "output_type": "stream",
     "text": [
      "          orders  revenue\n",
      "168   590470918   1294500\n",
      "1107  3936777065  202740 \n",
      "49    192721366   93940  \n",
      "188   666610489   92550  \n",
      "1029  3668308183  86620  \n",
      "322   1216533772  78990  \n",
      "503   1811671147  78990  \n",
      "1000  3603576309  67990  \n",
      "364   1348774318  66350  \n",
      "81    316924019   65710  \n"
     ]
    },
    {
     "data": {
      "image/png": "[encoded data removed]",
      "text/plain": [
       "<Figure size 432x288 with 1 Axes>"
      ]
     },
     "metadata": {
      "needs_background": "light"
     },
     "output_type": "display_data"
    }
   ],
   "source": [
    "revenue_scatter=orders.groupby('transactionId').agg({'revenue':'sum'}).reset_index()\n",
    "revenue_scatter.columns=['orders', 'revenue']\n",
    "print(revenue_scatter.sort_values(by='revenue', ascending=False).head(10))\n",
    "\n",
    "x_values = pd.Series(range(0,len(revenue_scatter)))\n",
    "plt.title('Точечный график стоимостей заказов')\n",
    "plt.xlabel('Пользователи');\n",
    "plt.ylabel('Стоимость заказов');\n",
    "plt.scatter(x_values, revenue_scatter['revenue']); "
   ]
  },
  {
   "cell_type": "code",
   "execution_count": 23,
   "metadata": {},
   "outputs": [
    {
     "data": {
      "image/png": "[encoded data removed]",
      "text/plain": [
       "<Figure size 432x288 with 1 Axes>"
      ]
     },
     "metadata": {
      "needs_background": "light"
     },
     "output_type": "display_data"
    }
   ],
   "source": [
    "revenue_scatter['revenue'].hist(range=(0,100000));\n",
    "revenue_scatter['revenue'].max()\n",
    "plt.title('Гистограмма стоимостей заказов')\n",
    "plt.xlabel('Пользователи');\n",
    "plt.ylabel('Стоимость заказов');"
   ]
  },
  {
   "cell_type": "markdown",
   "metadata": {},
   "source": [
    "По графикам видно, что в основном сумма одного заказа не превышает 20 000. Аномальной выручкой можно считать сумму заказа более 30 000. Но лучше посмотреть данные о выручке в процентном соотношении, чтобы удостовериться в своем выборе."
   ]
  },
  {
   "cell_type": "markdown",
   "metadata": {},
   "source": [
    "### 95-й и 99-й перцентили стоимости заказов."
   ]
  },
  {
   "cell_type": "code",
   "execution_count": 24,
   "metadata": {},
   "outputs": [
    {
     "data": {
      "text/plain": [
       "array([18168. , 28000. , 58233.2])"
      ]
     },
     "execution_count": 24,
     "metadata": {},
     "output_type": "execute_result"
    }
   ],
   "source": [
    "np.percentile(revenue_scatter['revenue'], [90, 95, 99])"
   ]
  },
  {
   "cell_type": "markdown",
   "metadata": {},
   "source": [
    "Не более 10% покупателей совершают покупку стоимостью больше 18 168. Только 5% покупателей тратят на заказ больше 28 000, и лишь 1% совершает покупки более чем на 58 233.2.\n",
    "\n",
    "**За границу определения аномальных показателей возьмем стоимость заказов равное 28 000.**"
   ]
  },
  {
   "cell_type": "markdown",
   "metadata": {},
   "source": [
    "### Статистическая значимость различий в конверсии между группами по «сырым» данным."
   ]
  },
  {
   "cell_type": "markdown",
   "metadata": {},
   "source": [
    "Для оценки статистической значимости будем использовать два параметра:\n",
    "\n",
    " * Рассчитаем статистическую значимость с помощью критерия mannwhitneyu();\n",
    " * Найдем относительные различия между группами.\n",
    "\n",
    "Для критерия *mannwhitneyu()* сформулируем нулевую и альтернативную гипотезы:\n",
    "\n",
    "* H0 - Статистически значимых различий между группами нет;\n",
    "* H - Статистически значимые различия между группами есть.\n",
    "\n",
    "Пороговый уровень статистической значимости *(alpha=0.05)*"
   ]
  },
  {
   "cell_type": "code",
   "execution_count": 25,
   "metadata": {},
   "outputs": [
    {
     "data": {
      "text/plain": [
       "0.017"
      ]
     },
     "execution_count": 25,
     "metadata": {},
     "output_type": "execute_result"
    },
    {
     "data": {
      "text/plain": [
       "0.138"
      ]
     },
     "execution_count": 25,
     "metadata": {},
     "output_type": "execute_result"
    }
   ],
   "source": [
    "orders_a=(orders.query('group==\"A\"').groupby(['visitorId'])\n",
    "    .agg({'transactionId':'nunique'})\n",
    "    .rename(columns={'transactionId':'orders'}).reset_index()\n",
    "         )\n",
    "\n",
    "orders_b=(orders.query('group==\"B\"').groupby(['visitorId'])\n",
    "    .agg({'transactionId':'nunique'})\n",
    "    .rename(columns={'transactionId':'orders'}).reset_index()\n",
    "    )\n",
    "visitors_a=visitors.query('group==\"A\"')\n",
    "visitors_b=visitors.query('group==\"B\"')\n",
    "sample_a=pd.concat([orders_a['orders'], \n",
    "                   pd.Series(0, index=np.arange(visitors_a['visitors'].sum() - len(orders_a['orders'])), \n",
    "                             name='orders')], axis=0)\n",
    "sample_b=pd.concat([orders_b['orders'], \n",
    "                   pd.Series(0, index=np.arange(visitors_b['visitors'].sum() - len(orders_b['orders'])), \n",
    "                             name='orders')], axis=0) \n",
    "round(stats.mannwhitneyu(sample_a, sample_b, alternative = 'two-sided')[1], 3)\n",
    "round(sample_b.mean()/sample_a.mean()-1, 3)"
   ]
  },
  {
   "cell_type": "markdown",
   "metadata": {},
   "source": [
    "Первое число p_value=0.017 меньше 0.05, следовательно мы можем отвергнуть нулевую гипотезу о том, что статистически значимых различий в конверсии между группами нет.\n",
    "\n",
    "Также видим, что выигрыш группы Б равен 13.8%"
   ]
  },
  {
   "cell_type": "markdown",
   "metadata": {},
   "source": [
    "### Статистическая значимость различий в среднем чеке заказа между группами по «сырым» данным."
   ]
  },
  {
   "cell_type": "code",
   "execution_count": 26,
   "metadata": {},
   "outputs": [
    {
     "data": {
      "text/plain": [
       "0.729"
      ]
     },
     "execution_count": 26,
     "metadata": {},
     "output_type": "execute_result"
    },
    {
     "data": {
      "text/plain": [
       "0.259"
      ]
     },
     "execution_count": 26,
     "metadata": {},
     "output_type": "execute_result"
    }
   ],
   "source": [
    "round(stats.mannwhitneyu(orders[orders['group']=='A']['revenue'], \n",
    "                         orders[orders['group']=='B']['revenue'], alternative = 'two-sided')[1], 3)\n",
    "round(orders[orders['group']=='B']['revenue'].mean()/orders[orders['group']=='A']['revenue'].mean()-1, 3)"
   ]
  },
  {
   "cell_type": "markdown",
   "metadata": {},
   "source": [
    "P-value=0.729 значительно больше 0.05, следовательно, мы не можем отвергнуть нулевую гиоптезу о том, что есть различия в среднем чеке. Но средний чек группы B больше, чем у группы А, на 25.9%"
   ]
  },
  {
   "cell_type": "markdown",
   "metadata": {},
   "source": [
    "### Статистическая значимость различий в конверсии между группами по «очищенным» данным."
   ]
  },
  {
   "cell_type": "markdown",
   "metadata": {},
   "source": [
    "За границу определения аномальных показателей возьмем число заказов равное 3 и выручку более 28 000."
   ]
  },
  {
   "cell_type": "code",
   "execution_count": 27,
   "metadata": {},
   "outputs": [
    {
     "data": {
      "text/plain": [
       "1099    148427295\n",
       "18      199603092\n",
       "928     204675465\n",
       "23      237748145\n",
       "684     358944393\n",
       "Name: visitorId, dtype: int64"
      ]
     },
     "execution_count": 27,
     "metadata": {},
     "output_type": "execute_result"
    },
    {
     "data": {
      "text/plain": [
       "(63,)"
      ]
     },
     "execution_count": 27,
     "metadata": {},
     "output_type": "execute_result"
    }
   ],
   "source": [
    "too_orders=pd.concat([orders_a.query('orders>3')['visitorId'], orders_b.query('orders>3')['visitorId']], axis=0)\n",
    "too_revenue=orders.query('revenue>28000')['visitorId']\n",
    "too_visitors=pd.concat([too_orders, too_revenue], axis=0).drop_duplicates().sort_values()\n",
    "             \n",
    "too_visitors.head()\n",
    "too_visitors.shape"
   ]
  },
  {
   "cell_type": "markdown",
   "metadata": {},
   "source": [
    "Видим, что аномальных пользователей 63 человека. Посчитаем статистическую значимость по очищенным данным."
   ]
  },
  {
   "cell_type": "code",
   "execution_count": 28,
   "metadata": {},
   "outputs": [
    {
     "data": {
      "text/plain": [
       "0.018"
      ]
     },
     "execution_count": 28,
     "metadata": {},
     "output_type": "execute_result"
    },
    {
     "data": {
      "text/plain": [
       "0.148"
      ]
     },
     "execution_count": 28,
     "metadata": {},
     "output_type": "execute_result"
    }
   ],
   "source": [
    "sample_a_filtered=pd.concat([orders_a[np.logical_not(orders_a['visitorId'].isin(too_visitors))]['orders'],\n",
    "                   pd.Series(0, index=np.arange(visitors_a['visitors'].sum() - len(orders_a['orders'])), \n",
    "                             name='orders')], axis=0)\n",
    "sample_b_filtered=pd.concat([orders_b[np.logical_not(orders_b['visitorId'].isin(too_visitors))]['orders'],\n",
    "                   pd.Series(0, index=np.arange(visitors_b['visitors'].sum() - len(orders_b['orders'])), \n",
    "                             name='orders')], axis=0) \n",
    "round(stats.mannwhitneyu(sample_a_filtered, sample_b_filtered, alternative = 'two-sided')[1], 3)\n",
    "round(sample_b_filtered.mean()/sample_a_filtered.mean()-1, 3)"
   ]
  },
  {
   "cell_type": "markdown",
   "metadata": {},
   "source": [
    "Сильных различий с \"неочищенными\" данными нет. P-value = 0.018, Выигрыш группы B равен 14.8%."
   ]
  },
  {
   "cell_type": "markdown",
   "metadata": {},
   "source": [
    "### Статистическая значимость различий в среднем чеке заказа между группами по «очищенным» данным."
   ]
  },
  {
   "cell_type": "code",
   "execution_count": 29,
   "metadata": {},
   "outputs": [
    {
     "data": {
      "text/plain": [
       "0.977"
      ]
     },
     "execution_count": 29,
     "metadata": {},
     "output_type": "execute_result"
    },
    {
     "data": {
      "text/plain": [
       "0.017"
      ]
     },
     "execution_count": 29,
     "metadata": {},
     "output_type": "execute_result"
    }
   ],
   "source": [
    "round(stats.mannwhitneyu(orders[np.logical_and(orders['group'] == 'A', \n",
    "                    np.logical_not(orders['visitorId'].isin(too_visitors)))]['revenue'],\n",
    "            orders[np.logical_and(orders['group'] == 'B', \n",
    "                    np.logical_not(orders['visitorId'].isin(too_visitors)))]['revenue'], alternative='two-sided')[1], 3)\n",
    "\n",
    "round((orders[np.logical_and(orders['group'] == 'A', np.logical_not(orders['visitorId'].isin(too_visitors)))]['revenue'].mean()\n",
    "/\n",
    "orders[np.logical_and(orders['group'] == 'B', np.logical_not(orders['visitorId'].isin(too_visitors)))]['revenue'].mean()-1), 3)"
   ]
  },
  {
   "cell_type": "markdown",
   "metadata": {},
   "source": [
    "P-value увеличился, но средний чек группы B все равно остался больше, чем у группы А, хоть и в сравнении с \"неочищенными\" данными стал меньше 1.7%."
   ]
  },
  {
   "cell_type": "markdown",
   "metadata": {},
   "source": [
    "## Вывод"
   ]
  },
  {
   "cell_type": "markdown",
   "metadata": {},
   "source": [
    "**В первой части проекта мы сделали приоритизацию гипотез двумя методами ICE и RICE.**\n",
    "\n",
    "*Лидеры по гипотезе ICE*\n",
    "\n",
    "| Гипотеза  | ICE  |\n",
    "| ------- | -------- |\n",
    "| Запустить акцию, дающую скидку на товар в день рождения | 16.2   |\n",
    "| Добавить два новых канала привлечения трафика, что позволит привлекать на 30% больше пользователей  | 13.3 |\n",
    "| Добавить форму подписки на все основные страницы, чтобы собрать базу клиентов для email-рассылок | 11.2 |\n",
    "\n",
    "*Лидеры по гипотезе RICE*\n",
    "\n",
    "| Гипотеза  | RICE  |\n",
    "| ------- | -------- |\n",
    "| Добавить форму подписки на все основные страницы, чтобы собрать базу клиентов для email-рассылок | 112   |\n",
    "| Добавить блоки рекомендаций товаров на сайт интернет магазина, чтобы повысить конверсию и средний чек заказа  | 56|\n",
    "| Добавить два новых канала привлечения трафика, что позволит привлекать на 30% больше пользователей | 40|\n",
    "\n",
    "\n",
    "**Проведя анализ A/B теста, видно, что в каждом пункте результаты лучше у группы B.**\n",
    "\n",
    "* По куммулятивным графикам каждый раз результаты лучше у группы B.\n",
    "\n",
    "![title](data:image/png;base64,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)\n",
    "\n",
    "![title](data:image/png;base64,iVBORw0KGgoAAAANSUhEUgAAAo0AAAEWCAYAAAAD5K1QAAAABHNCSVQICAgIfAhkiAAAAAlwSFlzAAALEgAACxIB0t1+/AAAADh0RVh0U29mdHdhcmUAbWF0cGxvdGxpYiB2ZXJzaW9uMy4xLjAsIGh0dHA6Ly9tYXRwbG90bGliLm9yZy+17YcXAAAgAElEQVR4nOzdd5hU5fn4//c923tf2i69CCIdLKgsdowlxh4LdhM1mvhJ0RRLLF8T9ZeYGBO7KIpi713XBkpHFFhYemd7rzPP74/n7O6wbBmWmZ0t9+u65jpnntPuOTsL9z7tiDEGpZRSSiml2uIKdgBKKaWUUqrr06RRKaWUUkq1S5NGpZRSSinVLk0alVJKKaVUuzRpVEoppZRS7dKkUSmllFJKtUuTRqWUUkop1S5NGpXyIxHZLCJVIlLu9fqLn68xWESMiIT6GM8J/ry+Ukqp3qnd/3SUUgfsdGPMJ8EOQimllPInrWlUqpOIyDMi8j8R+VhEykTkCxEZ5LX9IRHZJiKlIrJURI7x2pYkIh+IyF7gBqf4ryKSJyJviUi8s5+IyD9EJF9EngEEONM570oRGeN1TiMiw531gU4N6Vzn/T61mSJynYj8KCIprXy2xhpNEZkmIrucZV8RqfQ+TkQmOXGHichlznV+47X9VKfsbuf9DyJyutf2MOfzTWz2WSqcmt06r2NdIvKIc71yEakWkWxn20qnrEpEPF41w388gPvTcMwPIpLV0r113t/t/Dwa3p/h3M9iEckWkdHN7qV3bfUCpzxCRP4pIjud1z9FJKKln4ez/9Uissb5rq0WkUle57/VKSsSkadFJNLruNNEZIUT2wIRGdfsvHNFpNbr3m332vZMw7133g8XEeP1PkFEnnS+Hzuc+xLibLtMRNyyby39ac62o0RksYiUOMujWvnMzb+3zd+3d/2vvb4385yXyylr9fdTqd5Ck0alOtdFwF1AKrACeN5r22JgApAMvAC87PWf+V1ACTAIqHbKdgEDATdwh1N2NnAqMAZ4GegPpACjnGs910pcdwEFLW0QkQuA3wInG2Na3Mdr39HA68DFxphFxpjdQDZwntdulwAvGmPqnPe5wGyv7VcBa7zePwtc7PX+VGCXMWa5c82Gf8fGGWNi2feengSc5bWtIeHGGDPeKZsF7DTGxDqve1v4aK3dn0QgDpgPPNDC9v2IyEhgHvBrIA14D3hbRMK9djvdK56GBOlPwBHY78h4YBrw51aucS72O3EpEA+c0Sz+i4CTgWHAyIbzOIn4U8C12O/No8BbzZJTAe7xuncH4hmgHhgOTMT+fK7y2r7Q63PHGmPeEZFk4F3gX05M/x/wrrT8B4zHWbb2f1t712/wMPZne6kxpuGcbf1+KtUraNKoVOd61xjzpTGmBpsEHCkimQDGmLnGmAJjTL0x5kEgApvsAZwO/McYUwU84ZT913n/EPAzr/2eN8bsNca8C+wAnjLGVAL/AA4TkcHeATk1SUcCc1qI9xTgSWCWMWZ7C9u9DQI+Av5sjPnUq3wOTtLn1OpcyL7J6x5gs4gcKSJ9nPMs8to+FzhVnNpUbNLpfXxDslXbSlwChLQTe6vauT/e528zofZyPvZ78LGTOD8ARAEt1p55uQj4q/OzzQPuxN6LllwF/N0Ys9hYucaYLV7bHzbGbDPGFAL3YH8mANcAjxpjvjPGuI0xc4AabLLaIIrW73WrnJ/tqcCvjTEVxpi92O/kBe0c+hNgvTHmOed3Yx6wFvtdb26PE9tJHb2+iNwFzATO9vrDpr3fT6V6Be3TqFTn2tawYowpF5FCbG3gNhH5LXCl895ga4hSnd37AHmtnHMv0Ndrv29b2skYUycixc6+m702/Q34CzC6hcOecPadAeS0/dH4N7ASOBF42qv8TeB/IjIE+59siTFmUbNjn8AmOjnYmsXGpmdjzE4R+QY4W0Rex9Zu3eR1bLKzLGohpo+wCeZ6EanD/pvX/Nrtaev+5GOT1jpsjaa3ZSLSUEsVCbzorPcHGhM4Y4xHRLYBA9qJY5/jnPX+reybCWxo41zbvNa9zzMImC0iv/LaHt7sOn1p/bsI8FsRaajR9a6YGASEAbtEBK/t3rG0pPnnboh5v/tljKkRkeuBR0UkpgPXnwQkYX/vhgI/NGxo5/dTqV5BaxqV6lyZDSsiEotNeHY6/aN+j23GTTLGJGKboxv+d8uj9f+g0rE1LG3uJyJh2Ca3PV7Fx2Gb/Oa3cu4LsTVj94hIRpufDO4HjgemicgZDYXGmGrn/Bezfy1hg/eB6dhm6pa2N9RWnottwtzhtW0ktrm6vPlBTtPifOx9yQRubOczNNfe/Uk1xkQDZwKvikiU17ZJxphE52fp3XS9E5vAALYfqhOb92dqyT7HYbsm7Gxl323YpufWZHqte59nG7bpOdHrFe3U7jV8h8Zi/zhozQNen3tSs5hqsPes4dzxxphD2zgX7P+5G2Ju8X4ZY54wxgxwru/dH9OX65cAJ2BbAZ7y6u/Y3u+nUr2CJo1Kda5TReRop//aXcC3xpht2H5x9djkJlREbsPWZDR4D7jOSUoa+mD90nl/I/C2134/F5E0EfkJtjbmchGJxtbOrWXfWsY7gN8bYwwt+8oY8wO2P9lj7Xy2r5xm8CuBR0Qk0Wvbs8Bl2L51+yWFxhg3tkZvrtNk2twb2ATkJudcAIhIKnCLs30/zgCIJ4DfGGNK2om/JXfQ9v1p4AYSaGoqb8t84CcicryThP0fNplZ0M5x84A/Oz/bVOA2bNN9S57A1vhNFmu4eA26Aq4XkQynv+CfgJec8seBX4jI4c5xMSLyExGJc7ZfDuwGlvjwOfdhjNmFrfl9UETincEmw0RkRjuHvgeMFJGfi0ioiJyP7bP7TgCuv8EYs8sY8xhQiu3LC+3/firVK2jSqFTnegG4HSgEJtM0wOND4ANgHbbprZp9m83+jB00sQXblwpsM+E2bNNnw1yQ84HPsMnhudhamgLnvJcBlzRLgJYbY7J9iPs+oJ+IzG5vR2PMF9gk7h9eZd9gByksa9a3zvu4p40x/6+VbVXAq8AQ4DWvTS9ia05vaSWc3wObjTGvthd3K9q7P8UiUo5NZK/1JTE1xuRgf+7/xjZvn44d+NJeP8G7scna98AqYJlT1tI1Xsb2VXwBKMP+PJK9dnkBm0BtxDZj3+0ctwS4GjsQpAg7SOkyABG5CDswZghQ5nzu94H+IvK/9j6341JsYr3aOf8rQL+2DnAGX52GTa4LsD/T04wx+T5es6PXvwqbeI+i/d9PpXoFaf8PaKWUP4idcmW7MabFEa8HcJ7BwCYgzBhT386+m4GrTBeYN1JEPgNeMMY80e7OLR9/GzDSGHNxuzurVnX0OyEilwGDjTF3NCvPAO42xlzmpxCVUl2UDoRRSgWciEzFNi+f2cHjk7HN3q2NFlaBV4Ftsm2uHltzrpTq4TRpVEoFlIjMAX4K3GSMKevA8VcD/wSeM8Z86e/4lG+cJu+WyncDN3dyOEqpINDmaaWUUkop1S4dCKOUUkoppdrV65qnExMTzfDhw9vfUflNRUUFMTExwQ6jV9F73vn0nnc+veedT+9551u6dGm+MSYt2HFAL0wa+/Tpw5IlBzzFmDoI2dnZZGVlBTuMXkXveefTe9759J53Pr3nnU9EWpymLBi0eVoppZRSSrVLk0allFJKKdUuTRqVUkoppVS7el2fxpbU1dWxfft2qqurgx1KqyIjI8nIyCAsLCzYoSillFKqF9KkEdi+fTtxcXEMHjwYEQl2OPsxxlBQUMD27dsZMmRIsMNRSimlVC+kzdNAdXU1KSkpXTJhBBARUlJSunRNqFJKKaV6Nk0aHV01YWzQ1eNTSimlVM+mSaNSSqnWVRbC1/+ADZ9BbWWwo1FKBZH2aVRKKdW671+CT+6w6yHhkDENhs6AIcfCgMkQooPzlOotNGn0g/r6ekJD9VYqpXqgvLUQmQjnPAkbv4BNX8Dn98Ln90B4LAw6yiaQQ2ZAn7Hg0gYspXoqzXR8cNdddzF37lzS0tLIzMxk8uTJvPPOO0yYMIGvv/6aCy+8kLPPPpsrrriC/Px80tLSePrppxk4cCCXXXYZp512Gueccw4AsbGxlJeXk52dzW233UZcXBy5ubnMnDmTRx55BJf+g6uU6kryciB9NAw/wb7ANllv/tomkJu+hPUf2fKoZBhyjE0gh8yAlGHgj/7Y7joo3wvlu6Fsj11WFRNXGgdmhn+uoZRqlyaN7Vi8eDGvvvoqK1eupK6ujkmTJjF58mQAamtrG59jffrppzN79mxmz57NU089xY033sgbb7zR5rkXLVrE6tWrGTRoEKeccgqvvfZaY3KplFJBZ4ytaRx9xr7l0ckw5gz7AijdaZPHTV/a2sjVb9ry+AFOAnmsbdKO77/veWoroGw3lO9pWpbvaUoMG5aVBS2GNxlg+1Mw4SIYdz7Epvn14yul9qVJYzu++eYbzjzzTCIjI4mMjOT0009v3Hb++ec3ri9cuJDXXnsNgEsuuYTf//737Z572rRpDB06FIALL7yQr7/+WpNGpVTXUZEPVUWQdkjb+8X3h/EX2JcxULjR1kJu/ALWfQArX7D7pYyA2PSmxLC2bP9zucIgtg/E9YGkwTDwcPs+tg/E9W1ahkSQ8+b9jKpYDB/9CT65HUaeYhPIESdqX0ulAiBgSaOIPAWcBuw1xox1ypKBl4DBwGbgPGNMkdj5ZB4CTgUqgcuMMcucY2YDf3ZOe7cxZo5TPhl4BogC3gNuMsaYQH2elsTExLS7T2hoKB6PBwCPx0NtbW3jtubT6Oi0OkqpLiVvrV2mjfL9GBHbLJ0yDKZcAR4P7P3R6Q/5JdSUQd/DYPiJNjGM7essnfWoJJ/7Re7qfwqjsu6DvWthxVxY+RKsfQdi0mHceTDxYtu0rpTyi0B2oHsGOKVZ2S3Ap8aYEcCnznuAWcAI53UN8F9oTDJvBw4HpgG3i0iSc8x/gau9jmt+Lb+YPn06b7/9NtXV1ZSXl/POO++0uN9RRx3Fiy++CMDzzz/PMcccA8DgwYNZunQpAG+99RZ1dXWNxyxatIhNmzbh8Xh46aWXOProowPxEZRSqmM6kjQ253LZJPGoG+Ci+XDF+3DuMzDrPjj6NzDhQhh2HPQ5FGJSOjaQJv0QOOluuHk1XPgiZE6D7/4HjxwBjx8Hi5+EquKOfwalFBDApNEY8yVQ2Kz4TGCOsz4H+KlX+bPG+hZIFJF+wMnAx8aYQmNMEfAxcIqzLd4Y861Tu/is17n8aurUqZxxxhmMGzeOWbNmcdhhh5GQkLDffv/+9795+umnGTduHM899xwPPfQQAFdffTVffPEF48ePZ+HChfvUTk6dOpUbbriB0aNHM2TIEM4666xAfASllOqY/HV2hHT8gGBH4puQMBg1Cy54Hm5eCyffC3VV8O7N8OAoePUq2PC5rf1USh0wCWSLrogMBt7xap4uNsYkOusCFBljEkXkHeA+Y8zXzrZPgT8AWUCkMeZup/wvQBWQ7ex/glN+DPAHY8xprcRxDbYGk7S0tMnz58/fZ3tCQgLDhw9v9XOUl5cTGxtLZWUls2bN4qGHHmLChAkduCNNvvrqK/71r3/x8ssv+3xMbm4uJSUlB3XdYGi4f6rz6D3vfD3xno9f8RdC3FUsm/xAsENpkU/33BjiynLpu/tT0vd+SVh9BdUR6ezuO5PdfY+nOqpP5wTbQ/TE73lXN3PmzKXGmCnBjgOCOBDGGGNEpFP6IBpjHgMeAxg1apTJysraZ/uaNWuIi4tr9fhrr72W1atXU11dzezZsxubng9GdHQ0oaGhbV63ucjISCZOnHjQ1+5s2dnZNL/nKrD0nne+HnnPl+yBYcd32c/l+z2fCVwNddWw9h0iVzzP4A3zGbzlJRh8DIw50zbBJw+FuP4612QbeuT3XPmss5PGPSLSzxizy2li3uuU7wAyvfbLcMp2YGsbvcuznfKMFvYPiBdeeMHv58zKytJfPKVU11VVZEc5H0x/xq4mLBIOO8e+irfByhftAJr3ftu0T2gkJA2xCWTyEDugJ3koJA+zzfSaUKperLOTxreA2cB9zvJNr/IbRORF7KCXEiex/BC412vwy0nArcaYQhEpFZEjgO+AS4F/d+YHUUqpHi1vnV22N91Od5WYCTN+B8f+Fkq22WmCGl4FznLDp1Bf3XRMSISdBqgxkRxik8nkoZCQAa6QoH0cpTpDIKfcmYetJUwVke3YUdD3AfNF5EpgC3Ces/t72Ol2crFT7lwO4CSHdwGLnf3+aoxpGFxzHU1T7rzvvJRSSvlDfo5dpo0MbhyBJgKJA+1raNa+2zweKNsFhRu8EsoNULjJDqipr2raNyTcJpT9xsOg6faVOkKfVqN6lIAljcaYC1vZdHwL+xrg+lbO8xTwVAvlS4CxBxOjUkqpVuTl2KbaxEHBjiR4XC5IGGBfQ47dd5sxTkLplUwW5Nq5KFc5Axxj0uyzuQcdbZfpY7R5W3Vr+kQYpZRS+8tba2vKtMm1ZSL2STjx/WGw1xy7DU/E2fw1bFkAW75peqxiZKKTRE63y77jIET/G1bdh35bu5A33niDs846izVr1nDIIT20H5FSqnvIW2cnyVYHxvuJOJNn27LirbD5G5tAblkAOe/Z8vA4+5jEhtrI/hMhNDx4sSvVDk0au5B58+Zx9NFHM2/ePO68885gh6OU6q1qyqFkK0y6NNiR9AyJA2HCQPv0G4DSXbB1gZNILoBP/2rLQ6Mgc6qticw83A6wiR+gtZGqy9BvYhdRXl7O119/zeeff87pp5+uSaNSKnjyG0ZO96DpdrqS+H4w9mz7AqgosEnklgW2WTv7PsCZxlhC7MjsxIGQNMj2MU0c1PQ+tq/2k1SdRpPGZu58+0dW7yz16znH9I/n9tMPbXOfN998k1NOOYWRI0eSkpLC0qVLmTx5sl/jUEopn2jS2LliUmD06fYF9jnZu1ZA0RbbtF3sLNd/AuW79z02JBwSMr2SyoE2qUwabNdj0nQEt/IbTRq7iHnz5nHTTTcBcMEFFzBv3jxNGpVSwZG3FlyhtnlUdb6oxP2n/2lQVwUl252EcktTQlm0Bda8DZUF++4fGmWnTRowBQZMhowpkDJCaydVh2jS2Ex7NYKBUFhYyGeffcaqVasQEdxuNyLC/fffj+hfiEqpzpaXAynDISQs2JGo5sKi7Kj21BEtb68pd2onnRrKoi2w5wc7DdCSJ+0+EfF20E2Gk0gOmAJx+gxu1T5NGruAV155hUsuuYRHH320sWzGjBl89dVXHHvssW0cqZRSAZCXA306/w9o5QcRsdBnjH1583hst4MdS2HHErv85iHw1Nvt8RmQMbkpiew/AcJjOj9+1aVp0tgFzJs3jz/84Q/7lJ199tnMmzdPk0alVOeqq4aiTU2DNFTP4HJB+iH2NfEiW1ZXBbu+b0oity9pmlNSXHYy8gGTm5q1e+ojJZXPNGnsAj7//PP9ym688cYgRKKU6vUKcsF4dBBMbxAWZeeJHHh4U1lFflMCuWOpTSKXzbHbQiM5SiJgabTt8+oKtV0YXGF2EvjG9VA7TVDz9ZCwpuOSh8DUq23NqOo2NGlUSinVpPGZ05o09koxqTDyZPuCpifcbF8Cu78nb8sGBvRNA3e9bdr21IG7zlmvb1qvrfTaXt9svQ7K98B3j8IJd8Bh5+nAnG5Ck0allFJN8nJs02TK8GBHoroC7yfcjD+f9dnZDMjKOvjzblsMH/wBXr8WFj0Gp/zNTmyuujRN7ZVSSjXJW2vn+AuLCnYkqifLnApXfgI//R+U7IAnT4BXr7brqsvSpFEppVSTvHWQqk3TqhO4XPbRir9aCsf81vaffHgKZP/NNm+rLkeTRqWUUpa7zg6E0f6MqjNFxMLxf4EbFsOIkyD7Xnh4Kqx6xfapVF2GJo1KKaWswk12kIJOraKCIWkQnDcHLnsPopPh1SvhqVNgx7JgR6YcmjR2ESEhIUyYMIHx48czadIkFixYEOyQlFK9TePI6ZHBjUP1boOnwzXZcMa/oXADPH4cvHEdlO1u70gVYDp6uouIiopixYoVAHz44YfceuutfPHFF0GOSinVq+SttctUTRpVkLlCYNKlMOan8NUD8O1/bZ/HY26GI66HsMiDO7/HA2U7bXeMglwo2AClO5x5JSPsnJKhERAS7iwjIDTcaxneQllE0zGx6RDXz44+70E0aeyCSktLSUpKCnYYSqneJi8HEjIhIi7YkShlRcbDiX+FyZfBR3+BT/8KS+fASXfB6DPaT8qqimxCWJAL+eubEsTCDVDnNdgmNAoSMuzE9u5aqK8Bdw3U19ql8Rx47BHxznPCR9na+9RRtr9w0mCbFHdDmjQ29/4tsHuVf8/Z9zCYdV+bu1RVVTFhwgSqq6vZtWsXn332mX9jUEqp9uTlaC2j6pqSh8IFz8PGbPjgVph/KQw+Bk6+135nizZ5JYZOkliwHioLms4hIbbfZMpwGHKMM//kCPs+rl/bE4y7620y6Z1INi5rnG21TWWlO+2zvvPWwobPYOULTecKCbfXTB1pk8iGZcqIg69BDTBNGrsI7+bphQsXcumll/LDDz8gPaxqWynVRXnc9j+5wccEOxKlWjc0C679yj7a8LO74dFjnQ1eo6xj+9ik7JCfNCWFKcNtDV9oeMeuG+I8DpHojh1fVWwT2vwc+8dZ/jrYtRLWvOVViyk2qd2nZrJrDUrTpLG5dmoEO8ORRx5Jfn4+eXl5pKenBzscpVRvULwV6qt1uh3V9YWEwtQrYezZ9mkyHreTGA6zy8j4YEe4v6hEO6F586fe1FU7NaQ5do7UhuXGz23NZRejSWMXtHbtWtxuNykpKcEORSnVW+Svs0tNGlV3EZUIM34f7CgOTlgk9B1rX948bijabH8v7zw1KKG1RJPGLqKhTyOAMYY5c+YQEtI9O8oqpbohHTmtVNfhCml65ncXokljF+F2u4MdglKqN8vLsX3BopODHYlSqovSyb2VUkrpyGmlVLs0aVRKqd7OGJs0drGRmkqpriUoSaOI3CQiP4jIjyLya6csWUQ+FpH1zjLJKRcR+ZeI5IrI9yIyyes8s53914vI7IOJyXTxh6J39fiUUt1Y6U6oLdNBMEqpNnV60igiY4GrgWnAeOA0ERkO3AJ8aowZAXzqvAeYBYxwXtcA/3XOkwzcDhzunOv2hkTzQEVGRlJQUNBlEzNjDAUFBURGdu1JP5VS3VTjM6c1aVRKtS4YA2FGA98ZYyoBROQL4GfAmUCWs88cIBv4g1P+rLEZ3bcikigi/Zx9PzbGFDrn+Rg4BZh3oAFlZGSwfft28vLyDuJjBVZkZCQZGRnBDkMp1RPlNSSN2jytlGpdMJLGH4B7RCQFqAJOBZYAfYwxu5x9dgN9nPUBwDav47c7Za2V70dErsHWUpKWlkZ2drZfPkhn27JlS7BD6JDy8vJue8+7K73nna873/OROZ+TFhrHN4t/BFkd7HB81p3veXel97x36/Sk0RizRkT+BnwEVAArAHezfYyI+K2t2BjzGPAYwKhRo0xWVpa/Tq18kJ2djd7zzqX3vPN163u+8W/Q71CyZs4MdiQHpFvf825K73nvFpSBMMaYJ40xk40xxwJFwDpgj9PsjLPc6+y+A8j0OjzDKWutXCml1IHIW6v9GZVS7QrW6Ol0ZzkQ25/xBeAtoGEE9GzgTWf9LeBSZxT1EUCJ04z9IXCSiCQ5A2BOcsqUUkr5qiIfqgq1P6NSql3BeiLMq06fxjrgemNMsYjcB8wXkSuBLcB5zr7vYfs95gKVwOUAxphCEbkLWOzs99eGQTFKKaV81PD4wDSd2Fsp1bagJI3GmGNaKCsAjm+h3ADXt3Kep4Cn/B6gUkr1Fo1Jo9Y0KqXapk+EUUqp3ixvHYTHQnyLk08opVQjTRqVUqo3y1trnzktEuxIlFJdnCaNSinVm+kzp5VSPtKkUSmlequqYijfrdPtKKV8okmjUkr1Vvnr7FKTRqWUDzRpVEqp3qpx5LQmjUqp9mnSqJRSvVVeDoRGQuKgYEeilOoGNGlUSqneKi8HUkaAKyTYkSilugFNGpVSqrfKy9GmaaWUzzRpVEqp3qi2Akq26nQ7SimfadKolFK9UePIaX3mtFLKN5o0KqVUb5SXY5da06iU8pEmjUop1Rvl5YArFJKHBjsSpVQ3oUmjUkr1Rnk5kDwMQsKCHYlSqpvQpFEppXqjvLU6clopdUA0aVRKqd6mvgaKNml/RqXUAdGkUSmlepuCXDAerWlUSh2QdpNGEYlroeyUwISjlFIq4PSZ00qpDvClpvEjEUkHEJEUEXkeuCmwYSmllAqYvHUgLkgZHuxIlFLdiC9J4y3AhyJyE/AV8IExZlZgw1JKKRUweWshcRCERQU7EqVUNxLa3g7GmC9E5BLgPeA6Y8w7gQ9LKaVUwOTl6CAYpdQBazdpFJG3AQPkAS+KyGcAxpgzAhybUkopf3PX24EwI08OdiRKqW6m3aQReCDgUSillOocRZvAU6eDYJRSB8zX5ulBwAhjzCciEg2EBD40pZRSfqcjp5VSHeTLlDtXA68AjzpFA4A3AhmUUkqpAMnLscvUkcGNQynV7fgyevp6YDpQCmCMWQ+kBzIopZRSAZKXA/EZELHfFLxKKdUmX5LGGmNMbcMbEQnFDoxRSinV3eTnaNO0UqpDfEkavxCRPwJRInIi8DLw9sFcVER+IyI/isgPIjJPRCJFZIiIfCciuSLykoiEO/tGOO9zne2Dvc5zq1OeIyI6FFAppdri8diJvXW6HaVUB/g6uXcesAq4Fjtf4587ekERGQDcCEwxxozFDqq5APgb8A9jzHCgCLjSOeRKoMgp/4ezHyIyxjnuUOAU4BER0QE6SinVmpKtUF8FadqfUSl14NpNGo0xHmPM48aYc40x5zjrB9s8HYqtuQwFooFdwHHYATcAc4CfOutnOu9xth8vIuKUv2iMqTHGbAJygWkHGZdSSvVceevsUmsalVId4Mvk3qtooQ+jMWZcRy5ojNkhIg8AW4Eq4CNgKVBsjKl3dtuOHaWNs9zmHFsvIiVAilP+rdepvY9p/hmuAfyTdwEAACAASURBVK4BSEtLIzs7uyOhqw4qLy/Xe97J9J53vu5wzzO3vssw4OucPOo3Zgc7nIPWHe55T6P3vHfzZXLv05ylAO8Cpx7MBUUkCVtLOAQoxvaRPOVgztkeY8xjwGMAo0aNMllZWYG8nGomOzsbveedS+955+sW9/yNlyEmnaNPPD3YkfhFt7jnPYze897Nl8m9tzSsi4jb+30HnQBsMsbkOed8DTulT6KIhDq1jRnADmf/HUAmsN1pzk4ACrzKG3gfo5RSqjkdOa2UOgi+TO59s4j8n4jMxfYbPFhbgSNEJNrpm3g8sBr4HDjH2Wc28Kaz/pbzHmf7Z06fyreAC5zR1UOAEcAiP8SnlFI9jzF2jkbtz6iU6iBfmqfjAA/wKfDSwV7QGPOdiLwCLAPqgeXYpuN3gRdF5G6n7EnnkCeB50QkFyjEjpjGGPOjiMzHJpz1wPXGGPfBxqeUUj1S2S6oKdWaRqVUh/nSPH2nvy9qjLkduL1Z8UZaGP1sjKkGzm3lPPcA9/g7PqWU6nEaHh+oSaNSqoN8madRKaVUd9eYNGrztFKqYzRpVEqp3iBvLUQmQkxasCNRSnVTmjQqpVRvkO88PlAk2JEopbopXyb3fqulcmPMGf4PRymlVEDkrYVDTmt/P6WUakWrSaOI3GeMuQVIwo6gvhfY01mBKaWU8pOKfKgs0EEwSqmD0lZN43EAxphjROQnwB+xcyn+3RhT2hnBKaWU8gMdOa2U8oO2+jTublgxxrxrjJkO/Ah8JCK/DXhkSiml/CNvrV3qyGml1EFoq6bxHAARKQOMUybYRHMq8EBgQ1NKKeUXeTkQHgvxA4IdiVKqG2s1aTTG1DrLuM4LRymllN/l50DqSB05rZQ6KL6Mnp7UUrkxZpn/w1FKKeV3eTkwdGawo1BKdXO+PHt6CbAe2IFtngbbXH1coIJSSinlJ9Ul9rnTaSODHYlSqpvzZXLvk7CDYpYCZxtjZhpjNGFUSvns7ZU7Wb+nLNhh9E556+xSB8EopQ5Su0mjMeYTY8wMYCHwjoj8SUSiAh+aUqoneH35dn41bzln/ucbPvpxd/sHKP9qHDmt0+0opQ5Ou0mjiNwsIjcDg4E3gPOBTQGOSynVA+TuLedPr//A5EFJjEiP5dq5S3kkOxdjTPsHK//IWwshEZA4KNiRKKW6OV/6NDYfPf1qIAJRSvUsVbVurn9+GZFhIfzn55NIjA7jd698z98/yCF3Tzn3/uwwIsNCgh1mz5e/zo6cdum9VkodnHaTRmPMnZ0RiFKqZ7nz7R/J2VPGnCum0TchEoB/XTCBkemxPPjxOjYVVPDoJZNJj4sMcqQ9XN5ayJga7CiU6tLyy2v48MfdVNd5qHd7qPcY6twe6t2GOo8Ht9vsV1bvNrgbyry21Xs8RIaFkBYbQVpcBKnOsuGVGhtBYlQYLlf3mwLLlyl3Pqdpcu9GOhhGKdWa15dv58XF27h+5jBmjExrLBcRfnX8CIanx3Lz/JX89OFveHz2FA7tnxDEaHuw2goo3goTLwl2JEp1SfVuD3O/3cKDH6+jrLp+v+0ugdAQF2EuIcQlhIW4CA0RQl0uwkKE0BAXoS7Zt8zlorS6no15FeSV11Bb79nvvKEuaUwmU2PDm5LK2AhSnWVDWVfiS/P0b7FT7cwFLgpsOEqp7q6hH+O0wcn85oSWp3mZdVg/MpOjufrZJZzz34X84/zxnDK2XydH2gvkr7dLHQSj1H6WbC7kL2/+yJpdpUwfnsIfTx1NRmK0TQBDhDCX66BrA40xlFbXk1dWQ355DXllzqu8hnxnubeshtW7Sskvr8Xt6dr9vX1pnl4KICJVDetKKdUS736M/7pwIqEhrY+1GzsggTdvmM41zy7lF3OX8duTRnL9zOGIPrXEf/Jy7DJVk0alGuSV1fD/3l/Da8t20C8hkkcumsSssX0D8m+PiJAQFUZCVBjD02Pb3NfjMRRV1joJZS155dXkldVw7d/8HlaH+VLT2KBrp79KqaBrqR9jW9LjInnxmiO45dXveeCjdazbU87fzxmnA2T8JW8tuEIheWiwI1Eq6OrdHp5duIV/fLyO6no3v8waxq+OG050+IGkQoHjcgkpsRGkxEZA36bya4MX0n586dNYhk0Yo0WkFNtUbYwx8YEOTinVfbTWj7E9kWEh/OP8CYzsG8f9H+awpaCCxy6dQp94HSBz0PLXQfIwCA0PdiRKBdV3Gwu4/a0fWbu7jGNGpHLHGYcyLK3tmj+1P1+ap5tPuaOUUvvwpR9jW0SE67KGMzwtll+/tIIzH/6Gxy+dwmEZOkDmoOSthfTRwY5CqaDZW1rNve+t4Y0VOxmQGMX/Lp7EyYcGpim6N/DlMYL7EZE7ROQpEdF5HJTq5arr3Nzwgm/9GNtz0qF9eeUXRxHiEs59dAHvfr/Lj5H2MvU1ULhJHx+oeqU6t4cnvtrIcQ9+wXurdnPDzOF8cvMMThnbTxPGg3AgzdPitYwEEoCagEanlOry7nzbNvn42o+xPWP6x/PG9dP5xdylXP/CMtbvHcFNx4/Qf+gPVMEGMG5NGlWv8+3GAm578wfW7Skna1Qat59+KENSY4IdVo/gS+/PXGPMRO8CEVlujKkMUExKqW7ijeU7mLfowPsxtictLoIXrj6cW19bxT8/Wc/6veU8cM54osJ1gIzPGp45nXrg3QWU6o72lFZzz7treGvlTjKSonjsksmcOKaP/sHpR74kjWEiMgAo8koUdSS1Ur3chrxy/vj6qg73Y2xPRGgID547nlF94rjvg7VsLajk8Uun+KU2s1fIXwcIpI4IdiRKNdpRXMUby3ewfk8ZCVFhJEaHkxQdRlJMeON6YlQ4iTFhxEWE+pTw1bk9PP3NJh76ZD11HsONx4/guqxhOgtDAPg6zvxjIFZEIoAPgdTAhaRUgJXtgZAwiE4OdiTdVnWd7/MxHgwR4doZwxiWFstNLy7njIe/5rFLpzAhMzEg1/NZbQXsXQt7V8PeNVC4gdHFlVD9EcSmQ2wfZ+msR6d0/rOf89ZC0mAIi+rc6yrVTFl1He+v2s1ry7fz7cZCAAYkRlFWXUdpC09haRDqEhKjmxLLxgQzOpwEZxnqEh79ciO5e8s5/pB0bjt9DINStCk6UHwZPT22Yd1JGn8GnC0itwGvGGNWH8gFRWQU8JJX0VDgNuBZp3wwsBk4zxhTJPbPjIeAU4FK4DJjzDLnXLOBPzvnudsYM+dAYlG9SG0lrHkblj8Hm7+yZVFJdjqSlOHOa6hdJg+DCJ2KoS3+7sfYnhPG9OHV647iqjlL+Ol/viExOowBiVH2lRS133pyTLh/mqTqa6FgvU0MGxLEvauhaHPTPqFRkDyU+NICWLoE6lrouSMuiE5tlkw2JJd9ICataVtkAnjc4Km3fRI9zqtxvb1yj13f9b0+CUYFTb3bw1fr83lt+Q4++nE3NfUeBqdE85sTRnLWxAEMTIlu3K+kqo6iyjqKK2spqqyjqLK2cb24sbyWbYWVfL/dlns/mi8zOYonLp3CCWP6BOvj9hoHNKOlMaYGmCci64BYYO+BXtAYkwNMABCREGAH8DpwC/CpMeY+EbnFef8HYBYwwnkdDvwXOFxEkoHbgSnY5vKlIvKWMaboQGNSPZQxsGOZTRR/eBVqSm3NS9YfbVJYkGsHC2z+Gr5/cd9j4/o5CaV3UjnMHh/atZ4F2tkC1Y+xPYf0jeetG45m/pJtbCusZEdxFZvyK/g6N5/KWvc++0aFhdA/MZL+iVFkJHknlNEMSIqiT1zEvrWjHrdNBL0Tw71r7HfE49SEuEIhZQT0nwQTLrZT2aSPtt8JVwjfZWeTlZUFNeVQvgfK99plRZ7zfg+UO+t5OXbpqQvsTRt7dmDPr5QXYww/7CjlteXbeXvlTvLLa0mMDuO8KZmcNWkAEzMT9/tjLjTE1TSh9QFcp6rOTVFlHaVVdQxJjdGm6E7iy+jpaOD/gIHGmKtFZATQzxjzjh+ufzywwRizRUTOBLKc8jlANjZpPBN41hhjgG9FJFFE+jn7fmyMKXTi/Bg4BZjnh7hUd1aeB9+/BMvnQt4aWxM05kyYeDEMmg6uFppSayuhcCMUbmhKJgtyYe27UJnftJ+4IHFgUw1lnzFw6Fm2dqgXCHQ/xvYkx4TzixnD9ikzxlBcWceO4ir7KrLLnc771TtLKaio3eeYEJdwbsxKZoUtZQTbSK/eTKinummHpMGQPgYO+Yldpo+2P29f/mCIiLWvlGFt72cMVBc3JZfle+2rpsw2ZbtCQEJssuoKsd+9xvX2yl3gCoOMKT7eWaU6rqGf4uvLd5C7t5zwEBfHj07nrIkDyBqVTniof7uviAjR4aFEh4cyIFG7X3QmsblYGzuIvAQsBS41xox1ksgFxpgJB31xkaeAZcaYh0Wk2BiT6JQLduBNooi8A9xnjPna2fYpNpnMAiKNMXc75X8BqowxD7RwnWuAawDS0tImz58//2BDVwegvLyc2NjANveKx01y4TL67v6ElILFuIyb0riR7Op3AnvTj8Yd2vE+LqF15URV7SS6cidRVTu91ncQ6q6mPiSKXf1OYnvGadREpvvxU3VcIO55rdvw14VVlNQY/jo9iqTIwPRjDIQat6GgylBY7aGwso5j98whq+J9CklgtWcgazyZrDMZ5Hgy2RueQXJsFP1jXAyIdTEgzi5jwtpu7u6M77nal97zztdwz6vqDYt317NgZz05hR4MMCLRxVH9Q5nWL7Td3xflu5kzZy41xnSJvwB9aZ4eZow5X0QuBDDGVIofOguJSDhwBnBr823GGCMifhuhbYx5DHgMYNSoUSYrK8tfp1Y+yG5otguE/PW2RnHlPFtbE50KR/wSJl5MfPpo4oGA9eoyBnYuJ/TbR8j84TUyd7xjazSPvAEyJgfqqj4JxD2/9bXv2V6+jTlXTOvUZmm/KtsDL18GFQvgiOtJPvFOprtCGVJSzfA9ZYzYU8a6PeWs31vOwt1lVNQ21VCmxUUwsk8sI9LjGNknjhF9YhmZHkdCdBgQ4O+5apHe885V7/bwn9c+I7csYZ9+ir8+IWOffoqq5/IlaawVkSicaXZEZBj+mdR7FraWcY/zfo+I9DPG7HKanxv6S+4AMr2Oy3DKdtDUnN1Qnu2HuFRXV1MGP75hk8Vt39omuZEn2+bnESfZkdGdQQQGTIKzn4AT7oDvHoWlc+DH12DgkXDk9TDq1M4fNRsAwerH6FfbFsH8S6GqGM5+Eg47B7BPK2gYSDNzVFNNscdj2FlSxfo95azf6ySTe8qYv2TbPn0o0+MiGNEnlpDqGlbUr6N/QhT9EiPplxBF/8RIosMPqOu4Ul2CMYY9pTWs2lHCqh0l/LCjhOVbiyiqrCMxOq/Nfoqq5/LlX7PbgQ+ATBF5HpgOXOaHa1/Ivv0P3wJmA/c5yze9ym8QkRexA2FKnMTyQ+BeEUly9juJFmotVQ9hDGz91iaKP74OdRV2UMIJd8L4CyEuyKPmEjLgpLtgxu9tjN8+Ai9dDElD4IjrYMLPu+2I7GD3YzxoxsCSJ+H9WyBhAFz1CfQd2+5hLpeQkRRNRlI0Mw9pOZlct6eM9XvLyd1bzqY8N1/tWE/zHj8JUWH0S4i0r8Qo+ifYhLJfYiT9E6LomxCpnfh9VFPvprCiloLyWgoqalm+t57qH3bjMYZ6j8Hj2XfpNga322PL2tgnPjKMKYOSGJ+Z2Ct/FsYYdpdWs2q7TQ5tolhKfrmtH3IJDE+P5bhD+tDf5PGrs4/zez9F1T34MuXOxyKyDDgC+0f5TcaY/HYOa5OIxAAnAtd6Fd8HzBeRK4EtwHlO+XvY6XZysVPuXO7EVSgidwGLnf3+2jAoRvUwdVXw6lWw9h0Ij4WxP4OJl0DmNFvb15VExNnm8alX23gXPgzv/w4+vwemXA7TroH4/sGO0medNR9jwNRVwbv/Byuet7XQP3vMTrV0EFpLJrOzsznq6GPZU1rNzuIqdpVUs7Okil3F1ewqqWJncTUrthVTVLn/iOmUmPDG2smhqTEcMTSFqUOSiY0Ifi2lMYaCilpCRAgLdREWIoS5XLhcB/+7Z4yhtLqe/PIamwiW15BfXkN+eS0FFTXkl9llQXkteeU1lLU0p9+ypR2+fliI4BKhxpm+JTzUxYTMRI4YkszhQ1OYODCxx9UUN08Qv3dqEfPLbVeMhgTx2JGpHDYggcMGJDCmf3zjfcjOztaEsRfz9bdhBnA0tok6DDtFTocZYyqAlGZlBdjR1M33NcD1rZznKeCpg4lFdXFVRTDvQlvLeMIdNhnrDjV2IaFw6E/ta9siWPBv+OYhuxx7jm267jcu2FG26863V3fqfIx+VbwVXroEdq2AGbfAjD+0PHLej8JDXWQmR5OZ3HrfrqpaN7tKbFK5q6SaXcVV7CyxieXWgkq+yMnj0S83EuoSxmcmctSwFI4clsKkgUmdUgtWW+9h1Y4Slm4pZPHmIpZtKdpv9DnYiZfDQmwSGR7qctadpDLE5VXmvHe2V9W590kI69wtd19Pig4jJTaC1NhwRveP55iYcFKdqVlSYsNJiQln1crlTJs6hVCXixAXhLhchIgQEiJ26RJCXYLLWYY0vET2SXpLKutYtLmQRZsK+G5TIQ9/nsu/Pssl1CWMy0jg8KEpHD4kmcmDkoiLDHz3l/KaegrKa3B77L1puEO2Fts0rnuXG+9yZ4PB2JnHiqsaaxBbShBnjEznsAHxHJaRwOh+8T0uUVb+48uUO48Aw2lqSr5WRE4wxrSYyCnlN6W7YO7P7NQ35z5tp7bpjjKnwfnPQeEm+O5/sOw5Oy/kkGPtoJnhJwY8memIud9uYd6ird2zH+OGz+GVK+wcixe+CKNmBTuiRlHhIQxNi2VoWst//FTXuVmyuYgFG/JZsKGA/3yey78/yyUi1MWUwUkcNSyVo4alcNiABL/U/JZU1rF0q00Ql24uYuX24saat0Ep0WSNSufQ/vGI2Me11bkNtfUe6pxm34b1xm1uD3X1+74vr6mnzu2htt5DRGgIabERHNI3nlQnKUyJdRLCGPs+OSbcp89WvjmEQ/sf/HRXCdFhnDimDyc6k0OXVdexZEsRizYV8t3GAh7/ciP/zd6AS2DsgAQOH5LMtCEpTBuc3DgQyld1bo9TG23/UGiYHmpXcXXjeltPSekol8CI9DhNENVB8eXbchww2qnxQ0TmAD8GNCql8tfDcz+zNY0XvQJDZwQ7ooOXPARm/Q2yboWlz9iBMy+cB6kjbb/HcedDePBHH9a5Pdz73hqe/mYzM0amda9+jMbYGt1P74TUUXDB8+3Pl9jFRIaFcPSIVI4eYZ/WWlpdx6KNhSzYUMCCDfnc/2EOAHERoRw+NJkjh6UyfXgKI9Pj2m0yNsawrbCKxZsLWbKliKVbClm3pxywNYeHDkjg4iMGMXVwEpMGJZEe181ql/0kLjKMmaPSGwdGVdbWs2xLMd85NZFzFmzh8a82IWInnT98SLKTSCYjIux0kr+dTi1y0/tq9pZV42mh32vDRPRTByfTPzGKtLgIQl2yXw8cEUEa16HhnV1vKserPDU2nDH9EogK7339NZV/+ZI05gIDsf0MwY5kzg1YREptXwrPn2NHHV/2DvQ/6ClBu5aoRDj617aJ+sfXbZP1O7+GD26BQUfBsONh2HF2QulO7rNZWFHL9c8vY+HGAq48egi3zjqk+/RjrCmDN6+H1W/aWukzHu4eXRnaER8Zxglj+jQ+Ii2/vIZvNxbwTW4BCzfk88kaO9FESkw4RwxLYbpTEzkoJZp6j2H1ztLGBHHx5iLyyuzghrjIUCYNTOKM8f2ZPCiZCZmJmlS0Ijo8dJ9EvrrOzYptxXy3sZBFmwt4cfFWnlmwucVjw0Nc9Hf6q04fnsoA50lF/RKjGOCUx3SBvqtK+cKXb2ocsEZEFmG7UEwDlojIWwDGmDMCGJ/qbXI/gZcuhdg0uPi1bldLdEBCwmDceXDYubBlgX029oZP4aM/2e1x/W3yOGymXUYnBzSc1TtLuea5Jewtq+HBc8dz9uSMgF7Pr/Jz4aWLIH8dnHgXHPWrrjdIyk9SYyM4bVx/ThtnB1TtKK5iQW4+CzcU8M2GfN79fhcAfeMjKamqo6rOTg80IDGK6cNSmDw4mSmDkhjZJ44QPwxm6Y0iw0I4YmgKRwxNAUY4/UCLWbK5iNAQV1NimBBFSky4XwYNKdUV+JI03hbwKJQC+H4+vPFLSBsNF78a/Gl0OosIDJ5uXwDF22DDZzaBXPs2rJgLCPSfCMOdWsiMqX6dj/LtlTv53SsrSYoO55VfHMm4jES/nTvg1r4Hr19r78clb/SMrgwHYEBiFOdOyeTcKZkYY9iUX8E3GwpYvKmQ5JhwpgxOYsqg5O43kKkbCQ91MXlQMpMHBfYPO6WCrdWkUUSGA32MMV80K58O7DbGbAh0cKoXWfgIfHgrDD7G9kPrJc9yblFiJkyebV8eN+xYZhPIDZ/BVw/Cl/dDRLwdSDNspm3OTh7SoUu5PYYHPsrhv9kbmDIoif9ePJm0OB+er9wVeNyQfR98+XebUJ/3nL13vZiINA6yueSIQcEORynVw7RV0/hPWp4su9TZdnpAIlK9izHwyR3wzT9h9Bnws8chTGtEGrlCIHOqfWXdYp9msukLm0DmfmbnggRIHuo0ZR8PQ47x6dQlVXXc9OJysnPy+PnhA7nj9EO7z/xrlYXw2jWQ+7F9EtCpD+r3RimlAqytpLGPMWZV80JjzCoRGRywiFTv4a6Ht2+yza9TroBTH+gRj9wLqKhE+3zrMWfahLsg10kgP4UVL8DiJ0BcHBUaBz/0hegU2xcyOhmikhvf76yN5p7svewoDeP+n0zl3OmHdslpf1q0e5V92k7JDjjtnzD5sh7bf1EppbqStpLGtjo1Rfk7ENXL1FbCK5fDug/sxMtZt+h//AdKBFJH2Nfh10J9DWz7DjZ/Q/665fRPjLA1coUbYftiu+6xTyPpD/wH7FT9nwKfueyTUrwSS6KTISbdNvkmDoSEgXY9rJN+/euqoGiznd+ycCMUOcstC23yfPn7tgZWKaVUp2graVwiIlcbYx73LhSRq4COP7dJqcpC+5SXbd/BTx6EqVcFO6KeITTC9nMccizrJJv+WVn7bPa4PTz68Uqe/2IF09INfz6uD8mUQ1UhVBbYn0tlgX1fvBV2roCKvXaCbG8x6TaJbEgmGxNKpyw8xveYq0v2TwoLN9tl2c59941MsM3wh50Nx98OsektnlIppVRgtJU0/hp4XUQuoilJnAKEA9300Rwq6Ep2wNyzoXADnPuMfcyeCrjymnr+b/4KPvxxDz+bNJF7zzrMt0fSedxQttsmkSXboHiLXS/eCru+h7XvgrvZI+aiU7ySyUxIHAQJGTZBbEwMnWVVs8fFx/aBpCEwNMsO7kkeat8nDwn4lENKKaXa1mrSaIzZAxwlIjOBsU7xu8aYzzolMtXz5OXYp7xUl9gpdYYcG+yIeoXN+RVc89wSNuRVcNtpY7h8+mDE164ArhBIGGBfHLn/do8Hyvc4CeVWJ6l01veshnUfQn110/7igvgMmwSOOcMrKRwKSYN7xGTcSinVU7U7T6Mx5nPg806IRfVk25c4T3kJg8vfhX7jgx1Rr/DFujx+9cIyXC7h2SumMX14qn8v4HJBfD/7ypy2/3ZjoCLPJpKR8bb2MbSbTOmjlFJqH/rsIhVwyQVL4ZsHbB+0S163tUoqoIwxPPrFBv72wVpG9onj8UunkJkchOdai9ifu/Y/VEqpbk+TRhVYK19i7A/3QJ9DbZO0Jg8tmrdoKws3FBATEUpcZCixEaF23VnGOmWxDevhocREhLT4XOiqWjePfl/Dt7vW8pPD+nH/ueOIDtdfdaWUUgdH/ydRgfPjG/D6NZQkjiPpsndt86Taz/wl27j1tVX0iY/A7YHymjqq6zw+HRsVFtKYaMZEhBAbEcqe0ho257v53cmjuC5rmO/9F5VSSqk2aNKoAmPXSnj9F5AxjVVDfsexmjC26NuNBfzp9VUcPTyVpy+fSphTc1jv9lBR46aspo6KGjflNXWUVde3uF5eU095jZvyarueFB3GmZMiuH7m8CB/OqWUUj2JJo3K/8r3wryf2ylSzp+LZ+maYEfUJW3Kr+AXc5cyKCWG/1w0qTFhBAgNcZEQ7SIhOqxD587OzvZTlEoppZTVTZ4bptpVX2ufCBJs9TXw4kV2kugL50Fcn2BH1CUVV9ZyxTOLcYnw1OypJER1LDlUSimlOovWNHYF7jqoLoWaEmdZapfVJU3rNd7vm+1XU2rnwguLsRNmjzwpOJ/DGHjnN7B9kY1Dp9VpUW29h1/MXcqOoipeuPpwBqYEYVSzUkopdYA0aQwWY2DN2/DRn+2EyO0Ji4aIeDuYJCLePic4aZBXWQKseQteugjOnwsjTw78Z2hu4X9gxfMw4w9wqD40qCXGGP70+iq+3VjIP8+fwJTB+pQTpZRS3YMmjcFQtBne+x2s/wj6jIWsP9rn6jYkhN7LyESIiIMQH5ovp10Fz/7UNg+f/xyMmhXwj9Jo/cfw8V9g9Bkw45bOu243878vNvLy0u3ceNxwfjpxQLDDUUoppXzW65LGijoTvIvX18KCf8GX94OEwEn3wOG/gBA//RiikuDSN+G5s+ClS+C8Z+GQU/1z7rbk5cArV0D6oXDW/+xTQtR+PvhhF3/7YC2njevHb04cGexwlFJKqQPS6/53L6gybM6v6PwLb/oK/jcdPrsLRpwENyyGo27wX8LYICrRPnWl3ziYfymsfde/52+ushDmXWAfDXfhPAiPCez1uqnvtxfz65dWMHFgIg+cO17nTlRKKdXt9LqkEYHrnl9GdZ27c65XngevXQtzTrMji3/+sm06Tghg02Rj4jjeJo5r3g7Mddz18Mrl9rnC58+FxMzAXKebcoFDegAAG2NJREFU21lcxZVzlpASE8Fjl0whMiwk2CEppZRSB6zXJY2pUcLqXaXc+fbqwF7I44HFT8LDk+GHV+GY38J133beyObIBJs49p8EL18Gq9/y/zU+/CNszIbT/wkDj/D/+XuAipp6rpyzhKpaN09dNpW0uIhgh6SUUkp1SFCSRhFJFJFXRGStiKwRkSNFJFlEPhaR9c4yydlXRORfIpIrIt+LyCSv88x29l8vIrN9uXZ0qPDLrGHMW7SV15dvD8wH3LUSnjwB3r0Z+o6DXy6A4/8C4Z08tUpkvH3e84DJNnH88Q3/nXvpM7DoUTjieph4sf/O24O4PYYb5y0nZ3cpD/98IqP6xgU7JKWUUqrDglXT+BDwgTHmEGA8sAa4BfjUGDMC+NR5DzCL/7+9+46vosz3OP75kQaBUAJJqNJJQEU6qKABVlTUxbYqdnexi12vu+tevei66LqK5arLXsUK4mIBy4qKRAUFEQi9F+lEOolAQvLcP2bQiAmHQHLm5OT7fr3yYvLMPDO/+XFIfjwz8wy09b+uA54HMLNk4AGgJ9ADeOBAoRnKXae1o0fLZP70znyWbd5dfme1dxf85z4YmQk71sB5I+Gq9yElwIceDhSOTbt7D6ssePfo97l6Knx4F7TuD6cNO/r9RalHPlrEpMU5PPjbY8lMTw06HBERkaMS9qLRzOoApwAvAjjn8p1zO4BBwCv+Zq8A5/rLg4BXnWcaUNfMGgGnA58657Y557YDnwJnHE4MsTHVeGZwZ2omxHDjG7PI27f/6E7KOZj/DvxvD5j+AnS9xnvQ5YSLIRIeeEhIgsvHQbMeMO4PXqxHavv38NYVUK8lXPhS+T/IEyVen/Y9L05ZxdUnteDKE1sEHY6IiMhRC2KksSXwAzDKzGab2f+ZWU0gzTm30d9mE3Dg/XNNgLXF+q/z20prPyxptavz1CWdWfFDLn9+dx7OHeFUPNtWwusXeA+E1EyBIZPg7Ce86W8iSUISXDYOmvWEt4fAvHFl38e+3TBmMBTth8Fveg/cyK98ufQHHpiwgMz0FO4/q33Q4YiIiJSLIIaJYoEuwFDn3HQze4qfL0UD4JxzZlZuEyqa2XV4l7ZJSUkhKyvrp3Xnto7j3ewN1C3YQmazw3//rxUVcMyat2n+/TiKqsWyqs0QNjQeiFu+G5ZnhewflJhjbuX4nQ9T5+1rWbRwATlppx5eR1fEcfOHU3/rIuZ2fIDt89fh1emh5ebm/iLn0Wx9bhEPT9tDo0Tj4mZ5TPnqy0DiqEo5jxTKefgp5+GnnFdtQRSN64B1zrnp/vfj8IrGzWbWyDm30b/8nOOvXw8Un8ulqd+2Hsg8qD2rpAM650YCIwHS09NdZubP3U45xbFl1LeMXrKNC/v14LgmdUKfwcY53v2BW5fDsedR7fS/0bZ2I9qG7hkZTjkFRl9Mh8Uj6NC+PXS8KHSfScNg63Q441FO6HVDmQ6XlZVF8ZxHq625+/jLc1OpWT2BsbecTJO6NQKLparkPJIo5+GnnIefcl61hf3ytHNuE7DWzNL9pv7AQmACcOAJ6KuA8f7yBOBK/ynqXsBO/zL2RGCAmdXzH4AZ4LeVSbVqxoiLO5GcGM/No2exa29BqBOA92/zLtVe/g787mWo3aishw1WfE24dCw0PxnevR7mjD309vPGwVf/gC5XQs/rwxNjJbO3oJDrXptJzq59/N9V3QItGEVERCpCUE9PDwXeMLO5QCfgEWA4cJqZLQN+438P8BGwElgO/Au4CcA5tw14CJjhfw3z28qsfq0Enr20M+u27+Hef8899P2Nq76EDbMh84/Qpv+RHC4yxNeES9+CFr29wjF7TMnbrZ8J42+GY06Cgf+IjAd7IoxzjnvHzWXm99t54qJOdGqmez1FRCT6BPLoq3MuG+hWwqpfVWHOq+BuLmU/LwEvlUdM3Vokc98ZGfz1o0WMmrqa3/duWfKGU56EWmlwwuDyOGyw4hNh8Fh4czC8dyPgoNOlP6/ftRHevAxqpnpvsYmNDyzUSPbUpGVMmLOBuwe046yOlWzUWURE5DBVuTfCHMqQPi05rUMaj3y0iFlrtv96gw2zYeVk6HUTxFUPf4AVIT7RexK6VSa8dxPMft1rL9gDYy/z5p4cPAZqNggyyog1Pns9Iz5bxvldmnBz3zZBhyMiIlJhVDQWY2Y8fuEJNKxTnVvemMX2vPxfbjD1KUioDd2uCSbAihJXwysMW/eD8bfArFdhwq3epenz/wkNjws6wog08/tt3DNuLj1aJPO384/HdOleRESimIrGg9RJjOO5y7qwJTefO97KpqjIv79x6wpYOB66/8F7r3O0iasBl4z27tOcMBTmvQX97of25wQdWURatSWPIa98R+M61Xnhiq4kxMYEHZKIiEiFUtFYgo5N6/KXs9uTteQHnv9ihdf49TNQLQ563hhscBUprjpc/AYcfxF0HwJ97g46ooi0LS+fa0Z9C8Coa3qQXFP3eoqISPTTO+BKcXmv5ny7ejv/+GQJPRsU0C37Deh0GSSlhe5cmcVVhwv+FXQUEWtvQSFDXpnBhp17GXNtT1o2qBl0SCIiImGhkcZSmBl/O/94WjSoyYJ3h+OK9sNJQ4MOSwJUVOS46605zFqzgycv6kTX5slBhyQiIhI2KhoPoVZCLC9c2IbzCyfyTUIfCuu1CjokCdDwjxfz4byN/GlghqbWERGRKkdFYwjt1v6bJNvDX3eezojPlgYdjgTktW9WM/LLlVzRqznX9tF/HkREpOpR0XgoBXvhm+egdT+O7dqbZz5fTtaSnND9JKpMWrSZByYsoH9GKg+c00FT64iISJWkovFQ5oyBvBw4+Xb+57fHkdEwiTvGZrNhx56gI5MwmbduJ7eMns2xjevwzKWdiY3RPxkREama9BuwNEWF3mTejbtAy1OoER/Dc5d1IX9/EbeMnkVBYVHQEUoFW7f9R37/ygySa8bz4lXdSIzXZAMiIlJ1qWgszcLxsH0V9L4D/MuRrVJq8eiFHZm1ZgcPTlhA/n4VjtFq554Crhk1g70FhYy6pjuptaPktZEiIiJHSEVjSZyDqSOgfhvIOOsXq87u2Jg/9G7JG9PXMODJL5i4YBPOuYAClYqQv7+IG16byeqtefzziq60S0sKOiQREZHAqWgsycrJsHEOnHwbVPv16+HuP6s9o67pTmxMNa5/bSaXjJzGvHU7AwhUyptzjvvenss3K7fy6AUdOal1g6BDEhERiQgqGksy5UlIagQdLy5xtZnRNz2Vj2/rw0PnHsfynFzOeXYKd76VzcadekimMnvys2W8M3s9d57WjvO7NA06HBERkYihovFg62fCqi+h100Qm3DITWNjqnFFr+ZMvieTG05tzQdzN9L38Sye+GQJefv2hylgKS9vfbeWpyct48KuTRnar03Q4YiIiEQUFY0HmzICqteBrlcfdpfa1eO478wMJt15Kqd1aMjTny8n8/Esxs5YQ2GR7nesDKYs28Kf3plH7zYN+Nv5x2suRhERkYOoaCxuyzJY9D50vxaq1y5z92bJiTwzuDPv3HQSzerV4L/ensdZT3/FlGVbKiBYKS+LN+3ixtdn0ia1Fs9d3oU4zcUoIiLyK/rtWNzXT3uXpHvecFS76XJMPd6+8SSevbQzufv2c/mL0/n9yzNYnrO7nAKV8rJ5115+P2oGiQkxvHR1d2pXjws6JBERkYikovGAXRsgewx0vhxqpRz17syMszs25rM7T+WPZ2YwY9U2Th/xFX95bz5bc/eVQ8BytHL37eeaUTPYuaeAl67uTuO6NYIOSUREJGKpaDxg2nPgCuHEW8p1t9XjYrj+1NZk3ZPJZT2PYfS3a8j8exYvfLGCvQWF5XosOXz7C703+yzZvJtnL+vCsY3rBB2SiIhIRFPRCLBnO3w3Co49H5JbVsgh6tdKYNig45h4ex+6t0xm+H8W85snvuD9ORs0OXiYOef47wkLyFryAw8NOo6+6alBhyQiIhLx9DJdgBkvQn4u9L69wg/VJjWJl67uzpRlW3j4w4UMHTObhz9cSN/0VPpmpNK7TQNqJuivpSIUFBaxakse785ez+jpa7gxszWX9jwm6LBEREQqBVUnBXtg2vPQ5jfQ8PiwHbZ32wZ8eGsfPpi7gYkLNvHh3I28OWMt8THV6NEymb4ZqfRNT6FVSq2wxRQtnHOs276HpZt3s3jTbpZs2s3SzbtZ8UMuBYXeqO6gTo25Z0B6wJGKiIhUHioas9+AH7dA7zvCfuiYasagTk0Y1KkJBYVFfLd6O5OX5DB5cQ4PfbCQhz6AFvUTyUxPpV9GKj1bJZMQ++vXGlZl2/LyWbxpF0s37WaJXyQu25xLbrHJ1ZvUrUF6wyT6ZqSS0TCJdmlJZDRM0lyMIiIiZVC1i8bC/TD1aWjaHZqfHGgocTHVOLF1fU5sXZ8/DWzP2m0//lRAjvl2DS9/vZrE+BhOat2Afhmp9M1IoVGdqvO07/7CIhZs2MUSvzhcsskrELcUexK9XmIc6Q2TuKBLE9Ib1ia9YRLt0mqRpGl0REREjlrVLhoXvgc7vofTH4EIG3VqlpzIlSe24MoTW7Anv5BpK7fy+eIcPl+cw2eLNgOQ0TDJLyBT6dysLrFROin12m0/csvoWcxZtxOA6nHVaJeWRGZ6ChkNk0hvmER6WhIpSQkaPRQREakggRSNZrYa2A0UAvudc93MLBkYC7QAVgMXOee2m1cFPAUMBH4ErnbOzfL3cxVwv7/bh51zrxx2EM55rwxs0A7SB5bLeVWUGvEx3j2OGakMc47lObl8vjiHyUtyGPnlSp7LWkGdGnH0bJlMvcR4EhNiSIyPITE+lhpxMdRMiKFGfCyJcX57QiyJ8THUiPt5u+px1SKy4Jq8OIfbx2ZTVOR49ILj6dmyPs2SE4mpFnmxioiIRLMgRxr7OueKv1/vPmCSc264md3nf/9fwJlAW/+rJ/A80NMvMh8AugEOmGlmE5xz2w/r6MsnweZ5MOg5qFZ5RujMjLZpSbRNS+L6U1uza28BXy3dwuQlOcxas528ffv5Mb+QH/MLy/TeazNIjPOLy/gYerRM5o9nZlC/VkIFnk3pCoscT366lGcnL6dDo9o8f3kXmtevGUgsIiIiElmXpwcBmf7yK0AWXtE4CHjVeZMZTjOzumbWyN/2U+fcNgAz+xQ4AxhzWEebOgJqN4Hjf1eOpxB+tavHcVbHRpzVsdEv2p1z5BcWsccvIL0vr6A80JaXv/+n5T35+8nzl3ftKWB89nomLdrMf5/TgXM7NQnrKOSW3H3cOmY2X6/YysXdmvE/g46lepweABIREQlSUEWjAz4xMwf80zk3Ekhzzm30128C0vzlJsDaYn3X+W2ltYe2dgas/sq7lzE2/sjPIoKZGQmxMSTExlA3sez9l27ezb3j5nLH2DmMz97Aw+ceR9N6R7CjMpqxehu3jJ7Fjh8LeOzCjlzUrVmFH1NERERCC6po7O2cW29mqcCnZra4+ErnnPMLynJhZtcB1wGkpKTww/g/Uze2FtPyWlGYlVVeh4k6t3ZwTKoZz7hlP9D/8clc2C6e/sfEUq2Mo465ublkhcizc46Jq/fz1tJ8UmoYf+6RQGruCrKyVhzFGVRdh5NzKV/Kefgp5+GnnFdtgRSNzrn1/p85ZvYu0APYbGaNnHMb/cvPOf7m64Hiw01N/bb1/Hw5+0B7VinHGwmMBGjftqVL2TIdTrmXPv3OLL+TilL9gBu2/cif35vPG4t+YFFeIo9e0JG2aUmHvY+srCwyMzNLXb9rbwH3/nsuHy/ZxBnHNuSx33WktqbJOSqhci7lTzkPP+U8/JTzqi3sT4CYWU0zSzqwDAwA5gMTgKv8za4CxvvLE4ArzdML2Olfxp4IDDCzemZWz9/PxFDHj8/fAbE1oOf15Xpe0axZciKvXNOdJy8+gVVb8hj49FeM+Gwp+fuLjnrfCzfs4rfPTOHTRZu5/6z2PH95FxWMIiIiESiIkcY04F3/wYpYYLRz7mMzmwG8ZWZ/AL4HLvK3/whvup3leFPuXAPgnNtmZg8BM/zthh14KOZQ4gp2Q5chULNBeZ5T1DMzzuvclD5tUxj2/kJGfLaMj+ZtZPgFHelyTL0j2ue/v1vL/e/Np25iHG9e14vuLZLLOWoREREpL2EvGp1zK4ETSmjfCvQvod0BN5eyr5eAl8ocxIm3lLmLeBrUSuDpwZ0Z1Kkx9783nwue/5qrT2rB3QPSqZlweB+nvQWFPDB+AWO/W8tJrevz9ODONAhoah8RERE5PJE05U5YFMTVgnrNgw6j0uvfPo0eLZP5+8QljJq6mk8WbOaR84/n1HYph+z3/dY8bnx9Fgs37mJovzbc/pt2mqhbRESkEqg8s1qXk/z4I7uUKr+WVD2OYYOOY9wNJ1I9rhpXvfQtd47NZltefonbT1ywibOfmcL6HXsYdXV37hqQroJRRESkkqhyRWNRteiclzFI3Vok8+GtfRjarw0T5mzgtCe+YHz2erw7C7y3uzzy0SKuf20mLRvU5IOhvembkRpw1CIiIlIWVe7ytFSM6nEx3DUgnYHHN+K+t+dy25vZTMjewK392/LojL0s3b6SK3o15/6z25MQq7e7iIiIVDYqGqVctW9Um3duOplRU1fx+CdLmLQ4h/gYeOqSTgzqdHgv7BEREZHIo6JRyl1MNWNIn1YM6NCQV79ZTUu3SQWjiIhIJVfl7mmU8DmmfiL3n92BJkn6mImIiFR2+m0uIiIiIiGpaBQRERGRkFQ0ioiIiEhIKhpFREREJCQVjSIiIiISkopGEREREQlJRaOIiIiIhKSiUURERERCMudc0DGElZntBpYEHUcV0wDYEnQQVYxyHn7Kefgp5+GnnIdfunMuKeggoGq+RnCJc65b0EFUJWb2nXIeXsp5+Cnn4aech59yHn5m9l3QMRygy9MiIiIiEpKKRhEREREJqSoWjSODDqAKUs7DTzkPP+U8/JTz8FPOwy9icl7lHoQRERERkbKriiONIiIiIlJGKhpFREREJKRAi0Yza2Zmk81soZktMLPb/PZkM/vUzJb5f9bz2zPM7Bsz22dmdx+0r9vMbL6/n9sPccwzzGyJmS03s/uKtfc3s1lmlm1mU8ysTSn9u5rZPL//02Zmfvvv/GMXmVnETkcQTTn31w01s8V+DI8dbX4qQiXN+V/NbK2Z5R7Uforff7+ZXXg0ealI0ZRzf91Fxc5l9JHmpSJVtpybWaKZfVjs58fwYuv0OS/9mBWSc3+9PuclH/Nof7Z8bGZz/OO8YGYxfnvZ6xbnXGBfQCOgi7+cBCwFOgCPAff57fcBj/rLqUB34K/A3cX2cxwwH0jEm3vyM6BNCceLAVYArYB4YA7QwV+3FGjvL98EvFxKzN8CvQAD/gOc6be3B9KBLKBbkHmtQjnv6x834UCsQec3inLey48796D2FkBH4FXgwqBzW0Vy3haYDdTT57z8cu7vv6+/HA98xc8/W/Q5D3/O9TmvuJ8ttf0/DXgbuMT/vsx1S6Ajjc65jc65Wf7ybmAR0AQYBLzib/YKcK6/TY5zbgZQcNCu2gPTnXM/Ouf2A18A55dwyB7AcufcSudcPvCmfywAB9T2l+sAGw7ubGaN8JI/zXkZf7VYbIuccxH/pployjlwIzDcObfvQKyHn4nwqWw592OY5pzbWEL7aufcXKAo9JkHJ5pyDlwL/K9zbvuBWA958gGpbDn39z/ZX84HZgFN/e/1OQ9zztHnvCJ/tuzyF2PxCk/nt5e5bomYexrNrAXQGZgOpBX74bkJSAvRfT7Qx8zqm1kiMBBoVsJ2TYC1xb5f57cBDAE+MrN1wBXAcH6tid+npP6VThTkvJ0fw3Qz+8LMuoeIOXCVJOdRJQpy3g5oZ2ZTzWyamZ1Rxv5hV9lybmZ1gXOASSFii1hRkHN9zisw52Y2EcgBdgPjQsRWqogoGs2sFt6Q6e3FKmIA/NGlQ84L5JxbBDwKfAJ8DGQDhWUM4w5goHOuKTAKeKKM/SuVKMl5LJCMd1nvHuAts5/vd4w0UZLzSiVKch6Ld+kuExgM/Mv/hRuRKlvOzSwWGAM87ZxbWcbjRIQoybk+5xWYc+fc6XiX1hOAfmU8zk8CLxrNLA4v8W84597xmzf7lyUPXJ4MOUztnHvROdfVOXcKsB1Y6t+wmu1/3QCs55eVfFNgvZmlACc456b77WOBk8wsplj/YX7/pgf3P+KTD0gU5Xwd8I7zfIt3KalBmRMSBpUs51EhinK+DpjgnCtwzq3Cu4+p7WElIcwqac5HAsuccyOO4tQDE0U51+e8gn+2OOf2AuP5+fJ2mcUeacfy4I8KvQgscs4Vr5AnAFfhDbVehXeSofaV6pzLMbNj8O4L6OWc2wF0KrZNLNDWzFri/UVcAlyK95dVx8zaOeeWAqf5MRUW7+/vY5eZ9cIbjr4SeObIzj4YUZbz9/AehplsZu3w7tXYUqaEhEFlzHllF2U5fw9v5GWUmTXAu4wXcSNilTHnZvYw3r1gQ47wtAMVZTnX57wCcm7eiGiSc26jv6+z8B5AOjIu2KeQeuMN4c7FG5rNxruuXx/vPodleE8UJfvbN8T738guYIe/fOCpoK+AhXhPFvU/xDEH4v0PZgXw52Lt5wHz/P5ZQKtS+nfDuxdhBfAsP79V5zw/nn3AZmBikLmtIjmPB173180C+gWd3yjK+WP+cYv8Px/027v73+cBW4EFQee3CuTc8C47LfT3c0nQ+Y2GnOON2Di8BxkOxDtEn/PAcq7PecXkPA2Y4cc7H2/QJbZY/zLVLXqNoIiIiIiEFPg9jSIiIiIS+VQ0ioiIiEhIKhpFREREJCQVjSIiIiISkopGEREREQlJRaOISCnMbL6ZLfQnyl1vZg8GHZOISFBUNIqIHNqZzrlOwJNBByIiEiQVjSIipYvDm/j2J2ZWy8wmmdksM5tnZoP89r/7I5Kb/FHJbDMbVtr2IiKVjSb3FhEphZltANo65/LM7G6gFvAwkOic2+W/7myav43z+zwI5DrnHve/jz3U9iIilUWg754WEYlUZhaD987WvINXAY+Y2Sl4r/xrgveqrk2l7aqM24uIRCQVjSIiJWuF977Xg10GpABdnXMFZrYaqH6I/ZR1exGRiKR7GkVESnYR8E0J7XWAHL8A7As0D7Gfsm4vIhKRNNIoInIQM7sR797F782st9+cAsQA9wLdzGwe8B2wOMTu3gDeL8P2IiIRSQ/CiIgcxH+YZbVz7uXDaRcRqQp0eVpEREREQtJIo4jIQfxpcpxzrvBw2kVEqgIVjSIiIiISki5Pi4iIiEhIKhpFREREJCQVjSIiIiISkopGEREREQnp/wGZlas1NJJhVwAAAABJRU5ErkJggg==)\n",
    "\n",
    "\n",
    "![title](data:image/png;base64,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)\n",
    "\n",
    "\n",
    "\n",
    "*  По графику изменения среднего чека  видно, что средний чек группы B выше чем у группы A, почти все время проведения теста.\n",
    "\n",
    "![title](data:image/png;base64,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)\n",
    "\n",
    "*  По графику прироста конверсии мы точно можем сказать, что конверсия группы B выше, чем у группы A.\n",
    "\n",
    "![title](data:image/png;base64,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)\n"
   ]
  },
  {
   "cell_type": "markdown",
   "metadata": {},
   "source": [
    "**Проведя исследования на статистическую значимость, можно сделать вывод, что:**\n",
    "\n",
    "   *  Есть статистическая значимость различий конверсии, то есть конверсия группы B точно больше, чем у группы A.\n",
    "   \n",
    "   \n",
    "   * В среднем чеке статистическая значимость не найдена, но, как по \"сырым\", так и по \"очищенным\" данным относительный прирост конверсии выше, чем у группы A.\n",
    "\n",
    " \n",
    "|   \t|                                                                                          \t| \"Сырые\" данные \t| \"Очищенные\" данные \t|\n",
    "|---\t|------------------------------------------------------------------------------------------\t|:--------------:\t|:------------------:\t|\n",
    "| 1 \t| Статистическая значимость различий в конверсии  P-value                                  \t|      0.017     \t|        0.018       \t|\n",
    "| 2 \t| Статистическая значимость различий в конверсии  Относительный прирост конверсии          \t|      13.8%     \t|        14.8%       \t|\n",
    "| 3 \t| Статистическая значимость различий в среднем чеке заказа P-value                         \t|      0.729     \t|        0.977       \t|\n",
    "| 4 \t| Статистическая значимость различий в среднем чеке заказа Относительный прирост по среднему чеку \t|      25.9%     \t|        1.7%        \t|\n",
    "\n",
    "Исходя из проведенного анализа следует остановить тест и признать его успешным. Группа B, лучше чем группа А."
   ]
  }
 ],
 "metadata": {
  "ExecuteTimeLog": [
   {
    "duration": 763,
    "start_time": "2021-10-11T14:21:38.427Z"
   },
   {
    "duration": 60,
    "start_time": "2021-10-11T14:21:39.194Z"
   },
   {
    "duration": 4,
    "start_time": "2021-10-11T14:25:11.735Z"
   },
   {
    "duration": 3,
    "start_time": "2021-10-11T14:25:12.172Z"
   },
   {
    "duration": 56,
    "start_time": "2021-10-11T14:25:12.611Z"
   },
   {
    "duration": 39,
    "start_time": "2021-10-11T14:25:13.056Z"
   },
   {
    "duration": 20,
    "start_time": "2021-10-11T14:25:50.523Z"
   },
   {
    "duration": 16,
    "start_time": "2021-10-11T14:26:10.770Z"
   },
   {
    "duration": 20,
    "start_time": "2021-10-11T14:26:41.298Z"
   },
   {
    "duration": 27,
    "start_time": "2021-10-11T14:27:20.617Z"
   },
   {
    "duration": 25,
    "start_time": "2021-10-11T14:27:20.880Z"
   },
   {
    "duration": 5018,
    "start_time": "2021-10-11T14:29:19.498Z"
   },
   {
    "duration": 78,
    "start_time": "2021-10-11T14:29:43.363Z"
   },
   {
    "duration": 23,
    "start_time": "2021-10-11T14:29:51.193Z"
   },
   {
    "duration": 29,
    "start_time": "2021-10-11T14:29:53.901Z"
   },
   {
    "duration": 26,
    "start_time": "2021-10-11T14:29:54.875Z"
   },
   {
    "duration": 402,
    "start_time": "2021-10-11T14:30:00.535Z"
   },
   {
    "duration": -2094,
    "start_time": "2021-10-11T14:30:03.034Z"
   },
   {
    "duration": -2097,
    "start_time": "2021-10-11T14:30:03.038Z"
   },
   {
    "duration": -2129,
    "start_time": "2021-10-11T14:30:03.071Z"
   },
   {
    "duration": -2131,
    "start_time": "2021-10-11T14:30:03.075Z"
   },
   {
    "duration": -2133,
    "start_time": "2021-10-11T14:30:03.078Z"
   },
   {
    "duration": 323,
    "start_time": "2021-10-11T14:30:19.556Z"
   },
   {
    "duration": 6,
    "start_time": "2021-10-11T14:30:47.532Z"
   },
   {
    "duration": 735,
    "start_time": "2021-10-11T14:30:47.541Z"
   },
   {
    "duration": 82,
    "start_time": "2021-10-11T14:30:48.279Z"
   },
   {
    "duration": 46,
    "start_time": "2021-10-11T14:30:48.364Z"
   },
   {
    "duration": 39,
    "start_time": "2021-10-11T14:30:48.413Z"
   },
   {
    "duration": 61,
    "start_time": "2021-10-11T14:30:48.454Z"
   },
   {
    "duration": 4,
    "start_time": "2021-10-11T14:33:13.158Z"
   },
   {
    "duration": 13,
    "start_time": "2021-10-11T14:43:25.953Z"
   },
   {
    "duration": 13,
    "start_time": "2021-10-11T14:44:17.447Z"
   },
   {
    "duration": 12,
    "start_time": "2021-10-11T14:44:21.933Z"
   },
   {
    "duration": 497,
    "start_time": "2021-10-11T14:44:41.675Z"
   },
   {
    "duration": 14,
    "start_time": "2021-10-11T14:44:46.332Z"
   },
   {
    "duration": 14,
    "start_time": "2021-10-11T14:44:53.998Z"
   },
   {
    "duration": 8,
    "start_time": "2021-10-11T14:45:41.374Z"
   },
   {
    "duration": 16,
    "start_time": "2021-10-11T14:45:43.619Z"
   },
   {
    "duration": 360,
    "start_time": "2021-10-11T14:48:06.677Z"
   },
   {
    "duration": 7,
    "start_time": "2021-10-11T14:48:33.004Z"
   },
   {
    "duration": 10,
    "start_time": "2021-10-11T14:48:44.653Z"
   },
   {
    "duration": 35,
    "start_time": "2021-10-11T14:48:56.255Z"
   },
   {
    "duration": 8,
    "start_time": "2021-10-11T14:49:14.944Z"
   },
   {
    "duration": 9,
    "start_time": "2021-10-11T14:49:22.765Z"
   },
   {
    "duration": 369,
    "start_time": "2021-10-11T14:50:27.314Z"
   },
   {
    "duration": 20,
    "start_time": "2021-10-11T14:50:48.607Z"
   },
   {
    "duration": 368,
    "start_time": "2021-10-11T14:51:13.062Z"
   },
   {
    "duration": 33,
    "start_time": "2021-10-11T14:51:20.684Z"
   },
   {
    "duration": 375,
    "start_time": "2021-10-12T14:41:22.879Z"
   },
   {
    "duration": 5,
    "start_time": "2021-10-12T14:41:27.987Z"
   },
   {
    "duration": 765,
    "start_time": "2021-10-12T14:41:27.994Z"
   },
   {
    "duration": 127,
    "start_time": "2021-10-12T14:41:28.762Z"
   },
   {
    "duration": 30,
    "start_time": "2021-10-12T14:41:28.891Z"
   },
   {
    "duration": 28,
    "start_time": "2021-10-12T14:41:28.923Z"
   },
   {
    "duration": 58,
    "start_time": "2021-10-12T14:41:28.954Z"
   },
   {
    "duration": 4,
    "start_time": "2021-10-12T14:41:29.014Z"
   },
   {
    "duration": 29,
    "start_time": "2021-10-12T14:41:29.020Z"
   },
   {
    "duration": 28,
    "start_time": "2021-10-12T14:41:29.052Z"
   },
   {
    "duration": 40,
    "start_time": "2021-10-12T14:41:29.082Z"
   },
   {
    "duration": 7,
    "start_time": "2021-10-12T14:42:10.678Z"
   },
   {
    "duration": 17,
    "start_time": "2021-10-12T14:45:46.002Z"
   },
   {
    "duration": 392,
    "start_time": "2021-10-12T14:46:18.686Z"
   },
   {
    "duration": 29,
    "start_time": "2021-10-12T14:46:47.206Z"
   },
   {
    "duration": 28,
    "start_time": "2021-10-12T14:46:58.992Z"
   },
   {
    "duration": 7,
    "start_time": "2021-10-12T14:47:08.559Z"
   },
   {
    "duration": 30,
    "start_time": "2021-10-12T15:17:25.863Z"
   },
   {
    "duration": 16,
    "start_time": "2021-10-12T15:18:01.644Z"
   },
   {
    "duration": 3,
    "start_time": "2021-10-12T15:21:26.709Z"
   },
   {
    "duration": 3,
    "start_time": "2021-10-12T15:21:28.956Z"
   },
   {
    "duration": 268,
    "start_time": "2021-10-12T15:32:08.826Z"
   },
   {
    "duration": 530,
    "start_time": "2021-10-12T15:32:16.552Z"
   },
   {
    "duration": 279,
    "start_time": "2021-10-12T15:32:22.327Z"
   },
   {
    "duration": 9,
    "start_time": "2021-10-12T15:32:49.946Z"
   },
   {
    "duration": 19,
    "start_time": "2021-10-12T15:32:55.435Z"
   },
   {
    "duration": 18,
    "start_time": "2021-10-12T15:33:07.235Z"
   },
   {
    "duration": 5,
    "start_time": "2021-10-13T14:26:53.238Z"
   },
   {
    "duration": 886,
    "start_time": "2021-10-13T14:26:53.247Z"
   },
   {
    "duration": 88,
    "start_time": "2021-10-13T14:26:54.135Z"
   },
   {
    "duration": 34,
    "start_time": "2021-10-13T14:26:54.227Z"
   },
   {
    "duration": 28,
    "start_time": "2021-10-13T14:26:54.264Z"
   },
   {
    "duration": 26,
    "start_time": "2021-10-13T14:26:54.323Z"
   },
   {
    "duration": 10,
    "start_time": "2021-10-13T14:26:54.355Z"
   },
   {
    "duration": 47,
    "start_time": "2021-10-13T14:26:54.368Z"
   },
   {
    "duration": 18,
    "start_time": "2021-10-13T14:26:54.418Z"
   },
   {
    "duration": 47,
    "start_time": "2021-10-13T14:26:54.440Z"
   },
   {
    "duration": 26,
    "start_time": "2021-10-13T14:26:54.490Z"
   },
   {
    "duration": 23,
    "start_time": "2021-10-13T14:26:54.528Z"
   },
   {
    "duration": 32,
    "start_time": "2021-10-13T14:26:54.554Z"
   },
   {
    "duration": 537,
    "start_time": "2021-10-13T14:26:54.589Z"
   },
   {
    "duration": 3,
    "start_time": "2021-10-13T16:23:52.564Z"
   },
   {
    "duration": 206,
    "start_time": "2021-10-13T16:27:49.729Z"
   },
   {
    "duration": 5,
    "start_time": "2021-10-13T16:28:06.596Z"
   },
   {
    "duration": 722,
    "start_time": "2021-10-13T16:28:06.604Z"
   },
   {
    "duration": 88,
    "start_time": "2021-10-13T16:28:07.330Z"
   },
   {
    "duration": 29,
    "start_time": "2021-10-13T16:28:07.422Z"
   },
   {
    "duration": 40,
    "start_time": "2021-10-13T16:28:07.453Z"
   },
   {
    "duration": 39,
    "start_time": "2021-10-13T16:28:07.496Z"
   },
   {
    "duration": 19,
    "start_time": "2021-10-13T16:28:07.538Z"
   },
   {
    "duration": 23,
    "start_time": "2021-10-13T16:28:07.560Z"
   },
   {
    "duration": 31,
    "start_time": "2021-10-13T16:28:07.586Z"
   },
   {
    "duration": 31,
    "start_time": "2021-10-13T16:28:07.619Z"
   },
   {
    "duration": 14,
    "start_time": "2021-10-13T16:28:07.652Z"
   },
   {
    "duration": 42,
    "start_time": "2021-10-13T16:28:07.668Z"
   },
   {
    "duration": 310,
    "start_time": "2021-10-13T16:28:07.722Z"
   },
   {
    "duration": -27,
    "start_time": "2021-10-13T16:28:08.061Z"
   },
   {
    "duration": -29,
    "start_time": "2021-10-13T16:28:08.065Z"
   },
   {
    "duration": 24,
    "start_time": "2021-10-13T16:28:35.210Z"
   },
   {
    "duration": 22,
    "start_time": "2021-10-13T16:28:43.187Z"
   },
   {
    "duration": 17,
    "start_time": "2021-10-13T16:28:49.585Z"
   },
   {
    "duration": 30,
    "start_time": "2021-10-13T16:30:26.263Z"
   },
   {
    "duration": 7,
    "start_time": "2021-10-13T16:31:26.311Z"
   },
   {
    "duration": 232,
    "start_time": "2021-10-13T16:31:31.144Z"
   },
   {
    "duration": 6,
    "start_time": "2021-10-13T16:31:36.181Z"
   },
   {
    "duration": 281,
    "start_time": "2021-10-13T16:31:43.891Z"
   },
   {
    "duration": 10,
    "start_time": "2021-10-13T16:33:32.402Z"
   },
   {
    "duration": 71,
    "start_time": "2021-10-13T16:46:00.290Z"
   },
   {
    "duration": 14,
    "start_time": "2021-10-13T16:46:04.109Z"
   },
   {
    "duration": 15,
    "start_time": "2021-10-13T16:46:32.269Z"
   },
   {
    "duration": 18,
    "start_time": "2021-10-13T16:46:37.930Z"
   },
   {
    "duration": 12,
    "start_time": "2021-10-13T16:46:42.372Z"
   },
   {
    "duration": 6570,
    "start_time": "2021-10-13T16:47:24.923Z"
   },
   {
    "duration": 13,
    "start_time": "2021-10-13T16:47:44.582Z"
   },
   {
    "duration": 25,
    "start_time": "2021-10-13T16:49:30.078Z"
   },
   {
    "duration": 21,
    "start_time": "2021-10-13T16:50:17.411Z"
   },
   {
    "duration": 30,
    "start_time": "2021-10-13T16:50:26.875Z"
   },
   {
    "duration": 243,
    "start_time": "2021-10-13T16:50:36.219Z"
   },
   {
    "duration": 31,
    "start_time": "2021-10-13T16:50:41.429Z"
   },
   {
    "duration": 259,
    "start_time": "2021-10-13T16:51:29.197Z"
   },
   {
    "duration": 296,
    "start_time": "2021-10-13T16:51:42.503Z"
   },
   {
    "duration": 78,
    "start_time": "2021-10-13T16:51:51.315Z"
   },
   {
    "duration": 38,
    "start_time": "2021-10-13T16:52:01.949Z"
   },
   {
    "duration": 17,
    "start_time": "2021-10-13T16:52:26.515Z"
   },
   {
    "duration": 34,
    "start_time": "2021-10-13T16:52:33.514Z"
   },
   {
    "duration": 14,
    "start_time": "2021-10-13T16:53:04.193Z"
   },
   {
    "duration": 26,
    "start_time": "2021-10-13T16:53:09.086Z"
   },
   {
    "duration": 274,
    "start_time": "2021-10-13T16:54:16.477Z"
   },
   {
    "duration": 260,
    "start_time": "2021-10-13T16:54:19.441Z"
   },
   {
    "duration": 252,
    "start_time": "2021-10-13T16:54:56.324Z"
   },
   {
    "duration": 242,
    "start_time": "2021-10-13T16:55:08.395Z"
   },
   {
    "duration": 256,
    "start_time": "2021-10-13T16:57:03.461Z"
   },
   {
    "duration": 247,
    "start_time": "2021-10-13T16:57:06.498Z"
   },
   {
    "duration": 26,
    "start_time": "2021-10-13T16:57:33.346Z"
   },
   {
    "duration": 79,
    "start_time": "2021-10-13T16:57:51.806Z"
   },
   {
    "duration": 230,
    "start_time": "2021-10-13T16:59:39.521Z"
   },
   {
    "duration": 234,
    "start_time": "2021-10-13T17:01:13.940Z"
   },
   {
    "duration": 238,
    "start_time": "2021-10-13T17:01:22.994Z"
   },
   {
    "duration": 370,
    "start_time": "2021-10-13T17:01:34.370Z"
   },
   {
    "duration": 28,
    "start_time": "2021-10-13T17:02:11.939Z"
   },
   {
    "duration": 239,
    "start_time": "2021-10-13T17:02:23.865Z"
   },
   {
    "duration": 28,
    "start_time": "2021-10-13T17:02:30.603Z"
   },
   {
    "duration": 958,
    "start_time": "2021-10-13T17:03:36.579Z"
   },
   {
    "duration": 26,
    "start_time": "2021-10-13T17:03:47.462Z"
   },
   {
    "duration": 27,
    "start_time": "2021-10-13T17:04:11.820Z"
   },
   {
    "duration": 29,
    "start_time": "2021-10-13T17:04:17.652Z"
   },
   {
    "duration": 42,
    "start_time": "2021-10-13T17:04:48.044Z"
   },
   {
    "duration": 355,
    "start_time": "2021-10-13T17:05:44.634Z"
   },
   {
    "duration": 454,
    "start_time": "2021-10-13T17:05:52.633Z"
   },
   {
    "duration": 24,
    "start_time": "2021-10-13T17:07:55.360Z"
   },
   {
    "duration": 75,
    "start_time": "2021-10-13T17:08:00.455Z"
   },
   {
    "duration": 25,
    "start_time": "2021-10-13T17:08:24.365Z"
   },
   {
    "duration": 311,
    "start_time": "2021-10-13T17:14:04.202Z"
   },
   {
    "duration": 251,
    "start_time": "2021-10-13T17:14:24.223Z"
   },
   {
    "duration": 476,
    "start_time": "2021-10-13T17:15:13.557Z"
   },
   {
    "duration": 248,
    "start_time": "2021-10-13T17:15:35.226Z"
   },
   {
    "duration": 222,
    "start_time": "2021-10-13T17:15:46.336Z"
   },
   {
    "duration": 12,
    "start_time": "2021-10-13T17:15:50.840Z"
   },
   {
    "duration": 3,
    "start_time": "2021-10-14T15:09:06.983Z"
   },
   {
    "duration": 560,
    "start_time": "2021-10-14T15:09:06.989Z"
   },
   {
    "duration": 79,
    "start_time": "2021-10-14T15:09:07.552Z"
   },
   {
    "duration": 22,
    "start_time": "2021-10-14T15:09:07.632Z"
   },
   {
    "duration": 19,
    "start_time": "2021-10-14T15:09:07.655Z"
   },
   {
    "duration": 15,
    "start_time": "2021-10-14T15:09:07.676Z"
   },
   {
    "duration": 3,
    "start_time": "2021-10-14T15:09:07.693Z"
   },
   {
    "duration": 9,
    "start_time": "2021-10-14T15:09:07.698Z"
   },
   {
    "duration": 40,
    "start_time": "2021-10-14T15:09:07.709Z"
   },
   {
    "duration": 19,
    "start_time": "2021-10-14T15:09:07.751Z"
   },
   {
    "duration": 9,
    "start_time": "2021-10-14T15:09:07.772Z"
   },
   {
    "duration": 11,
    "start_time": "2021-10-14T15:09:07.782Z"
   },
   {
    "duration": 10,
    "start_time": "2021-10-14T15:09:07.795Z"
   },
   {
    "duration": 52,
    "start_time": "2021-10-14T15:09:07.807Z"
   },
   {
    "duration": 3,
    "start_time": "2021-10-14T15:09:07.860Z"
   },
   {
    "duration": 44,
    "start_time": "2021-10-14T15:09:07.865Z"
   },
   {
    "duration": 8,
    "start_time": "2021-10-14T15:09:07.910Z"
   },
   {
    "duration": 42,
    "start_time": "2021-10-14T15:09:07.920Z"
   },
   {
    "duration": 12,
    "start_time": "2021-10-14T15:09:07.964Z"
   },
   {
    "duration": 2,
    "start_time": "2021-10-14T15:09:07.978Z"
   },
   {
    "duration": 3,
    "start_time": "2021-10-14T16:01:54.716Z"
   },
   {
    "duration": 626,
    "start_time": "2021-10-14T16:01:54.723Z"
   },
   {
    "duration": 78,
    "start_time": "2021-10-14T16:01:55.351Z"
   },
   {
    "duration": 23,
    "start_time": "2021-10-14T16:01:55.431Z"
   },
   {
    "duration": 19,
    "start_time": "2021-10-14T16:01:55.457Z"
   },
   {
    "duration": 16,
    "start_time": "2021-10-14T16:01:55.478Z"
   },
   {
    "duration": 3,
    "start_time": "2021-10-14T16:01:55.495Z"
   },
   {
    "duration": 12,
    "start_time": "2021-10-14T16:01:55.500Z"
   },
   {
    "duration": 40,
    "start_time": "2021-10-14T16:01:55.515Z"
   },
   {
    "duration": 18,
    "start_time": "2021-10-14T16:01:55.558Z"
   },
   {
    "duration": 10,
    "start_time": "2021-10-14T16:01:55.578Z"
   },
   {
    "duration": 13,
    "start_time": "2021-10-14T16:01:55.589Z"
   },
   {
    "duration": 46,
    "start_time": "2021-10-14T16:01:55.604Z"
   },
   {
    "duration": 22,
    "start_time": "2021-10-14T16:01:55.653Z"
   },
   {
    "duration": 3,
    "start_time": "2021-10-14T16:01:55.677Z"
   },
   {
    "duration": 68,
    "start_time": "2021-10-14T16:01:55.682Z"
   },
   {
    "duration": 15,
    "start_time": "2021-10-14T16:01:55.752Z"
   },
   {
    "duration": 18,
    "start_time": "2021-10-14T16:01:55.769Z"
   },
   {
    "duration": 12,
    "start_time": "2021-10-14T16:01:55.789Z"
   },
   {
    "duration": 3,
    "start_time": "2021-10-14T16:01:55.803Z"
   },
   {
    "duration": 21,
    "start_time": "2021-10-14T16:02:32.998Z"
   },
   {
    "duration": 15,
    "start_time": "2021-10-14T16:03:25.687Z"
   },
   {
    "duration": 13,
    "start_time": "2021-10-14T16:03:33.521Z"
   },
   {
    "duration": 572,
    "start_time": "2021-10-14T16:05:53.657Z"
   },
   {
    "duration": 403,
    "start_time": "2021-10-14T16:06:16.328Z"
   },
   {
    "duration": 271,
    "start_time": "2021-10-14T16:06:46.532Z"
   },
   {
    "duration": 280,
    "start_time": "2021-10-14T16:07:07.195Z"
   },
   {
    "duration": 300,
    "start_time": "2021-10-14T16:07:25.457Z"
   },
   {
    "duration": 296,
    "start_time": "2021-10-14T16:07:44.887Z"
   },
   {
    "duration": 307,
    "start_time": "2021-10-14T16:09:44.869Z"
   },
   {
    "duration": 258,
    "start_time": "2021-10-14T16:09:51.361Z"
   },
   {
    "duration": 25,
    "start_time": "2021-10-14T16:09:58.571Z"
   },
   {
    "duration": 263,
    "start_time": "2021-10-14T16:10:14.477Z"
   },
   {
    "duration": 316,
    "start_time": "2021-10-14T16:12:14.877Z"
   },
   {
    "duration": 14,
    "start_time": "2021-10-14T16:12:24.927Z"
   },
   {
    "duration": 22,
    "start_time": "2021-10-14T16:12:34.872Z"
   },
   {
    "duration": 20,
    "start_time": "2021-10-14T16:12:51.838Z"
   },
   {
    "duration": 14,
    "start_time": "2021-10-14T16:12:59.744Z"
   },
   {
    "duration": 16,
    "start_time": "2021-10-14T16:13:06.463Z"
   },
   {
    "duration": 210,
    "start_time": "2021-10-14T16:13:11.339Z"
   },
   {
    "duration": 4,
    "start_time": "2021-10-14T16:26:46.458Z"
   },
   {
    "duration": 615,
    "start_time": "2021-10-14T16:26:46.464Z"
   },
   {
    "duration": 81,
    "start_time": "2021-10-14T16:26:47.081Z"
   },
   {
    "duration": 20,
    "start_time": "2021-10-14T16:26:47.164Z"
   },
   {
    "duration": 19,
    "start_time": "2021-10-14T16:26:47.186Z"
   },
   {
    "duration": 16,
    "start_time": "2021-10-14T16:26:47.206Z"
   },
   {
    "duration": 25,
    "start_time": "2021-10-14T16:26:47.225Z"
   },
   {
    "duration": 12,
    "start_time": "2021-10-14T16:26:47.253Z"
   },
   {
    "duration": 8,
    "start_time": "2021-10-14T16:26:47.267Z"
   },
   {
    "duration": 22,
    "start_time": "2021-10-14T16:26:47.276Z"
   },
   {
    "duration": 9,
    "start_time": "2021-10-14T16:26:47.300Z"
   },
   {
    "duration": 45,
    "start_time": "2021-10-14T16:26:47.311Z"
   },
   {
    "duration": 6,
    "start_time": "2021-10-14T16:26:47.357Z"
   },
   {
    "duration": 303,
    "start_time": "2021-10-14T16:26:47.365Z"
   },
   {
    "duration": 2,
    "start_time": "2021-10-14T16:26:47.670Z"
   },
   {
    "duration": 5,
    "start_time": "2021-10-14T16:26:47.674Z"
   },
   {
    "duration": 5,
    "start_time": "2021-10-14T16:26:47.681Z"
   },
   {
    "duration": 16,
    "start_time": "2021-10-14T16:26:47.687Z"
   },
   {
    "duration": 2,
    "start_time": "2021-10-14T16:26:47.707Z"
   },
   {
    "duration": 5,
    "start_time": "2021-10-14T16:26:47.711Z"
   },
   {
    "duration": 19,
    "start_time": "2021-10-14T16:31:35.259Z"
   },
   {
    "duration": 31,
    "start_time": "2021-10-14T16:33:16.941Z"
   },
   {
    "duration": 86,
    "start_time": "2021-10-14T16:33:37.965Z"
   },
   {
    "duration": 315,
    "start_time": "2021-10-14T16:33:41.743Z"
   },
   {
    "duration": 250,
    "start_time": "2021-10-14T16:33:53.744Z"
   },
   {
    "duration": 47,
    "start_time": "2021-10-14T16:34:30.585Z"
   },
   {
    "duration": 38,
    "start_time": "2021-10-14T16:35:41.859Z"
   },
   {
    "duration": 260,
    "start_time": "2021-10-14T16:36:04.044Z"
   },
   {
    "duration": 283,
    "start_time": "2021-10-14T16:36:55.958Z"
   },
   {
    "duration": 36,
    "start_time": "2021-10-14T16:37:03.281Z"
   },
   {
    "duration": 39,
    "start_time": "2021-10-14T16:37:14.675Z"
   },
   {
    "duration": 57,
    "start_time": "2021-10-14T16:37:38.657Z"
   },
   {
    "duration": 428,
    "start_time": "2021-10-14T16:38:04.554Z"
   },
   {
    "duration": 310,
    "start_time": "2021-10-14T16:39:20.975Z"
   },
   {
    "duration": 34,
    "start_time": "2021-10-14T16:39:40.223Z"
   },
   {
    "duration": 37,
    "start_time": "2021-10-14T16:40:22.303Z"
   },
   {
    "duration": 40,
    "start_time": "2021-10-14T16:40:44.254Z"
   },
   {
    "duration": 35,
    "start_time": "2021-10-14T16:41:22.635Z"
   },
   {
    "duration": 41,
    "start_time": "2021-10-14T16:41:29.688Z"
   },
   {
    "duration": 256,
    "start_time": "2021-10-14T16:41:36.264Z"
   },
   {
    "duration": 85,
    "start_time": "2021-10-14T16:44:35.237Z"
   },
   {
    "duration": 258,
    "start_time": "2021-10-14T16:44:45.471Z"
   },
   {
    "duration": 88,
    "start_time": "2021-10-14T16:45:26.805Z"
   },
   {
    "duration": 264,
    "start_time": "2021-10-14T16:45:34.921Z"
   },
   {
    "duration": 86,
    "start_time": "2021-10-14T16:47:44.221Z"
   },
   {
    "duration": 261,
    "start_time": "2021-10-14T16:47:51.583Z"
   },
   {
    "duration": 83,
    "start_time": "2021-10-14T16:49:08.558Z"
   },
   {
    "duration": 84,
    "start_time": "2021-10-14T16:49:17.630Z"
   },
   {
    "duration": 84,
    "start_time": "2021-10-14T16:49:31.351Z"
   },
   {
    "duration": 43,
    "start_time": "2021-10-14T16:50:54.516Z"
   },
   {
    "duration": 44,
    "start_time": "2021-10-14T16:51:00.014Z"
   },
   {
    "duration": 305,
    "start_time": "2021-10-14T16:51:26.875Z"
   },
   {
    "duration": 43,
    "start_time": "2021-10-14T16:51:44.247Z"
   },
   {
    "duration": 115,
    "start_time": "2021-10-14T16:51:52.731Z"
   },
   {
    "duration": 44,
    "start_time": "2021-10-14T16:51:57.715Z"
   },
   {
    "duration": 38,
    "start_time": "2021-10-14T16:52:35.808Z"
   },
   {
    "duration": 45,
    "start_time": "2021-10-14T16:53:00.206Z"
   },
   {
    "duration": 45,
    "start_time": "2021-10-14T16:55:40.630Z"
   },
   {
    "duration": 279,
    "start_time": "2021-10-14T16:57:26.368Z"
   },
   {
    "duration": 418,
    "start_time": "2021-10-14T16:57:41.246Z"
   },
   {
    "duration": 310,
    "start_time": "2021-10-14T16:58:05.506Z"
   },
   {
    "duration": 323,
    "start_time": "2021-10-14T17:00:33.009Z"
   },
   {
    "duration": 354,
    "start_time": "2021-10-14T17:00:46.750Z"
   },
   {
    "duration": 249,
    "start_time": "2021-10-14T17:01:11.240Z"
   },
   {
    "duration": 322,
    "start_time": "2021-10-14T17:01:22.337Z"
   },
   {
    "duration": 293,
    "start_time": "2021-10-14T17:02:46.474Z"
   },
   {
    "duration": 43,
    "start_time": "2021-10-14T17:02:55.462Z"
   },
   {
    "duration": 414,
    "start_time": "2021-10-14T17:03:07.881Z"
   },
   {
    "duration": 296,
    "start_time": "2021-10-14T17:04:16.709Z"
   },
   {
    "duration": 297,
    "start_time": "2021-10-14T17:09:25.811Z"
   },
   {
    "duration": 325,
    "start_time": "2021-10-14T17:09:30.843Z"
   },
   {
    "duration": 3,
    "start_time": "2021-10-14T17:10:09.022Z"
   },
   {
    "duration": 294,
    "start_time": "2021-10-14T17:10:10.883Z"
   },
   {
    "duration": 285,
    "start_time": "2021-10-14T17:10:51.741Z"
   },
   {
    "duration": 1213,
    "start_time": "2021-10-14T17:11:20.594Z"
   },
   {
    "duration": 3,
    "start_time": "2021-10-14T17:11:39.062Z"
   },
   {
    "duration": 1137,
    "start_time": "2021-10-14T17:11:46.007Z"
   },
   {
    "duration": 3,
    "start_time": "2021-10-14T17:12:18.731Z"
   },
   {
    "duration": 1174,
    "start_time": "2021-10-14T17:12:24.289Z"
   },
   {
    "duration": 84,
    "start_time": "2021-10-14T17:12:48.685Z"
   },
   {
    "duration": 4,
    "start_time": "2021-10-14T17:13:30.496Z"
   },
   {
    "duration": 679,
    "start_time": "2021-10-14T17:13:30.506Z"
   },
   {
    "duration": 81,
    "start_time": "2021-10-14T17:13:31.187Z"
   },
   {
    "duration": 18,
    "start_time": "2021-10-14T17:13:31.270Z"
   },
   {
    "duration": 19,
    "start_time": "2021-10-14T17:13:31.290Z"
   },
   {
    "duration": 25,
    "start_time": "2021-10-14T17:13:31.311Z"
   },
   {
    "duration": 4,
    "start_time": "2021-10-14T17:13:31.350Z"
   },
   {
    "duration": 13,
    "start_time": "2021-10-14T17:13:31.356Z"
   },
   {
    "duration": 8,
    "start_time": "2021-10-14T17:13:31.372Z"
   },
   {
    "duration": 22,
    "start_time": "2021-10-14T17:13:31.382Z"
   },
   {
    "duration": 47,
    "start_time": "2021-10-14T17:13:31.406Z"
   },
   {
    "duration": 12,
    "start_time": "2021-10-14T17:13:31.455Z"
   },
   {
    "duration": 20,
    "start_time": "2021-10-14T17:13:31.469Z"
   },
   {
    "duration": 234,
    "start_time": "2021-10-14T17:13:31.492Z"
   },
   {
    "duration": 3,
    "start_time": "2021-10-14T17:13:31.728Z"
   },
   {
    "duration": 17,
    "start_time": "2021-10-14T17:13:31.733Z"
   },
   {
    "duration": 7,
    "start_time": "2021-10-14T17:13:31.752Z"
   },
   {
    "duration": 17,
    "start_time": "2021-10-14T17:13:31.761Z"
   },
   {
    "duration": 3,
    "start_time": "2021-10-14T17:13:31.780Z"
   },
   {
    "duration": 15,
    "start_time": "2021-10-14T17:13:31.785Z"
   },
   {
    "duration": 6,
    "start_time": "2021-10-14T17:13:31.802Z"
   },
   {
    "duration": 1217,
    "start_time": "2021-10-14T17:13:31.810Z"
   },
   {
    "duration": -261,
    "start_time": "2021-10-14T17:13:33.290Z"
   },
   {
    "duration": 4,
    "start_time": "2021-10-14T17:14:22.008Z"
   },
   {
    "duration": 731,
    "start_time": "2021-10-14T17:14:22.014Z"
   },
   {
    "duration": 68,
    "start_time": "2021-10-14T17:14:22.749Z"
   },
   {
    "duration": 18,
    "start_time": "2021-10-14T17:14:22.821Z"
   },
   {
    "duration": 24,
    "start_time": "2021-10-14T17:14:22.842Z"
   },
   {
    "duration": 18,
    "start_time": "2021-10-14T17:14:22.869Z"
   },
   {
    "duration": 5,
    "start_time": "2021-10-14T17:14:22.890Z"
   },
   {
    "duration": 11,
    "start_time": "2021-10-14T17:14:22.896Z"
   },
   {
    "duration": 40,
    "start_time": "2021-10-14T17:14:22.909Z"
   },
   {
    "duration": 19,
    "start_time": "2021-10-14T17:14:22.951Z"
   },
   {
    "duration": 9,
    "start_time": "2021-10-14T17:14:22.972Z"
   },
   {
    "duration": 12,
    "start_time": "2021-10-14T17:14:22.983Z"
   },
   {
    "duration": 14,
    "start_time": "2021-10-14T17:14:22.997Z"
   },
   {
    "duration": 360,
    "start_time": "2021-10-14T17:14:23.013Z"
   },
   {
    "duration": -236,
    "start_time": "2021-10-14T17:14:23.611Z"
   },
   {
    "duration": -240,
    "start_time": "2021-10-14T17:14:23.616Z"
   },
   {
    "duration": -244,
    "start_time": "2021-10-14T17:14:23.621Z"
   },
   {
    "duration": -249,
    "start_time": "2021-10-14T17:14:23.627Z"
   },
   {
    "duration": -253,
    "start_time": "2021-10-14T17:14:23.632Z"
   },
   {
    "duration": -257,
    "start_time": "2021-10-14T17:14:23.637Z"
   },
   {
    "duration": -261,
    "start_time": "2021-10-14T17:14:23.642Z"
   },
   {
    "duration": -273,
    "start_time": "2021-10-14T17:14:23.655Z"
   },
   {
    "duration": -280,
    "start_time": "2021-10-14T17:14:23.663Z"
   },
   {
    "duration": 1157,
    "start_time": "2021-10-14T17:14:51.840Z"
   },
   {
    "duration": 1177,
    "start_time": "2021-10-14T17:15:10.443Z"
   },
   {
    "duration": 306,
    "start_time": "2021-10-14T17:15:52.254Z"
   },
   {
    "duration": 3,
    "start_time": "2021-10-14T17:16:21.660Z"
   },
   {
    "duration": 663,
    "start_time": "2021-10-14T17:16:21.666Z"
   },
   {
    "duration": 79,
    "start_time": "2021-10-14T17:16:22.331Z"
   },
   {
    "duration": 16,
    "start_time": "2021-10-14T17:16:22.412Z"
   },
   {
    "duration": 29,
    "start_time": "2021-10-14T17:16:22.430Z"
   },
   {
    "duration": 17,
    "start_time": "2021-10-14T17:16:22.460Z"
   },
   {
    "duration": 22,
    "start_time": "2021-10-14T17:16:22.479Z"
   },
   {
    "duration": 26,
    "start_time": "2021-10-14T17:16:22.504Z"
   },
   {
    "duration": 32,
    "start_time": "2021-10-14T17:16:22.532Z"
   },
   {
    "duration": 43,
    "start_time": "2021-10-14T17:16:22.567Z"
   },
   {
    "duration": 23,
    "start_time": "2021-10-14T17:16:22.612Z"
   },
   {
    "duration": 43,
    "start_time": "2021-10-14T17:16:22.636Z"
   },
   {
    "duration": 51,
    "start_time": "2021-10-14T17:16:22.681Z"
   },
   {
    "duration": 228,
    "start_time": "2021-10-14T17:16:22.734Z"
   },
   {
    "duration": 3,
    "start_time": "2021-10-14T17:16:22.963Z"
   },
   {
    "duration": 9,
    "start_time": "2021-10-14T17:16:22.967Z"
   },
   {
    "duration": 7,
    "start_time": "2021-10-14T17:16:22.978Z"
   },
   {
    "duration": 18,
    "start_time": "2021-10-14T17:16:22.986Z"
   },
   {
    "duration": 2,
    "start_time": "2021-10-14T17:16:23.005Z"
   },
   {
    "duration": 7,
    "start_time": "2021-10-14T17:16:23.009Z"
   },
   {
    "duration": 8,
    "start_time": "2021-10-14T17:16:23.018Z"
   },
   {
    "duration": 8,
    "start_time": "2021-10-14T17:16:23.028Z"
   },
   {
    "duration": 87,
    "start_time": "2021-10-14T17:16:23.050Z"
   },
   {
    "duration": 310,
    "start_time": "2021-10-14T17:16:27.622Z"
   },
   {
    "duration": 276,
    "start_time": "2021-10-14T17:16:51.372Z"
   },
   {
    "duration": 86,
    "start_time": "2021-10-14T17:17:07.065Z"
   },
   {
    "duration": 455,
    "start_time": "2021-10-14T17:17:10.204Z"
   },
   {
    "duration": 9650,
    "start_time": "2021-10-14T17:19:17.046Z"
   },
   {
    "duration": 6529,
    "start_time": "2021-10-14T17:19:31.370Z"
   },
   {
    "duration": 7275,
    "start_time": "2021-10-14T17:19:43.652Z"
   },
   {
    "duration": 6251,
    "start_time": "2021-10-14T17:20:19.813Z"
   },
   {
    "duration": 6794,
    "start_time": "2021-10-14T17:20:40.443Z"
   },
   {
    "duration": 297,
    "start_time": "2021-10-14T17:21:17.720Z"
   },
   {
    "duration": 398,
    "start_time": "2021-10-14T17:21:27.031Z"
   },
   {
    "duration": 276,
    "start_time": "2021-10-14T17:21:38.282Z"
   },
   {
    "duration": 294,
    "start_time": "2021-10-14T17:22:07.311Z"
   },
   {
    "duration": 296,
    "start_time": "2021-10-14T17:22:26.674Z"
   },
   {
    "duration": 270,
    "start_time": "2021-10-14T17:22:37.439Z"
   },
   {
    "duration": 272,
    "start_time": "2021-10-14T17:23:57.545Z"
   },
   {
    "duration": 5,
    "start_time": "2021-10-16T14:37:37.754Z"
   },
   {
    "duration": 847,
    "start_time": "2021-10-16T14:37:37.762Z"
   },
   {
    "duration": 82,
    "start_time": "2021-10-16T14:37:38.612Z"
   },
   {
    "duration": 29,
    "start_time": "2021-10-16T14:37:38.697Z"
   },
   {
    "duration": 54,
    "start_time": "2021-10-16T14:37:38.729Z"
   },
   {
    "duration": 25,
    "start_time": "2021-10-16T14:37:38.787Z"
   },
   {
    "duration": 47,
    "start_time": "2021-10-16T14:37:38.816Z"
   },
   {
    "duration": 14,
    "start_time": "2021-10-16T14:37:38.866Z"
   },
   {
    "duration": 14,
    "start_time": "2021-10-16T14:37:38.882Z"
   },
   {
    "duration": 26,
    "start_time": "2021-10-16T14:37:38.898Z"
   },
   {
    "duration": 14,
    "start_time": "2021-10-16T14:37:38.962Z"
   },
   {
    "duration": 22,
    "start_time": "2021-10-16T14:37:38.979Z"
   },
   {
    "duration": 8,
    "start_time": "2021-10-16T14:37:39.004Z"
   },
   {
    "duration": 394,
    "start_time": "2021-10-16T14:37:39.015Z"
   },
   {
    "duration": 4,
    "start_time": "2021-10-16T14:37:39.411Z"
   },
   {
    "duration": 7,
    "start_time": "2021-10-16T14:37:39.417Z"
   },
   {
    "duration": 6,
    "start_time": "2021-10-16T14:37:39.426Z"
   },
   {
    "duration": 44,
    "start_time": "2021-10-16T14:37:39.435Z"
   },
   {
    "duration": 3,
    "start_time": "2021-10-16T14:37:39.483Z"
   },
   {
    "duration": 7,
    "start_time": "2021-10-16T14:37:39.489Z"
   },
   {
    "duration": 6,
    "start_time": "2021-10-16T14:37:39.499Z"
   },
   {
    "duration": 5,
    "start_time": "2021-10-16T14:37:39.507Z"
   },
   {
    "duration": 457,
    "start_time": "2021-10-16T14:37:39.514Z"
   },
   {
    "duration": 786,
    "start_time": "2021-10-16T14:40:48.838Z"
   },
   {
    "duration": 463,
    "start_time": "2021-10-16T14:41:27.638Z"
   },
   {
    "duration": 337,
    "start_time": "2021-10-16T14:41:37.357Z"
   },
   {
    "duration": 324,
    "start_time": "2021-10-16T14:42:06.774Z"
   },
   {
    "duration": 326,
    "start_time": "2021-10-16T14:42:15.905Z"
   },
   {
    "duration": 457,
    "start_time": "2021-10-16T14:43:17.178Z"
   },
   {
    "duration": 108,
    "start_time": "2021-10-16T14:43:59.964Z"
   },
   {
    "duration": 735,
    "start_time": "2021-10-16T14:44:03.944Z"
   },
   {
    "duration": 450,
    "start_time": "2021-10-16T14:44:13.141Z"
   },
   {
    "duration": 7659,
    "start_time": "2021-10-16T14:56:17.235Z"
   },
   {
    "duration": 932,
    "start_time": "2021-10-16T14:57:34.690Z"
   },
   {
    "duration": 909,
    "start_time": "2021-10-16T14:59:28.372Z"
   },
   {
    "duration": 346,
    "start_time": "2021-10-16T15:00:06.389Z"
   },
   {
    "duration": 17,
    "start_time": "2021-10-16T15:01:10.167Z"
   },
   {
    "duration": 15,
    "start_time": "2021-10-16T15:02:58.305Z"
   },
   {
    "duration": 33,
    "start_time": "2021-10-16T15:04:03.421Z"
   },
   {
    "duration": 1240,
    "start_time": "2021-10-16T15:05:31.247Z"
   },
   {
    "duration": 346,
    "start_time": "2021-10-16T15:08:36.341Z"
   },
   {
    "duration": 414,
    "start_time": "2021-10-16T15:09:03.779Z"
   },
   {
    "duration": 5,
    "start_time": "2021-10-16T15:09:18.030Z"
   },
   {
    "duration": 857,
    "start_time": "2021-10-16T15:09:18.038Z"
   },
   {
    "duration": 82,
    "start_time": "2021-10-16T15:09:18.897Z"
   },
   {
    "duration": 24,
    "start_time": "2021-10-16T15:09:18.982Z"
   },
   {
    "duration": 27,
    "start_time": "2021-10-16T15:09:19.009Z"
   },
   {
    "duration": 43,
    "start_time": "2021-10-16T15:09:19.038Z"
   },
   {
    "duration": 4,
    "start_time": "2021-10-16T15:09:19.084Z"
   },
   {
    "duration": 14,
    "start_time": "2021-10-16T15:09:19.091Z"
   },
   {
    "duration": 15,
    "start_time": "2021-10-16T15:09:19.108Z"
   },
   {
    "duration": 61,
    "start_time": "2021-10-16T15:09:19.125Z"
   },
   {
    "duration": 31,
    "start_time": "2021-10-16T15:09:19.189Z"
   },
   {
    "duration": 38,
    "start_time": "2021-10-16T15:09:19.223Z"
   },
   {
    "duration": 10,
    "start_time": "2021-10-16T15:09:19.264Z"
   },
   {
    "duration": 394,
    "start_time": "2021-10-16T15:09:19.277Z"
   },
   {
    "duration": 3,
    "start_time": "2021-10-16T15:09:19.673Z"
   },
   {
    "duration": 8,
    "start_time": "2021-10-16T15:09:19.679Z"
   },
   {
    "duration": 7,
    "start_time": "2021-10-16T15:09:19.690Z"
   },
   {
    "duration": 23,
    "start_time": "2021-10-16T15:09:19.699Z"
   },
   {
    "duration": 37,
    "start_time": "2021-10-16T15:09:19.726Z"
   },
   {
    "duration": 10,
    "start_time": "2021-10-16T15:09:19.766Z"
   },
   {
    "duration": 12,
    "start_time": "2021-10-16T15:09:19.779Z"
   },
   {
    "duration": 7,
    "start_time": "2021-10-16T15:09:19.794Z"
   },
   {
    "duration": 454,
    "start_time": "2021-10-16T15:09:19.803Z"
   },
   {
    "duration": 989,
    "start_time": "2021-10-16T15:09:20.259Z"
   },
   {
    "duration": 32,
    "start_time": "2021-10-16T15:09:21.251Z"
   },
   {
    "duration": 14,
    "start_time": "2021-10-16T15:09:21.285Z"
   },
   {
    "duration": 1053,
    "start_time": "2021-10-16T15:09:21.302Z"
   },
   {
    "duration": 13,
    "start_time": "2021-10-16T15:10:46.207Z"
   },
   {
    "duration": 454,
    "start_time": "2021-10-16T15:11:07.458Z"
   },
   {
    "duration": 21,
    "start_time": "2021-10-16T15:11:13.581Z"
   },
   {
    "duration": 323,
    "start_time": "2021-10-16T15:12:28.532Z"
   },
   {
    "duration": 330,
    "start_time": "2021-10-16T15:12:42.059Z"
   },
   {
    "duration": 117,
    "start_time": "2021-10-16T15:16:03.867Z"
   },
   {
    "duration": 302,
    "start_time": "2021-10-16T15:16:38.448Z"
   },
   {
    "duration": 330,
    "start_time": "2021-10-16T15:16:54.170Z"
   },
   {
    "duration": 102,
    "start_time": "2021-10-16T15:17:32.514Z"
   },
   {
    "duration": 190,
    "start_time": "2021-10-16T15:17:53.749Z"
   },
   {
    "duration": 332,
    "start_time": "2021-10-16T15:20:05.704Z"
   },
   {
    "duration": 445,
    "start_time": "2021-10-16T15:20:36.890Z"
   },
   {
    "duration": 18,
    "start_time": "2021-10-16T15:21:24.049Z"
   },
   {
    "duration": 371,
    "start_time": "2021-10-16T15:23:21.114Z"
   },
   {
    "duration": 404,
    "start_time": "2021-10-16T15:23:40.875Z"
   },
   {
    "duration": 352,
    "start_time": "2021-10-16T15:24:43.587Z"
   },
   {
    "duration": 90,
    "start_time": "2021-10-16T15:27:05.503Z"
   },
   {
    "duration": 337,
    "start_time": "2021-10-16T15:27:24.989Z"
   },
   {
    "duration": 314,
    "start_time": "2021-10-16T15:27:40.279Z"
   },
   {
    "duration": 107,
    "start_time": "2021-10-16T15:27:55.559Z"
   },
   {
    "duration": 342,
    "start_time": "2021-10-16T15:28:17.632Z"
   },
   {
    "duration": 355,
    "start_time": "2021-10-16T15:29:02.244Z"
   },
   {
    "duration": 369,
    "start_time": "2021-10-16T15:29:38.640Z"
   },
   {
    "duration": 456,
    "start_time": "2021-10-16T15:29:55.891Z"
   },
   {
    "duration": 434,
    "start_time": "2021-10-16T15:30:04.964Z"
   },
   {
    "duration": 391,
    "start_time": "2021-10-16T15:30:27.046Z"
   },
   {
    "duration": 8073,
    "start_time": "2021-10-16T15:31:24.976Z"
   },
   {
    "duration": 7922,
    "start_time": "2021-10-16T15:31:55.039Z"
   },
   {
    "duration": 43,
    "start_time": "2021-10-16T15:32:18.015Z"
   },
   {
    "duration": 5,
    "start_time": "2021-10-16T15:32:32.852Z"
   },
   {
    "duration": 889,
    "start_time": "2021-10-16T15:32:32.860Z"
   },
   {
    "duration": 83,
    "start_time": "2021-10-16T15:32:33.752Z"
   },
   {
    "duration": 25,
    "start_time": "2021-10-16T15:32:33.838Z"
   },
   {
    "duration": 31,
    "start_time": "2021-10-16T15:32:33.866Z"
   },
   {
    "duration": 24,
    "start_time": "2021-10-16T15:32:33.900Z"
   },
   {
    "duration": 6,
    "start_time": "2021-10-16T15:32:33.963Z"
   },
   {
    "duration": 13,
    "start_time": "2021-10-16T15:32:33.975Z"
   },
   {
    "duration": 14,
    "start_time": "2021-10-16T15:32:33.991Z"
   },
   {
    "duration": 67,
    "start_time": "2021-10-16T15:32:34.008Z"
   },
   {
    "duration": 15,
    "start_time": "2021-10-16T15:32:34.078Z"
   },
   {
    "duration": 20,
    "start_time": "2021-10-16T15:32:34.096Z"
   },
   {
    "duration": 13,
    "start_time": "2021-10-16T15:32:34.164Z"
   },
   {
    "duration": 557,
    "start_time": "2021-10-16T15:32:34.180Z"
   },
   {
    "duration": 3,
    "start_time": "2021-10-16T15:32:34.740Z"
   },
   {
    "duration": 17,
    "start_time": "2021-10-16T15:32:34.745Z"
   },
   {
    "duration": 3,
    "start_time": "2021-10-16T15:32:34.764Z"
   },
   {
    "duration": 22,
    "start_time": "2021-10-16T15:32:34.769Z"
   },
   {
    "duration": 3,
    "start_time": "2021-10-16T15:32:34.793Z"
   },
   {
    "duration": 8,
    "start_time": "2021-10-16T15:32:34.798Z"
   },
   {
    "duration": 9,
    "start_time": "2021-10-16T15:32:34.809Z"
   },
   {
    "duration": 42,
    "start_time": "2021-10-16T15:32:34.820Z"
   },
   {
    "duration": 19,
    "start_time": "2021-10-16T15:32:34.867Z"
   },
   {
    "duration": 42,
    "start_time": "2021-10-16T15:32:34.888Z"
   },
   {
    "duration": 1015,
    "start_time": "2021-10-16T15:32:34.933Z"
   },
   {
    "duration": 36,
    "start_time": "2021-10-16T15:32:35.951Z"
   },
   {
    "duration": 23,
    "start_time": "2021-10-16T15:32:35.989Z"
   },
   {
    "duration": 1008,
    "start_time": "2021-10-16T15:32:36.015Z"
   },
   {
    "duration": 514,
    "start_time": "2021-10-16T15:49:01.321Z"
   },
   {
    "duration": 337,
    "start_time": "2021-10-16T15:49:18.266Z"
   },
   {
    "duration": 414,
    "start_time": "2021-10-16T15:49:45.934Z"
   },
   {
    "duration": 400,
    "start_time": "2021-10-16T15:55:23.454Z"
   },
   {
    "duration": 375,
    "start_time": "2021-10-16T15:55:39.008Z"
   },
   {
    "duration": 419,
    "start_time": "2021-10-16T15:55:52.588Z"
   },
   {
    "duration": 365,
    "start_time": "2021-10-16T16:02:08.081Z"
   },
   {
    "duration": 19,
    "start_time": "2021-10-16T16:02:24.747Z"
   },
   {
    "duration": 100,
    "start_time": "2021-10-16T16:19:07.277Z"
   },
   {
    "duration": 10,
    "start_time": "2021-10-16T16:19:21.205Z"
   },
   {
    "duration": 18,
    "start_time": "2021-10-16T16:19:28.047Z"
   },
   {
    "duration": 40,
    "start_time": "2021-10-16T16:26:48.159Z"
   },
   {
    "duration": 40,
    "start_time": "2021-10-16T16:26:56.612Z"
   },
   {
    "duration": 22,
    "start_time": "2021-10-16T16:27:18.718Z"
   },
   {
    "duration": 39,
    "start_time": "2021-10-16T16:27:29.679Z"
   },
   {
    "duration": 40,
    "start_time": "2021-10-16T16:27:49.298Z"
   },
   {
    "duration": 22,
    "start_time": "2021-10-16T16:28:02.315Z"
   },
   {
    "duration": 33,
    "start_time": "2021-10-16T16:28:33.290Z"
   },
   {
    "duration": 329,
    "start_time": "2021-10-16T16:30:03.257Z"
   },
   {
    "duration": 33,
    "start_time": "2021-10-16T16:30:15.567Z"
   },
   {
    "duration": 34,
    "start_time": "2021-10-16T16:30:28.656Z"
   },
   {
    "duration": 318,
    "start_time": "2021-10-16T16:31:47.325Z"
   },
   {
    "duration": 7188,
    "start_time": "2021-10-16T16:33:45.436Z"
   },
   {
    "duration": 7612,
    "start_time": "2021-10-16T16:34:02.380Z"
   },
   {
    "duration": 319,
    "start_time": "2021-10-16T16:34:29.080Z"
   },
   {
    "duration": 331,
    "start_time": "2021-10-16T16:35:47.148Z"
   },
   {
    "duration": 479,
    "start_time": "2021-10-16T16:36:58.207Z"
   },
   {
    "duration": 266,
    "start_time": "2021-10-16T16:37:41.831Z"
   },
   {
    "duration": 53,
    "start_time": "2021-10-16T16:38:31.626Z"
   },
   {
    "duration": 53,
    "start_time": "2021-10-16T16:38:45.488Z"
   },
   {
    "duration": 58,
    "start_time": "2021-10-16T16:39:44.341Z"
   },
   {
    "duration": 513,
    "start_time": "2021-10-16T16:40:27.447Z"
   },
   {
    "duration": 60,
    "start_time": "2021-10-16T16:40:55.160Z"
   },
   {
    "duration": 51,
    "start_time": "2021-10-16T16:41:09.613Z"
   },
   {
    "duration": 56,
    "start_time": "2021-10-16T16:44:41.152Z"
   },
   {
    "duration": 57,
    "start_time": "2021-10-16T16:45:24.585Z"
   },
   {
    "duration": 20,
    "start_time": "2021-10-16T16:46:22.775Z"
   },
   {
    "duration": 5,
    "start_time": "2021-10-16T16:46:32.171Z"
   },
   {
    "duration": 949,
    "start_time": "2021-10-16T16:46:32.178Z"
   },
   {
    "duration": 78,
    "start_time": "2021-10-16T16:46:33.130Z"
   },
   {
    "duration": 25,
    "start_time": "2021-10-16T16:46:33.211Z"
   },
   {
    "duration": 29,
    "start_time": "2021-10-16T16:46:33.239Z"
   },
   {
    "duration": 23,
    "start_time": "2021-10-16T16:46:33.271Z"
   },
   {
    "duration": 5,
    "start_time": "2021-10-16T16:46:33.297Z"
   },
   {
    "duration": 15,
    "start_time": "2021-10-16T16:46:33.304Z"
   },
   {
    "duration": 46,
    "start_time": "2021-10-16T16:46:33.321Z"
   },
   {
    "duration": 41,
    "start_time": "2021-10-16T16:46:33.370Z"
   },
   {
    "duration": 54,
    "start_time": "2021-10-16T16:46:33.414Z"
   },
   {
    "duration": 27,
    "start_time": "2021-10-16T16:46:33.471Z"
   },
   {
    "duration": 13,
    "start_time": "2021-10-16T16:46:33.501Z"
   },
   {
    "duration": 426,
    "start_time": "2021-10-16T16:46:33.517Z"
   },
   {
    "duration": 34,
    "start_time": "2021-10-16T16:46:33.946Z"
   },
   {
    "duration": 385,
    "start_time": "2021-10-16T16:46:33.982Z"
   },
   {
    "duration": 953,
    "start_time": "2021-10-16T16:46:34.370Z"
   },
   {
    "duration": 18,
    "start_time": "2021-10-16T16:46:35.325Z"
   },
   {
    "duration": 17,
    "start_time": "2021-10-16T16:46:35.363Z"
   },
   {
    "duration": 39,
    "start_time": "2021-10-16T16:46:49.595Z"
   },
   {
    "duration": 503,
    "start_time": "2021-10-16T16:48:27.316Z"
   },
   {
    "duration": 468,
    "start_time": "2021-10-16T16:48:36.101Z"
   },
   {
    "duration": 504,
    "start_time": "2021-10-16T16:49:07.319Z"
   },
   {
    "duration": 420,
    "start_time": "2021-10-16T16:49:44.653Z"
   },
   {
    "duration": 452,
    "start_time": "2021-10-16T16:50:06.983Z"
   },
   {
    "duration": 514,
    "start_time": "2021-10-16T16:51:17.878Z"
   },
   {
    "duration": 504,
    "start_time": "2021-10-16T16:52:01.800Z"
   },
   {
    "duration": 5,
    "start_time": "2021-10-17T07:09:20.594Z"
   },
   {
    "duration": 860,
    "start_time": "2021-10-17T07:09:20.602Z"
   },
   {
    "duration": 79,
    "start_time": "2021-10-17T07:09:21.468Z"
   },
   {
    "duration": 26,
    "start_time": "2021-10-17T07:09:21.550Z"
   },
   {
    "duration": 30,
    "start_time": "2021-10-17T07:09:21.578Z"
   },
   {
    "duration": 63,
    "start_time": "2021-10-17T07:09:21.610Z"
   },
   {
    "duration": 4,
    "start_time": "2021-10-17T07:09:21.676Z"
   },
   {
    "duration": 18,
    "start_time": "2021-10-17T07:09:21.684Z"
   },
   {
    "duration": 16,
    "start_time": "2021-10-17T07:09:21.705Z"
   },
   {
    "duration": 58,
    "start_time": "2021-10-17T07:09:21.724Z"
   },
   {
    "duration": 15,
    "start_time": "2021-10-17T07:09:21.784Z"
   },
   {
    "duration": 18,
    "start_time": "2021-10-17T07:09:21.801Z"
   },
   {
    "duration": 51,
    "start_time": "2021-10-17T07:09:21.822Z"
   },
   {
    "duration": 356,
    "start_time": "2021-10-17T07:09:21.875Z"
   },
   {
    "duration": 37,
    "start_time": "2021-10-17T07:09:22.234Z"
   },
   {
    "duration": 376,
    "start_time": "2021-10-17T07:09:22.273Z"
   },
   {
    "duration": 934,
    "start_time": "2021-10-17T07:09:22.651Z"
   },
   {
    "duration": 547,
    "start_time": "2021-10-17T07:09:23.588Z"
   },
   {
    "duration": 5,
    "start_time": "2021-10-17T07:54:10.486Z"
   },
   {
    "duration": 810,
    "start_time": "2021-10-17T07:54:10.494Z"
   },
   {
    "duration": 81,
    "start_time": "2021-10-17T07:54:11.307Z"
   },
   {
    "duration": 25,
    "start_time": "2021-10-17T07:54:11.391Z"
   },
   {
    "duration": 50,
    "start_time": "2021-10-17T07:54:11.419Z"
   },
   {
    "duration": 22,
    "start_time": "2021-10-17T07:54:11.472Z"
   },
   {
    "duration": 4,
    "start_time": "2021-10-17T07:54:11.496Z"
   },
   {
    "duration": 16,
    "start_time": "2021-10-17T07:54:11.504Z"
   },
   {
    "duration": 44,
    "start_time": "2021-10-17T07:54:11.523Z"
   },
   {
    "duration": 29,
    "start_time": "2021-10-17T07:54:11.570Z"
   },
   {
    "duration": 13,
    "start_time": "2021-10-17T07:54:11.604Z"
   },
   {
    "duration": 62,
    "start_time": "2021-10-17T07:54:11.619Z"
   },
   {
    "duration": 9,
    "start_time": "2021-10-17T07:54:11.683Z"
   },
   {
    "duration": 375,
    "start_time": "2021-10-17T07:54:11.694Z"
   },
   {
    "duration": 20,
    "start_time": "2021-10-17T07:54:12.071Z"
   },
   {
    "duration": 404,
    "start_time": "2021-10-17T07:54:12.094Z"
   },
   {
    "duration": 977,
    "start_time": "2021-10-17T07:54:12.501Z"
   },
   {
    "duration": 554,
    "start_time": "2021-10-17T07:54:13.481Z"
   },
   {
    "duration": 16,
    "start_time": "2021-10-17T08:33:11.732Z"
   },
   {
    "duration": 15,
    "start_time": "2021-10-17T08:33:15.153Z"
   },
   {
    "duration": 16,
    "start_time": "2021-10-17T08:33:27.524Z"
   },
   {
    "duration": 11,
    "start_time": "2021-10-17T08:33:52.503Z"
   },
   {
    "duration": 331,
    "start_time": "2021-10-17T08:34:44.372Z"
   },
   {
    "duration": 7,
    "start_time": "2021-10-17T08:34:55.148Z"
   },
   {
    "duration": 245,
    "start_time": "2021-10-17T08:35:02.927Z"
   },
   {
    "duration": 10,
    "start_time": "2021-10-17T08:35:06.168Z"
   },
   {
    "duration": 19,
    "start_time": "2021-10-17T08:35:12.826Z"
   },
   {
    "duration": 21,
    "start_time": "2021-10-17T08:35:40.823Z"
   },
   {
    "duration": 20,
    "start_time": "2021-10-17T08:35:44.784Z"
   },
   {
    "duration": 18,
    "start_time": "2021-10-17T08:35:53.490Z"
   },
   {
    "duration": 12,
    "start_time": "2021-10-17T08:37:41.523Z"
   },
   {
    "duration": 3,
    "start_time": "2021-10-17T08:37:42.038Z"
   },
   {
    "duration": 29,
    "start_time": "2021-10-17T08:37:42.590Z"
   },
   {
    "duration": 33,
    "start_time": "2021-10-17T08:39:46.300Z"
   },
   {
    "duration": 506,
    "start_time": "2021-10-17T08:57:10.722Z"
   },
   {
    "duration": 369,
    "start_time": "2021-10-17T08:58:45.006Z"
   },
   {
    "duration": 375,
    "start_time": "2021-10-17T08:59:21.661Z"
   },
   {
    "duration": 313,
    "start_time": "2021-10-17T09:01:56.647Z"
   },
   {
    "duration": 295,
    "start_time": "2021-10-17T09:01:59.498Z"
   },
   {
    "duration": 59,
    "start_time": "2021-10-17T09:02:23.112Z"
   },
   {
    "duration": 34,
    "start_time": "2021-10-17T09:02:51.950Z"
   },
   {
    "duration": 385,
    "start_time": "2021-10-17T09:09:44.137Z"
   },
   {
    "duration": 234,
    "start_time": "2021-10-17T09:16:41.200Z"
   },
   {
    "duration": 393,
    "start_time": "2021-10-17T09:17:56.414Z"
   },
   {
    "duration": 489,
    "start_time": "2021-10-17T09:18:57.332Z"
   },
   {
    "duration": 35,
    "start_time": "2021-10-17T09:19:45.741Z"
   },
   {
    "duration": 499,
    "start_time": "2021-10-17T09:20:58.338Z"
   },
   {
    "duration": 522,
    "start_time": "2021-10-17T09:21:05.232Z"
   },
   {
    "duration": 488,
    "start_time": "2021-10-17T09:21:10.279Z"
   },
   {
    "duration": 38,
    "start_time": "2021-10-17T09:21:41.085Z"
   },
   {
    "duration": 5767,
    "start_time": "2021-10-17T09:22:36.497Z"
   },
   {
    "duration": 6431,
    "start_time": "2021-10-17T09:22:45.618Z"
   },
   {
    "duration": 6274,
    "start_time": "2021-10-17T09:23:25.764Z"
   },
   {
    "duration": 38,
    "start_time": "2021-10-17T09:25:21.318Z"
   },
   {
    "duration": 411,
    "start_time": "2021-10-17T09:26:36.844Z"
   },
   {
    "duration": 268,
    "start_time": "2021-10-17T09:26:55.788Z"
   },
   {
    "duration": 436,
    "start_time": "2021-10-17T09:27:00.960Z"
   },
   {
    "duration": 410,
    "start_time": "2021-10-17T09:27:12.947Z"
   },
   {
    "duration": 297,
    "start_time": "2021-10-17T09:27:27.843Z"
   },
   {
    "duration": 964,
    "start_time": "2021-10-17T09:27:52.350Z"
   },
   {
    "duration": 319,
    "start_time": "2021-10-17T09:28:37.011Z"
   },
   {
    "duration": 316,
    "start_time": "2021-10-17T09:29:08.807Z"
   },
   {
    "duration": 339,
    "start_time": "2021-10-17T09:29:16.333Z"
   },
   {
    "duration": 360,
    "start_time": "2021-10-17T09:29:38.046Z"
   },
   {
    "duration": 414,
    "start_time": "2021-10-17T09:29:49.910Z"
   },
   {
    "duration": 478,
    "start_time": "2021-10-17T09:31:22.832Z"
   },
   {
    "duration": 355,
    "start_time": "2021-10-17T09:31:28.697Z"
   },
   {
    "duration": 643,
    "start_time": "2021-10-17T09:31:36.884Z"
   },
   {
    "duration": 354,
    "start_time": "2021-10-17T09:32:37.725Z"
   },
   {
    "duration": 357,
    "start_time": "2021-10-17T09:32:51.934Z"
   },
   {
    "duration": 368,
    "start_time": "2021-10-17T09:33:11.461Z"
   },
   {
    "duration": 361,
    "start_time": "2021-10-17T09:33:27.760Z"
   },
   {
    "duration": 411,
    "start_time": "2021-10-17T09:33:48.280Z"
   },
   {
    "duration": 348,
    "start_time": "2021-10-17T09:34:07.722Z"
   },
   {
    "duration": 359,
    "start_time": "2021-10-17T09:34:11.568Z"
   },
   {
    "duration": 336,
    "start_time": "2021-10-17T09:34:20.695Z"
   },
   {
    "duration": 348,
    "start_time": "2021-10-17T09:35:02.597Z"
   },
   {
    "duration": 305,
    "start_time": "2021-10-17T09:35:58.299Z"
   },
   {
    "duration": 306,
    "start_time": "2021-10-17T09:36:15.624Z"
   },
   {
    "duration": 337,
    "start_time": "2021-10-17T09:36:41.132Z"
   },
   {
    "duration": 344,
    "start_time": "2021-10-17T09:37:20.419Z"
   },
   {
    "duration": 647,
    "start_time": "2021-10-17T09:37:55.671Z"
   },
   {
    "duration": 339,
    "start_time": "2021-10-17T09:38:08.780Z"
   },
   {
    "duration": 335,
    "start_time": "2021-10-17T09:38:28.982Z"
   },
   {
    "duration": 517,
    "start_time": "2021-10-17T09:38:52.419Z"
   },
   {
    "duration": 361,
    "start_time": "2021-10-17T09:38:56.760Z"
   },
   {
    "duration": 320,
    "start_time": "2021-10-17T09:39:14.422Z"
   },
   {
    "duration": 543,
    "start_time": "2021-10-17T09:39:21.543Z"
   },
   {
    "duration": 527,
    "start_time": "2021-10-17T09:39:46.621Z"
   },
   {
    "duration": 323,
    "start_time": "2021-10-17T09:39:50.563Z"
   },
   {
    "duration": 512,
    "start_time": "2021-10-17T09:39:55.490Z"
   },
   {
    "duration": 53,
    "start_time": "2021-10-17T09:40:54.826Z"
   },
   {
    "duration": 70,
    "start_time": "2021-10-17T09:41:08.583Z"
   },
   {
    "duration": 55,
    "start_time": "2021-10-17T09:41:12.320Z"
   },
   {
    "duration": 393,
    "start_time": "2021-10-17T09:42:16.605Z"
   },
   {
    "duration": 367,
    "start_time": "2021-10-17T09:42:22.591Z"
   },
   {
    "duration": 649,
    "start_time": "2021-10-17T09:42:36.333Z"
   },
   {
    "duration": 452,
    "start_time": "2021-10-17T09:42:42.331Z"
   },
   {
    "duration": 718,
    "start_time": "2021-10-17T09:42:55.015Z"
   },
   {
    "duration": 588,
    "start_time": "2021-10-17T09:43:00.696Z"
   },
   {
    "duration": 306,
    "start_time": "2021-10-17T09:43:16.732Z"
   },
   {
    "duration": 301,
    "start_time": "2021-10-17T09:43:40.094Z"
   },
   {
    "duration": 411,
    "start_time": "2021-10-17T09:43:47.356Z"
   },
   {
    "duration": 379,
    "start_time": "2021-10-17T09:43:54.047Z"
   },
   {
    "duration": 429,
    "start_time": "2021-10-17T09:44:01.805Z"
   },
   {
    "duration": 6244,
    "start_time": "2021-10-17T09:45:30.433Z"
   },
   {
    "duration": 6471,
    "start_time": "2021-10-17T09:45:47.648Z"
   },
   {
    "duration": 291,
    "start_time": "2021-10-17T09:46:10.057Z"
   },
   {
    "duration": 391,
    "start_time": "2021-10-17T09:46:23.840Z"
   },
   {
    "duration": 78,
    "start_time": "2021-10-17T09:46:39.068Z"
   },
   {
    "duration": 388,
    "start_time": "2021-10-17T09:46:45.142Z"
   },
   {
    "duration": 416,
    "start_time": "2021-10-17T09:46:52.169Z"
   },
   {
    "duration": 399,
    "start_time": "2021-10-17T09:47:01.079Z"
   },
   {
    "duration": 535,
    "start_time": "2021-10-17T09:47:35.035Z"
   },
   {
    "duration": 282,
    "start_time": "2021-10-17T09:48:24.593Z"
   },
   {
    "duration": 414,
    "start_time": "2021-10-17T09:48:31.201Z"
   },
   {
    "duration": 5,
    "start_time": "2021-10-17T09:49:36.887Z"
   },
   {
    "duration": 840,
    "start_time": "2021-10-17T09:49:36.894Z"
   },
   {
    "duration": 78,
    "start_time": "2021-10-17T09:49:37.737Z"
   },
   {
    "duration": 25,
    "start_time": "2021-10-17T09:49:37.818Z"
   },
   {
    "duration": 32,
    "start_time": "2021-10-17T09:49:37.847Z"
   },
   {
    "duration": 22,
    "start_time": "2021-10-17T09:49:37.881Z"
   },
   {
    "duration": 4,
    "start_time": "2021-10-17T09:49:37.907Z"
   },
   {
    "duration": 22,
    "start_time": "2021-10-17T09:49:37.913Z"
   },
   {
    "duration": 12,
    "start_time": "2021-10-17T09:49:37.968Z"
   },
   {
    "duration": 28,
    "start_time": "2021-10-17T09:49:37.982Z"
   },
   {
    "duration": 13,
    "start_time": "2021-10-17T09:49:38.012Z"
   },
   {
    "duration": 54,
    "start_time": "2021-10-17T09:49:38.027Z"
   },
   {
    "duration": 11,
    "start_time": "2021-10-17T09:49:38.084Z"
   },
   {
    "duration": 370,
    "start_time": "2021-10-17T09:49:38.097Z"
   },
   {
    "duration": 20,
    "start_time": "2021-10-17T09:49:38.469Z"
   },
   {
    "duration": 436,
    "start_time": "2021-10-17T09:49:38.491Z"
   },
   {
    "duration": 938,
    "start_time": "2021-10-17T09:49:38.929Z"
   },
   {
    "duration": -754,
    "start_time": "2021-10-17T09:49:40.625Z"
   },
   {
    "duration": -763,
    "start_time": "2021-10-17T09:49:40.637Z"
   },
   {
    "duration": -766,
    "start_time": "2021-10-17T09:49:40.642Z"
   },
   {
    "duration": -771,
    "start_time": "2021-10-17T09:49:40.649Z"
   },
   {
    "duration": 500,
    "start_time": "2021-10-17T09:50:26.555Z"
   },
   {
    "duration": 12,
    "start_time": "2021-10-17T09:50:31.281Z"
   },
   {
    "duration": 3,
    "start_time": "2021-10-17T09:50:31.726Z"
   },
   {
    "duration": 276,
    "start_time": "2021-10-17T09:50:32.449Z"
   },
   {
    "duration": 276,
    "start_time": "2021-10-17T09:51:36.557Z"
   },
   {
    "duration": 345,
    "start_time": "2021-10-17T09:52:32.668Z"
   },
   {
    "duration": 275,
    "start_time": "2021-10-17T09:52:45.780Z"
   },
   {
    "duration": 5,
    "start_time": "2021-10-17T09:52:59.991Z"
   },
   {
    "duration": 836,
    "start_time": "2021-10-17T09:52:59.998Z"
   },
   {
    "duration": 80,
    "start_time": "2021-10-17T09:53:00.837Z"
   },
   {
    "duration": 26,
    "start_time": "2021-10-17T09:53:00.920Z"
   },
   {
    "duration": 31,
    "start_time": "2021-10-17T09:53:00.948Z"
   },
   {
    "duration": 23,
    "start_time": "2021-10-17T09:53:00.981Z"
   },
   {
    "duration": 16,
    "start_time": "2021-10-17T09:53:01.007Z"
   },
   {
    "duration": 41,
    "start_time": "2021-10-17T09:53:01.026Z"
   },
   {
    "duration": 15,
    "start_time": "2021-10-17T09:53:01.069Z"
   },
   {
    "duration": 41,
    "start_time": "2021-10-17T09:53:01.086Z"
   },
   {
    "duration": 15,
    "start_time": "2021-10-17T09:53:01.129Z"
   },
   {
    "duration": 18,
    "start_time": "2021-10-17T09:53:01.167Z"
   },
   {
    "duration": 21,
    "start_time": "2021-10-17T09:53:01.188Z"
   },
   {
    "duration": 374,
    "start_time": "2021-10-17T09:53:01.211Z"
   },
   {
    "duration": 20,
    "start_time": "2021-10-17T09:53:01.588Z"
   },
   {
    "duration": 400,
    "start_time": "2021-10-17T09:53:01.610Z"
   },
   {
    "duration": 502,
    "start_time": "2021-10-17T09:53:02.013Z"
   },
   {
    "duration": 11,
    "start_time": "2021-10-17T09:53:02.517Z"
   },
   {
    "duration": 3,
    "start_time": "2021-10-17T09:53:02.532Z"
   },
   {
    "duration": 492,
    "start_time": "2021-10-17T09:53:02.538Z"
   },
   {
    "duration": 423,
    "start_time": "2021-10-17T09:53:57.760Z"
   },
   {
    "duration": 388,
    "start_time": "2021-10-17T09:54:05.317Z"
   },
   {
    "duration": 356,
    "start_time": "2021-10-17T09:54:15.307Z"
   },
   {
    "duration": 396,
    "start_time": "2021-10-17T09:55:06.481Z"
   },
   {
    "duration": 619,
    "start_time": "2021-10-17T10:23:32.725Z"
   },
   {
    "duration": 488,
    "start_time": "2021-10-17T10:23:42.386Z"
   },
   {
    "duration": 31,
    "start_time": "2021-10-17T10:23:53.973Z"
   },
   {
    "duration": 21,
    "start_time": "2021-10-17T10:24:04.216Z"
   },
   {
    "duration": 23,
    "start_time": "2021-10-17T10:26:33.032Z"
   },
   {
    "duration": 520,
    "start_time": "2021-10-17T10:28:46.969Z"
   },
   {
    "duration": 23,
    "start_time": "2021-10-17T10:29:06.351Z"
   },
   {
    "duration": 432,
    "start_time": "2021-10-17T10:29:51.191Z"
   },
   {
    "duration": 328,
    "start_time": "2021-10-17T10:31:38.224Z"
   },
   {
    "duration": 4,
    "start_time": "2021-10-17T10:31:43.516Z"
   },
   {
    "duration": 865,
    "start_time": "2021-10-17T10:31:43.524Z"
   },
   {
    "duration": 86,
    "start_time": "2021-10-17T10:31:44.392Z"
   },
   {
    "duration": 26,
    "start_time": "2021-10-17T10:31:44.481Z"
   },
   {
    "duration": 57,
    "start_time": "2021-10-17T10:31:44.509Z"
   },
   {
    "duration": 24,
    "start_time": "2021-10-17T10:31:44.568Z"
   },
   {
    "duration": 4,
    "start_time": "2021-10-17T10:31:44.596Z"
   },
   {
    "duration": 16,
    "start_time": "2021-10-17T10:31:44.602Z"
   },
   {
    "duration": 15,
    "start_time": "2021-10-17T10:31:44.620Z"
   },
   {
    "duration": 28,
    "start_time": "2021-10-17T10:31:44.668Z"
   },
   {
    "duration": 12,
    "start_time": "2021-10-17T10:31:44.699Z"
   },
   {
    "duration": 56,
    "start_time": "2021-10-17T10:31:44.713Z"
   },
   {
    "duration": 10,
    "start_time": "2021-10-17T10:31:44.772Z"
   },
   {
    "duration": 446,
    "start_time": "2021-10-17T10:31:44.785Z"
   },
   {
    "duration": 37,
    "start_time": "2021-10-17T10:31:45.234Z"
   },
   {
    "duration": 388,
    "start_time": "2021-10-17T10:31:45.273Z"
   },
   {
    "duration": 475,
    "start_time": "2021-10-17T10:31:45.668Z"
   },
   {
    "duration": 24,
    "start_time": "2021-10-17T10:31:46.145Z"
   },
   {
    "duration": 465,
    "start_time": "2021-10-17T10:31:46.173Z"
   },
   {
    "duration": 492,
    "start_time": "2021-10-17T10:31:46.640Z"
   },
   {
    "duration": 32,
    "start_time": "2021-10-17T10:31:47.135Z"
   },
   {
    "duration": 353,
    "start_time": "2021-10-17T10:31:47.169Z"
   },
   {
    "duration": 254,
    "start_time": "2021-10-17T10:33:09.169Z"
   },
   {
    "duration": 258,
    "start_time": "2021-10-17T10:34:14.656Z"
   },
   {
    "duration": 206,
    "start_time": "2021-10-17T10:34:19.116Z"
   },
   {
    "duration": 24,
    "start_time": "2021-10-17T10:34:49.916Z"
   },
   {
    "duration": 257,
    "start_time": "2021-10-17T10:34:50.772Z"
   },
   {
    "duration": 492,
    "start_time": "2021-10-17T10:35:03.176Z"
   },
   {
    "duration": 37,
    "start_time": "2021-10-17T10:35:13.872Z"
   },
   {
    "duration": 253,
    "start_time": "2021-10-17T10:35:46.050Z"
   },
   {
    "duration": 6,
    "start_time": "2021-10-17T10:36:31.736Z"
   },
   {
    "duration": 7,
    "start_time": "2021-10-17T10:36:45.883Z"
   },
   {
    "duration": 13,
    "start_time": "2021-10-17T10:36:51.226Z"
   },
   {
    "duration": 49,
    "start_time": "2021-10-17T10:36:56.088Z"
   },
   {
    "duration": 52,
    "start_time": "2021-10-17T10:36:58.655Z"
   },
   {
    "duration": 24,
    "start_time": "2021-10-17T10:39:56.564Z"
   },
   {
    "duration": 24,
    "start_time": "2021-10-17T10:40:49.348Z"
   },
   {
    "duration": 475,
    "start_time": "2021-10-17T10:43:08.482Z"
   },
   {
    "duration": 486,
    "start_time": "2021-10-17T10:43:25.527Z"
   },
   {
    "duration": 453,
    "start_time": "2021-10-17T10:43:31.595Z"
   },
   {
    "duration": 438,
    "start_time": "2021-10-17T10:43:42.257Z"
   },
   {
    "duration": 539,
    "start_time": "2021-10-17T10:44:10.023Z"
   },
   {
    "duration": 520,
    "start_time": "2021-10-17T10:45:22.403Z"
   },
   {
    "duration": 500,
    "start_time": "2021-10-17T10:46:01.874Z"
   },
   {
    "duration": 496,
    "start_time": "2021-10-17T10:46:11.447Z"
   },
   {
    "duration": 716,
    "start_time": "2021-10-17T10:47:00.249Z"
   },
   {
    "duration": 507,
    "start_time": "2021-10-17T10:47:34.460Z"
   },
   {
    "duration": 720,
    "start_time": "2021-10-17T10:48:18.954Z"
   },
   {
    "duration": 477,
    "start_time": "2021-10-17T10:48:25.575Z"
   },
   {
    "duration": 633,
    "start_time": "2021-10-17T10:48:36.189Z"
   },
   {
    "duration": 524,
    "start_time": "2021-10-17T10:48:40.452Z"
   },
   {
    "duration": 465,
    "start_time": "2021-10-17T10:51:06.780Z"
   },
   {
    "duration": 517,
    "start_time": "2021-10-17T10:51:22.490Z"
   },
   {
    "duration": 521,
    "start_time": "2021-10-17T10:51:30.402Z"
   },
   {
    "duration": 20,
    "start_time": "2021-10-17T11:04:09.151Z"
   },
   {
    "duration": 29,
    "start_time": "2021-10-17T12:22:06.880Z"
   },
   {
    "duration": 20,
    "start_time": "2021-10-17T12:23:33.416Z"
   },
   {
    "duration": 6,
    "start_time": "2021-10-17T12:25:42.378Z"
   },
   {
    "duration": 6,
    "start_time": "2021-10-17T12:27:11.790Z"
   },
   {
    "duration": 18,
    "start_time": "2021-10-17T12:27:27.487Z"
   },
   {
    "duration": 7,
    "start_time": "2021-10-17T13:12:41.444Z"
   },
   {
    "duration": 14,
    "start_time": "2021-10-17T13:12:44.499Z"
   },
   {
    "duration": 242,
    "start_time": "2021-10-17T13:13:33.144Z"
   },
   {
    "duration": 17,
    "start_time": "2021-10-17T13:17:32.124Z"
   },
   {
    "duration": 9,
    "start_time": "2021-10-17T13:18:22.088Z"
   },
   {
    "duration": 16,
    "start_time": "2021-10-17T13:18:26.573Z"
   },
   {
    "duration": 16,
    "start_time": "2021-10-17T13:19:20.041Z"
   },
   {
    "duration": 376,
    "start_time": "2021-10-17T13:21:10.312Z"
   },
   {
    "duration": 7,
    "start_time": "2021-10-17T13:45:32.844Z"
   },
   {
    "duration": 6,
    "start_time": "2021-10-17T13:46:39.816Z"
   },
   {
    "duration": 7,
    "start_time": "2021-10-17T13:46:48.005Z"
   },
   {
    "duration": 7,
    "start_time": "2021-10-17T13:46:51.447Z"
   },
   {
    "duration": 8,
    "start_time": "2021-10-17T13:46:54.382Z"
   },
   {
    "duration": 7,
    "start_time": "2021-10-17T13:46:57.087Z"
   },
   {
    "duration": 7,
    "start_time": "2021-10-17T13:46:59.421Z"
   },
   {
    "duration": 8,
    "start_time": "2021-10-17T13:47:02.790Z"
   },
   {
    "duration": 7,
    "start_time": "2021-10-17T13:47:05.762Z"
   },
   {
    "duration": 8,
    "start_time": "2021-10-17T13:47:09.091Z"
   },
   {
    "duration": 7,
    "start_time": "2021-10-17T13:47:12.693Z"
   },
   {
    "duration": 7,
    "start_time": "2021-10-17T13:47:26.108Z"
   },
   {
    "duration": 7,
    "start_time": "2021-10-17T13:47:29.565Z"
   },
   {
    "duration": 7,
    "start_time": "2021-10-17T13:47:32.660Z"
   },
   {
    "duration": 8,
    "start_time": "2021-10-17T13:47:50.734Z"
   },
   {
    "duration": 7,
    "start_time": "2021-10-17T13:57:19.387Z"
   },
   {
    "duration": 387,
    "start_time": "2021-10-17T14:02:42.872Z"
   },
   {
    "duration": -287,
    "start_time": "2021-10-17T14:05:08.666Z"
   },
   {
    "duration": 731,
    "start_time": "2021-10-17T14:05:10.849Z"
   },
   {
    "duration": 479,
    "start_time": "2021-10-17T14:05:23.501Z"
   },
   {
    "duration": 10,
    "start_time": "2021-10-17T14:06:40.579Z"
   },
   {
    "duration": 658,
    "start_time": "2021-10-17T14:07:06.319Z"
   },
   {
    "duration": 460,
    "start_time": "2021-10-17T14:07:17.956Z"
   },
   {
    "duration": 448,
    "start_time": "2021-10-17T14:07:28.223Z"
   },
   {
    "duration": 316,
    "start_time": "2021-10-17T14:07:51.761Z"
   },
   {
    "duration": 448,
    "start_time": "2021-10-17T14:07:59.580Z"
   },
   {
    "duration": 319,
    "start_time": "2021-10-17T14:08:26.353Z"
   },
   {
    "duration": 409,
    "start_time": "2021-10-17T14:08:40.320Z"
   },
   {
    "duration": 322,
    "start_time": "2021-10-17T14:08:50.171Z"
   },
   {
    "duration": 318,
    "start_time": "2021-10-17T14:09:02.240Z"
   },
   {
    "duration": 418,
    "start_time": "2021-10-17T14:09:14.852Z"
   },
   {
    "duration": 24,
    "start_time": "2021-10-17T15:11:25.814Z"
   },
   {
    "duration": 559,
    "start_time": "2021-10-17T15:33:45.268Z"
   },
   {
    "duration": 443,
    "start_time": "2021-10-17T15:35:52.436Z"
   },
   {
    "duration": 563,
    "start_time": "2021-10-17T15:35:58.832Z"
   },
   {
    "duration": 480,
    "start_time": "2021-10-17T15:36:16.731Z"
   },
   {
    "duration": 256,
    "start_time": "2021-10-17T15:36:22.121Z"
   },
   {
    "duration": 12,
    "start_time": "2021-10-17T15:36:33.084Z"
   },
   {
    "duration": 16,
    "start_time": "2021-10-17T15:37:04.271Z"
   },
   {
    "duration": 378,
    "start_time": "2021-10-17T15:37:17.067Z"
   },
   {
    "duration": 15,
    "start_time": "2021-10-17T15:37:24.086Z"
   },
   {
    "duration": 338,
    "start_time": "2021-10-17T15:37:56.603Z"
   },
   {
    "duration": 15,
    "start_time": "2021-10-17T15:38:10.543Z"
   },
   {
    "duration": 376,
    "start_time": "2021-10-17T15:39:44.612Z"
   },
   {
    "duration": 236,
    "start_time": "2021-10-17T15:40:19.670Z"
   },
   {
    "duration": 11,
    "start_time": "2021-10-17T15:41:27.443Z"
   },
   {
    "duration": 22,
    "start_time": "2021-10-17T15:41:31.409Z"
   },
   {
    "duration": 12,
    "start_time": "2021-10-17T15:41:41.822Z"
   },
   {
    "duration": 23,
    "start_time": "2021-10-17T15:42:54.734Z"
   },
   {
    "duration": 7,
    "start_time": "2021-10-17T15:43:07.715Z"
   },
   {
    "duration": 19,
    "start_time": "2021-10-17T15:45:09.806Z"
   },
   {
    "duration": 125,
    "start_time": "2021-10-17T15:45:13.288Z"
   },
   {
    "duration": 26,
    "start_time": "2021-10-17T15:45:32.143Z"
   },
   {
    "duration": 19,
    "start_time": "2021-10-17T15:45:49.167Z"
   },
   {
    "duration": 23,
    "start_time": "2021-10-17T15:45:51.721Z"
   },
   {
    "duration": 37,
    "start_time": "2021-10-17T15:46:00.610Z"
   },
   {
    "duration": 29,
    "start_time": "2021-10-17T15:46:04.285Z"
   },
   {
    "duration": 21,
    "start_time": "2021-10-17T15:46:08.128Z"
   },
   {
    "duration": 368,
    "start_time": "2021-10-17T15:53:51.611Z"
   },
   {
    "duration": 281,
    "start_time": "2021-10-17T15:53:54.523Z"
   },
   {
    "duration": 28,
    "start_time": "2021-10-17T15:54:19.833Z"
   },
   {
    "duration": 40,
    "start_time": "2021-10-17T15:54:39.047Z"
   },
   {
    "duration": 19,
    "start_time": "2021-10-17T15:56:29.002Z"
   },
   {
    "duration": 31,
    "start_time": "2021-10-17T15:57:31.318Z"
   },
   {
    "duration": 24,
    "start_time": "2021-10-17T15:58:40.707Z"
   },
   {
    "duration": 36,
    "start_time": "2021-10-17T16:02:52.417Z"
   },
   {
    "duration": 30,
    "start_time": "2021-10-17T16:03:11.966Z"
   },
   {
    "duration": 31,
    "start_time": "2021-10-17T16:03:18.253Z"
   },
   {
    "duration": 5,
    "start_time": "2021-10-18T14:42:13.091Z"
   },
   {
    "duration": 1324,
    "start_time": "2021-10-18T14:42:13.100Z"
   },
   {
    "duration": 71,
    "start_time": "2021-10-18T14:42:14.427Z"
   },
   {
    "duration": 25,
    "start_time": "2021-10-18T14:42:14.501Z"
   },
   {
    "duration": 30,
    "start_time": "2021-10-18T14:42:14.529Z"
   },
   {
    "duration": 39,
    "start_time": "2021-10-18T14:42:14.562Z"
   },
   {
    "duration": 4,
    "start_time": "2021-10-18T14:42:14.604Z"
   },
   {
    "duration": 15,
    "start_time": "2021-10-18T14:42:14.610Z"
   },
   {
    "duration": 8,
    "start_time": "2021-10-18T14:42:14.629Z"
   },
   {
    "duration": 65,
    "start_time": "2021-10-18T14:42:14.640Z"
   },
   {
    "duration": 13,
    "start_time": "2021-10-18T14:42:14.708Z"
   },
   {
    "duration": 16,
    "start_time": "2021-10-18T14:42:14.723Z"
   },
   {
    "duration": 46,
    "start_time": "2021-10-18T14:42:14.742Z"
   },
   {
    "duration": 400,
    "start_time": "2021-10-18T14:42:14.791Z"
   },
   {
    "duration": 20,
    "start_time": "2021-10-18T14:42:15.193Z"
   },
   {
    "duration": 354,
    "start_time": "2021-10-18T14:42:15.215Z"
   },
   {
    "duration": 488,
    "start_time": "2021-10-18T14:42:15.572Z"
   },
   {
    "duration": 24,
    "start_time": "2021-10-18T14:42:16.063Z"
   },
   {
    "duration": 393,
    "start_time": "2021-10-18T14:42:16.090Z"
   },
   {
    "duration": 491,
    "start_time": "2021-10-18T14:42:16.485Z"
   },
   {
    "duration": 360,
    "start_time": "2021-10-18T14:42:16.982Z"
   },
   {
    "duration": -71,
    "start_time": "2021-10-18T14:42:17.416Z"
   },
   {
    "duration": -76,
    "start_time": "2021-10-18T14:42:17.422Z"
   },
   {
    "duration": -79,
    "start_time": "2021-10-18T14:42:17.427Z"
   },
   {
    "duration": -84,
    "start_time": "2021-10-18T14:42:17.433Z"
   },
   {
    "duration": -90,
    "start_time": "2021-10-18T14:42:17.440Z"
   },
   {
    "duration": -94,
    "start_time": "2021-10-18T14:42:17.446Z"
   },
   {
    "duration": -100,
    "start_time": "2021-10-18T14:42:17.453Z"
   },
   {
    "duration": -106,
    "start_time": "2021-10-18T14:42:17.461Z"
   },
   {
    "duration": -112,
    "start_time": "2021-10-18T14:42:17.468Z"
   },
   {
    "duration": 268,
    "start_time": "2021-10-18T14:49:13.827Z"
   },
   {
    "duration": 273,
    "start_time": "2021-10-18T14:49:37.961Z"
   },
   {
    "duration": 388,
    "start_time": "2021-10-18T15:04:02.150Z"
   },
   {
    "duration": 394,
    "start_time": "2021-10-18T15:04:07.558Z"
   },
   {
    "duration": 6,
    "start_time": "2021-10-18T15:04:14.199Z"
   },
   {
    "duration": 1329,
    "start_time": "2021-10-18T15:04:14.207Z"
   },
   {
    "duration": 72,
    "start_time": "2021-10-18T15:04:15.539Z"
   },
   {
    "duration": 26,
    "start_time": "2021-10-18T15:04:15.614Z"
   },
   {
    "duration": 47,
    "start_time": "2021-10-18T15:04:15.642Z"
   },
   {
    "duration": 27,
    "start_time": "2021-10-18T15:04:15.691Z"
   },
   {
    "duration": 5,
    "start_time": "2021-10-18T15:04:15.722Z"
   },
   {
    "duration": 64,
    "start_time": "2021-10-18T15:04:15.733Z"
   },
   {
    "duration": 14,
    "start_time": "2021-10-18T15:04:15.802Z"
   },
   {
    "duration": 65,
    "start_time": "2021-10-18T15:04:15.819Z"
   },
   {
    "duration": 15,
    "start_time": "2021-10-18T15:04:15.886Z"
   },
   {
    "duration": 18,
    "start_time": "2021-10-18T15:04:15.903Z"
   },
   {
    "duration": 14,
    "start_time": "2021-10-18T15:04:15.924Z"
   },
   {
    "duration": 450,
    "start_time": "2021-10-18T15:04:15.941Z"
   },
   {
    "duration": 22,
    "start_time": "2021-10-18T15:04:16.394Z"
   },
   {
    "duration": 382,
    "start_time": "2021-10-18T15:04:16.419Z"
   },
   {
    "duration": 484,
    "start_time": "2021-10-18T15:04:16.804Z"
   },
   {
    "duration": 22,
    "start_time": "2021-10-18T15:04:17.291Z"
   },
   {
    "duration": 416,
    "start_time": "2021-10-18T15:04:17.316Z"
   },
   {
    "duration": 550,
    "start_time": "2021-10-18T15:04:17.735Z"
   },
   {
    "duration": 388,
    "start_time": "2021-10-18T15:04:18.287Z"
   },
   {
    "duration": 9,
    "start_time": "2021-10-18T15:04:18.679Z"
   },
   {
    "duration": 403,
    "start_time": "2021-10-18T15:04:18.695Z"
   },
   {
    "duration": 328,
    "start_time": "2021-10-18T15:04:19.101Z"
   },
   {
    "duration": 7,
    "start_time": "2021-10-18T15:04:19.431Z"
   },
   {
    "duration": 44,
    "start_time": "2021-10-18T15:04:19.440Z"
   },
   {
    "duration": 450,
    "start_time": "2021-10-18T15:04:19.487Z"
   },
   {
    "duration": 277,
    "start_time": "2021-10-18T15:04:19.939Z"
   },
   {
    "duration": 6,
    "start_time": "2021-10-18T15:04:20.219Z"
   },
   {
    "duration": 27,
    "start_time": "2021-10-18T15:04:20.227Z"
   },
   {
    "duration": 35,
    "start_time": "2021-10-18T15:15:50.001Z"
   },
   {
    "duration": 40,
    "start_time": "2021-10-18T15:16:23.159Z"
   },
   {
    "duration": 38,
    "start_time": "2021-10-18T15:59:05.426Z"
   },
   {
    "duration": 37,
    "start_time": "2021-10-18T15:59:09.745Z"
   },
   {
    "duration": 36,
    "start_time": "2021-10-18T15:59:18.101Z"
   },
   {
    "duration": 12,
    "start_time": "2021-10-18T16:06:35.865Z"
   },
   {
    "duration": 368,
    "start_time": "2021-10-18T16:07:31.347Z"
   },
   {
    "duration": 19,
    "start_time": "2021-10-18T16:07:47.557Z"
   },
   {
    "duration": 18,
    "start_time": "2021-10-18T16:08:09.828Z"
   },
   {
    "duration": 431,
    "start_time": "2021-10-18T16:31:13.987Z"
   },
   {
    "duration": 486,
    "start_time": "2021-10-18T16:31:30.826Z"
   },
   {
    "duration": 5,
    "start_time": "2021-10-18T16:31:37.043Z"
   },
   {
    "duration": 399,
    "start_time": "2021-10-18T16:31:51.612Z"
   },
   {
    "duration": 286,
    "start_time": "2021-10-18T16:32:00.347Z"
   },
   {
    "duration": 5,
    "start_time": "2021-10-18T16:32:13.634Z"
   },
   {
    "duration": 1281,
    "start_time": "2021-10-18T16:32:13.642Z"
   },
   {
    "duration": 72,
    "start_time": "2021-10-18T16:32:14.926Z"
   },
   {
    "duration": 27,
    "start_time": "2021-10-18T16:32:15.001Z"
   },
   {
    "duration": 67,
    "start_time": "2021-10-18T16:32:15.031Z"
   },
   {
    "duration": 25,
    "start_time": "2021-10-18T16:32:15.100Z"
   },
   {
    "duration": 6,
    "start_time": "2021-10-18T16:32:15.130Z"
   },
   {
    "duration": 50,
    "start_time": "2021-10-18T16:32:15.140Z"
   },
   {
    "duration": 13,
    "start_time": "2021-10-18T16:32:15.193Z"
   },
   {
    "duration": 85,
    "start_time": "2021-10-18T16:32:15.208Z"
   },
   {
    "duration": 13,
    "start_time": "2021-10-18T16:32:15.296Z"
   },
   {
    "duration": 17,
    "start_time": "2021-10-18T16:32:15.312Z"
   },
   {
    "duration": 53,
    "start_time": "2021-10-18T16:32:15.332Z"
   },
   {
    "duration": 404,
    "start_time": "2021-10-18T16:32:15.388Z"
   },
   {
    "duration": 20,
    "start_time": "2021-10-18T16:32:15.795Z"
   },
   {
    "duration": 381,
    "start_time": "2021-10-18T16:32:15.818Z"
   },
   {
    "duration": 487,
    "start_time": "2021-10-18T16:32:16.202Z"
   },
   {
    "duration": 21,
    "start_time": "2021-10-18T16:32:16.692Z"
   },
   {
    "duration": 415,
    "start_time": "2021-10-18T16:32:16.718Z"
   },
   {
    "duration": 505,
    "start_time": "2021-10-18T16:32:17.135Z"
   },
   {
    "duration": 411,
    "start_time": "2021-10-18T16:32:17.642Z"
   },
   {
    "duration": 280,
    "start_time": "2021-10-18T16:32:18.055Z"
   },
   {
    "duration": 7,
    "start_time": "2021-10-18T16:32:18.337Z"
   },
   {
    "duration": 441,
    "start_time": "2021-10-18T16:32:18.346Z"
   },
   {
    "duration": 328,
    "start_time": "2021-10-18T16:32:18.790Z"
   },
   {
    "duration": 9,
    "start_time": "2021-10-18T16:32:19.121Z"
   },
   {
    "duration": 54,
    "start_time": "2021-10-18T16:32:19.132Z"
   },
   {
    "duration": 556,
    "start_time": "2021-10-18T16:32:19.189Z"
   },
   {
    "duration": 287,
    "start_time": "2021-10-18T16:32:19.747Z"
   },
   {
    "duration": 7,
    "start_time": "2021-10-18T16:32:20.036Z"
   },
   {
    "duration": 74,
    "start_time": "2021-10-18T16:32:20.046Z"
   },
   {
    "duration": 23,
    "start_time": "2021-10-18T16:32:20.123Z"
   },
   {
    "duration": 5,
    "start_time": "2021-10-19T15:35:22.077Z"
   },
   {
    "duration": 1402,
    "start_time": "2021-10-19T15:35:22.085Z"
   },
   {
    "duration": 97,
    "start_time": "2021-10-19T15:35:23.490Z"
   },
   {
    "duration": 25,
    "start_time": "2021-10-19T15:35:23.590Z"
   },
   {
    "duration": 26,
    "start_time": "2021-10-19T15:35:23.618Z"
   },
   {
    "duration": 24,
    "start_time": "2021-10-19T15:35:23.668Z"
   },
   {
    "duration": 4,
    "start_time": "2021-10-19T15:35:23.695Z"
   },
   {
    "duration": 13,
    "start_time": "2021-10-19T15:35:23.702Z"
   },
   {
    "duration": 9,
    "start_time": "2021-10-19T15:35:23.717Z"
   },
   {
    "duration": 30,
    "start_time": "2021-10-19T15:35:23.768Z"
   },
   {
    "duration": 16,
    "start_time": "2021-10-19T15:35:23.801Z"
   },
   {
    "duration": 64,
    "start_time": "2021-10-19T15:35:23.820Z"
   },
   {
    "duration": 10,
    "start_time": "2021-10-19T15:35:23.887Z"
   },
   {
    "duration": 438,
    "start_time": "2021-10-19T15:35:23.900Z"
   },
   {
    "duration": 35,
    "start_time": "2021-10-19T15:35:24.342Z"
   },
   {
    "duration": 388,
    "start_time": "2021-10-19T15:35:24.380Z"
   },
   {
    "duration": 496,
    "start_time": "2021-10-19T15:35:24.771Z"
   },
   {
    "duration": 22,
    "start_time": "2021-10-19T15:35:25.270Z"
   },
   {
    "duration": 656,
    "start_time": "2021-10-19T15:35:25.297Z"
   },
   {
    "duration": 650,
    "start_time": "2021-10-19T15:35:25.957Z"
   },
   {
    "duration": 444,
    "start_time": "2021-10-19T15:35:26.610Z"
   },
   {
    "duration": 294,
    "start_time": "2021-10-19T15:35:27.056Z"
   },
   {
    "duration": 16,
    "start_time": "2021-10-19T15:35:27.353Z"
   },
   {
    "duration": 405,
    "start_time": "2021-10-19T15:35:27.371Z"
   },
   {
    "duration": 453,
    "start_time": "2021-10-19T15:35:27.779Z"
   },
   {
    "duration": 10,
    "start_time": "2021-10-19T15:35:28.235Z"
   },
   {
    "duration": 44,
    "start_time": "2021-10-19T15:35:28.248Z"
   },
   {
    "duration": 747,
    "start_time": "2021-10-19T15:35:28.295Z"
   },
   {
    "duration": 322,
    "start_time": "2021-10-19T15:35:29.045Z"
   },
   {
    "duration": 12,
    "start_time": "2021-10-19T15:35:29.369Z"
   },
   {
    "duration": 44,
    "start_time": "2021-10-19T15:35:29.383Z"
   },
   {
    "duration": 49,
    "start_time": "2021-10-19T15:35:29.429Z"
   },
   {
    "duration": 16,
    "start_time": "2021-10-19T15:51:48.528Z"
   },
   {
    "duration": 501,
    "start_time": "2021-10-19T15:53:18.175Z"
   },
   {
    "duration": 13,
    "start_time": "2021-10-19T15:53:31.548Z"
   },
   {
    "duration": 17,
    "start_time": "2021-10-19T15:54:24.577Z"
   },
   {
    "duration": 21,
    "start_time": "2021-10-19T15:55:40.541Z"
   },
   {
    "duration": 6398,
    "start_time": "2021-10-19T15:57:24.668Z"
   },
   {
    "duration": 16,
    "start_time": "2021-10-19T16:09:24.396Z"
   },
   {
    "duration": 15,
    "start_time": "2021-10-19T16:11:14.299Z"
   },
   {
    "duration": 8,
    "start_time": "2021-10-19T16:11:20.011Z"
   },
   {
    "duration": 31,
    "start_time": "2021-10-19T16:11:38.900Z"
   },
   {
    "duration": 253,
    "start_time": "2021-10-19T16:12:44.621Z"
   },
   {
    "duration": 15,
    "start_time": "2021-10-19T16:13:36.554Z"
   },
   {
    "duration": 20,
    "start_time": "2021-10-19T16:13:38.375Z"
   },
   {
    "duration": 290,
    "start_time": "2021-10-19T16:13:48.011Z"
   },
   {
    "duration": 17,
    "start_time": "2021-10-19T16:14:01.577Z"
   },
   {
    "duration": 8,
    "start_time": "2021-10-19T16:14:03.965Z"
   },
   {
    "duration": 20,
    "start_time": "2021-10-19T16:14:35.176Z"
   },
   {
    "duration": 17,
    "start_time": "2021-10-19T16:14:36.183Z"
   },
   {
    "duration": 14,
    "start_time": "2021-10-19T16:14:57.918Z"
   },
   {
    "duration": 351,
    "start_time": "2021-10-19T16:17:28.003Z"
   },
   {
    "duration": 21,
    "start_time": "2021-10-19T16:17:32.529Z"
   },
   {
    "duration": 25,
    "start_time": "2021-10-19T16:17:34.630Z"
   },
   {
    "duration": 21,
    "start_time": "2021-10-19T16:17:45.043Z"
   },
   {
    "duration": 14,
    "start_time": "2021-10-19T16:17:46.890Z"
   },
   {
    "duration": 18,
    "start_time": "2021-10-19T16:18:07.618Z"
   },
   {
    "duration": 19,
    "start_time": "2021-10-19T16:18:11.443Z"
   },
   {
    "duration": 243,
    "start_time": "2021-10-19T16:18:21.279Z"
   },
   {
    "duration": 21,
    "start_time": "2021-10-19T16:18:28.718Z"
   },
   {
    "duration": 85,
    "start_time": "2021-10-19T16:19:25.717Z"
   },
   {
    "duration": 78,
    "start_time": "2021-10-19T16:19:32.257Z"
   },
   {
    "duration": 13,
    "start_time": "2021-10-19T16:19:35.473Z"
   },
   {
    "duration": 25,
    "start_time": "2021-10-19T16:19:44.806Z"
   },
   {
    "duration": 121,
    "start_time": "2021-10-19T16:19:45.983Z"
   },
   {
    "duration": 17,
    "start_time": "2021-10-19T16:19:46.364Z"
   },
   {
    "duration": 87,
    "start_time": "2021-10-19T16:20:17.020Z"
   },
   {
    "duration": 9,
    "start_time": "2021-10-19T16:20:33.472Z"
   },
   {
    "duration": 79,
    "start_time": "2021-10-19T16:20:38.272Z"
   },
   {
    "duration": 87,
    "start_time": "2021-10-19T16:21:00.819Z"
   },
   {
    "duration": 98,
    "start_time": "2021-10-19T16:21:28.831Z"
   },
   {
    "duration": 94,
    "start_time": "2021-10-19T16:21:44.927Z"
   },
   {
    "duration": 422,
    "start_time": "2021-10-19T16:25:29.659Z"
   },
   {
    "duration": 256,
    "start_time": "2021-10-19T16:25:50.029Z"
   },
   {
    "duration": 16,
    "start_time": "2021-10-19T16:25:54.350Z"
   },
   {
    "duration": 6681,
    "start_time": "2021-10-19T16:29:06.614Z"
   },
   {
    "duration": 581,
    "start_time": "2021-10-19T16:30:34.675Z"
   },
   {
    "duration": 319,
    "start_time": "2021-10-19T16:45:03.549Z"
   },
   {
    "duration": 282,
    "start_time": "2021-10-19T16:45:26.422Z"
   },
   {
    "duration": 25,
    "start_time": "2021-10-19T16:45:47.836Z"
   },
   {
    "duration": 280,
    "start_time": "2021-10-19T16:47:55.048Z"
   },
   {
    "duration": 24,
    "start_time": "2021-10-19T16:48:10.415Z"
   },
   {
    "duration": 26,
    "start_time": "2021-10-19T16:48:29.372Z"
   },
   {
    "duration": 25,
    "start_time": "2021-10-19T16:48:33.459Z"
   },
   {
    "duration": 12,
    "start_time": "2021-10-19T16:48:39.416Z"
   },
   {
    "duration": 20,
    "start_time": "2021-10-19T16:48:49.019Z"
   },
   {
    "duration": 27,
    "start_time": "2021-10-19T16:48:51.305Z"
   },
   {
    "duration": 109,
    "start_time": "2021-10-19T16:49:09.950Z"
   },
   {
    "duration": 50,
    "start_time": "2021-10-19T16:49:20.734Z"
   },
   {
    "duration": 40,
    "start_time": "2021-10-19T16:49:36.724Z"
   },
   {
    "duration": 20,
    "start_time": "2021-10-19T16:49:46.328Z"
   },
   {
    "duration": 259,
    "start_time": "2021-10-19T16:50:31.642Z"
   },
   {
    "duration": 268,
    "start_time": "2021-10-19T16:50:40.412Z"
   },
   {
    "duration": 249,
    "start_time": "2021-10-19T16:51:01.070Z"
   },
   {
    "duration": 238,
    "start_time": "2021-10-19T16:51:04.510Z"
   },
   {
    "duration": 324,
    "start_time": "2021-10-19T16:51:24.308Z"
   },
   {
    "duration": 6229,
    "start_time": "2021-10-19T16:51:28.393Z"
   },
   {
    "duration": 8,
    "start_time": "2021-10-19T16:51:50.387Z"
   },
   {
    "duration": 265,
    "start_time": "2021-10-19T16:52:52.265Z"
   },
   {
    "duration": 293,
    "start_time": "2021-10-19T16:53:31.400Z"
   },
   {
    "duration": 273,
    "start_time": "2021-10-19T16:53:40.875Z"
   },
   {
    "duration": 245,
    "start_time": "2021-10-19T16:53:56.045Z"
   },
   {
    "duration": 7,
    "start_time": "2021-10-19T16:54:26.471Z"
   },
   {
    "duration": 13,
    "start_time": "2021-10-19T16:54:54.675Z"
   },
   {
    "duration": 17,
    "start_time": "2021-10-19T16:55:07.400Z"
   },
   {
    "duration": 7,
    "start_time": "2021-10-19T16:55:09.955Z"
   },
   {
    "duration": 12,
    "start_time": "2021-10-19T16:55:13.991Z"
   },
   {
    "duration": 7,
    "start_time": "2021-10-19T16:55:29.280Z"
   },
   {
    "duration": 7,
    "start_time": "2021-10-19T16:55:31.728Z"
   },
   {
    "duration": 7,
    "start_time": "2021-10-19T16:55:40.486Z"
   },
   {
    "duration": 7,
    "start_time": "2021-10-19T16:55:52.551Z"
   },
   {
    "duration": 9,
    "start_time": "2021-10-19T16:55:55.159Z"
   },
   {
    "duration": 14,
    "start_time": "2021-10-19T16:56:51.005Z"
   },
   {
    "duration": 313,
    "start_time": "2021-10-19T16:57:55.568Z"
   },
   {
    "duration": 347,
    "start_time": "2021-10-19T16:59:48.781Z"
   },
   {
    "duration": 90,
    "start_time": "2021-10-19T17:00:01.780Z"
   },
   {
    "duration": 13,
    "start_time": "2021-10-19T17:00:12.076Z"
   },
   {
    "duration": 9,
    "start_time": "2021-10-19T17:00:14.525Z"
   },
   {
    "duration": 13,
    "start_time": "2021-10-19T17:00:38.466Z"
   },
   {
    "duration": 13,
    "start_time": "2021-10-19T17:00:48.892Z"
   },
   {
    "duration": 88,
    "start_time": "2021-10-19T17:08:47.235Z"
   },
   {
    "duration": 84,
    "start_time": "2021-10-19T17:08:59.345Z"
   },
   {
    "duration": 887,
    "start_time": "2021-10-19T17:09:14.320Z"
   },
   {
    "duration": 374,
    "start_time": "2021-10-19T17:09:38.623Z"
   },
   {
    "duration": 287,
    "start_time": "2021-10-19T17:09:51.751Z"
   },
   {
    "duration": 275,
    "start_time": "2021-10-19T17:10:21.103Z"
   },
   {
    "duration": 7,
    "start_time": "2021-10-19T17:10:37.399Z"
   },
   {
    "duration": 1433,
    "start_time": "2021-10-19T17:10:37.410Z"
   },
   {
    "duration": 84,
    "start_time": "2021-10-19T17:10:38.845Z"
   },
   {
    "duration": 26,
    "start_time": "2021-10-19T17:10:38.932Z"
   },
   {
    "duration": 27,
    "start_time": "2021-10-19T17:10:38.961Z"
   },
   {
    "duration": 23,
    "start_time": "2021-10-19T17:10:38.991Z"
   },
   {
    "duration": 5,
    "start_time": "2021-10-19T17:10:39.018Z"
   },
   {
    "duration": 50,
    "start_time": "2021-10-19T17:10:39.026Z"
   },
   {
    "duration": 13,
    "start_time": "2021-10-19T17:10:39.078Z"
   },
   {
    "duration": 29,
    "start_time": "2021-10-19T17:10:39.093Z"
   },
   {
    "duration": 52,
    "start_time": "2021-10-19T17:10:39.125Z"
   },
   {
    "duration": 20,
    "start_time": "2021-10-19T17:10:39.180Z"
   },
   {
    "duration": 11,
    "start_time": "2021-10-19T17:10:39.204Z"
   },
   {
    "duration": 491,
    "start_time": "2021-10-19T17:10:39.218Z"
   },
   {
    "duration": 24,
    "start_time": "2021-10-19T17:10:39.712Z"
   },
   {
    "duration": 424,
    "start_time": "2021-10-19T17:10:39.739Z"
   },
   {
    "duration": 502,
    "start_time": "2021-10-19T17:10:40.168Z"
   },
   {
    "duration": 24,
    "start_time": "2021-10-19T17:10:40.673Z"
   },
   {
    "duration": 602,
    "start_time": "2021-10-19T17:10:40.703Z"
   },
   {
    "duration": 663,
    "start_time": "2021-10-19T17:10:41.309Z"
   },
   {
    "duration": 433,
    "start_time": "2021-10-19T17:10:41.975Z"
   },
   {
    "duration": 355,
    "start_time": "2021-10-19T17:10:42.412Z"
   },
   {
    "duration": 7,
    "start_time": "2021-10-19T17:10:42.770Z"
   },
   {
    "duration": 472,
    "start_time": "2021-10-19T17:10:42.780Z"
   },
   {
    "duration": 380,
    "start_time": "2021-10-19T17:10:43.255Z"
   },
   {
    "duration": 6,
    "start_time": "2021-10-19T17:10:43.638Z"
   },
   {
    "duration": 158,
    "start_time": "2021-10-19T17:10:43.647Z"
   },
   {
    "duration": 18,
    "start_time": "2021-10-19T17:10:43.807Z"
   },
   {
    "duration": 439,
    "start_time": "2021-10-19T17:10:43.828Z"
   },
   {
    "duration": -481,
    "start_time": "2021-10-19T17:10:44.751Z"
   },
   {
    "duration": 17,
    "start_time": "2021-10-19T17:11:12.443Z"
   },
   {
    "duration": 425,
    "start_time": "2021-10-19T17:11:17.987Z"
   },
   {
    "duration": 24,
    "start_time": "2021-10-19T17:11:25.556Z"
   },
   {
    "duration": 289,
    "start_time": "2021-10-19T17:11:36.288Z"
   },
   {
    "duration": 685,
    "start_time": "2021-10-19T17:12:21.284Z"
   },
   {
    "duration": 19,
    "start_time": "2021-10-19T17:16:31.271Z"
   },
   {
    "duration": 6977,
    "start_time": "2021-10-19T17:24:36.198Z"
   },
   {
    "duration": 222,
    "start_time": "2021-10-19T17:24:58.361Z"
   },
   {
    "duration": 24,
    "start_time": "2021-10-19T17:25:11.071Z"
   },
   {
    "duration": 656,
    "start_time": "2021-10-19T17:25:26.227Z"
   },
   {
    "duration": 5,
    "start_time": "2021-10-21T14:59:03.079Z"
   },
   {
    "duration": 1349,
    "start_time": "2021-10-21T14:59:03.091Z"
   },
   {
    "duration": 114,
    "start_time": "2021-10-21T14:59:04.442Z"
   },
   {
    "duration": 24,
    "start_time": "2021-10-21T14:59:04.559Z"
   },
   {
    "duration": 25,
    "start_time": "2021-10-21T14:59:04.586Z"
   },
   {
    "duration": 21,
    "start_time": "2021-10-21T14:59:04.614Z"
   },
   {
    "duration": 4,
    "start_time": "2021-10-21T14:59:04.637Z"
   },
   {
    "duration": 47,
    "start_time": "2021-10-21T14:59:04.643Z"
   },
   {
    "duration": 8,
    "start_time": "2021-10-21T14:59:04.693Z"
   },
   {
    "duration": 26,
    "start_time": "2021-10-21T14:59:04.705Z"
   },
   {
    "duration": 51,
    "start_time": "2021-10-21T14:59:04.734Z"
   },
   {
    "duration": 17,
    "start_time": "2021-10-21T14:59:04.787Z"
   },
   {
    "duration": 13,
    "start_time": "2021-10-21T14:59:04.806Z"
   },
   {
    "duration": 409,
    "start_time": "2021-10-21T14:59:04.821Z"
   },
   {
    "duration": 20,
    "start_time": "2021-10-21T14:59:05.233Z"
   },
   {
    "duration": 373,
    "start_time": "2021-10-21T14:59:05.256Z"
   },
   {
    "duration": 529,
    "start_time": "2021-10-21T14:59:05.632Z"
   },
   {
    "duration": 33,
    "start_time": "2021-10-21T14:59:06.163Z"
   },
   {
    "duration": 396,
    "start_time": "2021-10-21T14:59:06.198Z"
   },
   {
    "duration": 485,
    "start_time": "2021-10-21T14:59:06.596Z"
   },
   {
    "duration": 371,
    "start_time": "2021-10-21T14:59:07.084Z"
   },
   {
    "duration": 291,
    "start_time": "2021-10-21T14:59:07.458Z"
   },
   {
    "duration": 7,
    "start_time": "2021-10-21T14:59:07.751Z"
   },
   {
    "duration": 425,
    "start_time": "2021-10-21T14:59:07.760Z"
   },
   {
    "duration": 308,
    "start_time": "2021-10-21T14:59:08.187Z"
   },
   {
    "duration": 8,
    "start_time": "2021-10-21T14:59:08.498Z"
   },
   {
    "duration": 133,
    "start_time": "2021-10-21T14:59:08.508Z"
   },
   {
    "duration": 38,
    "start_time": "2021-10-21T14:59:08.645Z"
   },
   {
    "duration": 23,
    "start_time": "2021-10-21T14:59:08.686Z"
   },
   {
    "duration": 23,
    "start_time": "2021-10-21T14:59:08.711Z"
   },
   {
    "duration": 679,
    "start_time": "2021-10-21T14:59:08.736Z"
   },
   {
    "duration": 16,
    "start_time": "2021-10-21T15:24:23.630Z"
   },
   {
    "duration": 15,
    "start_time": "2021-10-21T15:25:42.650Z"
   },
   {
    "duration": 8303,
    "start_time": "2021-10-21T15:26:04.281Z"
   },
   {
    "duration": 663,
    "start_time": "2021-10-21T15:26:32.938Z"
   },
   {
    "duration": 10822,
    "start_time": "2021-10-21T15:26:36.380Z"
   },
   {
    "duration": 14,
    "start_time": "2021-10-21T15:26:55.405Z"
   },
   {
    "duration": 23,
    "start_time": "2021-10-21T15:28:23.027Z"
   },
   {
    "duration": 141,
    "start_time": "2021-10-21T15:28:30.146Z"
   },
   {
    "duration": 15,
    "start_time": "2021-10-21T15:28:46.410Z"
   },
   {
    "duration": 122,
    "start_time": "2021-10-21T15:29:11.998Z"
   },
   {
    "duration": 122,
    "start_time": "2021-10-21T15:29:32.707Z"
   },
   {
    "duration": 12,
    "start_time": "2021-10-21T15:30:32.358Z"
   },
   {
    "duration": 15,
    "start_time": "2021-10-21T15:31:03.065Z"
   },
   {
    "duration": 13,
    "start_time": "2021-10-21T15:31:29.452Z"
   },
   {
    "duration": 24,
    "start_time": "2021-10-21T15:39:47.872Z"
   },
   {
    "duration": 708,
    "start_time": "2021-10-21T15:45:24.263Z"
   },
   {
    "duration": 403,
    "start_time": "2021-10-21T15:47:51.044Z"
   },
   {
    "duration": 403,
    "start_time": "2021-10-21T15:48:22.127Z"
   },
   {
    "duration": 394,
    "start_time": "2021-10-21T15:48:31.972Z"
   },
   {
    "duration": 389,
    "start_time": "2021-10-21T15:48:52.370Z"
   },
   {
    "duration": 381,
    "start_time": "2021-10-21T15:49:10.680Z"
   },
   {
    "duration": 487,
    "start_time": "2021-10-21T15:51:26.298Z"
   },
   {
    "duration": 388,
    "start_time": "2021-10-21T15:51:33.187Z"
   },
   {
    "duration": 3,
    "start_time": "2021-10-21T15:59:05.849Z"
   },
   {
    "duration": 356,
    "start_time": "2021-10-21T16:04:36.630Z"
   },
   {
    "duration": 387,
    "start_time": "2021-10-21T16:04:51.411Z"
   },
   {
    "duration": 450,
    "start_time": "2021-10-21T16:04:57.724Z"
   },
   {
    "duration": 487,
    "start_time": "2021-10-21T16:08:35.460Z"
   },
   {
    "duration": 383,
    "start_time": "2021-10-21T16:16:27.427Z"
   },
   {
    "duration": 492,
    "start_time": "2021-10-21T16:19:43.658Z"
   },
   {
    "duration": 414,
    "start_time": "2021-10-21T16:25:00.406Z"
   },
   {
    "duration": 542,
    "start_time": "2021-10-21T16:25:24.043Z"
   },
   {
    "duration": 621,
    "start_time": "2021-10-21T16:25:33.965Z"
   },
   {
    "duration": 270,
    "start_time": "2021-10-21T16:27:59.570Z"
   },
   {
    "duration": 377,
    "start_time": "2021-10-21T16:28:07.954Z"
   },
   {
    "duration": 349,
    "start_time": "2021-10-21T16:28:18.305Z"
   },
   {
    "duration": 18,
    "start_time": "2021-10-21T16:38:42.183Z"
   },
   {
    "duration": 279,
    "start_time": "2021-10-21T16:44:00.026Z"
   },
   {
    "duration": 3,
    "start_time": "2021-10-22T03:24:58.846Z"
   },
   {
    "duration": 1352,
    "start_time": "2021-10-22T03:24:58.851Z"
   },
   {
    "duration": 81,
    "start_time": "2021-10-22T03:25:00.206Z"
   },
   {
    "duration": 16,
    "start_time": "2021-10-22T03:25:00.289Z"
   },
   {
    "duration": 25,
    "start_time": "2021-10-22T03:25:00.307Z"
   },
   {
    "duration": 15,
    "start_time": "2021-10-22T03:25:00.334Z"
   },
   {
    "duration": 4,
    "start_time": "2021-10-22T03:25:00.350Z"
   },
   {
    "duration": 13,
    "start_time": "2021-10-22T03:25:00.356Z"
   },
   {
    "duration": 10,
    "start_time": "2021-10-22T03:25:00.371Z"
   },
   {
    "duration": 16,
    "start_time": "2021-10-22T03:25:00.383Z"
   },
   {
    "duration": 12,
    "start_time": "2021-10-22T03:25:00.401Z"
   },
   {
    "duration": 268,
    "start_time": "2021-10-22T03:25:00.415Z"
   },
   {
    "duration": 2,
    "start_time": "2021-10-22T03:25:00.685Z"
   },
   {
    "duration": 235,
    "start_time": "2021-10-22T03:25:00.689Z"
   },
   {
    "duration": 360,
    "start_time": "2021-10-22T03:25:00.927Z"
   },
   {
    "duration": 260,
    "start_time": "2021-10-22T03:25:01.289Z"
   },
   {
    "duration": 348,
    "start_time": "2021-10-22T03:25:01.550Z"
   },
   {
    "duration": 291,
    "start_time": "2021-10-22T03:25:01.900Z"
   },
   {
    "duration": 190,
    "start_time": "2021-10-22T03:25:02.194Z"
   },
   {
    "duration": 5,
    "start_time": "2021-10-22T03:25:02.386Z"
   },
   {
    "duration": 333,
    "start_time": "2021-10-22T03:25:02.393Z"
   },
   {
    "duration": 191,
    "start_time": "2021-10-22T03:25:02.728Z"
   },
   {
    "duration": 4,
    "start_time": "2021-10-22T03:25:02.923Z"
   },
   {
    "duration": 99,
    "start_time": "2021-10-22T03:25:02.929Z"
   },
   {
    "duration": 12,
    "start_time": "2021-10-22T03:25:03.045Z"
   },
   {
    "duration": 14,
    "start_time": "2021-10-22T03:25:03.058Z"
   },
   {
    "duration": 14,
    "start_time": "2021-10-22T03:25:03.073Z"
   },
   {
    "duration": 23,
    "start_time": "2021-10-22T03:25:03.089Z"
   },
   {
    "duration": 90,
    "start_time": "2021-10-22T03:43:50.233Z"
   },
   {
    "duration": 88,
    "start_time": "2021-10-22T03:44:17.872Z"
   },
   {
    "duration": 13,
    "start_time": "2021-10-22T03:45:50.647Z"
   },
   {
    "duration": 40,
    "start_time": "2021-10-22T03:46:24.180Z"
   },
   {
    "duration": 15,
    "start_time": "2021-10-22T03:46:33.103Z"
   },
   {
    "duration": 17,
    "start_time": "2021-10-22T03:46:37.591Z"
   },
   {
    "duration": 15,
    "start_time": "2021-10-22T03:46:45.115Z"
   },
   {
    "duration": 17,
    "start_time": "2021-10-22T03:47:37.935Z"
   },
   {
    "duration": 27,
    "start_time": "2021-10-22T03:47:53.415Z"
   },
   {
    "duration": 20,
    "start_time": "2021-10-22T03:47:57.267Z"
   },
   {
    "duration": 37,
    "start_time": "2021-10-22T03:48:03.338Z"
   },
   {
    "duration": 44,
    "start_time": "2021-10-22T03:48:08.271Z"
   },
   {
    "duration": 16,
    "start_time": "2021-10-22T03:50:58.409Z"
   },
   {
    "duration": 688,
    "start_time": "2021-10-22T04:28:58.337Z"
   },
   {
    "duration": 1152,
    "start_time": "2021-10-22T04:29:30.004Z"
   },
   {
    "duration": 92,
    "start_time": "2021-10-22T04:29:57.376Z"
   },
   {
    "duration": 93,
    "start_time": "2021-10-22T04:30:03.503Z"
   },
   {
    "duration": 104,
    "start_time": "2021-10-22T04:31:27.178Z"
   },
   {
    "duration": 96,
    "start_time": "2021-10-22T04:32:05.651Z"
   },
   {
    "duration": 574,
    "start_time": "2021-10-22T04:32:14.914Z"
   },
   {
    "duration": 112,
    "start_time": "2021-10-22T04:32:22.070Z"
   },
   {
    "duration": 127,
    "start_time": "2021-10-22T04:32:28.129Z"
   },
   {
    "duration": 371,
    "start_time": "2021-10-22T04:32:32.071Z"
   },
   {
    "duration": 97,
    "start_time": "2021-10-22T04:32:48.318Z"
   },
   {
    "duration": 13,
    "start_time": "2021-10-22T04:32:49.926Z"
   },
   {
    "duration": 13,
    "start_time": "2021-10-22T04:32:57.506Z"
   },
   {
    "duration": 17,
    "start_time": "2021-10-22T04:34:01.047Z"
   },
   {
    "duration": 17,
    "start_time": "2021-10-22T04:34:12.013Z"
   },
   {
    "duration": 18,
    "start_time": "2021-10-22T04:34:28.053Z"
   },
   {
    "duration": 9,
    "start_time": "2021-10-22T04:45:01.619Z"
   },
   {
    "duration": 13,
    "start_time": "2021-10-22T04:45:28.127Z"
   },
   {
    "duration": 12,
    "start_time": "2021-10-22T04:46:37.216Z"
   },
   {
    "duration": 98,
    "start_time": "2021-10-22T04:47:14.506Z"
   },
   {
    "duration": 95,
    "start_time": "2021-10-22T04:47:18.398Z"
   },
   {
    "duration": 93,
    "start_time": "2021-10-22T04:47:22.350Z"
   },
   {
    "duration": 10,
    "start_time": "2021-10-22T04:47:49.857Z"
   },
   {
    "duration": 16,
    "start_time": "2021-10-22T04:47:58.673Z"
   },
   {
    "duration": 14,
    "start_time": "2021-10-22T04:48:41.649Z"
   },
   {
    "duration": 9,
    "start_time": "2021-10-22T04:48:53.097Z"
   },
   {
    "duration": 13,
    "start_time": "2021-10-22T04:49:04.533Z"
   },
   {
    "duration": 12,
    "start_time": "2021-10-22T04:49:11.069Z"
   },
   {
    "duration": 15,
    "start_time": "2021-10-22T04:50:07.764Z"
   },
   {
    "duration": 5,
    "start_time": "2021-10-22T04:51:20.159Z"
   },
   {
    "duration": 4,
    "start_time": "2021-10-22T07:36:25.301Z"
   },
   {
    "duration": 1335,
    "start_time": "2021-10-22T07:36:25.307Z"
   },
   {
    "duration": 102,
    "start_time": "2021-10-22T07:36:26.644Z"
   },
   {
    "duration": 24,
    "start_time": "2021-10-22T07:36:26.751Z"
   },
   {
    "duration": 27,
    "start_time": "2021-10-22T07:36:26.778Z"
   },
   {
    "duration": 21,
    "start_time": "2021-10-22T07:36:26.808Z"
   },
   {
    "duration": 4,
    "start_time": "2021-10-22T07:36:26.834Z"
   },
   {
    "duration": 49,
    "start_time": "2021-10-22T07:36:26.841Z"
   },
   {
    "duration": 11,
    "start_time": "2021-10-22T07:36:26.894Z"
   },
   {
    "duration": 38,
    "start_time": "2021-10-22T07:36:26.909Z"
   },
   {
    "duration": 44,
    "start_time": "2021-10-22T07:36:26.950Z"
   },
   {
    "duration": 448,
    "start_time": "2021-10-22T07:36:26.996Z"
   },
   {
    "duration": 3,
    "start_time": "2021-10-22T07:36:27.446Z"
   },
   {
    "duration": 373,
    "start_time": "2021-10-22T07:36:27.451Z"
   },
   {
    "duration": 520,
    "start_time": "2021-10-22T07:36:27.826Z"
   },
   {
    "duration": 395,
    "start_time": "2021-10-22T07:36:28.348Z"
   },
   {
    "duration": 512,
    "start_time": "2021-10-22T07:36:28.746Z"
   },
   {
    "duration": 382,
    "start_time": "2021-10-22T07:36:29.260Z"
   },
   {
    "duration": 257,
    "start_time": "2021-10-22T07:36:29.645Z"
   },
   {
    "duration": 6,
    "start_time": "2021-10-22T07:36:29.905Z"
   },
   {
    "duration": 413,
    "start_time": "2021-10-22T07:36:29.914Z"
   },
   {
    "duration": 304,
    "start_time": "2021-10-22T07:36:30.332Z"
   },
   {
    "duration": 8,
    "start_time": "2021-10-22T07:36:30.639Z"
   },
   {
    "duration": 150,
    "start_time": "2021-10-22T07:36:30.650Z"
   },
   {
    "duration": 21,
    "start_time": "2021-10-22T07:36:30.803Z"
   },
   {
    "duration": 23,
    "start_time": "2021-10-22T07:36:30.826Z"
   },
   {
    "duration": 22,
    "start_time": "2021-10-22T07:36:30.882Z"
   },
   {
    "duration": 25,
    "start_time": "2021-10-22T07:36:30.906Z"
   },
   {
    "duration": 492,
    "start_time": "2021-10-22T09:10:24.960Z"
   },
   {
    "duration": 448,
    "start_time": "2021-10-22T09:10:31.312Z"
   },
   {
    "duration": 5,
    "start_time": "2021-10-22T09:29:04.000Z"
   },
   {
    "duration": 1323,
    "start_time": "2021-10-22T09:29:04.007Z"
   },
   {
    "duration": 80,
    "start_time": "2021-10-22T09:29:05.333Z"
   },
   {
    "duration": 24,
    "start_time": "2021-10-22T09:29:05.415Z"
   },
   {
    "duration": 41,
    "start_time": "2021-10-22T09:29:05.442Z"
   },
   {
    "duration": 23,
    "start_time": "2021-10-22T09:29:05.485Z"
   },
   {
    "duration": 7,
    "start_time": "2021-10-22T09:29:05.511Z"
   },
   {
    "duration": 39,
    "start_time": "2021-10-22T09:29:05.520Z"
   },
   {
    "duration": 21,
    "start_time": "2021-10-22T09:29:05.563Z"
   },
   {
    "duration": 30,
    "start_time": "2021-10-22T09:29:05.587Z"
   },
   {
    "duration": 13,
    "start_time": "2021-10-22T09:29:05.620Z"
   },
   {
    "duration": 431,
    "start_time": "2021-10-22T09:29:05.636Z"
   },
   {
    "duration": 12,
    "start_time": "2021-10-22T09:29:06.070Z"
   },
   {
    "duration": 387,
    "start_time": "2021-10-22T09:29:06.085Z"
   },
   {
    "duration": 483,
    "start_time": "2021-10-22T09:29:06.475Z"
   },
   {
    "duration": 421,
    "start_time": "2021-10-22T09:29:06.961Z"
   },
   {
    "duration": 437,
    "start_time": "2021-10-22T09:29:07.384Z"
   },
   {
    "duration": 382,
    "start_time": "2021-10-22T09:29:07.823Z"
   },
   {
    "duration": 275,
    "start_time": "2021-10-22T09:29:08.207Z"
   },
   {
    "duration": 7,
    "start_time": "2021-10-22T09:29:08.484Z"
   },
   {
    "duration": 414,
    "start_time": "2021-10-22T09:29:08.493Z"
   },
   {
    "duration": 304,
    "start_time": "2021-10-22T09:29:08.909Z"
   },
   {
    "duration": 7,
    "start_time": "2021-10-22T09:29:09.215Z"
   },
   {
    "duration": 122,
    "start_time": "2021-10-22T09:29:09.224Z"
   },
   {
    "duration": 36,
    "start_time": "2021-10-22T09:29:09.348Z"
   },
   {
    "duration": 21,
    "start_time": "2021-10-22T09:29:09.386Z"
   },
   {
    "duration": 23,
    "start_time": "2021-10-22T09:29:09.411Z"
   },
   {
    "duration": 56,
    "start_time": "2021-10-22T09:29:09.437Z"
   },
   {
    "duration": 5,
    "start_time": "2021-10-22T09:31:01.937Z"
   },
   {
    "duration": 1403,
    "start_time": "2021-10-22T09:31:01.945Z"
   },
   {
    "duration": 82,
    "start_time": "2021-10-22T09:31:03.351Z"
   },
   {
    "duration": 25,
    "start_time": "2021-10-22T09:31:03.436Z"
   },
   {
    "duration": 31,
    "start_time": "2021-10-22T09:31:03.464Z"
   },
   {
    "duration": 25,
    "start_time": "2021-10-22T09:31:03.498Z"
   },
   {
    "duration": 7,
    "start_time": "2021-10-22T09:31:03.526Z"
   },
   {
    "duration": 53,
    "start_time": "2021-10-22T09:31:03.535Z"
   },
   {
    "duration": 10,
    "start_time": "2021-10-22T09:31:03.594Z"
   },
   {
    "duration": 27,
    "start_time": "2021-10-22T09:31:03.607Z"
   },
   {
    "duration": 47,
    "start_time": "2021-10-22T09:31:03.636Z"
   },
   {
    "duration": 428,
    "start_time": "2021-10-22T09:31:03.686Z"
   },
   {
    "duration": 3,
    "start_time": "2021-10-22T09:31:04.117Z"
   },
   {
    "duration": 407,
    "start_time": "2021-10-22T09:31:04.122Z"
   },
   {
    "duration": 524,
    "start_time": "2021-10-22T09:31:04.532Z"
   },
   {
    "duration": 431,
    "start_time": "2021-10-22T09:31:05.058Z"
   },
   {
    "duration": 443,
    "start_time": "2021-10-22T09:31:05.492Z"
   },
   {
    "duration": 401,
    "start_time": "2021-10-22T09:31:05.937Z"
   },
   {
    "duration": 267,
    "start_time": "2021-10-22T09:31:06.340Z"
   },
   {
    "duration": 6,
    "start_time": "2021-10-22T09:31:06.610Z"
   },
   {
    "duration": 447,
    "start_time": "2021-10-22T09:31:06.618Z"
   },
   {
    "duration": 295,
    "start_time": "2021-10-22T09:31:07.067Z"
   },
   {
    "duration": 7,
    "start_time": "2021-10-22T09:31:07.364Z"
   },
   {
    "duration": 127,
    "start_time": "2021-10-22T09:31:07.381Z"
   },
   {
    "duration": 20,
    "start_time": "2021-10-22T09:31:07.511Z"
   },
   {
    "duration": 53,
    "start_time": "2021-10-22T09:31:07.534Z"
   },
   {
    "duration": 23,
    "start_time": "2021-10-22T09:31:07.593Z"
   },
   {
    "duration": 66,
    "start_time": "2021-10-22T09:31:07.619Z"
   },
   {
    "duration": 5,
    "start_time": "2021-10-22T11:28:58.619Z"
   },
   {
    "duration": 1294,
    "start_time": "2021-10-22T11:28:58.627Z"
   },
   {
    "duration": 82,
    "start_time": "2021-10-22T11:28:59.925Z"
   },
   {
    "duration": 27,
    "start_time": "2021-10-22T11:29:00.011Z"
   },
   {
    "duration": 44,
    "start_time": "2021-10-22T11:29:00.040Z"
   },
   {
    "duration": 24,
    "start_time": "2021-10-22T11:29:00.087Z"
   },
   {
    "duration": 3,
    "start_time": "2021-10-22T11:29:00.114Z"
   },
   {
    "duration": 18,
    "start_time": "2021-10-22T11:29:00.120Z"
   },
   {
    "duration": 40,
    "start_time": "2021-10-22T11:29:00.142Z"
   },
   {
    "duration": 27,
    "start_time": "2021-10-22T11:29:00.185Z"
   },
   {
    "duration": 12,
    "start_time": "2021-10-22T11:29:00.215Z"
   },
   {
    "duration": 423,
    "start_time": "2021-10-22T11:29:00.229Z"
   },
   {
    "duration": 3,
    "start_time": "2021-10-22T11:29:00.654Z"
   },
   {
    "duration": 379,
    "start_time": "2021-10-22T11:29:00.659Z"
   },
   {
    "duration": 532,
    "start_time": "2021-10-22T11:29:01.040Z"
   },
   {
    "duration": 410,
    "start_time": "2021-10-22T11:29:01.574Z"
   },
   {
    "duration": 451,
    "start_time": "2021-10-22T11:29:01.987Z"
   },
   {
    "duration": 431,
    "start_time": "2021-10-22T11:29:02.440Z"
   },
   {
    "duration": 268,
    "start_time": "2021-10-22T11:29:02.873Z"
   },
   {
    "duration": 6,
    "start_time": "2021-10-22T11:29:03.143Z"
   },
   {
    "duration": 445,
    "start_time": "2021-10-22T11:29:03.152Z"
   },
   {
    "duration": 298,
    "start_time": "2021-10-22T11:29:03.599Z"
   },
   {
    "duration": 6,
    "start_time": "2021-10-22T11:29:03.899Z"
   },
   {
    "duration": 122,
    "start_time": "2021-10-22T11:29:03.908Z"
   },
   {
    "duration": 17,
    "start_time": "2021-10-22T11:29:04.032Z"
   },
   {
    "duration": 52,
    "start_time": "2021-10-22T11:29:04.051Z"
   },
   {
    "duration": 22,
    "start_time": "2021-10-22T11:29:04.108Z"
   },
   {
    "duration": 61,
    "start_time": "2021-10-22T11:29:04.133Z"
   },
   {
    "duration": 5,
    "start_time": "2021-10-27T04:08:31.219Z"
   },
   {
    "duration": 1358,
    "start_time": "2021-10-27T04:08:31.227Z"
   },
   {
    "duration": 86,
    "start_time": "2021-10-27T04:08:32.588Z"
   },
   {
    "duration": 22,
    "start_time": "2021-10-27T04:08:32.677Z"
   },
   {
    "duration": 44,
    "start_time": "2021-10-27T04:08:32.702Z"
   },
   {
    "duration": 23,
    "start_time": "2021-10-27T04:08:32.749Z"
   },
   {
    "duration": 5,
    "start_time": "2021-10-27T04:08:32.774Z"
   },
   {
    "duration": 51,
    "start_time": "2021-10-27T04:08:32.783Z"
   },
   {
    "duration": 23,
    "start_time": "2021-10-27T04:08:32.837Z"
   },
   {
    "duration": 29,
    "start_time": "2021-10-27T04:08:32.862Z"
   },
   {
    "duration": 40,
    "start_time": "2021-10-27T04:08:32.894Z"
   },
   {
    "duration": 429,
    "start_time": "2021-10-27T04:08:32.937Z"
   },
   {
    "duration": 4,
    "start_time": "2021-10-27T04:08:33.369Z"
   },
   {
    "duration": 385,
    "start_time": "2021-10-27T04:08:33.375Z"
   },
   {
    "duration": 508,
    "start_time": "2021-10-27T04:08:33.762Z"
   },
   {
    "duration": 519,
    "start_time": "2021-10-27T04:08:34.273Z"
   },
   {
    "duration": 605,
    "start_time": "2021-10-27T04:08:34.796Z"
   },
   {
    "duration": 403,
    "start_time": "2021-10-27T04:08:35.403Z"
   },
   {
    "duration": 283,
    "start_time": "2021-10-27T04:08:35.808Z"
   },
   {
    "duration": 9,
    "start_time": "2021-10-27T04:08:36.094Z"
   },
   {
    "duration": 415,
    "start_time": "2021-10-27T04:08:36.106Z"
   },
   {
    "duration": 298,
    "start_time": "2021-10-27T04:08:36.523Z"
   },
   {
    "duration": 7,
    "start_time": "2021-10-27T04:08:36.832Z"
   },
   {
    "duration": 137,
    "start_time": "2021-10-27T04:08:36.843Z"
   },
   {
    "duration": 17,
    "start_time": "2021-10-27T04:08:36.982Z"
   },
   {
    "duration": 47,
    "start_time": "2021-10-27T04:08:37.001Z"
   },
   {
    "duration": 23,
    "start_time": "2021-10-27T04:08:37.050Z"
   },
   {
    "duration": 60,
    "start_time": "2021-10-27T04:08:37.075Z"
   },
   {
    "duration": 4,
    "start_time": "2021-10-27T04:08:51.198Z"
   },
   {
    "duration": 6,
    "start_time": "2021-10-27T04:09:00.572Z"
   },
   {
    "duration": 1320,
    "start_time": "2021-10-27T04:09:00.582Z"
   },
   {
    "duration": 90,
    "start_time": "2021-10-27T04:09:01.905Z"
   },
   {
    "duration": 26,
    "start_time": "2021-10-27T04:09:01.998Z"
   },
   {
    "duration": 211,
    "start_time": "2021-10-27T04:09:02.026Z"
   },
   {
    "duration": 25,
    "start_time": "2021-10-27T04:09:02.239Z"
   },
   {
    "duration": 7,
    "start_time": "2021-10-27T04:09:02.266Z"
   },
   {
    "duration": 54,
    "start_time": "2021-10-27T04:09:02.275Z"
   },
   {
    "duration": 9,
    "start_time": "2021-10-27T04:09:02.333Z"
   },
   {
    "duration": 26,
    "start_time": "2021-10-27T04:09:02.345Z"
   },
   {
    "duration": 14,
    "start_time": "2021-10-27T04:09:02.373Z"
   },
   {
    "duration": 410,
    "start_time": "2021-10-27T04:09:02.430Z"
   },
   {
    "duration": 3,
    "start_time": "2021-10-27T04:09:02.843Z"
   },
   {
    "duration": 383,
    "start_time": "2021-10-27T04:09:02.848Z"
   },
   {
    "duration": 473,
    "start_time": "2021-10-27T04:09:03.234Z"
   },
   {
    "duration": 509,
    "start_time": "2021-10-27T04:09:03.709Z"
   },
   {
    "duration": 454,
    "start_time": "2021-10-27T04:09:04.220Z"
   },
   {
    "duration": 434,
    "start_time": "2021-10-27T04:09:04.677Z"
   },
   {
    "duration": 280,
    "start_time": "2021-10-27T04:09:05.114Z"
   },
   {
    "duration": 33,
    "start_time": "2021-10-27T04:09:05.397Z"
   },
   {
    "duration": 618,
    "start_time": "2021-10-27T04:09:05.433Z"
   },
   {
    "duration": 371,
    "start_time": "2021-10-27T04:09:06.053Z"
   },
   {
    "duration": 6,
    "start_time": "2021-10-27T04:09:06.429Z"
   },
   {
    "duration": 127,
    "start_time": "2021-10-27T04:09:06.437Z"
   },
   {
    "duration": 16,
    "start_time": "2021-10-27T04:09:06.566Z"
   },
   {
    "duration": 49,
    "start_time": "2021-10-27T04:09:06.584Z"
   },
   {
    "duration": 22,
    "start_time": "2021-10-27T04:09:06.637Z"
   },
   {
    "duration": 25,
    "start_time": "2021-10-27T04:09:06.661Z"
   },
   {
    "duration": 23,
    "start_time": "2021-10-27T04:09:27.253Z"
   },
   {
    "duration": 21,
    "start_time": "2021-10-27T04:09:32.657Z"
   },
   {
    "duration": 29,
    "start_time": "2021-10-27T04:11:02.127Z"
   },
   {
    "duration": 26,
    "start_time": "2021-10-27T04:11:08.815Z"
   },
   {
    "duration": 42,
    "start_time": "2021-10-27T04:12:27.426Z"
   },
   {
    "duration": 367,
    "start_time": "2021-10-27T04:22:26.133Z"
   },
   {
    "duration": 380,
    "start_time": "2021-10-27T04:22:51.442Z"
   },
   {
    "duration": 375,
    "start_time": "2021-10-27T04:24:39.839Z"
   },
   {
    "duration": 4,
    "start_time": "2021-10-27T04:24:48.025Z"
   },
   {
    "duration": 1243,
    "start_time": "2021-10-27T04:24:48.032Z"
   },
   {
    "duration": 84,
    "start_time": "2021-10-27T04:24:49.278Z"
   },
   {
    "duration": 24,
    "start_time": "2021-10-27T04:24:49.365Z"
   },
   {
    "duration": 39,
    "start_time": "2021-10-27T04:24:49.391Z"
   },
   {
    "duration": 19,
    "start_time": "2021-10-27T04:24:49.433Z"
   },
   {
    "duration": 5,
    "start_time": "2021-10-27T04:24:49.454Z"
   },
   {
    "duration": 12,
    "start_time": "2021-10-27T04:24:49.463Z"
   },
   {
    "duration": 10,
    "start_time": "2021-10-27T04:24:49.478Z"
   },
   {
    "duration": 27,
    "start_time": "2021-10-27T04:24:49.530Z"
   },
   {
    "duration": 12,
    "start_time": "2021-10-27T04:24:49.559Z"
   },
   {
    "duration": 424,
    "start_time": "2021-10-27T04:24:49.573Z"
   },
   {
    "duration": 366,
    "start_time": "2021-10-27T04:24:50.000Z"
   },
   {
    "duration": 510,
    "start_time": "2021-10-27T04:24:50.369Z"
   },
   {
    "duration": 415,
    "start_time": "2021-10-27T04:24:50.881Z"
   },
   {
    "duration": 464,
    "start_time": "2021-10-27T04:24:51.299Z"
   },
   {
    "duration": 372,
    "start_time": "2021-10-27T04:24:51.766Z"
   },
   {
    "duration": 268,
    "start_time": "2021-10-27T04:24:52.140Z"
   },
   {
    "duration": 19,
    "start_time": "2021-10-27T04:24:52.410Z"
   },
   {
    "duration": 387,
    "start_time": "2021-10-27T04:24:52.431Z"
   },
   {
    "duration": 304,
    "start_time": "2021-10-27T04:24:52.820Z"
   },
   {
    "duration": 7,
    "start_time": "2021-10-27T04:24:53.129Z"
   },
   {
    "duration": 124,
    "start_time": "2021-10-27T04:24:53.140Z"
   },
   {
    "duration": 17,
    "start_time": "2021-10-27T04:24:53.266Z"
   },
   {
    "duration": 53,
    "start_time": "2021-10-27T04:24:53.286Z"
   },
   {
    "duration": 21,
    "start_time": "2021-10-27T04:24:53.342Z"
   },
   {
    "duration": 63,
    "start_time": "2021-10-27T04:24:53.366Z"
   },
   {
    "duration": 498,
    "start_time": "2021-10-27T04:25:23.129Z"
   },
   {
    "duration": 506,
    "start_time": "2021-10-27T04:26:25.640Z"
   },
   {
    "duration": 554,
    "start_time": "2021-10-27T04:26:30.876Z"
   },
   {
    "duration": 5,
    "start_time": "2021-10-27T04:27:07.634Z"
   },
   {
    "duration": 1437,
    "start_time": "2021-10-27T04:27:07.642Z"
   },
   {
    "duration": 85,
    "start_time": "2021-10-27T04:27:09.082Z"
   },
   {
    "duration": 25,
    "start_time": "2021-10-27T04:27:09.170Z"
   },
   {
    "duration": 36,
    "start_time": "2021-10-27T04:27:09.198Z"
   },
   {
    "duration": 19,
    "start_time": "2021-10-27T04:27:09.236Z"
   },
   {
    "duration": 5,
    "start_time": "2021-10-27T04:27:09.257Z"
   },
   {
    "duration": 24,
    "start_time": "2021-10-27T04:27:09.264Z"
   },
   {
    "duration": 38,
    "start_time": "2021-10-27T04:27:09.292Z"
   },
   {
    "duration": 40,
    "start_time": "2021-10-27T04:27:09.333Z"
   },
   {
    "duration": 17,
    "start_time": "2021-10-27T04:27:09.375Z"
   },
   {
    "duration": 264,
    "start_time": "2021-10-27T04:27:09.394Z"
   },
   {
    "duration": 406,
    "start_time": "2021-10-27T04:27:09.661Z"
   },
   {
    "duration": 371,
    "start_time": "2021-10-27T04:27:10.070Z"
   },
   {
    "duration": 498,
    "start_time": "2021-10-27T04:27:10.444Z"
   },
   {
    "duration": 398,
    "start_time": "2021-10-27T04:27:10.944Z"
   },
   {
    "duration": 441,
    "start_time": "2021-10-27T04:27:11.344Z"
   },
   {
    "duration": 408,
    "start_time": "2021-10-27T04:27:11.787Z"
   },
   {
    "duration": 264,
    "start_time": "2021-10-27T04:27:12.197Z"
   },
   {
    "duration": 6,
    "start_time": "2021-10-27T04:27:12.463Z"
   },
   {
    "duration": 435,
    "start_time": "2021-10-27T04:27:12.471Z"
   },
   {
    "duration": 368,
    "start_time": "2021-10-27T04:27:12.909Z"
   },
   {
    "duration": 6,
    "start_time": "2021-10-27T04:27:13.279Z"
   },
   {
    "duration": 59,
    "start_time": "2021-10-27T04:27:13.287Z"
   },
   {
    "duration": 17,
    "start_time": "2021-10-27T04:27:13.348Z"
   },
   {
    "duration": 20,
    "start_time": "2021-10-27T04:27:13.367Z"
   },
   {
    "duration": 52,
    "start_time": "2021-10-27T04:27:13.391Z"
   },
   {
    "duration": 23,
    "start_time": "2021-10-27T04:27:13.446Z"
   },
   {
    "duration": 455,
    "start_time": "2021-10-27T04:28:18.459Z"
   },
   {
    "duration": 263,
    "start_time": "2021-10-27T04:32:45.188Z"
   },
   {
    "duration": 430,
    "start_time": "2021-10-27T04:34:28.603Z"
   },
   {
    "duration": 393,
    "start_time": "2021-10-27T04:34:44.847Z"
   },
   {
    "duration": 286,
    "start_time": "2021-10-27T04:35:00.494Z"
   },
   {
    "duration": 5,
    "start_time": "2021-10-27T06:43:50.301Z"
   },
   {
    "duration": 1325,
    "start_time": "2021-10-27T06:43:50.308Z"
   },
   {
    "duration": 83,
    "start_time": "2021-10-27T06:43:51.635Z"
   },
   {
    "duration": 27,
    "start_time": "2021-10-27T06:43:51.720Z"
   },
   {
    "duration": 29,
    "start_time": "2021-10-27T06:43:51.750Z"
   },
   {
    "duration": 21,
    "start_time": "2021-10-27T06:43:51.782Z"
   },
   {
    "duration": 6,
    "start_time": "2021-10-27T06:43:51.806Z"
   },
   {
    "duration": 53,
    "start_time": "2021-10-27T06:43:51.816Z"
   },
   {
    "duration": 10,
    "start_time": "2021-10-27T06:43:51.872Z"
   },
   {
    "duration": 33,
    "start_time": "2021-10-27T06:43:51.884Z"
   },
   {
    "duration": 13,
    "start_time": "2021-10-27T06:43:51.919Z"
   },
   {
    "duration": 408,
    "start_time": "2021-10-27T06:43:51.967Z"
   },
   {
    "duration": 390,
    "start_time": "2021-10-27T06:43:52.377Z"
   },
   {
    "duration": 533,
    "start_time": "2021-10-27T06:43:52.769Z"
   },
   {
    "duration": 418,
    "start_time": "2021-10-27T06:43:53.306Z"
   },
   {
    "duration": 483,
    "start_time": "2021-10-27T06:43:53.727Z"
   },
   {
    "duration": 443,
    "start_time": "2021-10-27T06:43:54.213Z"
   },
   {
    "duration": 293,
    "start_time": "2021-10-27T06:43:54.658Z"
   },
   {
    "duration": 15,
    "start_time": "2021-10-27T06:43:54.953Z"
   },
   {
    "duration": 413,
    "start_time": "2021-10-27T06:43:54.970Z"
   },
   {
    "duration": 311,
    "start_time": "2021-10-27T06:43:55.386Z"
   },
   {
    "duration": 6,
    "start_time": "2021-10-27T06:43:55.700Z"
   },
   {
    "duration": 134,
    "start_time": "2021-10-27T06:43:55.710Z"
   },
   {
    "duration": 33,
    "start_time": "2021-10-27T06:43:55.847Z"
   },
   {
    "duration": 21,
    "start_time": "2021-10-27T06:43:55.883Z"
   },
   {
    "duration": 24,
    "start_time": "2021-10-27T06:43:55.907Z"
   },
   {
    "duration": 25,
    "start_time": "2021-10-27T06:43:55.968Z"
   },
   {
    "duration": 438,
    "start_time": "2021-10-27T07:13:35.156Z"
   },
   {
    "duration": 573,
    "start_time": "2021-10-27T07:13:53.984Z"
   },
   {
    "duration": 7,
    "start_time": "2021-10-27T07:13:57.808Z"
   },
   {
    "duration": 6,
    "start_time": "2021-10-27T07:14:06.548Z"
   },
   {
    "duration": 9,
    "start_time": "2021-10-27T07:26:25.269Z"
   },
   {
    "duration": 31,
    "start_time": "2021-10-27T07:26:41.616Z"
   },
   {
    "duration": 30,
    "start_time": "2021-10-27T07:27:00.604Z"
   },
   {
    "duration": 11,
    "start_time": "2021-10-27T07:27:10.579Z"
   },
   {
    "duration": 10,
    "start_time": "2021-10-27T07:27:34.131Z"
   },
   {
    "duration": 12,
    "start_time": "2021-10-27T07:27:40.096Z"
   },
   {
    "duration": 28,
    "start_time": "2021-10-27T07:28:22.811Z"
   },
   {
    "duration": 7,
    "start_time": "2021-10-27T07:28:26.914Z"
   },
   {
    "duration": 285,
    "start_time": "2021-10-27T07:28:30.887Z"
   },
   {
    "duration": 6,
    "start_time": "2021-10-27T07:28:33.951Z"
   },
   {
    "duration": 21,
    "start_time": "2021-10-27T07:28:48.198Z"
   },
   {
    "duration": 294,
    "start_time": "2021-10-27T07:29:52.746Z"
   },
   {
    "duration": 102,
    "start_time": "2021-10-27T07:29:55.474Z"
   },
   {
    "duration": 13,
    "start_time": "2021-10-27T07:31:47.676Z"
   },
   {
    "duration": 23,
    "start_time": "2021-10-27T07:31:55.276Z"
   },
   {
    "duration": 30,
    "start_time": "2021-10-27T07:56:55.306Z"
   },
   {
    "duration": 5,
    "start_time": "2021-10-27T14:36:48.945Z"
   },
   {
    "duration": 1413,
    "start_time": "2021-10-27T14:36:48.956Z"
   },
   {
    "duration": 96,
    "start_time": "2021-10-27T14:36:50.373Z"
   },
   {
    "duration": 24,
    "start_time": "2021-10-27T14:36:50.472Z"
   },
   {
    "duration": 21,
    "start_time": "2021-10-27T14:36:50.499Z"
   },
   {
    "duration": 19,
    "start_time": "2021-10-27T14:36:50.523Z"
   },
   {
    "duration": 6,
    "start_time": "2021-10-27T14:36:50.545Z"
   },
   {
    "duration": 51,
    "start_time": "2021-10-27T14:36:50.553Z"
   },
   {
    "duration": 10,
    "start_time": "2021-10-27T14:36:50.610Z"
   },
   {
    "duration": 29,
    "start_time": "2021-10-27T14:36:50.624Z"
   },
   {
    "duration": 57,
    "start_time": "2021-10-27T14:36:50.656Z"
   },
   {
    "duration": 21,
    "start_time": "2021-10-27T14:36:50.716Z"
   },
   {
    "duration": 75,
    "start_time": "2021-10-27T14:36:50.740Z"
   },
   {
    "duration": 423,
    "start_time": "2021-10-27T14:36:50.817Z"
   },
   {
    "duration": 389,
    "start_time": "2021-10-27T14:36:51.243Z"
   },
   {
    "duration": 577,
    "start_time": "2021-10-27T14:36:51.636Z"
   },
   {
    "duration": 423,
    "start_time": "2021-10-27T14:36:52.216Z"
   },
   {
    "duration": 503,
    "start_time": "2021-10-27T14:36:52.642Z"
   },
   {
    "duration": 394,
    "start_time": "2021-10-27T14:36:53.148Z"
   },
   {
    "duration": 285,
    "start_time": "2021-10-27T14:36:53.545Z"
   },
   {
    "duration": 6,
    "start_time": "2021-10-27T14:36:53.833Z"
   },
   {
    "duration": 464,
    "start_time": "2021-10-27T14:36:53.842Z"
   },
   {
    "duration": 317,
    "start_time": "2021-10-27T14:36:54.309Z"
   },
   {
    "duration": 7,
    "start_time": "2021-10-27T14:36:54.631Z"
   },
   {
    "duration": 137,
    "start_time": "2021-10-27T14:36:54.640Z"
   },
   {
    "duration": 32,
    "start_time": "2021-10-27T14:36:54.779Z"
   },
   {
    "duration": 23,
    "start_time": "2021-10-27T14:36:54.813Z"
   },
   {
    "duration": 23,
    "start_time": "2021-10-27T14:36:54.838Z"
   },
   {
    "duration": 26,
    "start_time": "2021-10-27T14:36:54.900Z"
   },
   {
    "duration": 541,
    "start_time": "2021-10-27T14:57:12.559Z"
   },
   {
    "duration": 7,
    "start_time": "2021-10-27T14:57:17.067Z"
   },
   {
    "duration": 20,
    "start_time": "2021-10-27T14:57:24.848Z"
   },
   {
    "duration": 405,
    "start_time": "2021-10-27T14:57:52.930Z"
   },
   {
    "duration": 7,
    "start_time": "2021-10-27T14:57:56.973Z"
   },
   {
    "duration": 96,
    "start_time": "2021-10-27T14:58:00.070Z"
   },
   {
    "duration": 106,
    "start_time": "2021-10-27T14:58:08.936Z"
   },
   {
    "duration": 101,
    "start_time": "2021-10-27T14:58:18.551Z"
   },
   {
    "duration": 19,
    "start_time": "2021-10-27T14:58:28.383Z"
   },
   {
    "duration": 24,
    "start_time": "2021-10-27T14:58:32.500Z"
   },
   {
    "duration": 719,
    "start_time": "2021-10-27T14:59:00.593Z"
   },
   {
    "duration": 123,
    "start_time": "2021-10-27T14:59:25.336Z"
   },
   {
    "duration": 701,
    "start_time": "2021-10-27T14:59:28.780Z"
   },
   {
    "duration": 337,
    "start_time": "2021-10-27T14:59:34.641Z"
   },
   {
    "duration": 344,
    "start_time": "2021-10-27T14:59:45.527Z"
   },
   {
    "duration": 699,
    "start_time": "2021-10-27T14:59:53.481Z"
   },
   {
    "duration": 12,
    "start_time": "2021-10-27T15:00:31.810Z"
   },
   {
    "duration": 335,
    "start_time": "2021-10-27T15:01:15.468Z"
   },
   {
    "duration": 21,
    "start_time": "2021-10-27T15:01:27.813Z"
   },
   {
    "duration": 90,
    "start_time": "2021-10-27T15:01:40.371Z"
   },
   {
    "duration": 20,
    "start_time": "2021-10-27T15:01:49.323Z"
   },
   {
    "duration": 14,
    "start_time": "2021-10-27T15:02:01.575Z"
   },
   {
    "duration": 437,
    "start_time": "2021-10-27T15:02:14.997Z"
   },
   {
    "duration": 15,
    "start_time": "2021-10-27T15:02:21.201Z"
   },
   {
    "duration": 27,
    "start_time": "2021-10-27T15:02:35.139Z"
   },
   {
    "duration": 20,
    "start_time": "2021-10-27T15:03:00.705Z"
   },
   {
    "duration": 17,
    "start_time": "2021-10-27T15:03:19.121Z"
   },
   {
    "duration": 21,
    "start_time": "2021-10-27T15:03:34.098Z"
   },
   {
    "duration": 17,
    "start_time": "2021-10-27T15:03:40.204Z"
   },
   {
    "duration": 19,
    "start_time": "2021-10-27T15:03:53.789Z"
   },
   {
    "duration": 480,
    "start_time": "2021-10-27T15:04:38.037Z"
   },
   {
    "duration": 21,
    "start_time": "2021-10-27T15:04:45.707Z"
   },
   {
    "duration": 25,
    "start_time": "2021-10-27T15:04:56.262Z"
   },
   {
    "duration": 134,
    "start_time": "2021-10-27T15:05:14.831Z"
   },
   {
    "duration": 20,
    "start_time": "2021-10-27T15:05:18.200Z"
   },
   {
    "duration": 7,
    "start_time": "2021-10-27T15:14:07.443Z"
   },
   {
    "duration": 29,
    "start_time": "2021-10-27T15:14:11.153Z"
   },
   {
    "duration": 41,
    "start_time": "2021-10-27T15:37:23.151Z"
   },
   {
    "duration": 422,
    "start_time": "2021-10-27T16:07:07.630Z"
   },
   {
    "duration": 507,
    "start_time": "2021-10-27T16:07:12.158Z"
   },
   {
    "duration": 353,
    "start_time": "2021-10-27T16:07:19.086Z"
   },
   {
    "duration": 385,
    "start_time": "2021-10-27T16:07:25.439Z"
   },
   {
    "duration": 5,
    "start_time": "2021-10-27T16:14:34.733Z"
   },
   {
    "duration": 1432,
    "start_time": "2021-10-27T16:14:34.741Z"
   },
   {
    "duration": 114,
    "start_time": "2021-10-27T16:14:36.176Z"
   },
   {
    "duration": 24,
    "start_time": "2021-10-27T16:14:36.293Z"
   },
   {
    "duration": 22,
    "start_time": "2021-10-27T16:14:36.320Z"
   },
   {
    "duration": 56,
    "start_time": "2021-10-27T16:14:36.344Z"
   },
   {
    "duration": 4,
    "start_time": "2021-10-27T16:14:36.404Z"
   },
   {
    "duration": 15,
    "start_time": "2021-10-27T16:14:36.411Z"
   },
   {
    "duration": 11,
    "start_time": "2021-10-27T16:14:36.428Z"
   },
   {
    "duration": 61,
    "start_time": "2021-10-27T16:14:36.441Z"
   },
   {
    "duration": 14,
    "start_time": "2021-10-27T16:14:36.504Z"
   },
   {
    "duration": 19,
    "start_time": "2021-10-27T16:14:36.521Z"
   },
   {
    "duration": 64,
    "start_time": "2021-10-27T16:14:36.542Z"
   },
   {
    "duration": 409,
    "start_time": "2021-10-27T16:14:36.609Z"
   },
   {
    "duration": 375,
    "start_time": "2021-10-27T16:14:37.021Z"
   },
   {
    "duration": 545,
    "start_time": "2021-10-27T16:14:37.401Z"
   },
   {
    "duration": 436,
    "start_time": "2021-10-27T16:14:37.949Z"
   },
   {
    "duration": 459,
    "start_time": "2021-10-27T16:14:38.388Z"
   },
   {
    "duration": 438,
    "start_time": "2021-10-27T16:14:38.851Z"
   },
   {
    "duration": 299,
    "start_time": "2021-10-27T16:14:39.292Z"
   },
   {
    "duration": 8,
    "start_time": "2021-10-27T16:14:39.600Z"
   },
   {
    "duration": 424,
    "start_time": "2021-10-27T16:14:39.611Z"
   },
   {
    "duration": 306,
    "start_time": "2021-10-27T16:14:40.038Z"
   },
   {
    "duration": 7,
    "start_time": "2021-10-27T16:14:40.346Z"
   },
   {
    "duration": 131,
    "start_time": "2021-10-27T16:14:40.355Z"
   },
   {
    "duration": 17,
    "start_time": "2021-10-27T16:14:40.500Z"
   },
   {
    "duration": 21,
    "start_time": "2021-10-27T16:14:40.519Z"
   },
   {
    "duration": 23,
    "start_time": "2021-10-27T16:14:40.543Z"
   },
   {
    "duration": 26,
    "start_time": "2021-10-27T16:14:40.601Z"
   },
   {
    "duration": 5,
    "start_time": "2021-10-27T16:17:32.258Z"
   },
   {
    "duration": 1495,
    "start_time": "2021-10-27T16:17:32.266Z"
   },
   {
    "duration": 105,
    "start_time": "2021-10-27T16:17:33.764Z"
   },
   {
    "duration": 26,
    "start_time": "2021-10-27T16:17:34.541Z"
   },
   {
    "duration": 30,
    "start_time": "2021-10-27T16:17:34.570Z"
   },
   {
    "duration": 20,
    "start_time": "2021-10-27T16:17:34.603Z"
   },
   {
    "duration": 7,
    "start_time": "2021-10-27T16:17:34.626Z"
   },
   {
    "duration": 28,
    "start_time": "2021-10-27T16:17:34.636Z"
   },
   {
    "duration": 33,
    "start_time": "2021-10-27T16:17:34.667Z"
   },
   {
    "duration": 30,
    "start_time": "2021-10-27T16:17:34.703Z"
   },
   {
    "duration": 15,
    "start_time": "2021-10-27T16:17:34.738Z"
   },
   {
    "duration": 57,
    "start_time": "2021-10-27T16:17:34.756Z"
   },
   {
    "duration": 28,
    "start_time": "2021-10-27T16:17:34.816Z"
   },
   {
    "duration": 421,
    "start_time": "2021-10-27T16:17:34.846Z"
   },
   {
    "duration": 372,
    "start_time": "2021-10-27T16:17:35.270Z"
   },
   {
    "duration": 565,
    "start_time": "2021-10-27T16:17:35.645Z"
   },
   {
    "duration": 423,
    "start_time": "2021-10-27T16:17:36.213Z"
   },
   {
    "duration": 500,
    "start_time": "2021-10-27T16:17:36.638Z"
   },
   {
    "duration": 393,
    "start_time": "2021-10-27T16:17:37.141Z"
   },
   {
    "duration": 291,
    "start_time": "2021-10-27T16:17:37.538Z"
   },
   {
    "duration": 9,
    "start_time": "2021-10-27T16:17:37.832Z"
   },
   {
    "duration": 465,
    "start_time": "2021-10-27T16:17:37.843Z"
   },
   {
    "duration": 295,
    "start_time": "2021-10-27T16:17:38.311Z"
   },
   {
    "duration": 9,
    "start_time": "2021-10-27T16:17:38.609Z"
   },
   {
    "duration": 148,
    "start_time": "2021-10-27T16:17:38.621Z"
   },
   {
    "duration": 41,
    "start_time": "2021-10-27T16:17:38.775Z"
   },
   {
    "duration": 23,
    "start_time": "2021-10-27T16:17:38.819Z"
   },
   {
    "duration": 58,
    "start_time": "2021-10-27T16:17:38.844Z"
   },
   {
    "duration": 25,
    "start_time": "2021-10-27T16:17:38.904Z"
   },
   {
    "duration": 3,
    "start_time": "2021-10-27T19:59:06.956Z"
   },
   {
    "duration": 1003,
    "start_time": "2021-10-27T19:59:06.961Z"
   },
   {
    "duration": 72,
    "start_time": "2021-10-27T19:59:07.966Z"
   },
   {
    "duration": 16,
    "start_time": "2021-10-27T19:59:08.040Z"
   },
   {
    "duration": 13,
    "start_time": "2021-10-27T19:59:08.057Z"
   },
   {
    "duration": 11,
    "start_time": "2021-10-27T19:59:08.072Z"
   },
   {
    "duration": 3,
    "start_time": "2021-10-27T19:59:08.084Z"
   },
   {
    "duration": 8,
    "start_time": "2021-10-27T19:59:08.089Z"
   },
   {
    "duration": 5,
    "start_time": "2021-10-27T19:59:08.100Z"
   },
   {
    "duration": 16,
    "start_time": "2021-10-27T19:59:08.108Z"
   },
   {
    "duration": 8,
    "start_time": "2021-10-27T19:59:08.125Z"
   },
   {
    "duration": 12,
    "start_time": "2021-10-27T19:59:08.134Z"
   },
   {
    "duration": 47,
    "start_time": "2021-10-27T19:59:08.147Z"
   },
   {
    "duration": 243,
    "start_time": "2021-10-27T19:59:08.195Z"
   },
   {
    "duration": 217,
    "start_time": "2021-10-27T19:59:08.439Z"
   },
   {
    "duration": 398,
    "start_time": "2021-10-27T19:59:08.658Z"
   },
   {
    "duration": 248,
    "start_time": "2021-10-27T19:59:09.058Z"
   },
   {
    "duration": 325,
    "start_time": "2021-10-27T19:59:09.308Z"
   },
   {
    "duration": 260,
    "start_time": "2021-10-27T19:59:09.635Z"
   },
   {
    "duration": 175,
    "start_time": "2021-10-27T19:59:09.897Z"
   },
   {
    "duration": 6,
    "start_time": "2021-10-27T19:59:10.074Z"
   },
   {
    "duration": 304,
    "start_time": "2021-10-27T19:59:10.092Z"
   },
   {
    "duration": 183,
    "start_time": "2021-10-27T19:59:10.398Z"
   },
   {
    "duration": 12,
    "start_time": "2021-10-27T19:59:10.583Z"
   },
   {
    "duration": 99,
    "start_time": "2021-10-27T19:59:10.596Z"
   },
   {
    "duration": 13,
    "start_time": "2021-10-27T19:59:10.697Z"
   },
   {
    "duration": 14,
    "start_time": "2021-10-27T19:59:10.714Z"
   },
   {
    "duration": 15,
    "start_time": "2021-10-27T19:59:10.730Z"
   },
   {
    "duration": 52,
    "start_time": "2021-10-27T19:59:10.746Z"
   },
   {
    "duration": 599,
    "start_time": "2021-10-28T04:45:02.223Z"
   }
  ],
  "kernelspec": {
   "display_name": "Python 3",
   "language": "python",
   "name": "python3"
  },
  "language_info": {
   "codemirror_mode": {
    "name": "ipython",
    "version": 3
   },
   "file_extension": ".py",
   "mimetype": "text/x-python",
   "name": "python",
   "nbconvert_exporter": "python",
   "pygments_lexer": "ipython3",
   "version": "3.8.8"
  },
  "toc": {
   "base_numbering": 1,
   "nav_menu": {},
   "number_sections": true,
   "sideBar": true,
   "skip_h1_title": true,
   "title_cell": "Содержание",
   "title_sidebar": "Contents",
   "toc_cell": true,
   "toc_position": {
    "height": "calc(100% - 180px)",
    "left": "10px",
    "top": "150px",
    "width": "186px"
   },
   "toc_section_display": true,
   "toc_window_display": true
  }
 },
 "nbformat": 4,
 "nbformat_minor": 2
}
